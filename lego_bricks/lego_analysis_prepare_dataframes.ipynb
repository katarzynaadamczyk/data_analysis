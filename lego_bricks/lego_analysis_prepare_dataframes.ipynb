{
 "cells": [
  {
   "cell_type": "markdown",
   "metadata": {},
   "source": [
    "# Lego Analysis"
   ]
  },
  {
   "cell_type": "markdown",
   "metadata": {},
   "source": [
    "Small analysis of Lego Dataset - mostly to exercise how to combine data and retrieve informations. \\\n",
    "Data from https://rebrickable.com/downloads/\n",
    "## 💪 Challenge\n",
    "Create a report to summarize your findings. Include:\n",
    "\n",
    "1. What is the average number of Lego sets released per year?\n",
    "2. What is the average number of Lego parts per year? Per set per year and total bricks in all sets per year.\n",
    "3. Are there any number of parts per set ranges? Like cheaper sets have 0-5 bricks in it or something like this.\n",
    "4. Figures: does Lego add now more figures to sets than in 1950? What are most common figures? How the number of figures changes? What are mean per set and total number of figures per year through time?\n",
    "5. What are the 5 most popular colors used in Lego parts?\n",
    "6. What proportion of Lego parts are transparent? What are most common transparent bricks? What are top 5 transparent colors? When first transparent bricks were used? What colors became transparent through time?\n",
    "7. What are the 5 rarest lego bricks?\n",
    "8. What is the proportion of spare parts per set? Did it change through time?\n",
    "9. Summarize your findings.\n"
   ]
  },
  {
   "cell_type": "markdown",
   "metadata": {},
   "source": [
    "### <b>0. Prepare dataframes for analysis"
   ]
  },
  {
   "cell_type": "markdown",
   "metadata": {},
   "source": [
    "It is crucial to understand that Lego sets may be in different versions and that is why there is more than one version of the set in the inventories table."
   ]
  },
  {
   "cell_type": "code",
   "execution_count": 1,
   "metadata": {},
   "outputs": [],
   "source": [
    "# import necessary modules\n",
    "import pandas as pd\n",
    "import numpy as np\n",
    "import matplotlib.pyplot as plt\n",
    "import seaborn as sns"
   ]
  },
  {
   "cell_type": "markdown",
   "metadata": {},
   "source": [
    "<b>Prepare elements"
   ]
  },
  {
   "cell_type": "code",
   "execution_count": 2,
   "metadata": {},
   "outputs": [
    {
     "name": "stdout",
     "output_type": "stream",
     "text": [
      "Elements table head: \n",
      "\n",
      "   element_id       part_num color_id\n",
      "0     6443403  2277c01pr0009        1\n",
      "1     4566309           2564        0\n",
      "2     4275423          53657     1004\n",
      "3     6194308          92926       71\n",
      "4     6229123          26561        4\n",
      "\n",
      "shape: (95282, 3)\n",
      "\n",
      "Elements table info: \n",
      "\n",
      "<class 'pandas.core.frame.DataFrame'>\n",
      "RangeIndex: 95282 entries, 0 to 95281\n",
      "Data columns (total 3 columns):\n",
      " #   Column      Non-Null Count  Dtype   \n",
      "---  ------      --------------  -----   \n",
      " 0   element_id  95282 non-null  int64   \n",
      " 1   part_num    95282 non-null  object  \n",
      " 2   color_id    95282 non-null  category\n",
      "dtypes: category(1), int64(1), object(1)\n",
      "memory usage: 1.6+ MB\n"
     ]
    }
   ],
   "source": [
    "elements_table = pd.read_csv('data\\elements.csv.gz', usecols=[0, 1, 2])\n",
    "elements_table['color_id'] = elements_table['color_id'].astype('category')\n",
    "print('Elements table head: \\n')\n",
    "print(elements_table.head())\n",
    "print('\\nshape:', elements_table.shape)\n",
    "print('\\nElements table info: \\n')\n",
    "elements_table.info()"
   ]
  },
  {
   "cell_type": "markdown",
   "metadata": {},
   "source": [
    "<b>Prepare themes table"
   ]
  },
  {
   "cell_type": "code",
   "execution_count": 3,
   "metadata": {},
   "outputs": [
    {
     "name": "stdout",
     "output_type": "stream",
     "text": [
      "Themes table head: \n",
      "\n",
      "  theme_id            name\n",
      "0        1         Technic\n",
      "1        3     Competition\n",
      "2        4  Expert Builder\n",
      "3       16      RoboRiders\n",
      "4       17  Speed Slammers\n",
      "\n",
      "shape: (466, 2)\n",
      "\n",
      "Themes table info: \n",
      "\n",
      "<class 'pandas.core.frame.DataFrame'>\n",
      "RangeIndex: 466 entries, 0 to 465\n",
      "Data columns (total 2 columns):\n",
      " #   Column    Non-Null Count  Dtype   \n",
      "---  ------    --------------  -----   \n",
      " 0   theme_id  466 non-null    category\n",
      " 1   name      466 non-null    object  \n",
      "dtypes: category(1), object(1)\n",
      "memory usage: 24.5+ KB\n"
     ]
    }
   ],
   "source": [
    "themes_table = pd.read_csv('data\\\\themes.csv.gz', usecols=[0, 1])\n",
    "themes_table.rename(columns={'id': 'theme_id'}, inplace=True)\n",
    "themes_table['theme_id'] = themes_table['theme_id'].astype('category')\n",
    "print('Themes table head: \\n')\n",
    "print(themes_table.head())\n",
    "print('\\nshape:', themes_table.shape)\n",
    "print('\\nThemes table info: \\n')\n",
    "themes_table.info()"
   ]
  },
  {
   "cell_type": "markdown",
   "metadata": {},
   "source": [
    "<b>Prepare sets table\n"
   ]
  },
  {
   "cell_type": "code",
   "execution_count": 4,
   "metadata": {},
   "outputs": [
    {
     "name": "stdout",
     "output_type": "stream",
     "text": [
      "Sets table head: \n",
      "\n",
      "        set_num                     set_name  year  num_parts decade  \\\n",
      "0  0003977811-1  Ninjago: Book of Adventures  2022          1   2020   \n",
      "1         001-1                        Gears  1965         43   1960   \n",
      "2        0011-2            Town Mini-Figures  1979         12   1970   \n",
      "3        0011-3   Castle 2 for 1 Bonus Offer  1987          0   1980   \n",
      "4        0012-1           Space Mini-Figures  1979         12   1970   \n",
      "\n",
      "                            theme  \n",
      "0  Activity Books with LEGO Parts  \n",
      "1                       Samsonite  \n",
      "2                    Classic Town  \n",
      "3                    Lion Knights  \n",
      "4                    Supplemental  \n",
      "\n",
      "shape: (23873, 6)\n",
      "\n",
      "Sets table info: \n",
      "\n",
      "<class 'pandas.core.frame.DataFrame'>\n",
      "RangeIndex: 23873 entries, 0 to 23872\n",
      "Data columns (total 6 columns):\n",
      " #   Column     Non-Null Count  Dtype   \n",
      "---  ------     --------------  -----   \n",
      " 0   set_num    23873 non-null  object  \n",
      " 1   set_name   23873 non-null  object  \n",
      " 2   year       23873 non-null  category\n",
      " 3   num_parts  23873 non-null  int64   \n",
      " 4   decade     23873 non-null  category\n",
      " 5   theme      23873 non-null  object  \n",
      "dtypes: category(2), int64(1), object(3)\n",
      "memory usage: 795.8+ KB\n"
     ]
    }
   ],
   "source": [
    "sets_table = pd.read_csv('data\\sets.csv.gz', usecols=[0, 1, 2, 3, 4])\n",
    "sets_table['year'] = sets_table['year'].astype('category')\n",
    "sets_table['theme_id'] = sets_table['theme_id'].astype('category')\n",
    "decades_ranges = [0, 1960, 1970, 1980, 1990, 2000, 2010, 2020, np.inf]\n",
    "decades_names = [x for x in range(1950, 2030, 10)]\n",
    "sets_table['decade'] = pd.cut(sets_table['year'], bins=decades_ranges, labels=decades_names)\n",
    "sets_table = sets_table.merge(themes_table, on='theme_id', how='left')\n",
    "sets_table.drop(columns='theme_id', inplace=True)\n",
    "sets_table.rename(columns={'name_x': 'set_name', 'name_y': 'theme'}, inplace=True)\n",
    "print('Sets table head: \\n')\n",
    "print(sets_table.head())\n",
    "print('\\nshape:', sets_table.shape)\n",
    "print('\\nSets table info: \\n')\n",
    "sets_table.info()"
   ]
  },
  {
   "cell_type": "markdown",
   "metadata": {},
   "source": [
    "<b>Prepare inventory_parts table"
   ]
  },
  {
   "cell_type": "code",
   "execution_count": 5,
   "metadata": {},
   "outputs": [
    {
     "name": "stdout",
     "output_type": "stream",
     "text": [
      "Inventory parts table head: \n",
      "\n",
      "  inventory_id        part_num color_id  quantity  is_spare\n",
      "0            1        48379c04       72         1     False\n",
      "1            1           48391        0         1     False\n",
      "2            1           48395        7         1     False\n",
      "3            1        48864c01       25         1     False\n",
      "4            1  stickerupn0077     9999         1     False\n",
      "\n",
      "shape: (1286599, 5)\n",
      "\n",
      "Inventory parts table info: \n",
      "\n",
      "<class 'pandas.core.frame.DataFrame'>\n",
      "RangeIndex: 1286599 entries, 0 to 1286598\n",
      "Data columns (total 5 columns):\n",
      " #   Column        Non-Null Count    Dtype   \n",
      "---  ------        --------------    -----   \n",
      " 0   inventory_id  1286599 non-null  category\n",
      " 1   part_num      1286599 non-null  category\n",
      " 2   color_id      1286599 non-null  category\n",
      " 3   quantity      1286599 non-null  int64   \n",
      " 4   is_spare      1286599 non-null  bool    \n",
      "dtypes: bool(1), category(3), int64(1)\n",
      "memory usage: 27.0 MB\n"
     ]
    }
   ],
   "source": [
    "inventory_parts_df = pd.read_csv('data\\inventory_parts.csv.gz', usecols=[0, 1, 2, 3, 4])\n",
    "inventory_parts_df['is_spare'] = inventory_parts_df['is_spare'] == 't'\n",
    "inventory_parts_df['part_num'] = inventory_parts_df['part_num'].astype('category')\n",
    "inventory_parts_df['inventory_id'] = inventory_parts_df['inventory_id'].astype('category')\n",
    "inventory_parts_df['color_id'] = inventory_parts_df['color_id'].astype('category')\n",
    "print('Inventory parts table head: \\n')\n",
    "print(inventory_parts_df.head())\n",
    "print('\\nshape:', inventory_parts_df.shape)\n",
    "print('\\nInventory parts table info: \\n')\n",
    "inventory_parts_df.info()"
   ]
  },
  {
   "cell_type": "markdown",
   "metadata": {},
   "source": [
    "<b>Prepare minifigs table"
   ]
  },
  {
   "cell_type": "code",
   "execution_count": 6,
   "metadata": {},
   "outputs": [
    {
     "name": "stdout",
     "output_type": "stream",
     "text": [
      "Minifigs table head: \n",
      "\n",
      "      fig_num                                      name  num_parts\n",
      "0  fig-000001                        Toy Store Employee          4\n",
      "1  fig-000002                              Customer Kid          4\n",
      "2  fig-000003                     Assassin Droid, White          8\n",
      "3  fig-000004  Man, White Torso, Black Legs, Brown Hair          4\n",
      "4  fig-000005           Captain America with Short Legs          3\n",
      "\n",
      "shape: (14843, 3)\n",
      "\n",
      "Inventory minifigs table info: \n",
      "\n",
      "<class 'pandas.core.frame.DataFrame'>\n",
      "RangeIndex: 14843 entries, 0 to 14842\n",
      "Data columns (total 3 columns):\n",
      " #   Column     Non-Null Count  Dtype \n",
      "---  ------     --------------  ----- \n",
      " 0   fig_num    14843 non-null  object\n",
      " 1   name       14843 non-null  object\n",
      " 2   num_parts  14843 non-null  int64 \n",
      "dtypes: int64(1), object(2)\n",
      "memory usage: 348.0+ KB\n"
     ]
    }
   ],
   "source": [
    "minifigs_df = pd.read_csv('data\\minifigs.csv.gz', usecols=[0, 1, 2])\n",
    "print('Minifigs table head: \\n')\n",
    "print(minifigs_df.head())\n",
    "print('\\nshape:', minifigs_df.shape)\n",
    "print('\\nInventory minifigs table info: \\n')\n",
    "minifigs_df.info()"
   ]
  },
  {
   "cell_type": "markdown",
   "metadata": {},
   "source": [
    "<b>Prepare minifigs inventory table\n"
   ]
  },
  {
   "cell_type": "code",
   "execution_count": 7,
   "metadata": {},
   "outputs": [
    {
     "name": "stdout",
     "output_type": "stream",
     "text": [
      "Inventory minifigs table head: \n",
      "\n",
      "   inventory_id     fig_num  quantity\n",
      "0             3  fig-001549         1\n",
      "1             4  fig-000764         1\n",
      "2            19  fig-000555         1\n",
      "3            25  fig-000574         1\n",
      "4            26  fig-000842         1\n",
      "\n",
      "shape: (22471, 3)\n",
      "\n",
      "Inventory minifigs table info: \n",
      "\n",
      "<class 'pandas.core.frame.DataFrame'>\n",
      "RangeIndex: 22471 entries, 0 to 22470\n",
      "Data columns (total 3 columns):\n",
      " #   Column        Non-Null Count  Dtype \n",
      "---  ------        --------------  ----- \n",
      " 0   inventory_id  22471 non-null  int64 \n",
      " 1   fig_num       22471 non-null  object\n",
      " 2   quantity      22471 non-null  int64 \n",
      "dtypes: int64(2), object(1)\n",
      "memory usage: 526.8+ KB\n"
     ]
    }
   ],
   "source": [
    "inventory_minifigs_df = pd.read_csv('data\\inventory_minifigs.csv.gz')\n",
    "print('Inventory minifigs table head: \\n')\n",
    "print(inventory_minifigs_df.head())\n",
    "print('\\nshape:', inventory_minifigs_df.shape)\n",
    "print('\\nInventory minifigs table info: \\n')\n",
    "inventory_minifigs_df.info()"
   ]
  },
  {
   "cell_type": "code",
   "execution_count": 8,
   "metadata": {},
   "outputs": [
    {
     "name": "stdout",
     "output_type": "stream",
     "text": [
      "Inventory minifigs table head: \n",
      "\n",
      "   inventory_id     fig_num  quantity  \\\n",
      "0             3  fig-001549         1   \n",
      "1             4  fig-000764         1   \n",
      "2            19  fig-000555         1   \n",
      "3            25  fig-000574         1   \n",
      "4            26  fig-000842         1   \n",
      "\n",
      "                                                name  num_parts  \n",
      "0                 Emma - Lavender Top, Magenta Skirt          4  \n",
      "1                    Danny Longlegs / Corporal Steel          4  \n",
      "2                               Coca-Cola Defender 2          4  \n",
      "3  Minnie Mouse with Dark Pink with White Spots D...          5  \n",
      "4  Coast Guard, Blue Jacket with Zipper and ID Ba...          4  \n",
      "\n",
      "shape: (22471, 5)\n",
      "\n",
      "Inventory minifigs table info: \n",
      "\n",
      "<class 'pandas.core.frame.DataFrame'>\n",
      "RangeIndex: 22471 entries, 0 to 22470\n",
      "Data columns (total 5 columns):\n",
      " #   Column        Non-Null Count  Dtype \n",
      "---  ------        --------------  ----- \n",
      " 0   inventory_id  22471 non-null  int64 \n",
      " 1   fig_num       22471 non-null  object\n",
      " 2   quantity      22471 non-null  int64 \n",
      " 3   name          22471 non-null  object\n",
      " 4   num_parts     22471 non-null  int64 \n",
      "dtypes: int64(3), object(2)\n",
      "memory usage: 877.9+ KB\n"
     ]
    }
   ],
   "source": [
    "# merge minifigs with minifigs inventory table\n",
    "inventory_minifigs_df = inventory_minifigs_df.merge(minifigs_df, on='fig_num', how='left')\n",
    "print('Inventory minifigs table head: \\n')\n",
    "print(inventory_minifigs_df.head())\n",
    "print('\\nshape:', inventory_minifigs_df.shape)\n",
    "print('\\nInventory minifigs table info: \\n')\n",
    "inventory_minifigs_df.info()"
   ]
  },
  {
   "cell_type": "markdown",
   "metadata": {},
   "source": [
    "<b>Prepare inventory sets table"
   ]
  },
  {
   "cell_type": "code",
   "execution_count": 9,
   "metadata": {},
   "outputs": [
    {
     "name": "stdout",
     "output_type": "stream",
     "text": [
      "Inventory sets table head: \n",
      "\n",
      "   inventory_id  set_num  quantity\n",
      "0            35  75911-1         1\n",
      "1            35  75912-1         1\n",
      "2            39  75048-1         1\n",
      "3            39  75053-1         1\n",
      "4            50   4515-1         1\n",
      "\n",
      "shape: (4556, 3)\n",
      "\n",
      "Inventory sets table info: \n",
      "\n",
      "<class 'pandas.core.frame.DataFrame'>\n",
      "RangeIndex: 4556 entries, 0 to 4555\n",
      "Data columns (total 3 columns):\n",
      " #   Column        Non-Null Count  Dtype \n",
      "---  ------        --------------  ----- \n",
      " 0   inventory_id  4556 non-null   int64 \n",
      " 1   set_num       4556 non-null   object\n",
      " 2   quantity      4556 non-null   int64 \n",
      "dtypes: int64(2), object(1)\n",
      "memory usage: 106.9+ KB\n"
     ]
    }
   ],
   "source": [
    "inventory_sets_df = pd.read_csv('data\\inventory_sets.csv.gz')\n",
    "print('Inventory sets table head: \\n')\n",
    "print(inventory_sets_df.head())\n",
    "print('\\nshape:', inventory_sets_df.shape)\n",
    "print('\\nInventory sets table info: \\n')\n",
    "inventory_sets_df.info()"
   ]
  },
  {
   "cell_type": "markdown",
   "metadata": {},
   "source": [
    "<b>Prepare inventories table"
   ]
  },
  {
   "cell_type": "code",
   "execution_count": 10,
   "metadata": {},
   "outputs": [
    {
     "name": "stdout",
     "output_type": "stream",
     "text": [
      "Inventories table head: \n",
      "\n",
      "   inventory_id  version set_num\n",
      "0             1        1  7922-1\n",
      "1             3        1  3931-1\n",
      "2             4        1  6942-1\n",
      "3            15        1  5158-1\n",
      "4            16        1   903-1\n",
      "\n",
      "shape: (40462, 3)\n",
      "\n",
      "Inventories table info: \n",
      "\n",
      "<class 'pandas.core.frame.DataFrame'>\n",
      "RangeIndex: 40462 entries, 0 to 40461\n",
      "Data columns (total 3 columns):\n",
      " #   Column        Non-Null Count  Dtype \n",
      "---  ------        --------------  ----- \n",
      " 0   inventory_id  40462 non-null  int64 \n",
      " 1   version       40462 non-null  int64 \n",
      " 2   set_num       40462 non-null  object\n",
      "dtypes: int64(2), object(1)\n",
      "memory usage: 948.5+ KB\n"
     ]
    }
   ],
   "source": [
    "inventories_df = pd.read_csv('data\\inventories.csv.gz')\n",
    "inventories_df.rename(columns={'id': 'inventory_id'}, inplace=True)\n",
    "print('Inventories table head: \\n')\n",
    "print(inventories_df.head())\n",
    "print('\\nshape:', inventories_df.shape)\n",
    "print('\\nInventories table info: \\n')\n",
    "inventories_df.info()"
   ]
  },
  {
   "cell_type": "markdown",
   "metadata": {},
   "source": [
    "Proceeding with inventories dataframe first. \n",
    "Version is version of set - for example set 421-2 is in different colors. But 8030-1 is in two versions - newer and older. I will count as each version is a unique set -> set no + version no makes it a unique set number. \n",
    "In addition I will add a test whether the versions are identical or not -> if not then I will consider them as different sets. "
   ]
  },
  {
   "cell_type": "code",
   "execution_count": 11,
   "metadata": {},
   "outputs": [
    {
     "data": {
      "text/html": [
       "<div>\n",
       "<style scoped>\n",
       "    .dataframe tbody tr th:only-of-type {\n",
       "        vertical-align: middle;\n",
       "    }\n",
       "\n",
       "    .dataframe tbody tr th {\n",
       "        vertical-align: top;\n",
       "    }\n",
       "\n",
       "    .dataframe thead th {\n",
       "        text-align: right;\n",
       "    }\n",
       "</style>\n",
       "<table border=\"1\" class=\"dataframe\">\n",
       "  <thead>\n",
       "    <tr style=\"text-align: right;\">\n",
       "      <th></th>\n",
       "      <th>inventory_id</th>\n",
       "      <th>version</th>\n",
       "      <th>set_num</th>\n",
       "    </tr>\n",
       "  </thead>\n",
       "  <tbody>\n",
       "    <tr>\n",
       "      <th>35125</th>\n",
       "      <td>163782</td>\n",
       "      <td>2</td>\n",
       "      <td>0014-1</td>\n",
       "    </tr>\n",
       "    <tr>\n",
       "      <th>3248</th>\n",
       "      <td>5004</td>\n",
       "      <td>1</td>\n",
       "      <td>0014-1</td>\n",
       "    </tr>\n",
       "    <tr>\n",
       "      <th>35573</th>\n",
       "      <td>171262</td>\n",
       "      <td>1</td>\n",
       "      <td>010423-1</td>\n",
       "    </tr>\n",
       "    <tr>\n",
       "      <th>38634</th>\n",
       "      <td>221307</td>\n",
       "      <td>2</td>\n",
       "      <td>010423-1</td>\n",
       "    </tr>\n",
       "    <tr>\n",
       "      <th>39160</th>\n",
       "      <td>229399</td>\n",
       "      <td>2</td>\n",
       "      <td>088-1</td>\n",
       "    </tr>\n",
       "    <tr>\n",
       "      <th>8974</th>\n",
       "      <td>13887</td>\n",
       "      <td>1</td>\n",
       "      <td>088-1</td>\n",
       "    </tr>\n",
       "    <tr>\n",
       "      <th>15185</th>\n",
       "      <td>46115</td>\n",
       "      <td>2</td>\n",
       "      <td>10001-1</td>\n",
       "    </tr>\n",
       "    <tr>\n",
       "      <th>7142</th>\n",
       "      <td>11090</td>\n",
       "      <td>1</td>\n",
       "      <td>10001-1</td>\n",
       "    </tr>\n",
       "    <tr>\n",
       "      <th>15046</th>\n",
       "      <td>44145</td>\n",
       "      <td>2</td>\n",
       "      <td>10030-1</td>\n",
       "    </tr>\n",
       "    <tr>\n",
       "      <th>3094</th>\n",
       "      <td>4773</td>\n",
       "      <td>1</td>\n",
       "      <td>10030-1</td>\n",
       "    </tr>\n",
       "  </tbody>\n",
       "</table>\n",
       "</div>"
      ],
      "text/plain": [
       "       inventory_id  version   set_num\n",
       "35125        163782        2    0014-1\n",
       "3248           5004        1    0014-1\n",
       "35573        171262        1  010423-1\n",
       "38634        221307        2  010423-1\n",
       "39160        229399        2     088-1\n",
       "8974          13887        1     088-1\n",
       "15185         46115        2   10001-1\n",
       "7142          11090        1   10001-1\n",
       "15046         44145        2   10030-1\n",
       "3094           4773        1   10030-1"
      ]
     },
     "execution_count": 11,
     "metadata": {},
     "output_type": "execute_result"
    }
   ],
   "source": [
    "# first find duplicated set numbers and keep the set number, version and inventory_id for them in multiple_versions_sets\n",
    "multiple_versions_sets = inventories_df.loc[inventories_df.duplicated(subset=['set_num'], keep=False)].sort_values(by='set_num')\n",
    "multiple_versions_sets.head(10)"
   ]
  },
  {
   "cell_type": "code",
   "execution_count": 12,
   "metadata": {},
   "outputs": [],
   "source": [
    "# prepare inventory_id_to_delete table (should be empty)\n",
    "inventory_id_to_delete = set()\n",
    "for set_num in multiple_versions_sets['set_num'].unique():\n",
    "   # print(set)\n",
    "    ids = multiple_versions_sets[multiple_versions_sets['set_num'] == set]['inventory_id']\n",
    "    for i, id in enumerate(ids[:-1]):\n",
    "        original_df_parts = inventory_parts_df[inventory_parts_df['inventory_id'] == id]\n",
    "        original_df_parts.reset_index(inplace=True)\n",
    "        original_df_parts.drop(columns=['inventory_id', 'index'], inplace=True)\n",
    "        original_df_minifigs = inventory_minifigs_df[inventory_minifigs_df['inventory_id'] == id]\n",
    "        original_df_minifigs.reset_index(inplace=True)\n",
    "        original_df_minifigs.drop(columns=['inventory_id', 'index'], inplace=True)\n",
    "        original_df_sets = inventory_sets_df[inventory_sets_df['inventory_id'] == id]\n",
    "        original_df_sets.reset_index(inplace=True)\n",
    "        original_df_sets.drop(columns=['inventory_id', 'index'], inplace=True)\n",
    "        for id_to_compare in ids[i+1:]:\n",
    "            df_to_compare_parts = inventory_parts_df[inventory_parts_df['inventory_id'] == id_to_compare]\n",
    "            df_to_compare_parts.reset_index(inplace=True)\n",
    "            df_to_compare_parts.drop(columns=['inventory_id', 'index'], inplace=True)\n",
    "            df_to_compare_minifigs = inventory_minifigs_df[inventory_minifigs_df['inventory_id'] == id_to_compare]\n",
    "            df_to_compare_minifigs.reset_index(inplace=True)\n",
    "            df_to_compare_minifigs.drop(columns=['inventory_id', 'index'], inplace=True)\n",
    "            df_to_compare_sets = inventory_sets_df[inventory_sets_df['inventory_id'] == id_to_compare]\n",
    "            df_to_compare_sets.reset_index(inplace=True)\n",
    "            df_to_compare_sets.drop(columns=['inventory_id', 'index'], inplace=True)\n",
    "            if original_df_parts.equals(df_to_compare_parts) and original_df_minifigs.equals(df_to_compare_minifigs) \\\n",
    "                and original_df_sets.equals(df_to_compare_sets):\n",
    "                inventory_id_to_delete.add(id_to_compare)"
   ]
  },
  {
   "cell_type": "code",
   "execution_count": 13,
   "metadata": {},
   "outputs": [
    {
     "name": "stdout",
     "output_type": "stream",
     "text": [
      "0\n"
     ]
    }
   ],
   "source": [
    "print(len(inventory_id_to_delete))"
   ]
  },
  {
   "cell_type": "code",
   "execution_count": 14,
   "metadata": {},
   "outputs": [
    {
     "data": {
      "text/plain": [
       "(0, 3)"
      ]
     },
     "execution_count": 14,
     "metadata": {},
     "output_type": "execute_result"
    }
   ],
   "source": [
    "multiple_versions_sets[multiple_versions_sets['set_num'].str.match('fig')].shape"
   ]
  },
  {
   "cell_type": "markdown",
   "metadata": {},
   "source": [
    "So, as I supposed, there is nothing to delete from inventories_df, each pair of set_num + version should be considered as a unique set. \n",
    "\n",
    "Each figure has only one and only inventory - so it is unique.\n",
    "\n",
    "Now, I am going to prepare a big dataframe with a lot of numbers in it - count of parts, spare parts, figures, sets etc so that I can start analyzing the data by set numbers (questions 1, 2 and 3).\n",
    "First step is to prepare parts_per_inventory table which count regular and spare parts per each inventory, and then merge this table with inventories_df."
   ]
  },
  {
   "cell_type": "code",
   "execution_count": 15,
   "metadata": {},
   "outputs": [
    {
     "name": "stdout",
     "output_type": "stream",
     "text": [
      "is_spare inventory_id  parts  spares\n",
      "0                   1      5       0\n",
      "1                   3     39       3\n",
      "2                   4     16       1\n",
      "3                  15      2       0\n",
      "4                  16     10       0\n",
      "\n",
      "shape: (34363, 3)\n",
      "\n",
      "column_names: Index(['inventory_id', 'parts', 'spares'], dtype='object', name='is_spare')\n"
     ]
    }
   ],
   "source": [
    "# prepare parts_per_inventory dataframe\n",
    "parts_per_inventory = pd.pivot_table(inventory_parts_df, values='quantity', index=['inventory_id'], columns=['is_spare'], \\\n",
    "                                     aggfunc=\"sum\", fill_value=0).reset_index()\n",
    "parts_per_inventory.rename(columns={False: 'parts', True: 'spares'}, inplace=True)\n",
    "print(parts_per_inventory.head())\n",
    "print('\\nshape:', parts_per_inventory.shape)\n",
    "print('\\ncolumn_names:', parts_per_inventory.columns)"
   ]
  },
  {
   "cell_type": "code",
   "execution_count": 16,
   "metadata": {},
   "outputs": [
    {
     "name": "stdout",
     "output_type": "stream",
     "text": [
      "  inventory_id  version set_num  parts  spares\n",
      "0            1        1  7922-1      5       0\n",
      "1            3        1  3931-1     39       3\n",
      "2            4        1  6942-1     16       1\n",
      "3           15        1  5158-1      2       0\n",
      "4           16        1   903-1     10       0\n",
      "\n",
      "shape: (40462, 5)\n",
      "\n",
      "info:\n",
      "<class 'pandas.core.frame.DataFrame'>\n",
      "RangeIndex: 40462 entries, 0 to 40461\n",
      "Data columns (total 5 columns):\n",
      " #   Column        Non-Null Count  Dtype \n",
      "---  ------        --------------  ----- \n",
      " 0   inventory_id  40462 non-null  object\n",
      " 1   version       40462 non-null  int64 \n",
      " 2   set_num       40462 non-null  object\n",
      " 3   parts         40462 non-null  int32 \n",
      " 4   spares        40462 non-null  int32 \n",
      "dtypes: int32(2), int64(1), object(2)\n",
      "memory usage: 1.2+ MB\n"
     ]
    }
   ],
   "source": [
    "# merge inventories_df with parts_per_inventory\n",
    "inventories_df = inventories_df.merge(parts_per_inventory, on='inventory_id', how='left')\n",
    "inventories_df.fillna(0, inplace=True)\n",
    "inventories_df['parts'] = inventories_df['parts'].astype(int)\n",
    "inventories_df['spares'] = inventories_df['spares'].astype(int)\n",
    "print(inventories_df.head())\n",
    "print('\\nshape:', inventories_df.shape)\n",
    "print('\\ninfo:' )\n",
    "inventories_df.info()"
   ]
  },
  {
   "cell_type": "markdown",
   "metadata": {},
   "source": [
    "As for now, I added parts count to inventory dataframe. I replaced all empty values (non-existing in parts_per_inventory dataframe) with 0 as it means that there is no part included in given inventory.\n",
    "Part numbers of minifigures are also in this dataframe and I will check the integrity of data present in parts_per_inventory and minifigs tables."
   ]
  },
  {
   "cell_type": "code",
   "execution_count": 17,
   "metadata": {},
   "outputs": [
    {
     "name": "stdout",
     "output_type": "stream",
     "text": [
      "  inventory_id_x  version     set_num  parts  spares  inventory_id_y  \\\n",
      "0          48649        1  fig-000001      4       0           42484   \n",
      "1          48650        1  fig-000002      4       0           42484   \n",
      "2          48681        1  fig-000003      8       0           15042   \n",
      "3          48681        1  fig-000003      8       0          126421   \n",
      "4          48758        1  fig-000004      4       0            1619   \n",
      "\n",
      "      fig_num  quantity                                      name  num_parts  \\\n",
      "0  fig-000001         1                        Toy Store Employee          4   \n",
      "1  fig-000002         1                              Customer Kid          4   \n",
      "2  fig-000003         1                     Assassin Droid, White          8   \n",
      "3  fig-000003         1                     Assassin Droid, White          8   \n",
      "4  fig-000004         1  Man, White Torso, Black Legs, Brown Hair          4   \n",
      "\n",
      "   diff  \n",
      "0     0  \n",
      "1     0  \n",
      "2     0  \n",
      "3     0  \n",
      "4     0  \n",
      "\n",
      "Shape of non-zero differences (0, 11)\n"
     ]
    }
   ],
   "source": [
    "# check for integrity minifigs part count vs inventory part count\n",
    "inventories_df_figs = inventories_df[inventories_df['set_num'].str.match('fig')]\n",
    "inventories_df_figs = inventories_df_figs.merge(inventory_minifigs_df, left_on='set_num', right_on='fig_num')\n",
    "inventories_df_figs['diff'] = inventories_df_figs['parts'] - inventories_df_figs['num_parts']\n",
    "print(inventories_df_figs.head())\n",
    "print('\\nShape of non-zero differences', inventories_df_figs[inventories_df_figs['diff'] != 0].shape)"
   ]
  },
  {
   "cell_type": "markdown",
   "metadata": {},
   "source": [
    "As shape of non-zero differences is of height 0 that means, that all figures in each table have same number of parts - the data in both tables is the same.\n",
    "\n",
    "Next step is to prepare table minifigs_per_inventory (same as parts per inventory) and merge it with actual inventories_df. \n",
    "Then, I will remove all rows containing minifigures numbers in set_num column as they will not be relevant in questions regarding sets and parts quantity."
   ]
  },
  {
   "cell_type": "code",
   "execution_count": 18,
   "metadata": {},
   "outputs": [
    {
     "data": {
      "text/plain": [
       "(0, 11)"
      ]
     },
     "execution_count": 18,
     "metadata": {},
     "output_type": "execute_result"
    }
   ],
   "source": [
    "inventories_df_figs[inventories_df_figs['spares'] != 0].shape"
   ]
  },
  {
   "cell_type": "markdown",
   "metadata": {},
   "source": [
    "As there is no row with any spare part of minifigure, so I work on inventory_minifigs_df."
   ]
  },
  {
   "cell_type": "code",
   "execution_count": 19,
   "metadata": {},
   "outputs": [
    {
     "name": "stdout",
     "output_type": "stream",
     "text": [
      "   inventory_id  minifigs_count  minifigs_parts_sum\n",
      "0             3               1                   4\n",
      "1             4               1                   4\n",
      "2            19               1                   4\n",
      "3            25               1                   5\n",
      "4            26               6                  28\n"
     ]
    }
   ],
   "source": [
    "# get total quantity of minifigures parts per inventory, then aggregate data\n",
    "inventory_minifigs_df['minifig_parts'] = inventory_minifigs_df['quantity'] * inventory_minifigs_df['num_parts']\n",
    "minifigs_per_inventory = (inventory_minifigs_df\n",
    "                              .groupby('inventory_id')\n",
    "                              .agg(\n",
    "                                  minifigs_count=('quantity', 'sum'), \n",
    "                                  minifigs_parts_sum=('minifig_parts', 'sum')\n",
    "                                  )\n",
    "                              .reset_index()\n",
    "                         )\n",
    "print(minifigs_per_inventory.head())"
   ]
  },
  {
   "cell_type": "code",
   "execution_count": 20,
   "metadata": {},
   "outputs": [
    {
     "name": "stdout",
     "output_type": "stream",
     "text": [
      "  inventory_id  version set_num  parts  spares  minifigs_count  \\\n",
      "0            1        1  7922-1      5       0               0   \n",
      "1            3        1  3931-1     39       3               1   \n",
      "2            4        1  6942-1     16       1               1   \n",
      "3           15        1  5158-1      2       0               0   \n",
      "4           16        1   903-1     10       0               0   \n",
      "\n",
      "   minifigs_parts_sum  \n",
      "0                   0  \n",
      "1                   4  \n",
      "2                   4  \n",
      "3                   0  \n",
      "4                   0  \n",
      "\n",
      "shape: (40462, 7)\n",
      "\n",
      "info:\n",
      "<class 'pandas.core.frame.DataFrame'>\n",
      "RangeIndex: 40462 entries, 0 to 40461\n",
      "Data columns (total 7 columns):\n",
      " #   Column              Non-Null Count  Dtype \n",
      "---  ------              --------------  ----- \n",
      " 0   inventory_id        40462 non-null  object\n",
      " 1   version             40462 non-null  int64 \n",
      " 2   set_num             40462 non-null  object\n",
      " 3   parts               40462 non-null  int32 \n",
      " 4   spares              40462 non-null  int32 \n",
      " 5   minifigs_count      40462 non-null  int32 \n",
      " 6   minifigs_parts_sum  40462 non-null  int32 \n",
      "dtypes: int32(4), int64(1), object(2)\n",
      "memory usage: 1.5+ MB\n"
     ]
    }
   ],
   "source": [
    "# merge inventories_df with minifigs_per_inventory\n",
    "inventories_df = inventories_df.merge(minifigs_per_inventory, on='inventory_id', how='left')\n",
    "inventories_df.fillna(0, inplace=True)\n",
    "inventories_df['minifigs_count'] = inventories_df['minifigs_count'].astype(int)\n",
    "inventories_df['minifigs_parts_sum'] = inventories_df['minifigs_parts_sum'].astype(int)\n",
    "print(inventories_df.head())\n",
    "print('\\nshape:', inventories_df.shape)\n",
    "print('\\ninfo:' )\n",
    "inventories_df.info()"
   ]
  },
  {
   "cell_type": "code",
   "execution_count": 21,
   "metadata": {},
   "outputs": [
    {
     "data": {
      "text/plain": [
       "(25619, 7)"
      ]
     },
     "execution_count": 21,
     "metadata": {},
     "output_type": "execute_result"
    }
   ],
   "source": [
    "# drop set_num containing minifigures numbers\n",
    "inventories_df.drop(inventories_df[inventories_df['set_num'].str.match('fig')].index, inplace=True)\n",
    "inventories_df.shape"
   ]
  },
  {
   "cell_type": "code",
   "execution_count": 22,
   "metadata": {},
   "outputs": [
    {
     "name": "stdout",
     "output_type": "stream",
     "text": [
      "True - all set numbers from sets table are included in inventories_df\n",
      "True - no figure is in inventories df\n",
      "True - all set numbers are in sets table\n"
     ]
    }
   ],
   "source": [
    "# check integrity of data\n",
    "print(inventories_df['set_num'].nunique() == sets_table['set_num'].nunique(), '- all set numbers from sets table are included in inventories_df')\n",
    "print(inventories_df[inventories_df['set_num'].str.match('fig')].shape[0] == 0, '- no figure is in inventories df')\n",
    "print(inventories_df[~inventories_df['set_num'].isin(sets_table['set_num'].unique())].shape[0] == 0, '- all set numbers are in sets table')"
   ]
  },
  {
   "cell_type": "markdown",
   "metadata": {},
   "source": [
    "This means that data is integral. \n",
    "Now I will proceed with adding parts data from inventory_sets table. First I need to merge it with inventories_df on set_num column. Then group by inventory_id and save it as sets_per_inventory. Finally, merge inventories_df with sets_per_inventory. Add values to appropriate columns and drop unnecessary ones. "
   ]
  },
  {
   "cell_type": "code",
   "execution_count": 23,
   "metadata": {},
   "outputs": [],
   "source": [
    "number_of_rows_before = inventory_sets_df.shape[0]"
   ]
  },
  {
   "cell_type": "code",
   "execution_count": 24,
   "metadata": {},
   "outputs": [
    {
     "data": {
      "text/html": [
       "<div>\n",
       "<style scoped>\n",
       "    .dataframe tbody tr th:only-of-type {\n",
       "        vertical-align: middle;\n",
       "    }\n",
       "\n",
       "    .dataframe tbody tr th {\n",
       "        vertical-align: top;\n",
       "    }\n",
       "\n",
       "    .dataframe thead th {\n",
       "        text-align: right;\n",
       "    }\n",
       "</style>\n",
       "<table border=\"1\" class=\"dataframe\">\n",
       "  <thead>\n",
       "    <tr style=\"text-align: right;\">\n",
       "      <th></th>\n",
       "      <th>inventory_id</th>\n",
       "      <th>set_num</th>\n",
       "      <th>quantity</th>\n",
       "      <th>version</th>\n",
       "      <th>parts</th>\n",
       "      <th>spares</th>\n",
       "      <th>minifigs_count</th>\n",
       "      <th>minifigs_parts_sum</th>\n",
       "    </tr>\n",
       "  </thead>\n",
       "  <tbody>\n",
       "    <tr>\n",
       "      <th>0</th>\n",
       "      <td>35</td>\n",
       "      <td>75911-1</td>\n",
       "      <td>1</td>\n",
       "      <td>1</td>\n",
       "      <td>326</td>\n",
       "      <td>16</td>\n",
       "      <td>3</td>\n",
       "      <td>14</td>\n",
       "    </tr>\n",
       "    <tr>\n",
       "      <th>1</th>\n",
       "      <td>35</td>\n",
       "      <td>75912-1</td>\n",
       "      <td>1</td>\n",
       "      <td>1</td>\n",
       "      <td>555</td>\n",
       "      <td>26</td>\n",
       "      <td>4</td>\n",
       "      <td>18</td>\n",
       "    </tr>\n",
       "    <tr>\n",
       "      <th>2</th>\n",
       "      <td>39</td>\n",
       "      <td>75048-1</td>\n",
       "      <td>1</td>\n",
       "      <td>1</td>\n",
       "      <td>225</td>\n",
       "      <td>10</td>\n",
       "      <td>2</td>\n",
       "      <td>9</td>\n",
       "    </tr>\n",
       "    <tr>\n",
       "      <th>3</th>\n",
       "      <td>39</td>\n",
       "      <td>75053-1</td>\n",
       "      <td>1</td>\n",
       "      <td>1</td>\n",
       "      <td>914</td>\n",
       "      <td>37</td>\n",
       "      <td>4</td>\n",
       "      <td>15</td>\n",
       "    </tr>\n",
       "    <tr>\n",
       "      <th>4</th>\n",
       "      <td>39</td>\n",
       "      <td>75053-1</td>\n",
       "      <td>1</td>\n",
       "      <td>2</td>\n",
       "      <td>914</td>\n",
       "      <td>37</td>\n",
       "      <td>4</td>\n",
       "      <td>15</td>\n",
       "    </tr>\n",
       "  </tbody>\n",
       "</table>\n",
       "</div>"
      ],
      "text/plain": [
       "   inventory_id  set_num  quantity  version  parts  spares  minifigs_count  \\\n",
       "0            35  75911-1         1        1    326      16               3   \n",
       "1            35  75912-1         1        1    555      26               4   \n",
       "2            39  75048-1         1        1    225      10               2   \n",
       "3            39  75053-1         1        1    914      37               4   \n",
       "4            39  75053-1         1        2    914      37               4   \n",
       "\n",
       "   minifigs_parts_sum  \n",
       "0                  14  \n",
       "1                  18  \n",
       "2                   9  \n",
       "3                  15  \n",
       "4                  15  "
      ]
     },
     "execution_count": 24,
     "metadata": {},
     "output_type": "execute_result"
    }
   ],
   "source": [
    "# TODO - sets + MERGE\n",
    "inventory_sets_df = inventory_sets_df.merge(inventories_df, on='set_num', how='left')\n",
    "inventory_sets_df.rename(columns={'inventory_id_x': 'inventory_id'}, inplace=True)\n",
    "inventory_sets_df.drop(columns=['inventory_id_y'], inplace=True)\n",
    "inventory_sets_df.head()"
   ]
  },
  {
   "cell_type": "code",
   "execution_count": 25,
   "metadata": {},
   "outputs": [
    {
     "name": "stdout",
     "output_type": "stream",
     "text": [
      "True\n"
     ]
    }
   ],
   "source": [
    "number_of_rows_after = inventory_sets_df.shape[0]\n",
    "number_of_rows_version_not_1 = inventory_sets_df[inventory_sets_df['version'] != 1].shape[0]\n",
    "print(number_of_rows_version_not_1 == number_of_rows_after - number_of_rows_before)"
   ]
  },
  {
   "cell_type": "markdown",
   "metadata": {},
   "source": [
    "As inventory_sets_df to inventories_df relation is one-to-many, some rows are duplicated - before merging the dataframe had 4556 row, now it contains 5013. The difference is in rows where version is different from 1. \n",
    "Now, I will investigate how many rows have different number of parts."
   ]
  },
  {
   "cell_type": "code",
   "execution_count": 26,
   "metadata": {},
   "outputs": [
    {
     "name": "stdout",
     "output_type": "stream",
     "text": [
      "(141, 8)\n"
     ]
    },
    {
     "data": {
      "text/html": [
       "<div>\n",
       "<style scoped>\n",
       "    .dataframe tbody tr th:only-of-type {\n",
       "        vertical-align: middle;\n",
       "    }\n",
       "\n",
       "    .dataframe tbody tr th {\n",
       "        vertical-align: top;\n",
       "    }\n",
       "\n",
       "    .dataframe thead th {\n",
       "        text-align: right;\n",
       "    }\n",
       "</style>\n",
       "<table border=\"1\" class=\"dataframe\">\n",
       "  <thead>\n",
       "    <tr style=\"text-align: right;\">\n",
       "      <th></th>\n",
       "      <th>inventory_id</th>\n",
       "      <th>set_num</th>\n",
       "      <th>quantity</th>\n",
       "      <th>version</th>\n",
       "      <th>parts</th>\n",
       "      <th>spares</th>\n",
       "      <th>minifigs_count</th>\n",
       "      <th>minifigs_parts_sum</th>\n",
       "    </tr>\n",
       "  </thead>\n",
       "  <tbody>\n",
       "    <tr>\n",
       "      <th>28</th>\n",
       "      <td>122</td>\n",
       "      <td>7944-1</td>\n",
       "      <td>1</td>\n",
       "      <td>1</td>\n",
       "      <td>249</td>\n",
       "      <td>9</td>\n",
       "      <td>3</td>\n",
       "      <td>14</td>\n",
       "    </tr>\n",
       "    <tr>\n",
       "      <th>29</th>\n",
       "      <td>122</td>\n",
       "      <td>7944-1</td>\n",
       "      <td>1</td>\n",
       "      <td>2</td>\n",
       "      <td>260</td>\n",
       "      <td>9</td>\n",
       "      <td>3</td>\n",
       "      <td>14</td>\n",
       "    </tr>\n",
       "    <tr>\n",
       "      <th>99</th>\n",
       "      <td>758</td>\n",
       "      <td>6716-1</td>\n",
       "      <td>1</td>\n",
       "      <td>1</td>\n",
       "      <td>60</td>\n",
       "      <td>0</td>\n",
       "      <td>1</td>\n",
       "      <td>5</td>\n",
       "    </tr>\n",
       "    <tr>\n",
       "      <th>100</th>\n",
       "      <td>758</td>\n",
       "      <td>6716-1</td>\n",
       "      <td>1</td>\n",
       "      <td>2</td>\n",
       "      <td>60</td>\n",
       "      <td>2</td>\n",
       "      <td>1</td>\n",
       "      <td>5</td>\n",
       "    </tr>\n",
       "    <tr>\n",
       "      <th>215</th>\n",
       "      <td>1418</td>\n",
       "      <td>7906-1</td>\n",
       "      <td>1</td>\n",
       "      <td>1</td>\n",
       "      <td>175</td>\n",
       "      <td>8</td>\n",
       "      <td>3</td>\n",
       "      <td>12</td>\n",
       "    </tr>\n",
       "  </tbody>\n",
       "</table>\n",
       "</div>"
      ],
      "text/plain": [
       "     inventory_id set_num  quantity  version  parts  spares  minifigs_count  \\\n",
       "28            122  7944-1         1        1    249       9               3   \n",
       "29            122  7944-1         1        2    260       9               3   \n",
       "99            758  6716-1         1        1     60       0               1   \n",
       "100           758  6716-1         1        2     60       2               1   \n",
       "215          1418  7906-1         1        1    175       8               3   \n",
       "\n",
       "     minifigs_parts_sum  \n",
       "28                   14  \n",
       "29                   14  \n",
       "99                    5  \n",
       "100                   5  \n",
       "215                  12  "
      ]
     },
     "execution_count": 26,
     "metadata": {},
     "output_type": "execute_result"
    }
   ],
   "source": [
    "inventory_sets_df_dup = inventory_sets_df[inventory_sets_df.duplicated(subset=['inventory_id', 'set_num'], keep=False)]\n",
    "inventory_sets_df_dup_diff = inventory_sets_df_dup[~inventory_sets_df_dup.duplicated(\n",
    "    subset=['inventory_id', 'set_num', 'parts', 'spares', 'minifigs_count', 'minifigs_parts_sum'], keep=False)]\n",
    "print(inventory_sets_df_dup_diff.shape)\n",
    "inventory_sets_df_dup_diff.head()"
   ]
  },
  {
   "cell_type": "code",
   "execution_count": 27,
   "metadata": {},
   "outputs": [
    {
     "data": {
      "text/plain": [
       "39"
      ]
     },
     "execution_count": 27,
     "metadata": {},
     "output_type": "execute_result"
    }
   ],
   "source": [
    "inventory_sets_df_dup_diff['set_num'].nunique()"
   ]
  },
  {
   "cell_type": "markdown",
   "metadata": {},
   "source": [
    "39 sets have different number of parts in it. I will check if it is a good idea to just drop versions not equal to 1 if the difference in parts is small."
   ]
  },
  {
   "cell_type": "code",
   "execution_count": 28,
   "metadata": {},
   "outputs": [
    {
     "name": "stdout",
     "output_type": "stream",
     "text": [
      "   set_num  max_diff  max_parts  percent\n",
      "10  4548-1         1          3    33.33\n",
      "\n",
      "Describe max diff column\n",
      "\n",
      "count    39.000000\n",
      "mean      3.794872\n",
      "std       4.796816\n",
      "min       0.000000\n",
      "25%       1.000000\n",
      "50%       1.000000\n",
      "75%       5.000000\n",
      "max      20.000000\n",
      "Name: max_diff, dtype: float64\n",
      "\n",
      "Describe percent column\n",
      "\n",
      "count    39.000000\n",
      "mean      2.305385\n",
      "std       5.314215\n",
      "min       0.000000\n",
      "25%       0.465000\n",
      "50%       0.970000\n",
      "75%       2.170000\n",
      "max      33.330000\n",
      "Name: percent, dtype: float64\n"
     ]
    }
   ],
   "source": [
    "# check on different versions of sets that are part of bigger sets\n",
    "sets_differences = (inventory_sets_df_dup_diff\n",
    "    .groupby('set_num')\n",
    "    .agg(\n",
    "        parts_min=('parts', 'min'),\n",
    "        parts_max=('parts', 'max'),\n",
    "        spares_min=('spares', 'min'),\n",
    "        spares_max=('spares', 'max'),\n",
    "        minifigs_count_min=('minifigs_count', 'min'),\n",
    "        minifigs_count_max=('minifigs_count', 'max'),\n",
    "        minifigs_parts_sum_min=('minifigs_parts_sum', 'min'),\n",
    "        minifigs_parts_sum_max=('minifigs_parts_sum', 'max')\n",
    "    )\n",
    "    .reset_index()\n",
    ")\n",
    "sets_differences['diff_parts'] = sets_differences['parts_max'] - sets_differences['parts_min']\n",
    "sets_differences['diff_spares'] = sets_differences['spares_max'] - sets_differences['spares_min']\n",
    "sets_differences['diff_minifigs_count'] = sets_differences['minifigs_count_max'] - sets_differences['minifigs_count_min']\n",
    "sets_differences['diff_minifigs_parts_sum'] = sets_differences['minifigs_parts_sum_max'] - sets_differences['minifigs_parts_sum_min']\n",
    "sets_differences['max_diff'] = sets_differences[['diff_parts', 'diff_spares', 'diff_minifigs_count', 'diff_minifigs_parts_sum']].max(axis=1)\n",
    "sets_differences['max_parts'] = sets_differences[['parts_max', 'spares_max', 'minifigs_count_max', 'minifigs_parts_sum_max']].max(axis=1)\n",
    "sets_differences.drop(columns=['diff_parts', 'diff_spares', 'diff_minifigs_count', 'diff_minifigs_parts_sum', \n",
    "                               'parts_max', 'spares_max', 'minifigs_count_max', 'minifigs_parts_sum_max',\n",
    "                               'parts_min', 'spares_min', 'minifigs_count_min', 'minifigs_parts_sum_min'], inplace=True)\n",
    "sets_differences['percent'] = round(sets_differences['max_diff'] / sets_differences['max_parts'] * 100, 2)\n",
    "print(sets_differences[sets_differences['percent'] == sets_differences['percent'].max()])\n",
    "print('\\nDescribe max diff column\\n')\n",
    "print(sets_differences['max_diff'].describe())\n",
    "print('\\nDescribe percent column\\n')\n",
    "print(sets_differences['percent'].describe())"
   ]
  },
  {
   "cell_type": "markdown",
   "metadata": {},
   "source": [
    "Overall, I think, these differences are minimal, so I just drop all versions not equal to one and proceed further."
   ]
  },
  {
   "cell_type": "code",
   "execution_count": 29,
   "metadata": {},
   "outputs": [
    {
     "name": "stdout",
     "output_type": "stream",
     "text": [
      "Inventory sets shape: (4556, 6)\n",
      "\n",
      "Inventory sets head:\n",
      "\n",
      "   inventory_id  set_num  parts  spares  minifigs_count  minifigs_parts_sum\n",
      "0            35  75911-1    326      16               3                  14\n",
      "1            35  75912-1    555      26               4                  18\n",
      "2            39  75048-1    225      10               2                   9\n",
      "3            39  75053-1    914      37               4                  15\n",
      "5            50   4515-1      8       0               0                   0\n"
     ]
    }
   ],
   "source": [
    "inventory_sets_df.drop(inventory_sets_df[inventory_sets_df['version'] != 1].index, inplace=True)\n",
    "inventory_sets_df['parts'] = inventory_sets_df['parts'] * inventory_sets_df['quantity']\n",
    "inventory_sets_df['spares'] = inventory_sets_df['spares'] * inventory_sets_df['quantity']\n",
    "inventory_sets_df['minifigs_count'] = inventory_sets_df['minifigs_count'] * inventory_sets_df['quantity']\n",
    "inventory_sets_df['minifigs_parts_sum'] = inventory_sets_df['minifigs_parts_sum'] * inventory_sets_df['quantity']\n",
    "inventory_sets_df.drop(columns=['quantity', 'version'], inplace=True)\n",
    "print('Inventory sets shape:', inventory_sets_df.shape)\n",
    "print('\\nInventory sets head:\\n')\n",
    "print(inventory_sets_df.head())"
   ]
  },
  {
   "cell_type": "markdown",
   "metadata": {},
   "source": [
    "inventory_sets_df contains all the information I need, so now it is time to prepare sets_per_inventory and merge it with inventories_df."
   ]
  },
  {
   "cell_type": "code",
   "execution_count": 30,
   "metadata": {},
   "outputs": [
    {
     "name": "stdout",
     "output_type": "stream",
     "text": [
      "Sets per inventory shape: (1315, 5)\n",
      "\n",
      "Sets per inventory head:\n",
      "\n",
      "   inventory_id  parts_sum  spares_sum  minifigs_count_sum  \\\n",
      "0            35        881          42                   7   \n",
      "1            39       1139          47                   6   \n",
      "2            50         30           1                   0   \n",
      "3            71       2306          82                  31   \n",
      "4            81        397           9                   0   \n",
      "\n",
      "   minifigs_parts_sum_sum  \n",
      "0                      32  \n",
      "1                      24  \n",
      "2                       0  \n",
      "3                      98  \n",
      "4                       0  \n"
     ]
    }
   ],
   "source": [
    "sets_per_inventory = (inventory_sets_df\n",
    "                          .groupby('inventory_id')\n",
    "                          .agg(\n",
    "                              parts_sum=('parts', 'sum'),\n",
    "                              spares_sum=('spares', 'sum'),\n",
    "                              minifigs_count_sum=('minifigs_count', 'sum'),\n",
    "                              minifigs_parts_sum_sum=('minifigs_parts_sum', 'sum')\n",
    "                          )\n",
    "                          .reset_index()\n",
    "                     )\n",
    "print('Sets per inventory shape:', sets_per_inventory.shape)\n",
    "print('\\nSets per inventory head:\\n')\n",
    "print(sets_per_inventory.head())"
   ]
  },
  {
   "cell_type": "code",
   "execution_count": 31,
   "metadata": {},
   "outputs": [
    {
     "data": {
      "text/html": [
       "<div>\n",
       "<style scoped>\n",
       "    .dataframe tbody tr th:only-of-type {\n",
       "        vertical-align: middle;\n",
       "    }\n",
       "\n",
       "    .dataframe tbody tr th {\n",
       "        vertical-align: top;\n",
       "    }\n",
       "\n",
       "    .dataframe thead th {\n",
       "        text-align: right;\n",
       "    }\n",
       "</style>\n",
       "<table border=\"1\" class=\"dataframe\">\n",
       "  <thead>\n",
       "    <tr style=\"text-align: right;\">\n",
       "      <th></th>\n",
       "      <th>inventory_id</th>\n",
       "      <th>version</th>\n",
       "      <th>set_num</th>\n",
       "      <th>parts</th>\n",
       "      <th>spares</th>\n",
       "      <th>minifigs_count</th>\n",
       "      <th>minifigs_parts_sum</th>\n",
       "      <th>total_parts</th>\n",
       "    </tr>\n",
       "  </thead>\n",
       "  <tbody>\n",
       "    <tr>\n",
       "      <th>0</th>\n",
       "      <td>1</td>\n",
       "      <td>1</td>\n",
       "      <td>7922-1</td>\n",
       "      <td>5</td>\n",
       "      <td>0</td>\n",
       "      <td>0</td>\n",
       "      <td>0</td>\n",
       "      <td>5</td>\n",
       "    </tr>\n",
       "    <tr>\n",
       "      <th>1</th>\n",
       "      <td>3</td>\n",
       "      <td>1</td>\n",
       "      <td>3931-1</td>\n",
       "      <td>39</td>\n",
       "      <td>3</td>\n",
       "      <td>1</td>\n",
       "      <td>4</td>\n",
       "      <td>43</td>\n",
       "    </tr>\n",
       "    <tr>\n",
       "      <th>2</th>\n",
       "      <td>4</td>\n",
       "      <td>1</td>\n",
       "      <td>6942-1</td>\n",
       "      <td>16</td>\n",
       "      <td>1</td>\n",
       "      <td>1</td>\n",
       "      <td>4</td>\n",
       "      <td>20</td>\n",
       "    </tr>\n",
       "    <tr>\n",
       "      <th>3</th>\n",
       "      <td>15</td>\n",
       "      <td>1</td>\n",
       "      <td>5158-1</td>\n",
       "      <td>2</td>\n",
       "      <td>0</td>\n",
       "      <td>0</td>\n",
       "      <td>0</td>\n",
       "      <td>2</td>\n",
       "    </tr>\n",
       "    <tr>\n",
       "      <th>4</th>\n",
       "      <td>16</td>\n",
       "      <td>1</td>\n",
       "      <td>903-1</td>\n",
       "      <td>10</td>\n",
       "      <td>0</td>\n",
       "      <td>0</td>\n",
       "      <td>0</td>\n",
       "      <td>10</td>\n",
       "    </tr>\n",
       "  </tbody>\n",
       "</table>\n",
       "</div>"
      ],
      "text/plain": [
       "  inventory_id  version set_num  parts  spares  minifigs_count  \\\n",
       "0            1        1  7922-1      5       0               0   \n",
       "1            3        1  3931-1     39       3               1   \n",
       "2            4        1  6942-1     16       1               1   \n",
       "3           15        1  5158-1      2       0               0   \n",
       "4           16        1   903-1     10       0               0   \n",
       "\n",
       "   minifigs_parts_sum  total_parts  \n",
       "0                   0            5  \n",
       "1                   4           43  \n",
       "2                   4           20  \n",
       "3                   0            2  \n",
       "4                   0           10  "
      ]
     },
     "execution_count": 31,
     "metadata": {},
     "output_type": "execute_result"
    }
   ],
   "source": [
    "# merge inventories_df with sets_per_inventory, add total_parts column (parts + minifigs_parts_sum)\n",
    "inventories_df = inventories_df.merge(sets_per_inventory, on='inventory_id', how='left')\n",
    "inventories_df.fillna(0, inplace=True)\n",
    "for column_name in ['parts', 'spares', 'minifigs_count', 'minifigs_parts_sum']:\n",
    "    inventories_df[column_name] = inventories_df[column_name] + inventories_df[column_name + '_sum']\n",
    "    inventories_df[column_name] = inventories_df[column_name].astype(int)\n",
    "    inventories_df.drop(columns=[column_name + '_sum'], inplace=True)\n",
    "inventories_df['total_parts'] = inventories_df['parts'] + inventories_df['minifigs_parts_sum']\n",
    "inventories_df.head()"
   ]
  },
  {
   "cell_type": "markdown",
   "metadata": {},
   "source": [
    "Inventories_df now contains all data regarding parts for each set_num. Now I need to add year and decade to this dataframe so it is complete for analysis for first 3 questions."
   ]
  },
  {
   "cell_type": "code",
   "execution_count": 32,
   "metadata": {},
   "outputs": [
    {
     "data": {
      "text/html": [
       "<div>\n",
       "<style scoped>\n",
       "    .dataframe tbody tr th:only-of-type {\n",
       "        vertical-align: middle;\n",
       "    }\n",
       "\n",
       "    .dataframe tbody tr th {\n",
       "        vertical-align: top;\n",
       "    }\n",
       "\n",
       "    .dataframe thead th {\n",
       "        text-align: right;\n",
       "    }\n",
       "</style>\n",
       "<table border=\"1\" class=\"dataframe\">\n",
       "  <thead>\n",
       "    <tr style=\"text-align: right;\">\n",
       "      <th></th>\n",
       "      <th>inventory_id</th>\n",
       "      <th>version</th>\n",
       "      <th>set_num</th>\n",
       "      <th>parts</th>\n",
       "      <th>spares</th>\n",
       "      <th>minifigs_count</th>\n",
       "      <th>minifigs_parts_sum</th>\n",
       "      <th>total_parts</th>\n",
       "      <th>set_name</th>\n",
       "      <th>year</th>\n",
       "      <th>num_parts</th>\n",
       "      <th>decade</th>\n",
       "      <th>theme</th>\n",
       "    </tr>\n",
       "  </thead>\n",
       "  <tbody>\n",
       "    <tr>\n",
       "      <th>0</th>\n",
       "      <td>1</td>\n",
       "      <td>1</td>\n",
       "      <td>7922-1</td>\n",
       "      <td>5</td>\n",
       "      <td>0</td>\n",
       "      <td>0</td>\n",
       "      <td>0</td>\n",
       "      <td>5</td>\n",
       "      <td>McDonald's Sports Set Number 6 - Orange Vest S...</td>\n",
       "      <td>2004</td>\n",
       "      <td>5</td>\n",
       "      <td>2000</td>\n",
       "      <td>Gravity Games</td>\n",
       "    </tr>\n",
       "    <tr>\n",
       "      <th>1</th>\n",
       "      <td>3</td>\n",
       "      <td>1</td>\n",
       "      <td>3931-1</td>\n",
       "      <td>39</td>\n",
       "      <td>3</td>\n",
       "      <td>1</td>\n",
       "      <td>4</td>\n",
       "      <td>43</td>\n",
       "      <td>Emma's Splash Pool</td>\n",
       "      <td>2012</td>\n",
       "      <td>43</td>\n",
       "      <td>2010</td>\n",
       "      <td>Friends</td>\n",
       "    </tr>\n",
       "    <tr>\n",
       "      <th>2</th>\n",
       "      <td>4</td>\n",
       "      <td>1</td>\n",
       "      <td>6942-1</td>\n",
       "      <td>16</td>\n",
       "      <td>1</td>\n",
       "      <td>1</td>\n",
       "      <td>4</td>\n",
       "      <td>20</td>\n",
       "      <td>Zo Weevil</td>\n",
       "      <td>1999</td>\n",
       "      <td>20</td>\n",
       "      <td>1990</td>\n",
       "      <td>Insectoids</td>\n",
       "    </tr>\n",
       "    <tr>\n",
       "      <th>3</th>\n",
       "      <td>15</td>\n",
       "      <td>1</td>\n",
       "      <td>5158-1</td>\n",
       "      <td>2</td>\n",
       "      <td>0</td>\n",
       "      <td>0</td>\n",
       "      <td>0</td>\n",
       "      <td>2</td>\n",
       "      <td>T-Junction, Circle Plates</td>\n",
       "      <td>1990</td>\n",
       "      <td>2</td>\n",
       "      <td>1980</td>\n",
       "      <td>Service Packs</td>\n",
       "    </tr>\n",
       "    <tr>\n",
       "      <th>4</th>\n",
       "      <td>16</td>\n",
       "      <td>1</td>\n",
       "      <td>903-1</td>\n",
       "      <td>10</td>\n",
       "      <td>0</td>\n",
       "      <td>0</td>\n",
       "      <td>0</td>\n",
       "      <td>10</td>\n",
       "      <td>Train Wheels and Couplers</td>\n",
       "      <td>1969</td>\n",
       "      <td>10</td>\n",
       "      <td>1960</td>\n",
       "      <td>Supplemental</td>\n",
       "    </tr>\n",
       "  </tbody>\n",
       "</table>\n",
       "</div>"
      ],
      "text/plain": [
       "  inventory_id  version set_num  parts  spares  minifigs_count  \\\n",
       "0            1        1  7922-1      5       0               0   \n",
       "1            3        1  3931-1     39       3               1   \n",
       "2            4        1  6942-1     16       1               1   \n",
       "3           15        1  5158-1      2       0               0   \n",
       "4           16        1   903-1     10       0               0   \n",
       "\n",
       "   minifigs_parts_sum  total_parts  \\\n",
       "0                   0            5   \n",
       "1                   4           43   \n",
       "2                   4           20   \n",
       "3                   0            2   \n",
       "4                   0           10   \n",
       "\n",
       "                                            set_name  year  num_parts decade  \\\n",
       "0  McDonald's Sports Set Number 6 - Orange Vest S...  2004          5   2000   \n",
       "1                                 Emma's Splash Pool  2012         43   2010   \n",
       "2                                          Zo Weevil  1999         20   1990   \n",
       "3                          T-Junction, Circle Plates  1990          2   1980   \n",
       "4                          Train Wheels and Couplers  1969         10   1960   \n",
       "\n",
       "           theme  \n",
       "0  Gravity Games  \n",
       "1        Friends  \n",
       "2     Insectoids  \n",
       "3  Service Packs  \n",
       "4   Supplemental  "
      ]
     },
     "execution_count": 32,
     "metadata": {},
     "output_type": "execute_result"
    }
   ],
   "source": [
    "# MERGE with sets table to get year for each inventory\n",
    "inventories_df = inventories_df.merge(sets_table, on='set_num', how='left')\n",
    "inventories_df.head()"
   ]
  },
  {
   "cell_type": "code",
   "execution_count": 33,
   "metadata": {},
   "outputs": [
    {
     "name": "stdout",
     "output_type": "stream",
     "text": [
      "count     1530.000000\n",
      "mean       426.288235\n",
      "std        853.819301\n",
      "min          1.000000\n",
      "25%         16.000000\n",
      "50%        156.000000\n",
      "75%        486.000000\n",
      "max      11470.000000\n",
      "Name: parts_diff, dtype: float64\n"
     ]
    }
   ],
   "source": [
    "# integrity check - if nums_parts in sets_table is same as total_parts in inventories_df\n",
    "inventories_df['parts_diff'] = abs(inventories_df['total_parts'] - inventories_df['num_parts'])\n",
    "print(inventories_df.loc[inventories_df['parts_diff'] != 0, 'parts_diff'].describe())"
   ]
  },
  {
   "cell_type": "code",
   "execution_count": 34,
   "metadata": {},
   "outputs": [
    {
     "name": "stdout",
     "output_type": "stream",
     "text": [
      "Number of rows that parts count differ: 1530\n",
      "Number of rows that parts count differ, but sets table count is different from 0: 453\n"
     ]
    }
   ],
   "source": [
    "row_differences_with_0 = inventories_df.loc[(inventories_df['parts_diff'] != 0)].shape[0]\n",
    "row_differences_without_0 = inventories_df.loc[(inventories_df['parts_diff'] != 0) & (inventories_df['num_parts'] != 0)].shape[0]\n",
    "print('Number of rows that parts count differ:', row_differences_with_0)\n",
    "print('Number of rows that parts count differ, but sets table count is different from 0:', row_differences_without_0)"
   ]
  },
  {
   "cell_type": "markdown",
   "metadata": {},
   "source": [
    "There is 1530 rows with differences between sets_table part count and part count resulting from my calculations. But most of them is when in sets table parts count is equal to 0 - so this seems to be invalid data in sets table. I will focus on the rest and check how significant are those differences."
   ]
  },
  {
   "cell_type": "code",
   "execution_count": 35,
   "metadata": {},
   "outputs": [
    {
     "data": {
      "text/html": [
       "<div>\n",
       "<style scoped>\n",
       "    .dataframe tbody tr th:only-of-type {\n",
       "        vertical-align: middle;\n",
       "    }\n",
       "\n",
       "    .dataframe tbody tr th {\n",
       "        vertical-align: top;\n",
       "    }\n",
       "\n",
       "    .dataframe thead th {\n",
       "        text-align: right;\n",
       "    }\n",
       "</style>\n",
       "<table border=\"1\" class=\"dataframe\">\n",
       "  <thead>\n",
       "    <tr style=\"text-align: right;\">\n",
       "      <th></th>\n",
       "      <th>inventory_id</th>\n",
       "      <th>version</th>\n",
       "      <th>set_num</th>\n",
       "      <th>parts</th>\n",
       "      <th>spares</th>\n",
       "      <th>minifigs_count</th>\n",
       "      <th>minifigs_parts_sum</th>\n",
       "      <th>total_parts</th>\n",
       "      <th>set_name</th>\n",
       "      <th>year</th>\n",
       "      <th>num_parts</th>\n",
       "      <th>decade</th>\n",
       "      <th>theme</th>\n",
       "      <th>parts_diff</th>\n",
       "    </tr>\n",
       "  </thead>\n",
       "  <tbody>\n",
       "    <tr>\n",
       "      <th>56</th>\n",
       "      <td>91</td>\n",
       "      <td>1</td>\n",
       "      <td>9483-1</td>\n",
       "      <td>21</td>\n",
       "      <td>12</td>\n",
       "      <td>2</td>\n",
       "      <td>124</td>\n",
       "      <td>145</td>\n",
       "      <td>Agent Mater's Escape</td>\n",
       "      <td>2012</td>\n",
       "      <td>144</td>\n",
       "      <td>2010</td>\n",
       "      <td>Cars</td>\n",
       "      <td>1</td>\n",
       "    </tr>\n",
       "    <tr>\n",
       "      <th>57</th>\n",
       "      <td>92</td>\n",
       "      <td>1</td>\n",
       "      <td>6386-1</td>\n",
       "      <td>386</td>\n",
       "      <td>4</td>\n",
       "      <td>4</td>\n",
       "      <td>16</td>\n",
       "      <td>402</td>\n",
       "      <td>Police Command Base</td>\n",
       "      <td>1986</td>\n",
       "      <td>397</td>\n",
       "      <td>1980</td>\n",
       "      <td>Classic Town</td>\n",
       "      <td>5</td>\n",
       "    </tr>\n",
       "    <tr>\n",
       "      <th>194</th>\n",
       "      <td>311</td>\n",
       "      <td>1</td>\n",
       "      <td>10201-1</td>\n",
       "      <td>399</td>\n",
       "      <td>10</td>\n",
       "      <td>0</td>\n",
       "      <td>0</td>\n",
       "      <td>399</td>\n",
       "      <td>Takutanuva</td>\n",
       "      <td>2003</td>\n",
       "      <td>1</td>\n",
       "      <td>2000</td>\n",
       "      <td>Bionicle</td>\n",
       "      <td>398</td>\n",
       "    </tr>\n",
       "    <tr>\n",
       "      <th>328</th>\n",
       "      <td>506</td>\n",
       "      <td>1</td>\n",
       "      <td>8898-1</td>\n",
       "      <td>272</td>\n",
       "      <td>12</td>\n",
       "      <td>4</td>\n",
       "      <td>20</td>\n",
       "      <td>292</td>\n",
       "      <td>Wreckage Road</td>\n",
       "      <td>2010</td>\n",
       "      <td>288</td>\n",
       "      <td>2000</td>\n",
       "      <td>World Racers</td>\n",
       "      <td>4</td>\n",
       "    </tr>\n",
       "    <tr>\n",
       "      <th>360</th>\n",
       "      <td>557</td>\n",
       "      <td>1</td>\n",
       "      <td>3409-1</td>\n",
       "      <td>222</td>\n",
       "      <td>2</td>\n",
       "      <td>12</td>\n",
       "      <td>46</td>\n",
       "      <td>268</td>\n",
       "      <td>Championship Challenge</td>\n",
       "      <td>2000</td>\n",
       "      <td>294</td>\n",
       "      <td>1990</td>\n",
       "      <td>Soccer</td>\n",
       "      <td>26</td>\n",
       "    </tr>\n",
       "  </tbody>\n",
       "</table>\n",
       "</div>"
      ],
      "text/plain": [
       "    inventory_id  version  set_num  parts  spares  minifigs_count  \\\n",
       "56            91        1   9483-1     21      12               2   \n",
       "57            92        1   6386-1    386       4               4   \n",
       "194          311        1  10201-1    399      10               0   \n",
       "328          506        1   8898-1    272      12               4   \n",
       "360          557        1   3409-1    222       2              12   \n",
       "\n",
       "     minifigs_parts_sum  total_parts                set_name  year  num_parts  \\\n",
       "56                  124          145    Agent Mater's Escape  2012        144   \n",
       "57                   16          402     Police Command Base  1986        397   \n",
       "194                   0          399              Takutanuva  2003          1   \n",
       "328                  20          292           Wreckage Road  2010        288   \n",
       "360                  46          268  Championship Challenge  2000        294   \n",
       "\n",
       "    decade         theme  parts_diff  \n",
       "56    2010          Cars           1  \n",
       "57    1980  Classic Town           5  \n",
       "194   2000      Bionicle         398  \n",
       "328   2000  World Racers           4  \n",
       "360   1990        Soccer          26  "
      ]
     },
     "execution_count": 35,
     "metadata": {},
     "output_type": "execute_result"
    }
   ],
   "source": [
    "#parts_num_differences = inventories_df.loc[(inventories_df['parts_diff'] != 0) & (inventories_df['num_parts'] != 0)]\n",
    "#parts_num_differences['percent_diff'] = round(parts_num_differences['parts_diff'] / parts_num_differences['total_parts'] * 100, 2)\n",
    "inventories_df.loc[(inventories_df['parts_diff'] != 0) & (inventories_df['num_parts'] != 0)].head()"
   ]
  },
  {
   "cell_type": "markdown",
   "metadata": {},
   "source": [
    "As I look randomly on the web page, there are differences when there are sets in the inventory or there are different versions of a set. On the web page, correct data is the one that I calculated, so I will consider this one for further analysis."
   ]
  },
  {
   "cell_type": "code",
   "execution_count": 36,
   "metadata": {},
   "outputs": [
    {
     "data": {
      "text/html": [
       "<div>\n",
       "<style scoped>\n",
       "    .dataframe tbody tr th:only-of-type {\n",
       "        vertical-align: middle;\n",
       "    }\n",
       "\n",
       "    .dataframe tbody tr th {\n",
       "        vertical-align: top;\n",
       "    }\n",
       "\n",
       "    .dataframe thead th {\n",
       "        text-align: right;\n",
       "    }\n",
       "</style>\n",
       "<table border=\"1\" class=\"dataframe\">\n",
       "  <thead>\n",
       "    <tr style=\"text-align: right;\">\n",
       "      <th></th>\n",
       "      <th>inventory_id</th>\n",
       "      <th>version</th>\n",
       "      <th>set_num</th>\n",
       "      <th>parts</th>\n",
       "      <th>spares</th>\n",
       "      <th>minifigs_count</th>\n",
       "      <th>minifigs_parts_sum</th>\n",
       "      <th>total_parts</th>\n",
       "      <th>set_name</th>\n",
       "      <th>year</th>\n",
       "      <th>num_parts</th>\n",
       "      <th>decade</th>\n",
       "      <th>theme</th>\n",
       "      <th>parts_diff</th>\n",
       "    </tr>\n",
       "  </thead>\n",
       "  <tbody>\n",
       "    <tr>\n",
       "      <th>12802</th>\n",
       "      <td>27754</td>\n",
       "      <td>1</td>\n",
       "      <td>5005469-1</td>\n",
       "      <td>0</td>\n",
       "      <td>0</td>\n",
       "      <td>0</td>\n",
       "      <td>0</td>\n",
       "      <td>0</td>\n",
       "      <td>Absolutely Everything You Need to Know</td>\n",
       "      <td>2017</td>\n",
       "      <td>4</td>\n",
       "      <td>2010</td>\n",
       "      <td>Non-fiction Books</td>\n",
       "      <td>4</td>\n",
       "    </tr>\n",
       "    <tr>\n",
       "      <th>22389</th>\n",
       "      <td>171262</td>\n",
       "      <td>1</td>\n",
       "      <td>010423-1</td>\n",
       "      <td>0</td>\n",
       "      <td>0</td>\n",
       "      <td>0</td>\n",
       "      <td>0</td>\n",
       "      <td>0</td>\n",
       "      <td>The Majestic Horse</td>\n",
       "      <td>2023</td>\n",
       "      <td>492</td>\n",
       "      <td>2020</td>\n",
       "      <td>Icons</td>\n",
       "      <td>492</td>\n",
       "    </tr>\n",
       "  </tbody>\n",
       "</table>\n",
       "</div>"
      ],
      "text/plain": [
       "      inventory_id  version    set_num  parts  spares  minifigs_count  \\\n",
       "12802        27754        1  5005469-1      0       0               0   \n",
       "22389       171262        1   010423-1      0       0               0   \n",
       "\n",
       "       minifigs_parts_sum  total_parts  \\\n",
       "12802                   0            0   \n",
       "22389                   0            0   \n",
       "\n",
       "                                     set_name  year  num_parts decade  \\\n",
       "12802  Absolutely Everything You Need to Know  2017          4   2010   \n",
       "22389                      The Majestic Horse  2023        492   2020   \n",
       "\n",
       "                   theme  parts_diff  \n",
       "12802  Non-fiction Books           4  \n",
       "22389              Icons         492  "
      ]
     },
     "execution_count": 36,
     "metadata": {},
     "output_type": "execute_result"
    }
   ],
   "source": [
    "# more integrity check - if there are any sets that contain 0 parts while there are parts in nums_parts?\n",
    "inventories_df[(inventories_df['total_parts'] == 0) & (inventories_df['num_parts'] != 0)]"
   ]
  },
  {
   "cell_type": "markdown",
   "metadata": {},
   "source": [
    "I checked those two on the web page - first one should be 0 as there were 2 versions of the set - 1 without minifigure and second with it. This is version without so it should not contain any parts. \n",
    "Second one - The Majestic Horse has an error on web page, so I set total_parts for same as num_parts. "
   ]
  },
  {
   "cell_type": "code",
   "execution_count": 37,
   "metadata": {},
   "outputs": [
    {
     "data": {
      "text/html": [
       "<div>\n",
       "<style scoped>\n",
       "    .dataframe tbody tr th:only-of-type {\n",
       "        vertical-align: middle;\n",
       "    }\n",
       "\n",
       "    .dataframe tbody tr th {\n",
       "        vertical-align: top;\n",
       "    }\n",
       "\n",
       "    .dataframe thead th {\n",
       "        text-align: right;\n",
       "    }\n",
       "</style>\n",
       "<table border=\"1\" class=\"dataframe\">\n",
       "  <thead>\n",
       "    <tr style=\"text-align: right;\">\n",
       "      <th></th>\n",
       "      <th>inventory_id</th>\n",
       "      <th>version</th>\n",
       "      <th>set_num</th>\n",
       "      <th>parts</th>\n",
       "      <th>spares</th>\n",
       "      <th>minifigs_count</th>\n",
       "      <th>minifigs_parts_sum</th>\n",
       "      <th>total_parts</th>\n",
       "      <th>set_name</th>\n",
       "      <th>year</th>\n",
       "      <th>num_parts</th>\n",
       "      <th>decade</th>\n",
       "      <th>theme</th>\n",
       "      <th>parts_diff</th>\n",
       "    </tr>\n",
       "  </thead>\n",
       "  <tbody>\n",
       "    <tr>\n",
       "      <th>22389</th>\n",
       "      <td>171262</td>\n",
       "      <td>1</td>\n",
       "      <td>010423-1</td>\n",
       "      <td>0</td>\n",
       "      <td>0</td>\n",
       "      <td>0</td>\n",
       "      <td>0</td>\n",
       "      <td>492</td>\n",
       "      <td>The Majestic Horse</td>\n",
       "      <td>2023</td>\n",
       "      <td>492</td>\n",
       "      <td>2020</td>\n",
       "      <td>Icons</td>\n",
       "      <td>492</td>\n",
       "    </tr>\n",
       "  </tbody>\n",
       "</table>\n",
       "</div>"
      ],
      "text/plain": [
       "      inventory_id  version   set_num  parts  spares  minifigs_count  \\\n",
       "22389       171262        1  010423-1      0       0               0   \n",
       "\n",
       "       minifigs_parts_sum  total_parts            set_name  year  num_parts  \\\n",
       "22389                   0          492  The Majestic Horse  2023        492   \n",
       "\n",
       "      decade  theme  parts_diff  \n",
       "22389   2020  Icons         492  "
      ]
     },
     "execution_count": 37,
     "metadata": {},
     "output_type": "execute_result"
    }
   ],
   "source": [
    "inventories_df.loc[inventories_df['inventory_id'] == 171262, 'total_parts'] = inventories_df.loc[inventories_df['inventory_id'] == 171262, 'num_parts'].iloc[0]\n",
    "inventories_df.loc[inventories_df['inventory_id'] == 171262]"
   ]
  },
  {
   "cell_type": "code",
   "execution_count": 38,
   "metadata": {},
   "outputs": [
    {
     "data": {
      "text/plain": [
       "(25619, 15)"
      ]
     },
     "execution_count": 38,
     "metadata": {},
     "output_type": "execute_result"
    }
   ],
   "source": [
    "# add new column to inventories_df\n",
    "inventories_df['parts_in_set'] = inventories_df['total_parts'] != 0\n",
    "inventories_df.shape"
   ]
  },
  {
   "cell_type": "markdown",
   "metadata": {},
   "source": [
    "I checked also others and it is correct that some sets do not contain any parts - they are other toys, playmats, books etc."
   ]
  },
  {
   "cell_type": "markdown",
   "metadata": {},
   "source": [
    "## QUESTION 1\n",
    "1. What is the average number of Lego sets released per year? How does it look through years?"
   ]
  },
  {
   "cell_type": "code",
   "execution_count": 39,
   "metadata": {},
   "outputs": [
    {
     "data": {
      "text/html": [
       "<div>\n",
       "<style scoped>\n",
       "    .dataframe tbody tr th:only-of-type {\n",
       "        vertical-align: middle;\n",
       "    }\n",
       "\n",
       "    .dataframe tbody tr th {\n",
       "        vertical-align: top;\n",
       "    }\n",
       "\n",
       "    .dataframe thead th {\n",
       "        text-align: right;\n",
       "    }\n",
       "</style>\n",
       "<table border=\"1\" class=\"dataframe\">\n",
       "  <thead>\n",
       "    <tr style=\"text-align: right;\">\n",
       "      <th>parts_in_set</th>\n",
       "      <th>year</th>\n",
       "      <th>without_parts_in_set</th>\n",
       "      <th>parts_in_set</th>\n",
       "    </tr>\n",
       "  </thead>\n",
       "  <tbody>\n",
       "    <tr>\n",
       "      <th>0</th>\n",
       "      <td>1949</td>\n",
       "      <td>0</td>\n",
       "      <td>7</td>\n",
       "    </tr>\n",
       "    <tr>\n",
       "      <th>1</th>\n",
       "      <td>1950</td>\n",
       "      <td>0</td>\n",
       "      <td>22</td>\n",
       "    </tr>\n",
       "    <tr>\n",
       "      <th>2</th>\n",
       "      <td>1953</td>\n",
       "      <td>1</td>\n",
       "      <td>12</td>\n",
       "    </tr>\n",
       "    <tr>\n",
       "      <th>3</th>\n",
       "      <td>1954</td>\n",
       "      <td>0</td>\n",
       "      <td>60</td>\n",
       "    </tr>\n",
       "    <tr>\n",
       "      <th>4</th>\n",
       "      <td>1955</td>\n",
       "      <td>3</td>\n",
       "      <td>80</td>\n",
       "    </tr>\n",
       "  </tbody>\n",
       "</table>\n",
       "</div>"
      ],
      "text/plain": [
       "parts_in_set  year  without_parts_in_set  parts_in_set\n",
       "0             1949                     0             7\n",
       "1             1950                     0            22\n",
       "2             1953                     1            12\n",
       "3             1954                     0            60\n",
       "4             1955                     3            80"
      ]
     },
     "execution_count": 39,
     "metadata": {},
     "output_type": "execute_result"
    }
   ],
   "source": [
    "sets_tables_years_all = pd.pivot_table(inventories_df, columns=['parts_in_set'], index=['year'], values='total_parts', aggfunc='count').reset_index()\n",
    "sets_tables_years_all.rename(columns={False: 'without_parts_in_set', True: 'parts_in_set'}, inplace=True)\n",
    "sets_tables_years_all.head()"
   ]
  },
  {
   "cell_type": "code",
   "execution_count": 40,
   "metadata": {},
   "outputs": [
    {
     "data": {
      "image/png": "[encoded data removed]",
      "text/plain": [
       "<Figure size 1800x700 with 1 Axes>"
      ]
     },
     "metadata": {},
     "output_type": "display_data"
    }
   ],
   "source": [
    "# how it looks with sets that do not have any parts\n",
    "ax = sns.set_style(style=None)\n",
    "fig, ax = plt.subplots(figsize=(18,7))\n",
    "years_order = sorted(sets_tables_years_all['year'].unique())\n",
    "plt.grid(axis='y', alpha=0.5)\n",
    "ax.bar(sets_tables_years_all['year'], sets_tables_years_all['parts_in_set'], alpha=0.75, label='Sets with parts')\n",
    "ax.bar(sets_tables_years_all['year'], sets_tables_years_all['without_parts_in_set'], bottom=sets_tables_years_all['parts_in_set'], alpha=0.75,  \n",
    "      label='Sets without parts')\n",
    "ax.tick_params(axis='x', rotation=90)\n",
    "ax.set_title('Lego sets count per year')\n",
    "ax.set_ylabel('Lego sets count')\n",
    "ax.set_xlabel('Year')\n",
    "ax.legend(title='Set type')\n",
    "plt.show()"
   ]
  },
  {
   "cell_type": "markdown",
   "metadata": {},
   "source": [
    "For further analysis, I will exclude sets with no parts as they are not relevant - I focus only on regular sets, not on all products sold by Lego. From the chart above it is clear that through the years, more other stuff are sold/manufactured by Lego as this company increases its potential and influences other markets, not just staying in one."
   ]
  },
  {
   "cell_type": "code",
   "execution_count": 41,
   "metadata": {},
   "outputs": [
    {
     "data": {
      "text/plain": [
       "(20808, 15)"
      ]
     },
     "execution_count": 41,
     "metadata": {},
     "output_type": "execute_result"
    }
   ],
   "source": [
    "# excluding rows containing sets with no parts\n",
    "inventories_df = inventories_df[inventories_df['parts_in_set']]\n",
    "inventories_df.shape"
   ]
  },
  {
   "cell_type": "code",
   "execution_count": 42,
   "metadata": {},
   "outputs": [
    {
     "name": "stderr",
     "output_type": "stream",
     "text": [
      "C:\\Users\\Dom\\AppData\\Local\\Temp\\ipykernel_16120\\2722841704.py:3: FutureWarning: The default of observed=False is deprecated and will be changed to True in a future version of pandas. Pass observed=False to retain current behavior or observed=True to adopt the future default and silence this warning.\n",
      "  .groupby('decade')\n"
     ]
    },
    {
     "data": {
      "text/html": [
       "<div>\n",
       "<style scoped>\n",
       "    .dataframe tbody tr th:only-of-type {\n",
       "        vertical-align: middle;\n",
       "    }\n",
       "\n",
       "    .dataframe tbody tr th {\n",
       "        vertical-align: top;\n",
       "    }\n",
       "\n",
       "    .dataframe thead th {\n",
       "        text-align: right;\n",
       "    }\n",
       "</style>\n",
       "<table border=\"1\" class=\"dataframe\">\n",
       "  <thead>\n",
       "    <tr style=\"text-align: right;\">\n",
       "      <th></th>\n",
       "      <th>decade</th>\n",
       "      <th>no_of_years</th>\n",
       "      <th>set_count</th>\n",
       "      <th>decade_avg</th>\n",
       "    </tr>\n",
       "  </thead>\n",
       "  <tbody>\n",
       "    <tr>\n",
       "      <th>0</th>\n",
       "      <td>1950</td>\n",
       "      <td>10</td>\n",
       "      <td>369</td>\n",
       "      <td>36</td>\n",
       "    </tr>\n",
       "    <tr>\n",
       "      <th>1</th>\n",
       "      <td>1960</td>\n",
       "      <td>10</td>\n",
       "      <td>934</td>\n",
       "      <td>93</td>\n",
       "    </tr>\n",
       "    <tr>\n",
       "      <th>2</th>\n",
       "      <td>1970</td>\n",
       "      <td>10</td>\n",
       "      <td>769</td>\n",
       "      <td>76</td>\n",
       "    </tr>\n",
       "    <tr>\n",
       "      <th>3</th>\n",
       "      <td>1980</td>\n",
       "      <td>10</td>\n",
       "      <td>1317</td>\n",
       "      <td>131</td>\n",
       "    </tr>\n",
       "    <tr>\n",
       "      <th>4</th>\n",
       "      <td>1990</td>\n",
       "      <td>10</td>\n",
       "      <td>2501</td>\n",
       "      <td>250</td>\n",
       "    </tr>\n",
       "    <tr>\n",
       "      <th>5</th>\n",
       "      <td>2000</td>\n",
       "      <td>10</td>\n",
       "      <td>4504</td>\n",
       "      <td>450</td>\n",
       "    </tr>\n",
       "    <tr>\n",
       "      <th>6</th>\n",
       "      <td>2010</td>\n",
       "      <td>10</td>\n",
       "      <td>7285</td>\n",
       "      <td>728</td>\n",
       "    </tr>\n",
       "    <tr>\n",
       "      <th>7</th>\n",
       "      <td>2020</td>\n",
       "      <td>4</td>\n",
       "      <td>3129</td>\n",
       "      <td>782</td>\n",
       "    </tr>\n",
       "  </tbody>\n",
       "</table>\n",
       "</div>"
      ],
      "text/plain": [
       "  decade  no_of_years  set_count  decade_avg\n",
       "0   1950           10        369          36\n",
       "1   1960           10        934          93\n",
       "2   1970           10        769          76\n",
       "3   1980           10       1317         131\n",
       "4   1990           10       2501         250\n",
       "5   2000           10       4504         450\n",
       "6   2010           10       7285         728\n",
       "7   2020            4       3129         782"
      ]
     },
     "execution_count": 42,
     "metadata": {},
     "output_type": "execute_result"
    }
   ],
   "source": [
    "#  mean value per decade\n",
    "sets_tables_decade_all = (inventories_df\n",
    "                          .groupby('decade')\n",
    "                          .agg(\n",
    "                              no_of_years=('year', 'nunique'),\n",
    "                              set_count=('set_num', 'count')\n",
    "                          )\n",
    "                          .reset_index()\n",
    "                     )\n",
    "sets_tables_decade_all['decade_avg'] = sets_tables_decade_all['set_count'] // sets_tables_decade_all['no_of_years']\n",
    "sets_tables_decade_all"
   ]
  },
  {
   "cell_type": "code",
   "execution_count": 43,
   "metadata": {},
   "outputs": [
    {
     "name": "stderr",
     "output_type": "stream",
     "text": [
      "C:\\Users\\Dom\\anaconda3\\Lib\\site-packages\\seaborn\\categorical.py:641: FutureWarning: The default of observed=False is deprecated and will be changed to True in a future version of pandas. Pass observed=False to retain current behavior or observed=True to adopt the future default and silence this warning.\n",
      "  grouped_vals = vals.groupby(grouper)\n"
     ]
    },
    {
     "data": {
      "image/png": "[encoded data removed]",
      "text/plain": [
       "<Figure size 1200x600 with 1 Axes>"
      ]
     },
     "metadata": {},
     "output_type": "display_data"
    }
   ],
   "source": [
    "ax = sns.set_style(style=None)\n",
    "fig, ax = plt.subplots(figsize=(12,6))\n",
    "plt.grid(axis='y', alpha=0.5)\n",
    "sns.barplot(data = sets_tables_decade_all, x='decade', y='decade_avg', alpha=0.25, ax=ax, palette='hls', width=0.5, order=sets_tables_decade_all['decade']) \n",
    "ax.tick_params(axis='x', rotation=90)\n",
    "ax.set_title('Average of sets per year in each decade')\n",
    "ax.set_ylabel('Average Lego sets count per year')\n",
    "ax.set_xlabel('Decade')\n",
    "plt.show()"
   ]
  },
  {
   "cell_type": "code",
   "execution_count": 44,
   "metadata": {},
   "outputs": [
    {
     "name": "stdout",
     "output_type": "stream",
     "text": [
      "Average number of Lego sets per year is: 277\n"
     ]
    }
   ],
   "source": [
    "print('Average number of Lego sets per year is:', int(sets_tables_years_all['parts_in_set'].mean()))"
   ]
  },
  {
   "cell_type": "raw",
   "metadata": {},
   "source": [
    "Above are shown charts telling story how Lego has expanded through years - the company now produces more Lego sets per year than ever before, and it looks like it is still growing. But, to answer the question, as for now mean number of new Lego sets per year is 277."
   ]
  },
  {
   "cell_type": "markdown",
   "metadata": {},
   "source": [
    "## QUESTION 2:\n",
    "2. What is the average number of Lego parts per year? Per set per year and total bricks in all sets per year.\n"
   ]
  },
  {
   "cell_type": "code",
   "execution_count": 30,
   "metadata": {},
   "outputs": [
    {
     "data": {
      "text/html": [
       "<div>\n",
       "<style scoped>\n",
       "    .dataframe tbody tr th:only-of-type {\n",
       "        vertical-align: middle;\n",
       "    }\n",
       "\n",
       "    .dataframe tbody tr th {\n",
       "        vertical-align: top;\n",
       "    }\n",
       "\n",
       "    .dataframe thead th {\n",
       "        text-align: right;\n",
       "    }\n",
       "</style>\n",
       "<table border=\"1\" class=\"dataframe\">\n",
       "  <thead>\n",
       "    <tr style=\"text-align: right;\">\n",
       "      <th></th>\n",
       "      <th>inventory_id</th>\n",
       "      <th>version</th>\n",
       "      <th>set_num</th>\n",
       "    </tr>\n",
       "  </thead>\n",
       "  <tbody>\n",
       "    <tr>\n",
       "      <th>16015</th>\n",
       "      <td>51370</td>\n",
       "      <td>1</td>\n",
       "      <td>fig-000555</td>\n",
       "    </tr>\n",
       "  </tbody>\n",
       "</table>\n",
       "</div>"
      ],
      "text/plain": [
       "       inventory_id  version     set_num\n",
       "16015         51370        1  fig-000555"
      ]
     },
     "execution_count": 30,
     "metadata": {},
     "output_type": "execute_result"
    }
   ],
   "source": [
    "# check if minifigs parts are also in inventory parts\n",
    "inventories_df.loc[inventories_df['set_num'] == 'fig-000555']"
   ]
  },
  {
   "cell_type": "code",
   "execution_count": 31,
   "metadata": {},
   "outputs": [
    {
     "data": {
      "text/html": [
       "<div>\n",
       "<style scoped>\n",
       "    .dataframe tbody tr th:only-of-type {\n",
       "        vertical-align: middle;\n",
       "    }\n",
       "\n",
       "    .dataframe tbody tr th {\n",
       "        vertical-align: top;\n",
       "    }\n",
       "\n",
       "    .dataframe thead th {\n",
       "        text-align: right;\n",
       "    }\n",
       "</style>\n",
       "<table border=\"1\" class=\"dataframe\">\n",
       "  <thead>\n",
       "    <tr style=\"text-align: right;\">\n",
       "      <th></th>\n",
       "      <th>inventory_id</th>\n",
       "      <th>part_num</th>\n",
       "      <th>color_id</th>\n",
       "      <th>quantity</th>\n",
       "      <th>is_spare</th>\n",
       "      <th>img_url</th>\n",
       "    </tr>\n",
       "  </thead>\n",
       "  <tbody>\n",
       "    <tr>\n",
       "      <th>768290</th>\n",
       "      <td>51370</td>\n",
       "      <td>3626bpr0310</td>\n",
       "      <td>14</td>\n",
       "      <td>1</td>\n",
       "      <td>f</td>\n",
       "      <td>https://cdn.rebrickable.com/media/parts/photos...</td>\n",
       "    </tr>\n",
       "    <tr>\n",
       "      <th>768291</th>\n",
       "      <td>51370</td>\n",
       "      <td>4530</td>\n",
       "      <td>0</td>\n",
       "      <td>1</td>\n",
       "      <td>f</td>\n",
       "      <td>https://cdn.rebrickable.com/media/parts/elemen...</td>\n",
       "    </tr>\n",
       "    <tr>\n",
       "      <th>768292</th>\n",
       "      <td>51370</td>\n",
       "      <td>970c03</td>\n",
       "      <td>0</td>\n",
       "      <td>1</td>\n",
       "      <td>f</td>\n",
       "      <td>https://cdn.rebrickable.com/media/parts/elemen...</td>\n",
       "    </tr>\n",
       "    <tr>\n",
       "      <th>768293</th>\n",
       "      <td>51370</td>\n",
       "      <td>973c22h01pr0173</td>\n",
       "      <td>4</td>\n",
       "      <td>1</td>\n",
       "      <td>f</td>\n",
       "      <td>https://cdn.rebrickable.com/media/parts/photos...</td>\n",
       "    </tr>\n",
       "  </tbody>\n",
       "</table>\n",
       "</div>"
      ],
      "text/plain": [
       "        inventory_id         part_num  color_id  quantity is_spare  \\\n",
       "768290         51370      3626bpr0310        14         1        f   \n",
       "768291         51370             4530         0         1        f   \n",
       "768292         51370           970c03         0         1        f   \n",
       "768293         51370  973c22h01pr0173         4         1        f   \n",
       "\n",
       "                                                  img_url  \n",
       "768290  https://cdn.rebrickable.com/media/parts/photos...  \n",
       "768291  https://cdn.rebrickable.com/media/parts/elemen...  \n",
       "768292  https://cdn.rebrickable.com/media/parts/elemen...  \n",
       "768293  https://cdn.rebrickable.com/media/parts/photos...  "
      ]
     },
     "execution_count": 31,
     "metadata": {},
     "output_type": "execute_result"
    }
   ],
   "source": [
    "inventory_parts_df.loc[inventory_parts_df['inventory_id'] == 51370]"
   ]
  },
  {
   "cell_type": "markdown",
   "metadata": {},
   "source": [
    "So, to be sure and certain and well count the distinction between spares and normal parts I need to add this inventory to the summary."
   ]
  },
  {
   "cell_type": "code",
   "execution_count": 33,
   "metadata": {},
   "outputs": [
    {
     "data": {
      "text/plain": [
       "38716"
      ]
     },
     "execution_count": 33,
     "metadata": {},
     "output_type": "execute_result"
    }
   ],
   "source": [
    "# number of unique set number\n",
    "inventories_df['set_num'].nunique()"
   ]
  },
  {
   "cell_type": "code",
   "execution_count": 34,
   "metadata": {},
   "outputs": [
    {
     "data": {
      "text/plain": [
       "23873"
      ]
     },
     "execution_count": 34,
     "metadata": {},
     "output_type": "execute_result"
    }
   ],
   "source": [
    "a = sets_table['set_num'].nunique()\n",
    "a"
   ]
  },
  {
   "cell_type": "code",
   "execution_count": 35,
   "metadata": {},
   "outputs": [],
   "source": [
    "b = inventories_df.loc[inventories_df['set_num'].str.match('fig'), 'set_num'].nunique()"
   ]
  },
  {
   "cell_type": "code",
   "execution_count": 36,
   "metadata": {},
   "outputs": [
    {
     "data": {
      "text/plain": [
       "38716"
      ]
     },
     "execution_count": 36,
     "metadata": {},
     "output_type": "execute_result"
    }
   ],
   "source": [
    "a + b"
   ]
  },
  {
   "cell_type": "code",
   "execution_count": 42,
   "metadata": {},
   "outputs": [
    {
     "data": {
      "text/html": [
       "<div>\n",
       "<style scoped>\n",
       "    .dataframe tbody tr th:only-of-type {\n",
       "        vertical-align: middle;\n",
       "    }\n",
       "\n",
       "    .dataframe tbody tr th {\n",
       "        vertical-align: top;\n",
       "    }\n",
       "\n",
       "    .dataframe thead th {\n",
       "        text-align: right;\n",
       "    }\n",
       "</style>\n",
       "<table border=\"1\" class=\"dataframe\">\n",
       "  <thead>\n",
       "    <tr style=\"text-align: right;\">\n",
       "      <th></th>\n",
       "      <th>inventory_id</th>\n",
       "      <th>version</th>\n",
       "      <th>set_num</th>\n",
       "      <th>max_version</th>\n",
       "      <th>parts</th>\n",
       "      <th>spares</th>\n",
       "    </tr>\n",
       "  </thead>\n",
       "  <tbody>\n",
       "    <tr>\n",
       "      <th>0</th>\n",
       "      <td>1</td>\n",
       "      <td>1</td>\n",
       "      <td>7922-1</td>\n",
       "      <td>1</td>\n",
       "      <td>5.0</td>\n",
       "      <td>0.0</td>\n",
       "    </tr>\n",
       "    <tr>\n",
       "      <th>1</th>\n",
       "      <td>3</td>\n",
       "      <td>1</td>\n",
       "      <td>3931-1</td>\n",
       "      <td>1</td>\n",
       "      <td>39.0</td>\n",
       "      <td>3.0</td>\n",
       "    </tr>\n",
       "    <tr>\n",
       "      <th>2</th>\n",
       "      <td>4</td>\n",
       "      <td>1</td>\n",
       "      <td>6942-1</td>\n",
       "      <td>1</td>\n",
       "      <td>16.0</td>\n",
       "      <td>1.0</td>\n",
       "    </tr>\n",
       "    <tr>\n",
       "      <th>3</th>\n",
       "      <td>15</td>\n",
       "      <td>1</td>\n",
       "      <td>5158-1</td>\n",
       "      <td>1</td>\n",
       "      <td>2.0</td>\n",
       "      <td>0.0</td>\n",
       "    </tr>\n",
       "    <tr>\n",
       "      <th>4</th>\n",
       "      <td>16</td>\n",
       "      <td>1</td>\n",
       "      <td>903-1</td>\n",
       "      <td>1</td>\n",
       "      <td>10.0</td>\n",
       "      <td>0.0</td>\n",
       "    </tr>\n",
       "  </tbody>\n",
       "</table>\n",
       "</div>"
      ],
      "text/plain": [
       "   inventory_id  version set_num  max_version  parts  spares\n",
       "0             1        1  7922-1            1    5.0     0.0\n",
       "1             3        1  3931-1            1   39.0     3.0\n",
       "2             4        1  6942-1            1   16.0     1.0\n",
       "3            15        1  5158-1            1    2.0     0.0\n",
       "4            16        1   903-1            1   10.0     0.0"
      ]
     },
     "execution_count": 42,
     "metadata": {},
     "output_type": "execute_result"
    }
   ],
   "source": [
    "inventories_df = inventories_df.merge(parts_per_inventory, on='inventory_id', how='left')\n",
    "inventories_df.head()"
   ]
  },
  {
   "cell_type": "code",
   "execution_count": 43,
   "metadata": {},
   "outputs": [
    {
     "data": {
      "text/plain": [
       "(38716, 6)"
      ]
     },
     "execution_count": 43,
     "metadata": {},
     "output_type": "execute_result"
    }
   ],
   "source": [
    "inventories_df.shape"
   ]
  },
  {
   "cell_type": "code",
   "execution_count": 44,
   "metadata": {},
   "outputs": [
    {
     "data": {
      "text/html": [
       "<div>\n",
       "<style scoped>\n",
       "    .dataframe tbody tr th:only-of-type {\n",
       "        vertical-align: middle;\n",
       "    }\n",
       "\n",
       "    .dataframe tbody tr th {\n",
       "        vertical-align: top;\n",
       "    }\n",
       "\n",
       "    .dataframe thead th {\n",
       "        text-align: right;\n",
       "    }\n",
       "</style>\n",
       "<table border=\"1\" class=\"dataframe\">\n",
       "  <thead>\n",
       "    <tr style=\"text-align: right;\">\n",
       "      <th></th>\n",
       "      <th>inventory_id_x</th>\n",
       "      <th>fig_num</th>\n",
       "      <th>quantity</th>\n",
       "      <th>inventory_id_y</th>\n",
       "      <th>version</th>\n",
       "      <th>set_num</th>\n",
       "      <th>max_version</th>\n",
       "      <th>parts</th>\n",
       "      <th>spares</th>\n",
       "    </tr>\n",
       "  </thead>\n",
       "  <tbody>\n",
       "    <tr>\n",
       "      <th>0</th>\n",
       "      <td>3</td>\n",
       "      <td>fig-001549</td>\n",
       "      <td>1</td>\n",
       "      <td>52364</td>\n",
       "      <td>1</td>\n",
       "      <td>fig-001549</td>\n",
       "      <td>1</td>\n",
       "      <td>4.0</td>\n",
       "      <td>0.0</td>\n",
       "    </tr>\n",
       "    <tr>\n",
       "      <th>1</th>\n",
       "      <td>4</td>\n",
       "      <td>fig-000764</td>\n",
       "      <td>1</td>\n",
       "      <td>51579</td>\n",
       "      <td>1</td>\n",
       "      <td>fig-000764</td>\n",
       "      <td>1</td>\n",
       "      <td>4.0</td>\n",
       "      <td>0.0</td>\n",
       "    </tr>\n",
       "    <tr>\n",
       "      <th>2</th>\n",
       "      <td>14589</td>\n",
       "      <td>fig-000764</td>\n",
       "      <td>1</td>\n",
       "      <td>51579</td>\n",
       "      <td>1</td>\n",
       "      <td>fig-000764</td>\n",
       "      <td>1</td>\n",
       "      <td>4.0</td>\n",
       "      <td>0.0</td>\n",
       "    </tr>\n",
       "    <tr>\n",
       "      <th>3</th>\n",
       "      <td>19</td>\n",
       "      <td>fig-000555</td>\n",
       "      <td>1</td>\n",
       "      <td>51370</td>\n",
       "      <td>1</td>\n",
       "      <td>fig-000555</td>\n",
       "      <td>1</td>\n",
       "      <td>4.0</td>\n",
       "      <td>0.0</td>\n",
       "    </tr>\n",
       "    <tr>\n",
       "      <th>4</th>\n",
       "      <td>25</td>\n",
       "      <td>fig-000574</td>\n",
       "      <td>1</td>\n",
       "      <td>51389</td>\n",
       "      <td>1</td>\n",
       "      <td>fig-000574</td>\n",
       "      <td>1</td>\n",
       "      <td>5.0</td>\n",
       "      <td>0.0</td>\n",
       "    </tr>\n",
       "  </tbody>\n",
       "</table>\n",
       "</div>"
      ],
      "text/plain": [
       "   inventory_id_x     fig_num  quantity  inventory_id_y  version     set_num  \\\n",
       "0               3  fig-001549         1           52364        1  fig-001549   \n",
       "1               4  fig-000764         1           51579        1  fig-000764   \n",
       "2           14589  fig-000764         1           51579        1  fig-000764   \n",
       "3              19  fig-000555         1           51370        1  fig-000555   \n",
       "4              25  fig-000574         1           51389        1  fig-000574   \n",
       "\n",
       "   max_version  parts  spares  \n",
       "0            1    4.0     0.0  \n",
       "1            1    4.0     0.0  \n",
       "2            1    4.0     0.0  \n",
       "3            1    4.0     0.0  \n",
       "4            1    5.0     0.0  "
      ]
     },
     "execution_count": 44,
     "metadata": {},
     "output_type": "execute_result"
    }
   ],
   "source": [
    "inventory_minifigs_df_with_num_parts = inventory_minifigs_df.merge(inventories_df, left_on='fig_num', right_on='set_num')\n",
    "inventory_minifigs_df_with_num_parts.head()"
   ]
  },
  {
   "cell_type": "code",
   "execution_count": 45,
   "metadata": {},
   "outputs": [],
   "source": [
    "inventory_minifigs_df_with_num_parts['parts_total'] = inventory_minifigs_df_with_num_parts['quantity'] * inventory_minifigs_df_with_num_parts['parts']"
   ]
  },
  {
   "cell_type": "code",
   "execution_count": 46,
   "metadata": {},
   "outputs": [
    {
     "data": {
      "text/html": [
       "<div>\n",
       "<style scoped>\n",
       "    .dataframe tbody tr th:only-of-type {\n",
       "        vertical-align: middle;\n",
       "    }\n",
       "\n",
       "    .dataframe tbody tr th {\n",
       "        vertical-align: top;\n",
       "    }\n",
       "\n",
       "    .dataframe thead th {\n",
       "        text-align: right;\n",
       "    }\n",
       "</style>\n",
       "<table border=\"1\" class=\"dataframe\">\n",
       "  <thead>\n",
       "    <tr style=\"text-align: right;\">\n",
       "      <th></th>\n",
       "      <th>inventory_id_x</th>\n",
       "      <th>fig_num</th>\n",
       "      <th>quantity</th>\n",
       "      <th>inventory_id_y</th>\n",
       "      <th>version</th>\n",
       "      <th>set_num</th>\n",
       "      <th>max_version</th>\n",
       "      <th>parts</th>\n",
       "      <th>spares</th>\n",
       "      <th>parts_total</th>\n",
       "    </tr>\n",
       "  </thead>\n",
       "  <tbody>\n",
       "    <tr>\n",
       "      <th>16903</th>\n",
       "      <td>43641</td>\n",
       "      <td>fig-011590</td>\n",
       "      <td>1</td>\n",
       "      <td>106762</td>\n",
       "      <td>1</td>\n",
       "      <td>fig-011590</td>\n",
       "      <td>1</td>\n",
       "      <td>NaN</td>\n",
       "      <td>NaN</td>\n",
       "      <td>NaN</td>\n",
       "    </tr>\n",
       "  </tbody>\n",
       "</table>\n",
       "</div>"
      ],
      "text/plain": [
       "       inventory_id_x     fig_num  quantity  inventory_id_y  version  \\\n",
       "16903           43641  fig-011590         1          106762        1   \n",
       "\n",
       "          set_num  max_version  parts  spares  parts_total  \n",
       "16903  fig-011590            1    NaN     NaN          NaN  "
      ]
     },
     "execution_count": 46,
     "metadata": {},
     "output_type": "execute_result"
    }
   ],
   "source": [
    "inventory_minifigs_df_with_num_parts[inventory_minifigs_df_with_num_parts['spares'] != 0]"
   ]
  },
  {
   "cell_type": "code",
   "execution_count": 47,
   "metadata": {},
   "outputs": [],
   "source": [
    "inventory_minifigs_df_with_num_parts.drop(columns=['inventory_id_y', 'set_num', 'max_version', 'parts', 'quantity', 'version', 'spares'], inplace=True)"
   ]
  },
  {
   "cell_type": "code",
   "execution_count": 48,
   "metadata": {},
   "outputs": [],
   "source": [
    "inventory_minifigs_df_with_num_parts.rename(columns={'inventory_id_x': 'inventory_id'}, inplace=True)"
   ]
  },
  {
   "cell_type": "code",
   "execution_count": 49,
   "metadata": {},
   "outputs": [
    {
     "data": {
      "text/html": [
       "<div>\n",
       "<style scoped>\n",
       "    .dataframe tbody tr th:only-of-type {\n",
       "        vertical-align: middle;\n",
       "    }\n",
       "\n",
       "    .dataframe tbody tr th {\n",
       "        vertical-align: top;\n",
       "    }\n",
       "\n",
       "    .dataframe thead th {\n",
       "        text-align: right;\n",
       "    }\n",
       "</style>\n",
       "<table border=\"1\" class=\"dataframe\">\n",
       "  <thead>\n",
       "    <tr style=\"text-align: right;\">\n",
       "      <th></th>\n",
       "      <th>inventory_id</th>\n",
       "      <th>fig_num</th>\n",
       "      <th>parts_total</th>\n",
       "    </tr>\n",
       "  </thead>\n",
       "  <tbody>\n",
       "    <tr>\n",
       "      <th>0</th>\n",
       "      <td>3</td>\n",
       "      <td>fig-001549</td>\n",
       "      <td>4.0</td>\n",
       "    </tr>\n",
       "    <tr>\n",
       "      <th>1</th>\n",
       "      <td>4</td>\n",
       "      <td>fig-000764</td>\n",
       "      <td>4.0</td>\n",
       "    </tr>\n",
       "    <tr>\n",
       "      <th>2</th>\n",
       "      <td>14589</td>\n",
       "      <td>fig-000764</td>\n",
       "      <td>4.0</td>\n",
       "    </tr>\n",
       "    <tr>\n",
       "      <th>3</th>\n",
       "      <td>19</td>\n",
       "      <td>fig-000555</td>\n",
       "      <td>4.0</td>\n",
       "    </tr>\n",
       "    <tr>\n",
       "      <th>4</th>\n",
       "      <td>25</td>\n",
       "      <td>fig-000574</td>\n",
       "      <td>5.0</td>\n",
       "    </tr>\n",
       "  </tbody>\n",
       "</table>\n",
       "</div>"
      ],
      "text/plain": [
       "   inventory_id     fig_num  parts_total\n",
       "0             3  fig-001549          4.0\n",
       "1             4  fig-000764          4.0\n",
       "2         14589  fig-000764          4.0\n",
       "3            19  fig-000555          4.0\n",
       "4            25  fig-000574          5.0"
      ]
     },
     "execution_count": 49,
     "metadata": {},
     "output_type": "execute_result"
    }
   ],
   "source": [
    "inventory_minifigs_df_with_num_parts.head()"
   ]
  },
  {
   "cell_type": "code",
   "execution_count": 50,
   "metadata": {},
   "outputs": [
    {
     "data": {
      "text/html": [
       "<div>\n",
       "<style scoped>\n",
       "    .dataframe tbody tr th:only-of-type {\n",
       "        vertical-align: middle;\n",
       "    }\n",
       "\n",
       "    .dataframe tbody tr th {\n",
       "        vertical-align: top;\n",
       "    }\n",
       "\n",
       "    .dataframe thead tr th {\n",
       "        text-align: left;\n",
       "    }\n",
       "</style>\n",
       "<table border=\"1\" class=\"dataframe\">\n",
       "  <thead>\n",
       "    <tr>\n",
       "      <th></th>\n",
       "      <th>inventory_id</th>\n",
       "      <th>sum</th>\n",
       "      <th>count</th>\n",
       "    </tr>\n",
       "    <tr>\n",
       "      <th></th>\n",
       "      <th></th>\n",
       "      <th>parts_total</th>\n",
       "      <th>parts_total</th>\n",
       "    </tr>\n",
       "  </thead>\n",
       "  <tbody>\n",
       "    <tr>\n",
       "      <th>0</th>\n",
       "      <td>3</td>\n",
       "      <td>4.0</td>\n",
       "      <td>1</td>\n",
       "    </tr>\n",
       "    <tr>\n",
       "      <th>1</th>\n",
       "      <td>4</td>\n",
       "      <td>4.0</td>\n",
       "      <td>1</td>\n",
       "    </tr>\n",
       "    <tr>\n",
       "      <th>2</th>\n",
       "      <td>19</td>\n",
       "      <td>4.0</td>\n",
       "      <td>1</td>\n",
       "    </tr>\n",
       "    <tr>\n",
       "      <th>3</th>\n",
       "      <td>25</td>\n",
       "      <td>5.0</td>\n",
       "      <td>1</td>\n",
       "    </tr>\n",
       "    <tr>\n",
       "      <th>4</th>\n",
       "      <td>26</td>\n",
       "      <td>28.0</td>\n",
       "      <td>6</td>\n",
       "    </tr>\n",
       "  </tbody>\n",
       "</table>\n",
       "</div>"
      ],
      "text/plain": [
       "  inventory_id         sum       count\n",
       "               parts_total parts_total\n",
       "0            3         4.0           1\n",
       "1            4         4.0           1\n",
       "2           19         4.0           1\n",
       "3           25         5.0           1\n",
       "4           26        28.0           6"
      ]
     },
     "execution_count": 50,
     "metadata": {},
     "output_type": "execute_result"
    }
   ],
   "source": [
    "figs_per_inventory = pd.pivot_table(inventory_minifigs_df_with_num_parts, values='parts_total', index=['inventory_id'], \\\n",
    "                                     aggfunc=[\"sum\", 'count'], fill_value=0).reset_index()\n",
    "figs_per_inventory.head()"
   ]
  },
  {
   "cell_type": "code",
   "execution_count": 51,
   "metadata": {},
   "outputs": [
    {
     "data": {
      "text/plain": [
       "Index([('inventory_id', ''), ('sum', 'parts_total'), ('count', 'parts_total')], dtype='object')"
      ]
     },
     "execution_count": 51,
     "metadata": {},
     "output_type": "execute_result"
    }
   ],
   "source": [
    "figs_per_inventory.columns = figs_per_inventory.columns.to_flat_index()\n",
    "figs_per_inventory.columns"
   ]
  },
  {
   "cell_type": "code",
   "execution_count": 52,
   "metadata": {},
   "outputs": [
    {
     "data": {
      "text/html": [
       "<div>\n",
       "<style scoped>\n",
       "    .dataframe tbody tr th:only-of-type {\n",
       "        vertical-align: middle;\n",
       "    }\n",
       "\n",
       "    .dataframe tbody tr th {\n",
       "        vertical-align: top;\n",
       "    }\n",
       "\n",
       "    .dataframe thead th {\n",
       "        text-align: right;\n",
       "    }\n",
       "</style>\n",
       "<table border=\"1\" class=\"dataframe\">\n",
       "  <thead>\n",
       "    <tr style=\"text-align: right;\">\n",
       "      <th></th>\n",
       "      <th>inventory_id</th>\n",
       "      <th>fig_parts_sum</th>\n",
       "      <th>fig_count</th>\n",
       "    </tr>\n",
       "  </thead>\n",
       "  <tbody>\n",
       "    <tr>\n",
       "      <th>0</th>\n",
       "      <td>3</td>\n",
       "      <td>4.0</td>\n",
       "      <td>1</td>\n",
       "    </tr>\n",
       "    <tr>\n",
       "      <th>1</th>\n",
       "      <td>4</td>\n",
       "      <td>4.0</td>\n",
       "      <td>1</td>\n",
       "    </tr>\n",
       "    <tr>\n",
       "      <th>2</th>\n",
       "      <td>19</td>\n",
       "      <td>4.0</td>\n",
       "      <td>1</td>\n",
       "    </tr>\n",
       "    <tr>\n",
       "      <th>3</th>\n",
       "      <td>25</td>\n",
       "      <td>5.0</td>\n",
       "      <td>1</td>\n",
       "    </tr>\n",
       "    <tr>\n",
       "      <th>4</th>\n",
       "      <td>26</td>\n",
       "      <td>28.0</td>\n",
       "      <td>6</td>\n",
       "    </tr>\n",
       "  </tbody>\n",
       "</table>\n",
       "</div>"
      ],
      "text/plain": [
       "   inventory_id  fig_parts_sum  fig_count\n",
       "0             3            4.0          1\n",
       "1             4            4.0          1\n",
       "2            19            4.0          1\n",
       "3            25            5.0          1\n",
       "4            26           28.0          6"
      ]
     },
     "execution_count": 52,
     "metadata": {},
     "output_type": "execute_result"
    }
   ],
   "source": [
    "figs_per_inventory.rename(columns={('inventory_id', ''): 'inventory_id', ('sum', 'parts_total'): 'fig_parts_sum', ('count', 'parts_total'): 'fig_count'}, inplace=True)\n",
    "figs_per_inventory.head()"
   ]
  },
  {
   "cell_type": "code",
   "execution_count": 53,
   "metadata": {},
   "outputs": [
    {
     "data": {
      "text/html": [
       "<div>\n",
       "<style scoped>\n",
       "    .dataframe tbody tr th:only-of-type {\n",
       "        vertical-align: middle;\n",
       "    }\n",
       "\n",
       "    .dataframe tbody tr th {\n",
       "        vertical-align: top;\n",
       "    }\n",
       "\n",
       "    .dataframe thead th {\n",
       "        text-align: right;\n",
       "    }\n",
       "</style>\n",
       "<table border=\"1\" class=\"dataframe\">\n",
       "  <thead>\n",
       "    <tr style=\"text-align: right;\">\n",
       "      <th></th>\n",
       "      <th>inventory_id</th>\n",
       "      <th>version</th>\n",
       "      <th>set_num</th>\n",
       "      <th>max_version</th>\n",
       "      <th>parts</th>\n",
       "      <th>spares</th>\n",
       "      <th>fig_parts_sum</th>\n",
       "      <th>fig_count</th>\n",
       "    </tr>\n",
       "  </thead>\n",
       "  <tbody>\n",
       "    <tr>\n",
       "      <th>0</th>\n",
       "      <td>1</td>\n",
       "      <td>1</td>\n",
       "      <td>7922-1</td>\n",
       "      <td>1</td>\n",
       "      <td>5.0</td>\n",
       "      <td>0.0</td>\n",
       "      <td>NaN</td>\n",
       "      <td>NaN</td>\n",
       "    </tr>\n",
       "    <tr>\n",
       "      <th>1</th>\n",
       "      <td>3</td>\n",
       "      <td>1</td>\n",
       "      <td>3931-1</td>\n",
       "      <td>1</td>\n",
       "      <td>39.0</td>\n",
       "      <td>3.0</td>\n",
       "      <td>4.0</td>\n",
       "      <td>1.0</td>\n",
       "    </tr>\n",
       "    <tr>\n",
       "      <th>2</th>\n",
       "      <td>4</td>\n",
       "      <td>1</td>\n",
       "      <td>6942-1</td>\n",
       "      <td>1</td>\n",
       "      <td>16.0</td>\n",
       "      <td>1.0</td>\n",
       "      <td>4.0</td>\n",
       "      <td>1.0</td>\n",
       "    </tr>\n",
       "    <tr>\n",
       "      <th>3</th>\n",
       "      <td>15</td>\n",
       "      <td>1</td>\n",
       "      <td>5158-1</td>\n",
       "      <td>1</td>\n",
       "      <td>2.0</td>\n",
       "      <td>0.0</td>\n",
       "      <td>NaN</td>\n",
       "      <td>NaN</td>\n",
       "    </tr>\n",
       "    <tr>\n",
       "      <th>4</th>\n",
       "      <td>16</td>\n",
       "      <td>1</td>\n",
       "      <td>903-1</td>\n",
       "      <td>1</td>\n",
       "      <td>10.0</td>\n",
       "      <td>0.0</td>\n",
       "      <td>NaN</td>\n",
       "      <td>NaN</td>\n",
       "    </tr>\n",
       "  </tbody>\n",
       "</table>\n",
       "</div>"
      ],
      "text/plain": [
       "   inventory_id  version set_num  max_version  parts  spares  fig_parts_sum  \\\n",
       "0             1        1  7922-1            1    5.0     0.0            NaN   \n",
       "1             3        1  3931-1            1   39.0     3.0            4.0   \n",
       "2             4        1  6942-1            1   16.0     1.0            4.0   \n",
       "3            15        1  5158-1            1    2.0     0.0            NaN   \n",
       "4            16        1   903-1            1   10.0     0.0            NaN   \n",
       "\n",
       "   fig_count  \n",
       "0        NaN  \n",
       "1        1.0  \n",
       "2        1.0  \n",
       "3        NaN  \n",
       "4        NaN  "
      ]
     },
     "execution_count": 53,
     "metadata": {},
     "output_type": "execute_result"
    }
   ],
   "source": [
    "inventories_df = inventories_df.merge(figs_per_inventory, on='inventory_id', how='left')\n",
    "inventories_df.head()"
   ]
  },
  {
   "cell_type": "code",
   "execution_count": 54,
   "metadata": {},
   "outputs": [
    {
     "data": {
      "text/plain": [
       "(38716, 8)"
      ]
     },
     "execution_count": 54,
     "metadata": {},
     "output_type": "execute_result"
    }
   ],
   "source": [
    "inventories_df.shape"
   ]
  },
  {
   "cell_type": "code",
   "execution_count": 55,
   "metadata": {},
   "outputs": [
    {
     "data": {
      "text/html": [
       "<div>\n",
       "<style scoped>\n",
       "    .dataframe tbody tr th:only-of-type {\n",
       "        vertical-align: middle;\n",
       "    }\n",
       "\n",
       "    .dataframe tbody tr th {\n",
       "        vertical-align: top;\n",
       "    }\n",
       "\n",
       "    .dataframe thead th {\n",
       "        text-align: right;\n",
       "    }\n",
       "</style>\n",
       "<table border=\"1\" class=\"dataframe\">\n",
       "  <thead>\n",
       "    <tr style=\"text-align: right;\">\n",
       "      <th></th>\n",
       "      <th>inventory_id</th>\n",
       "      <th>part_num</th>\n",
       "      <th>color_id</th>\n",
       "      <th>quantity</th>\n",
       "      <th>is_spare</th>\n",
       "      <th>img_url</th>\n",
       "    </tr>\n",
       "  </thead>\n",
       "  <tbody>\n",
       "    <tr>\n",
       "      <th>1071444</th>\n",
       "      <td>150237</td>\n",
       "      <td>2447</td>\n",
       "      <td>47</td>\n",
       "      <td>1</td>\n",
       "      <td>t</td>\n",
       "      <td>https://cdn.rebrickable.com/media/parts/elemen...</td>\n",
       "    </tr>\n",
       "    <tr>\n",
       "      <th>1071446</th>\n",
       "      <td>150237</td>\n",
       "      <td>24866</td>\n",
       "      <td>30</td>\n",
       "      <td>1</td>\n",
       "      <td>t</td>\n",
       "      <td>https://cdn.rebrickable.com/media/parts/elemen...</td>\n",
       "    </tr>\n",
       "    <tr>\n",
       "      <th>1071469</th>\n",
       "      <td>150237</td>\n",
       "      <td>34172</td>\n",
       "      <td>15</td>\n",
       "      <td>1</td>\n",
       "      <td>t</td>\n",
       "      <td>https://cdn.rebrickable.com/media/parts/elemen...</td>\n",
       "    </tr>\n",
       "    <tr>\n",
       "      <th>1071475</th>\n",
       "      <td>150237</td>\n",
       "      <td>3673</td>\n",
       "      <td>14</td>\n",
       "      <td>1</td>\n",
       "      <td>t</td>\n",
       "      <td>https://cdn.rebrickable.com/media/parts/elemen...</td>\n",
       "    </tr>\n",
       "    <tr>\n",
       "      <th>1071500</th>\n",
       "      <td>150237</td>\n",
       "      <td>53119</td>\n",
       "      <td>70</td>\n",
       "      <td>1</td>\n",
       "      <td>t</td>\n",
       "      <td>https://cdn.rebrickable.com/media/parts/elemen...</td>\n",
       "    </tr>\n",
       "    <tr>\n",
       "      <th>1071507</th>\n",
       "      <td>150237</td>\n",
       "      <td>6141</td>\n",
       "      <td>46</td>\n",
       "      <td>1</td>\n",
       "      <td>t</td>\n",
       "      <td>https://cdn.rebrickable.com/media/parts/elemen...</td>\n",
       "    </tr>\n",
       "    <tr>\n",
       "      <th>1071512</th>\n",
       "      <td>150237</td>\n",
       "      <td>64567</td>\n",
       "      <td>0</td>\n",
       "      <td>1</td>\n",
       "      <td>t</td>\n",
       "      <td>https://cdn.rebrickable.com/media/parts/elemen...</td>\n",
       "    </tr>\n",
       "    <tr>\n",
       "      <th>1071525</th>\n",
       "      <td>150237</td>\n",
       "      <td>93160</td>\n",
       "      <td>15</td>\n",
       "      <td>1</td>\n",
       "      <td>t</td>\n",
       "      <td>https://cdn.rebrickable.com/media/parts/elemen...</td>\n",
       "    </tr>\n",
       "    <tr>\n",
       "      <th>1071529</th>\n",
       "      <td>150237</td>\n",
       "      <td>98138</td>\n",
       "      <td>33</td>\n",
       "      <td>1</td>\n",
       "      <td>t</td>\n",
       "      <td>https://cdn.rebrickable.com/media/parts/elemen...</td>\n",
       "    </tr>\n",
       "    <tr>\n",
       "      <th>1071530</th>\n",
       "      <td>150237</td>\n",
       "      <td>98138pr0056</td>\n",
       "      <td>84</td>\n",
       "      <td>1</td>\n",
       "      <td>t</td>\n",
       "      <td>https://cdn.rebrickable.com/media/parts/elemen...</td>\n",
       "    </tr>\n",
       "  </tbody>\n",
       "</table>\n",
       "</div>"
      ],
      "text/plain": [
       "         inventory_id     part_num  color_id  quantity is_spare  \\\n",
       "1071444        150237         2447        47         1        t   \n",
       "1071446        150237        24866        30         1        t   \n",
       "1071469        150237        34172        15         1        t   \n",
       "1071475        150237         3673        14         1        t   \n",
       "1071500        150237        53119        70         1        t   \n",
       "1071507        150237         6141        46         1        t   \n",
       "1071512        150237        64567         0         1        t   \n",
       "1071525        150237        93160        15         1        t   \n",
       "1071529        150237        98138        33         1        t   \n",
       "1071530        150237  98138pr0056        84         1        t   \n",
       "\n",
       "                                                   img_url  \n",
       "1071444  https://cdn.rebrickable.com/media/parts/elemen...  \n",
       "1071446  https://cdn.rebrickable.com/media/parts/elemen...  \n",
       "1071469  https://cdn.rebrickable.com/media/parts/elemen...  \n",
       "1071475  https://cdn.rebrickable.com/media/parts/elemen...  \n",
       "1071500  https://cdn.rebrickable.com/media/parts/elemen...  \n",
       "1071507  https://cdn.rebrickable.com/media/parts/elemen...  \n",
       "1071512  https://cdn.rebrickable.com/media/parts/elemen...  \n",
       "1071525  https://cdn.rebrickable.com/media/parts/elemen...  \n",
       "1071529  https://cdn.rebrickable.com/media/parts/elemen...  \n",
       "1071530  https://cdn.rebrickable.com/media/parts/elemen...  "
      ]
     },
     "execution_count": 55,
     "metadata": {},
     "output_type": "execute_result"
    }
   ],
   "source": [
    "inventory_parts_df.loc[(inventory_parts_df['inventory_id'] == 150237) & (inventory_parts_df['is_spare'] == 't')]"
   ]
  },
  {
   "cell_type": "markdown",
   "metadata": {},
   "source": [
    "Create a column that sums all parts together - classic + figures parts."
   ]
  },
  {
   "cell_type": "code",
   "execution_count": 56,
   "metadata": {},
   "outputs": [],
   "source": [
    "inventories_df['total_parts'] = inventories_df['parts'] + inventories_df['fig_parts_sum']"
   ]
  },
  {
   "cell_type": "code",
   "execution_count": 57,
   "metadata": {},
   "outputs": [
    {
     "data": {
      "text/plain": [
       "Index(['inventory_id', 'version', 'set_num', 'max_version', 'parts', 'spares',\n",
       "       'fig_parts_sum', 'fig_count', 'total_parts'],\n",
       "      dtype='object')"
      ]
     },
     "execution_count": 57,
     "metadata": {},
     "output_type": "execute_result"
    }
   ],
   "source": [
    "inventories_df.columns"
   ]
  },
  {
   "cell_type": "markdown",
   "metadata": {},
   "source": [
    "Columns explanation in inventories_df: \\\n",
    "'inventory_id' - inventory id \\\n",
    "'version' - version of set \\\n",
    "'set_num' - set number\\\n",
    "'max_version' - max version of set, used for filter data, no needed, now we analyze only sets with highest possible version\\\n",
    "'parts' - parts count (excluded minifigures parts and spares)\\\n",
    "'spares' - spares count\\\n",
    "'fig_parts_sum' - count of parts for all minifigures added in the set\\\n",
    "'fig_count' - number of minifigures in the set\\\n",
    "'total_parts' - total number of parts (parts + fig_parts_sum), excludes number of spare parts\\\n",
    "Still need to add year of the set to the DataFrame."
   ]
  },
  {
   "cell_type": "code",
   "execution_count": 58,
   "metadata": {},
   "outputs": [
    {
     "data": {
      "text/html": [
       "<div>\n",
       "<style scoped>\n",
       "    .dataframe tbody tr th:only-of-type {\n",
       "        vertical-align: middle;\n",
       "    }\n",
       "\n",
       "    .dataframe tbody tr th {\n",
       "        vertical-align: top;\n",
       "    }\n",
       "\n",
       "    .dataframe thead th {\n",
       "        text-align: right;\n",
       "    }\n",
       "</style>\n",
       "<table border=\"1\" class=\"dataframe\">\n",
       "  <thead>\n",
       "    <tr style=\"text-align: right;\">\n",
       "      <th></th>\n",
       "      <th>set_num</th>\n",
       "      <th>name</th>\n",
       "      <th>year</th>\n",
       "      <th>theme_id</th>\n",
       "      <th>num_parts</th>\n",
       "      <th>img_url</th>\n",
       "    </tr>\n",
       "  </thead>\n",
       "  <tbody>\n",
       "    <tr>\n",
       "      <th>0</th>\n",
       "      <td>0003977811-1</td>\n",
       "      <td>Ninjago: Book of Adventures</td>\n",
       "      <td>2022</td>\n",
       "      <td>761</td>\n",
       "      <td>1</td>\n",
       "      <td>https://cdn.rebrickable.com/media/sets/0003977...</td>\n",
       "    </tr>\n",
       "    <tr>\n",
       "      <th>1</th>\n",
       "      <td>001-1</td>\n",
       "      <td>Gears</td>\n",
       "      <td>1965</td>\n",
       "      <td>756</td>\n",
       "      <td>43</td>\n",
       "      <td>https://cdn.rebrickable.com/media/sets/001-1.jpg</td>\n",
       "    </tr>\n",
       "    <tr>\n",
       "      <th>2</th>\n",
       "      <td>0011-2</td>\n",
       "      <td>Town Mini-Figures</td>\n",
       "      <td>1979</td>\n",
       "      <td>67</td>\n",
       "      <td>12</td>\n",
       "      <td>https://cdn.rebrickable.com/media/sets/0011-2.jpg</td>\n",
       "    </tr>\n",
       "    <tr>\n",
       "      <th>3</th>\n",
       "      <td>0011-3</td>\n",
       "      <td>Castle 2 for 1 Bonus Offer</td>\n",
       "      <td>1987</td>\n",
       "      <td>199</td>\n",
       "      <td>0</td>\n",
       "      <td>https://cdn.rebrickable.com/media/sets/0011-3.jpg</td>\n",
       "    </tr>\n",
       "    <tr>\n",
       "      <th>4</th>\n",
       "      <td>0012-1</td>\n",
       "      <td>Space Mini-Figures</td>\n",
       "      <td>1979</td>\n",
       "      <td>143</td>\n",
       "      <td>12</td>\n",
       "      <td>https://cdn.rebrickable.com/media/sets/0012-1.jpg</td>\n",
       "    </tr>\n",
       "  </tbody>\n",
       "</table>\n",
       "</div>"
      ],
      "text/plain": [
       "        set_num                         name  year  theme_id  num_parts  \\\n",
       "0  0003977811-1  Ninjago: Book of Adventures  2022       761          1   \n",
       "1         001-1                        Gears  1965       756         43   \n",
       "2        0011-2            Town Mini-Figures  1979        67         12   \n",
       "3        0011-3   Castle 2 for 1 Bonus Offer  1987       199          0   \n",
       "4        0012-1           Space Mini-Figures  1979       143         12   \n",
       "\n",
       "                                             img_url  \n",
       "0  https://cdn.rebrickable.com/media/sets/0003977...  \n",
       "1   https://cdn.rebrickable.com/media/sets/001-1.jpg  \n",
       "2  https://cdn.rebrickable.com/media/sets/0011-2.jpg  \n",
       "3  https://cdn.rebrickable.com/media/sets/0011-3.jpg  \n",
       "4  https://cdn.rebrickable.com/media/sets/0012-1.jpg  "
      ]
     },
     "execution_count": 58,
     "metadata": {},
     "output_type": "execute_result"
    }
   ],
   "source": [
    "sets_table.head()"
   ]
  },
  {
   "cell_type": "code",
   "execution_count": 59,
   "metadata": {},
   "outputs": [
    {
     "data": {
      "text/html": [
       "<div>\n",
       "<style scoped>\n",
       "    .dataframe tbody tr th:only-of-type {\n",
       "        vertical-align: middle;\n",
       "    }\n",
       "\n",
       "    .dataframe tbody tr th {\n",
       "        vertical-align: top;\n",
       "    }\n",
       "\n",
       "    .dataframe thead th {\n",
       "        text-align: right;\n",
       "    }\n",
       "</style>\n",
       "<table border=\"1\" class=\"dataframe\">\n",
       "  <thead>\n",
       "    <tr style=\"text-align: right;\">\n",
       "      <th></th>\n",
       "      <th>inventory_id</th>\n",
       "      <th>version</th>\n",
       "      <th>set_num</th>\n",
       "      <th>max_version</th>\n",
       "      <th>parts</th>\n",
       "      <th>spares</th>\n",
       "      <th>fig_parts_sum</th>\n",
       "      <th>fig_count</th>\n",
       "      <th>total_parts</th>\n",
       "    </tr>\n",
       "  </thead>\n",
       "  <tbody>\n",
       "    <tr>\n",
       "      <th>1329</th>\n",
       "      <td>2216</td>\n",
       "      <td>1</td>\n",
       "      <td>0011-3</td>\n",
       "      <td>1</td>\n",
       "      <td>NaN</td>\n",
       "      <td>NaN</td>\n",
       "      <td>NaN</td>\n",
       "      <td>NaN</td>\n",
       "      <td>NaN</td>\n",
       "    </tr>\n",
       "  </tbody>\n",
       "</table>\n",
       "</div>"
      ],
      "text/plain": [
       "      inventory_id  version set_num  max_version  parts  spares  \\\n",
       "1329          2216        1  0011-3            1    NaN     NaN   \n",
       "\n",
       "      fig_parts_sum  fig_count  total_parts  \n",
       "1329            NaN        NaN          NaN  "
      ]
     },
     "execution_count": 59,
     "metadata": {},
     "output_type": "execute_result"
    }
   ],
   "source": [
    "inventories_df[inventories_df['set_num'] == '0011-3']"
   ]
  },
  {
   "cell_type": "code",
   "execution_count": 60,
   "metadata": {},
   "outputs": [
    {
     "data": {
      "text/plain": [
       "38716"
      ]
     },
     "execution_count": 60,
     "metadata": {},
     "output_type": "execute_result"
    }
   ],
   "source": [
    "len(set(inventories_df['set_num']))"
   ]
  },
  {
   "cell_type": "code",
   "execution_count": 61,
   "metadata": {},
   "outputs": [
    {
     "data": {
      "text/plain": [
       "23873"
      ]
     },
     "execution_count": 61,
     "metadata": {},
     "output_type": "execute_result"
    }
   ],
   "source": [
    "len(set(sets_table['set_num']))"
   ]
  },
  {
   "cell_type": "code",
   "execution_count": 62,
   "metadata": {},
   "outputs": [
    {
     "data": {
      "text/plain": [
       "(23873, 9)"
      ]
     },
     "execution_count": 62,
     "metadata": {},
     "output_type": "execute_result"
    }
   ],
   "source": [
    "inventories_df.drop(inventories_df[inventories_df['set_num'].str.match('fig')].index, axis=0, inplace=True)\n",
    "inventories_df.shape"
   ]
  },
  {
   "cell_type": "code",
   "execution_count": 63,
   "metadata": {},
   "outputs": [
    {
     "name": "stdout",
     "output_type": "stream",
     "text": [
      "<class 'pandas.core.frame.DataFrame'>\n",
      "Index: 23873 entries, 0 to 38715\n",
      "Data columns (total 9 columns):\n",
      " #   Column         Non-Null Count  Dtype  \n",
      "---  ------         --------------  -----  \n",
      " 0   inventory_id   23873 non-null  int64  \n",
      " 1   version        23873 non-null  int64  \n",
      " 2   set_num        23873 non-null  object \n",
      " 3   max_version    23873 non-null  int64  \n",
      " 4   parts          17793 non-null  float64\n",
      " 5   spares         17793 non-null  float64\n",
      " 6   fig_parts_sum  8284 non-null   float64\n",
      " 7   fig_count      8284 non-null   float64\n",
      " 8   total_parts    8056 non-null   float64\n",
      "dtypes: float64(5), int64(3), object(1)\n",
      "memory usage: 1.8+ MB\n"
     ]
    }
   ],
   "source": [
    "inventories_df.info()"
   ]
  },
  {
   "cell_type": "code",
   "execution_count": 64,
   "metadata": {},
   "outputs": [
    {
     "name": "stdout",
     "output_type": "stream",
     "text": [
      "<class 'pandas.core.frame.DataFrame'>\n",
      "Index: 23873 entries, 0 to 38715\n",
      "Data columns (total 9 columns):\n",
      " #   Column         Non-Null Count  Dtype  \n",
      "---  ------         --------------  -----  \n",
      " 0   inventory_id   23873 non-null  int64  \n",
      " 1   version        23873 non-null  int64  \n",
      " 2   set_num        23873 non-null  object \n",
      " 3   max_version    23873 non-null  int64  \n",
      " 4   parts          23873 non-null  float64\n",
      " 5   spares         23873 non-null  float64\n",
      " 6   fig_parts_sum  23873 non-null  float64\n",
      " 7   fig_count      23873 non-null  float64\n",
      " 8   total_parts    23873 non-null  float64\n",
      "dtypes: float64(5), int64(3), object(1)\n",
      "memory usage: 1.8+ MB\n"
     ]
    }
   ],
   "source": [
    "inventories_df.fillna(0, inplace=True)\n",
    "inventories_df.info()"
   ]
  },
  {
   "cell_type": "code",
   "execution_count": 65,
   "metadata": {},
   "outputs": [
    {
     "name": "stdout",
     "output_type": "stream",
     "text": [
      "<class 'pandas.core.frame.DataFrame'>\n",
      "Index: 23873 entries, 0 to 38715\n",
      "Data columns (total 9 columns):\n",
      " #   Column         Non-Null Count  Dtype  \n",
      "---  ------         --------------  -----  \n",
      " 0   inventory_id   23873 non-null  int64  \n",
      " 1   version        23873 non-null  int64  \n",
      " 2   set_num        23873 non-null  object \n",
      " 3   max_version    23873 non-null  int64  \n",
      " 4   parts          23873 non-null  float64\n",
      " 5   spares         23873 non-null  float64\n",
      " 6   fig_parts_sum  23873 non-null  float64\n",
      " 7   fig_count      23873 non-null  float64\n",
      " 8   total_parts    23873 non-null  float64\n",
      "dtypes: float64(5), int64(3), object(1)\n",
      "memory usage: 1.8+ MB\n"
     ]
    }
   ],
   "source": [
    "inventories_df['total_parts'] = inventories_df['parts'] + inventories_df['fig_parts_sum']\n",
    "inventories_df.info()"
   ]
  },
  {
   "cell_type": "code",
   "execution_count": 66,
   "metadata": {},
   "outputs": [
    {
     "name": "stdout",
     "output_type": "stream",
     "text": [
      "<class 'pandas.core.frame.DataFrame'>\n",
      "Index: 23873 entries, 0 to 38715\n",
      "Data columns (total 9 columns):\n",
      " #   Column         Non-Null Count  Dtype \n",
      "---  ------         --------------  ----- \n",
      " 0   inventory_id   23873 non-null  int64 \n",
      " 1   version        23873 non-null  int64 \n",
      " 2   set_num        23873 non-null  object\n",
      " 3   max_version    23873 non-null  int64 \n",
      " 4   parts          23873 non-null  int64 \n",
      " 5   spares         23873 non-null  int64 \n",
      " 6   fig_parts_sum  23873 non-null  int64 \n",
      " 7   fig_count      23873 non-null  int64 \n",
      " 8   total_parts    23873 non-null  int64 \n",
      "dtypes: int64(8), object(1)\n",
      "memory usage: 1.8+ MB\n"
     ]
    }
   ],
   "source": [
    "inventories_df['parts'] = inventories_df['parts'].astype('int64')\n",
    "inventories_df['spares'] = inventories_df['spares'].astype('int64')\n",
    "inventories_df['fig_parts_sum'] = inventories_df['fig_parts_sum'].astype('int64')\n",
    "inventories_df['fig_count'] = inventories_df['fig_count'].astype('int64')\n",
    "inventories_df['total_parts'] = inventories_df['total_parts'].astype('int64')\n",
    "inventories_df.info()"
   ]
  },
  {
   "cell_type": "code",
   "execution_count": 67,
   "metadata": {},
   "outputs": [
    {
     "name": "stdout",
     "output_type": "stream",
     "text": [
      "<class 'pandas.core.frame.DataFrame'>\n",
      "Index: 23873 entries, 0 to 38715\n",
      "Data columns (total 8 columns):\n",
      " #   Column         Non-Null Count  Dtype \n",
      "---  ------         --------------  ----- \n",
      " 0   inventory_id   23873 non-null  int64 \n",
      " 1   version        23873 non-null  int64 \n",
      " 2   set_num        23873 non-null  object\n",
      " 3   parts          23873 non-null  int64 \n",
      " 4   spares         23873 non-null  int64 \n",
      " 5   fig_parts_sum  23873 non-null  int64 \n",
      " 6   fig_count      23873 non-null  int64 \n",
      " 7   total_parts    23873 non-null  int64 \n",
      "dtypes: int64(7), object(1)\n",
      "memory usage: 1.6+ MB\n"
     ]
    }
   ],
   "source": [
    "inventories_df.drop(columns=['max_version'], inplace=True)\n",
    "inventories_df.info()"
   ]
  },
  {
   "cell_type": "code",
   "execution_count": 68,
   "metadata": {},
   "outputs": [
    {
     "name": "stdout",
     "output_type": "stream",
     "text": [
      "<class 'pandas.core.frame.DataFrame'>\n",
      "Index: 23873 entries, 0 to 38715\n",
      "Data columns (total 7 columns):\n",
      " #   Column         Non-Null Count  Dtype \n",
      "---  ------         --------------  ----- \n",
      " 0   inventory_id   23873 non-null  int64 \n",
      " 1   set_num        23873 non-null  object\n",
      " 2   parts          23873 non-null  int64 \n",
      " 3   spares         23873 non-null  int64 \n",
      " 4   fig_parts_sum  23873 non-null  int64 \n",
      " 5   fig_count      23873 non-null  int64 \n",
      " 6   total_parts    23873 non-null  int64 \n",
      "dtypes: int64(6), object(1)\n",
      "memory usage: 1.5+ MB\n"
     ]
    }
   ],
   "source": [
    "inventories_df.drop(columns=['version'], inplace=True)\n",
    "inventories_df.info()"
   ]
  },
  {
   "cell_type": "code",
   "execution_count": 69,
   "metadata": {},
   "outputs": [
    {
     "data": {
      "text/html": [
       "<div>\n",
       "<style scoped>\n",
       "    .dataframe tbody tr th:only-of-type {\n",
       "        vertical-align: middle;\n",
       "    }\n",
       "\n",
       "    .dataframe tbody tr th {\n",
       "        vertical-align: top;\n",
       "    }\n",
       "\n",
       "    .dataframe thead th {\n",
       "        text-align: right;\n",
       "    }\n",
       "</style>\n",
       "<table border=\"1\" class=\"dataframe\">\n",
       "  <thead>\n",
       "    <tr style=\"text-align: right;\">\n",
       "      <th></th>\n",
       "      <th>inventory_id</th>\n",
       "      <th>set_num</th>\n",
       "      <th>parts</th>\n",
       "      <th>spares</th>\n",
       "      <th>fig_parts_sum</th>\n",
       "      <th>fig_count</th>\n",
       "      <th>total_parts</th>\n",
       "    </tr>\n",
       "  </thead>\n",
       "  <tbody>\n",
       "    <tr>\n",
       "      <th>0</th>\n",
       "      <td>1</td>\n",
       "      <td>7922-1</td>\n",
       "      <td>5</td>\n",
       "      <td>0</td>\n",
       "      <td>0</td>\n",
       "      <td>0</td>\n",
       "      <td>5</td>\n",
       "    </tr>\n",
       "    <tr>\n",
       "      <th>1</th>\n",
       "      <td>3</td>\n",
       "      <td>3931-1</td>\n",
       "      <td>39</td>\n",
       "      <td>3</td>\n",
       "      <td>4</td>\n",
       "      <td>1</td>\n",
       "      <td>43</td>\n",
       "    </tr>\n",
       "    <tr>\n",
       "      <th>2</th>\n",
       "      <td>4</td>\n",
       "      <td>6942-1</td>\n",
       "      <td>16</td>\n",
       "      <td>1</td>\n",
       "      <td>4</td>\n",
       "      <td>1</td>\n",
       "      <td>20</td>\n",
       "    </tr>\n",
       "    <tr>\n",
       "      <th>3</th>\n",
       "      <td>15</td>\n",
       "      <td>5158-1</td>\n",
       "      <td>2</td>\n",
       "      <td>0</td>\n",
       "      <td>0</td>\n",
       "      <td>0</td>\n",
       "      <td>2</td>\n",
       "    </tr>\n",
       "    <tr>\n",
       "      <th>4</th>\n",
       "      <td>16</td>\n",
       "      <td>903-1</td>\n",
       "      <td>10</td>\n",
       "      <td>0</td>\n",
       "      <td>0</td>\n",
       "      <td>0</td>\n",
       "      <td>10</td>\n",
       "    </tr>\n",
       "  </tbody>\n",
       "</table>\n",
       "</div>"
      ],
      "text/plain": [
       "   inventory_id set_num  parts  spares  fig_parts_sum  fig_count  total_parts\n",
       "0             1  7922-1      5       0              0          0            5\n",
       "1             3  3931-1     39       3              4          1           43\n",
       "2             4  6942-1     16       1              4          1           20\n",
       "3            15  5158-1      2       0              0          0            2\n",
       "4            16   903-1     10       0              0          0           10"
      ]
     },
     "execution_count": 69,
     "metadata": {},
     "output_type": "execute_result"
    }
   ],
   "source": [
    "inventories_df.head()"
   ]
  },
  {
   "cell_type": "code",
   "execution_count": 70,
   "metadata": {},
   "outputs": [
    {
     "data": {
      "text/plain": [
       "<Axes: >"
      ]
     },
     "execution_count": 70,
     "metadata": {},
     "output_type": "execute_result"
    },
    {
     "data": {
      "image/png": "[encoded data removed]",
      "text/plain": [
       "<Figure size 640x480 with 2 Axes>"
      ]
     },
     "metadata": {},
     "output_type": "display_data"
    }
   ],
   "source": [
    "sns.heatmap(inventories_df[['parts', 'spares', 'fig_parts_sum', 'fig_count', 'total_parts']].corr())"
   ]
  },
  {
   "cell_type": "code",
   "execution_count": 71,
   "metadata": {},
   "outputs": [
    {
     "data": {
      "text/plain": [
       "<Axes: xlabel='total_parts', ylabel='spares'>"
      ]
     },
     "execution_count": 71,
     "metadata": {},
     "output_type": "execute_result"
    },
    {
     "data": {
      "image/png": "[encoded data removed]",
      "text/plain": [
       "<Figure size 640x480 with 1 Axes>"
      ]
     },
     "metadata": {},
     "output_type": "display_data"
    }
   ],
   "source": [
    "sns.scatterplot(data=inventories_df, x='total_parts', y='spares')"
   ]
  },
  {
   "cell_type": "code",
   "execution_count": 72,
   "metadata": {},
   "outputs": [
    {
     "data": {
      "text/plain": [
       "fig_count\n",
       "0     15590\n",
       "1      3948\n",
       "2      1572\n",
       "3      1062\n",
       "4       644\n",
       "5       377\n",
       "6       256\n",
       "7       142\n",
       "8       103\n",
       "9        57\n",
       "10       25\n",
       "12       18\n",
       "11       18\n",
       "13       13\n",
       "14        9\n",
       "15        9\n",
       "22        6\n",
       "21        4\n",
       "16        3\n",
       "19        3\n",
       "18        3\n",
       "28        2\n",
       "25        2\n",
       "17        1\n",
       "31        1\n",
       "29        1\n",
       "69        1\n",
       "23        1\n",
       "24        1\n",
       "20        1\n",
       "Name: count, dtype: int64"
      ]
     },
     "execution_count": 72,
     "metadata": {},
     "output_type": "execute_result"
    }
   ],
   "source": [
    "inventories_df['fig_count'].value_counts()"
   ]
  },
  {
   "cell_type": "code",
   "execution_count": 73,
   "metadata": {},
   "outputs": [
    {
     "data": {
      "text/plain": [
       "parts\n",
       "0       6094\n",
       "1        786\n",
       "2        660\n",
       "3        511\n",
       "4        400\n",
       "        ... \n",
       "1127       1\n",
       "2793       1\n",
       "823        1\n",
       "1959       1\n",
       "2365       1\n",
       "Name: count, Length: 1498, dtype: int64"
      ]
     },
     "execution_count": 73,
     "metadata": {},
     "output_type": "execute_result"
    }
   ],
   "source": [
    "inventories_df['parts'].value_counts()"
   ]
  },
  {
   "cell_type": "code",
   "execution_count": 74,
   "metadata": {},
   "outputs": [
    {
     "data": {
      "text/html": [
       "<div>\n",
       "<style scoped>\n",
       "    .dataframe tbody tr th:only-of-type {\n",
       "        vertical-align: middle;\n",
       "    }\n",
       "\n",
       "    .dataframe tbody tr th {\n",
       "        vertical-align: top;\n",
       "    }\n",
       "\n",
       "    .dataframe thead th {\n",
       "        text-align: right;\n",
       "    }\n",
       "</style>\n",
       "<table border=\"1\" class=\"dataframe\">\n",
       "  <thead>\n",
       "    <tr style=\"text-align: right;\">\n",
       "      <th></th>\n",
       "      <th>inventory_id</th>\n",
       "      <th>set_num</th>\n",
       "      <th>parts</th>\n",
       "      <th>spares</th>\n",
       "      <th>fig_parts_sum</th>\n",
       "      <th>fig_count</th>\n",
       "      <th>total_parts</th>\n",
       "    </tr>\n",
       "  </thead>\n",
       "  <tbody>\n",
       "    <tr>\n",
       "      <th>32240</th>\n",
       "      <td>150237</td>\n",
       "      <td>60369-1</td>\n",
       "      <td>188</td>\n",
       "      <td>10</td>\n",
       "      <td>9</td>\n",
       "      <td>2</td>\n",
       "      <td>197</td>\n",
       "    </tr>\n",
       "  </tbody>\n",
       "</table>\n",
       "</div>"
      ],
      "text/plain": [
       "       inventory_id  set_num  parts  spares  fig_parts_sum  fig_count  \\\n",
       "32240        150237  60369-1    188      10              9          2   \n",
       "\n",
       "       total_parts  \n",
       "32240          197  "
      ]
     },
     "execution_count": 74,
     "metadata": {},
     "output_type": "execute_result"
    }
   ],
   "source": [
    "inventories_df.loc[inventories_df['set_num'] == '60369-1'] # tractor : '60287-1' # Mobile Police Dog Training 60369"
   ]
  },
  {
   "cell_type": "code",
   "execution_count": 75,
   "metadata": {},
   "outputs": [
    {
     "data": {
      "text/html": [
       "<div>\n",
       "<style scoped>\n",
       "    .dataframe tbody tr th:only-of-type {\n",
       "        vertical-align: middle;\n",
       "    }\n",
       "\n",
       "    .dataframe tbody tr th {\n",
       "        vertical-align: top;\n",
       "    }\n",
       "\n",
       "    .dataframe thead th {\n",
       "        text-align: right;\n",
       "    }\n",
       "</style>\n",
       "<table border=\"1\" class=\"dataframe\">\n",
       "  <thead>\n",
       "    <tr style=\"text-align: right;\">\n",
       "      <th></th>\n",
       "      <th>inventory_id</th>\n",
       "      <th>set_num</th>\n",
       "      <th>parts</th>\n",
       "      <th>spares</th>\n",
       "      <th>fig_parts_sum</th>\n",
       "      <th>fig_count</th>\n",
       "      <th>total_parts</th>\n",
       "      <th>name</th>\n",
       "      <th>year</th>\n",
       "      <th>theme_id</th>\n",
       "      <th>num_parts</th>\n",
       "      <th>img_url</th>\n",
       "    </tr>\n",
       "  </thead>\n",
       "  <tbody>\n",
       "    <tr>\n",
       "      <th>0</th>\n",
       "      <td>1</td>\n",
       "      <td>7922-1</td>\n",
       "      <td>5</td>\n",
       "      <td>0</td>\n",
       "      <td>0</td>\n",
       "      <td>0</td>\n",
       "      <td>5</td>\n",
       "      <td>McDonald's Sports Set Number 6 - Orange Vest S...</td>\n",
       "      <td>2004</td>\n",
       "      <td>460</td>\n",
       "      <td>5</td>\n",
       "      <td>https://cdn.rebrickable.com/media/sets/7922-1.jpg</td>\n",
       "    </tr>\n",
       "    <tr>\n",
       "      <th>1</th>\n",
       "      <td>3</td>\n",
       "      <td>3931-1</td>\n",
       "      <td>39</td>\n",
       "      <td>3</td>\n",
       "      <td>4</td>\n",
       "      <td>1</td>\n",
       "      <td>43</td>\n",
       "      <td>Emma's Splash Pool</td>\n",
       "      <td>2012</td>\n",
       "      <td>494</td>\n",
       "      <td>43</td>\n",
       "      <td>https://cdn.rebrickable.com/media/sets/3931-1.jpg</td>\n",
       "    </tr>\n",
       "    <tr>\n",
       "      <th>2</th>\n",
       "      <td>4</td>\n",
       "      <td>6942-1</td>\n",
       "      <td>16</td>\n",
       "      <td>1</td>\n",
       "      <td>4</td>\n",
       "      <td>1</td>\n",
       "      <td>20</td>\n",
       "      <td>Zo Weevil</td>\n",
       "      <td>1999</td>\n",
       "      <td>134</td>\n",
       "      <td>20</td>\n",
       "      <td>https://cdn.rebrickable.com/media/sets/6942-1.jpg</td>\n",
       "    </tr>\n",
       "    <tr>\n",
       "      <th>3</th>\n",
       "      <td>15</td>\n",
       "      <td>5158-1</td>\n",
       "      <td>2</td>\n",
       "      <td>0</td>\n",
       "      <td>0</td>\n",
       "      <td>0</td>\n",
       "      <td>2</td>\n",
       "      <td>T-Junction, Circle Plates</td>\n",
       "      <td>1990</td>\n",
       "      <td>443</td>\n",
       "      <td>2</td>\n",
       "      <td>https://cdn.rebrickable.com/media/sets/5158-1.jpg</td>\n",
       "    </tr>\n",
       "    <tr>\n",
       "      <th>4</th>\n",
       "      <td>16</td>\n",
       "      <td>903-1</td>\n",
       "      <td>10</td>\n",
       "      <td>0</td>\n",
       "      <td>0</td>\n",
       "      <td>0</td>\n",
       "      <td>10</td>\n",
       "      <td>Train Wheels and Couplers</td>\n",
       "      <td>1969</td>\n",
       "      <td>371</td>\n",
       "      <td>10</td>\n",
       "      <td>https://cdn.rebrickable.com/media/sets/903-1.jpg</td>\n",
       "    </tr>\n",
       "  </tbody>\n",
       "</table>\n",
       "</div>"
      ],
      "text/plain": [
       "   inventory_id set_num  parts  spares  fig_parts_sum  fig_count  total_parts  \\\n",
       "0             1  7922-1      5       0              0          0            5   \n",
       "1             3  3931-1     39       3              4          1           43   \n",
       "2             4  6942-1     16       1              4          1           20   \n",
       "3            15  5158-1      2       0              0          0            2   \n",
       "4            16   903-1     10       0              0          0           10   \n",
       "\n",
       "                                                name  year  theme_id  \\\n",
       "0  McDonald's Sports Set Number 6 - Orange Vest S...  2004       460   \n",
       "1                                 Emma's Splash Pool  2012       494   \n",
       "2                                          Zo Weevil  1999       134   \n",
       "3                          T-Junction, Circle Plates  1990       443   \n",
       "4                          Train Wheels and Couplers  1969       371   \n",
       "\n",
       "   num_parts                                            img_url  \n",
       "0          5  https://cdn.rebrickable.com/media/sets/7922-1.jpg  \n",
       "1         43  https://cdn.rebrickable.com/media/sets/3931-1.jpg  \n",
       "2         20  https://cdn.rebrickable.com/media/sets/6942-1.jpg  \n",
       "3          2  https://cdn.rebrickable.com/media/sets/5158-1.jpg  \n",
       "4         10   https://cdn.rebrickable.com/media/sets/903-1.jpg  "
      ]
     },
     "execution_count": 75,
     "metadata": {},
     "output_type": "execute_result"
    }
   ],
   "source": [
    "inventories_year_df = inventories_df.merge(sets_table, on='set_num')\n",
    "inventories_year_df.head()"
   ]
  },
  {
   "cell_type": "code",
   "execution_count": 76,
   "metadata": {},
   "outputs": [
    {
     "name": "stdout",
     "output_type": "stream",
     "text": [
      "<class 'pandas.core.frame.DataFrame'>\n",
      "RangeIndex: 23873 entries, 0 to 23872\n",
      "Data columns (total 10 columns):\n",
      " #   Column         Non-Null Count  Dtype \n",
      "---  ------         --------------  ----- \n",
      " 0   inventory_id   23873 non-null  int64 \n",
      " 1   set_num        23873 non-null  object\n",
      " 2   parts          23873 non-null  int64 \n",
      " 3   spares         23873 non-null  int64 \n",
      " 4   fig_parts_sum  23873 non-null  int64 \n",
      " 5   fig_count      23873 non-null  int64 \n",
      " 6   total_parts    23873 non-null  int64 \n",
      " 7   year           23873 non-null  int64 \n",
      " 8   theme_id       23873 non-null  int64 \n",
      " 9   num_parts      23873 non-null  int64 \n",
      "dtypes: int64(9), object(1)\n",
      "memory usage: 1.8+ MB\n"
     ]
    }
   ],
   "source": [
    "inventories_year_df.drop(columns=['name', 'img_url'], inplace=True)\n",
    "inventories_year_df.info()"
   ]
  },
  {
   "cell_type": "code",
   "execution_count": 77,
   "metadata": {},
   "outputs": [],
   "source": [
    "inventories_year_df['diff'] = inventories_year_df['total_parts'] - inventories_year_df['num_parts']"
   ]
  },
  {
   "cell_type": "code",
   "execution_count": 78,
   "metadata": {},
   "outputs": [
    {
     "data": {
      "text/html": [
       "<div>\n",
       "<style scoped>\n",
       "    .dataframe tbody tr th:only-of-type {\n",
       "        vertical-align: middle;\n",
       "    }\n",
       "\n",
       "    .dataframe tbody tr th {\n",
       "        vertical-align: top;\n",
       "    }\n",
       "\n",
       "    .dataframe thead th {\n",
       "        text-align: right;\n",
       "    }\n",
       "</style>\n",
       "<table border=\"1\" class=\"dataframe\">\n",
       "  <thead>\n",
       "    <tr style=\"text-align: right;\">\n",
       "      <th></th>\n",
       "      <th>inventory_id</th>\n",
       "      <th>set_num</th>\n",
       "      <th>parts</th>\n",
       "      <th>spares</th>\n",
       "      <th>fig_parts_sum</th>\n",
       "      <th>fig_count</th>\n",
       "      <th>total_parts</th>\n",
       "      <th>year</th>\n",
       "      <th>theme_id</th>\n",
       "      <th>num_parts</th>\n",
       "      <th>diff</th>\n",
       "    </tr>\n",
       "  </thead>\n",
       "  <tbody>\n",
       "    <tr>\n",
       "      <th>1924</th>\n",
       "      <td>3156</td>\n",
       "      <td>1049-1</td>\n",
       "      <td>238</td>\n",
       "      <td>0</td>\n",
       "      <td>12</td>\n",
       "      <td>1</td>\n",
       "      <td>250</td>\n",
       "      <td>1985</td>\n",
       "      <td>507</td>\n",
       "      <td>238</td>\n",
       "      <td>12</td>\n",
       "    </tr>\n",
       "    <tr>\n",
       "      <th>2123</th>\n",
       "      <td>3484</td>\n",
       "      <td>557-1</td>\n",
       "      <td>721</td>\n",
       "      <td>4</td>\n",
       "      <td>8</td>\n",
       "      <td>2</td>\n",
       "      <td>729</td>\n",
       "      <td>1987</td>\n",
       "      <td>467</td>\n",
       "      <td>721</td>\n",
       "      <td>8</td>\n",
       "    </tr>\n",
       "    <tr>\n",
       "      <th>4063</th>\n",
       "      <td>6813</td>\n",
       "      <td>1589-2</td>\n",
       "      <td>247</td>\n",
       "      <td>4</td>\n",
       "      <td>16</td>\n",
       "      <td>2</td>\n",
       "      <td>263</td>\n",
       "      <td>1986</td>\n",
       "      <td>67</td>\n",
       "      <td>259</td>\n",
       "      <td>4</td>\n",
       "    </tr>\n",
       "    <tr>\n",
       "      <th>4097</th>\n",
       "      <td>6862</td>\n",
       "      <td>70818-1</td>\n",
       "      <td>165</td>\n",
       "      <td>10</td>\n",
       "      <td>32</td>\n",
       "      <td>5</td>\n",
       "      <td>197</td>\n",
       "      <td>2015</td>\n",
       "      <td>578</td>\n",
       "      <td>198</td>\n",
       "      <td>-1</td>\n",
       "    </tr>\n",
       "    <tr>\n",
       "      <th>4717</th>\n",
       "      <td>7901</td>\n",
       "      <td>3548-2</td>\n",
       "      <td>0</td>\n",
       "      <td>0</td>\n",
       "      <td>0</td>\n",
       "      <td>0</td>\n",
       "      <td>0</td>\n",
       "      <td>2003</td>\n",
       "      <td>459</td>\n",
       "      <td>3</td>\n",
       "      <td>-3</td>\n",
       "    </tr>\n",
       "    <tr>\n",
       "      <th>...</th>\n",
       "      <td>...</td>\n",
       "      <td>...</td>\n",
       "      <td>...</td>\n",
       "      <td>...</td>\n",
       "      <td>...</td>\n",
       "      <td>...</td>\n",
       "      <td>...</td>\n",
       "      <td>...</td>\n",
       "      <td>...</td>\n",
       "      <td>...</td>\n",
       "      <td>...</td>\n",
       "    </tr>\n",
       "    <tr>\n",
       "      <th>23107</th>\n",
       "      <td>233589</td>\n",
       "      <td>6527186-1</td>\n",
       "      <td>47</td>\n",
       "      <td>0</td>\n",
       "      <td>5</td>\n",
       "      <td>1</td>\n",
       "      <td>52</td>\n",
       "      <td>2024</td>\n",
       "      <td>749</td>\n",
       "      <td>47</td>\n",
       "      <td>5</td>\n",
       "    </tr>\n",
       "    <tr>\n",
       "      <th>23261</th>\n",
       "      <td>235781</td>\n",
       "      <td>892409-1</td>\n",
       "      <td>5</td>\n",
       "      <td>0</td>\n",
       "      <td>4</td>\n",
       "      <td>1</td>\n",
       "      <td>9</td>\n",
       "      <td>2024</td>\n",
       "      <td>435</td>\n",
       "      <td>5</td>\n",
       "      <td>4</td>\n",
       "    </tr>\n",
       "    <tr>\n",
       "      <th>23507</th>\n",
       "      <td>237019</td>\n",
       "      <td>75022-1</td>\n",
       "      <td>195</td>\n",
       "      <td>7</td>\n",
       "      <td>16</td>\n",
       "      <td>3</td>\n",
       "      <td>211</td>\n",
       "      <td>2013</td>\n",
       "      <td>158</td>\n",
       "      <td>195</td>\n",
       "      <td>16</td>\n",
       "    </tr>\n",
       "    <tr>\n",
       "      <th>23834</th>\n",
       "      <td>240921</td>\n",
       "      <td>9788325344535-1</td>\n",
       "      <td>3</td>\n",
       "      <td>0</td>\n",
       "      <td>5</td>\n",
       "      <td>1</td>\n",
       "      <td>8</td>\n",
       "      <td>2024</td>\n",
       "      <td>761</td>\n",
       "      <td>3</td>\n",
       "      <td>5</td>\n",
       "    </tr>\n",
       "    <tr>\n",
       "      <th>23837</th>\n",
       "      <td>240952</td>\n",
       "      <td>9788325345105-1</td>\n",
       "      <td>19</td>\n",
       "      <td>0</td>\n",
       "      <td>5</td>\n",
       "      <td>1</td>\n",
       "      <td>24</td>\n",
       "      <td>2024</td>\n",
       "      <td>761</td>\n",
       "      <td>19</td>\n",
       "      <td>5</td>\n",
       "    </tr>\n",
       "  </tbody>\n",
       "</table>\n",
       "<p>157 rows × 11 columns</p>\n",
       "</div>"
      ],
      "text/plain": [
       "       inventory_id          set_num  parts  spares  fig_parts_sum  fig_count  \\\n",
       "1924           3156           1049-1    238       0             12          1   \n",
       "2123           3484            557-1    721       4              8          2   \n",
       "4063           6813           1589-2    247       4             16          2   \n",
       "4097           6862          70818-1    165      10             32          5   \n",
       "4717           7901           3548-2      0       0              0          0   \n",
       "...             ...              ...    ...     ...            ...        ...   \n",
       "23107        233589        6527186-1     47       0              5          1   \n",
       "23261        235781         892409-1      5       0              4          1   \n",
       "23507        237019          75022-1    195       7             16          3   \n",
       "23834        240921  9788325344535-1      3       0              5          1   \n",
       "23837        240952  9788325345105-1     19       0              5          1   \n",
       "\n",
       "       total_parts  year  theme_id  num_parts  diff  \n",
       "1924           250  1985       507        238    12  \n",
       "2123           729  1987       467        721     8  \n",
       "4063           263  1986        67        259     4  \n",
       "4097           197  2015       578        198    -1  \n",
       "4717             0  2003       459          3    -3  \n",
       "...            ...   ...       ...        ...   ...  \n",
       "23107           52  2024       749         47     5  \n",
       "23261            9  2024       435          5     4  \n",
       "23507          211  2013       158        195    16  \n",
       "23834            8  2024       761          3     5  \n",
       "23837           24  2024       761         19     5  \n",
       "\n",
       "[157 rows x 11 columns]"
      ]
     },
     "execution_count": 78,
     "metadata": {},
     "output_type": "execute_result"
    }
   ],
   "source": [
    "inventories_year_df[inventories_year_df['diff'] != 0]"
   ]
  },
  {
   "cell_type": "markdown",
   "metadata": {},
   "source": [
    "Need to further analyze carefully differences? Or stick to what I have counted? Or prepare charts for both perspectives? - to think\\\n",
    "Now let's take a look at a chart of mean parts value per set per year. Taking into consideration 'total_parts' columns."
   ]
  },
  {
   "cell_type": "code",
   "execution_count": 79,
   "metadata": {},
   "outputs": [
    {
     "data": {
      "text/html": [
       "<div>\n",
       "<style scoped>\n",
       "    .dataframe tbody tr th:only-of-type {\n",
       "        vertical-align: middle;\n",
       "    }\n",
       "\n",
       "    .dataframe tbody tr th {\n",
       "        vertical-align: top;\n",
       "    }\n",
       "\n",
       "    .dataframe thead th {\n",
       "        text-align: right;\n",
       "    }\n",
       "</style>\n",
       "<table border=\"1\" class=\"dataframe\">\n",
       "  <thead>\n",
       "    <tr style=\"text-align: right;\">\n",
       "      <th></th>\n",
       "      <th>year</th>\n",
       "      <th>set_count</th>\n",
       "      <th>parts_per_set_mean</th>\n",
       "    </tr>\n",
       "  </thead>\n",
       "  <tbody>\n",
       "    <tr>\n",
       "      <th>0</th>\n",
       "      <td>1949</td>\n",
       "      <td>5</td>\n",
       "      <td>99.600000</td>\n",
       "    </tr>\n",
       "    <tr>\n",
       "      <th>1</th>\n",
       "      <td>1950</td>\n",
       "      <td>6</td>\n",
       "      <td>1.000000</td>\n",
       "    </tr>\n",
       "    <tr>\n",
       "      <th>2</th>\n",
       "      <td>1953</td>\n",
       "      <td>4</td>\n",
       "      <td>12.500000</td>\n",
       "    </tr>\n",
       "    <tr>\n",
       "      <th>3</th>\n",
       "      <td>1954</td>\n",
       "      <td>14</td>\n",
       "      <td>8.357143</td>\n",
       "    </tr>\n",
       "    <tr>\n",
       "      <th>4</th>\n",
       "      <td>1955</td>\n",
       "      <td>39</td>\n",
       "      <td>12.205128</td>\n",
       "    </tr>\n",
       "  </tbody>\n",
       "</table>\n",
       "</div>"
      ],
      "text/plain": [
       "   year  set_count  parts_per_set_mean\n",
       "0  1949          5           99.600000\n",
       "1  1950          6            1.000000\n",
       "2  1953          4           12.500000\n",
       "3  1954         14            8.357143\n",
       "4  1955         39           12.205128"
      ]
     },
     "execution_count": 79,
     "metadata": {},
     "output_type": "execute_result"
    }
   ],
   "source": [
    "data_for_chart = (inventories_year_df\n",
    "                      .groupby('year')\n",
    "                      .agg(\n",
    "                          set_count=('total_parts', 'count'), \n",
    "                          parts_per_set_mean=('total_parts', 'mean')\n",
    "                          )\n",
    "                      .reset_index()\n",
    "                      .sort_values(by='year')\n",
    "                 )\n",
    "data_for_chart.head()"
   ]
  },
  {
   "cell_type": "code",
   "execution_count": 80,
   "metadata": {},
   "outputs": [
    {
     "data": {
      "text/html": [
       "<div>\n",
       "<style scoped>\n",
       "    .dataframe tbody tr th:only-of-type {\n",
       "        vertical-align: middle;\n",
       "    }\n",
       "\n",
       "    .dataframe tbody tr th {\n",
       "        vertical-align: top;\n",
       "    }\n",
       "\n",
       "    .dataframe thead th {\n",
       "        text-align: right;\n",
       "    }\n",
       "</style>\n",
       "<table border=\"1\" class=\"dataframe\">\n",
       "  <thead>\n",
       "    <tr style=\"text-align: right;\">\n",
       "      <th></th>\n",
       "      <th>year</th>\n",
       "      <th>set_count</th>\n",
       "      <th>parts_per_set_mean</th>\n",
       "    </tr>\n",
       "  </thead>\n",
       "  <tbody>\n",
       "    <tr>\n",
       "      <th>0</th>\n",
       "      <td>1949</td>\n",
       "      <td>5</td>\n",
       "      <td>99</td>\n",
       "    </tr>\n",
       "    <tr>\n",
       "      <th>1</th>\n",
       "      <td>1950</td>\n",
       "      <td>6</td>\n",
       "      <td>1</td>\n",
       "    </tr>\n",
       "    <tr>\n",
       "      <th>2</th>\n",
       "      <td>1953</td>\n",
       "      <td>4</td>\n",
       "      <td>12</td>\n",
       "    </tr>\n",
       "    <tr>\n",
       "      <th>3</th>\n",
       "      <td>1954</td>\n",
       "      <td>14</td>\n",
       "      <td>8</td>\n",
       "    </tr>\n",
       "    <tr>\n",
       "      <th>4</th>\n",
       "      <td>1955</td>\n",
       "      <td>39</td>\n",
       "      <td>12</td>\n",
       "    </tr>\n",
       "  </tbody>\n",
       "</table>\n",
       "</div>"
      ],
      "text/plain": [
       "   year  set_count  parts_per_set_mean\n",
       "0  1949          5                  99\n",
       "1  1950          6                   1\n",
       "2  1953          4                  12\n",
       "3  1954         14                   8\n",
       "4  1955         39                  12"
      ]
     },
     "execution_count": 80,
     "metadata": {},
     "output_type": "execute_result"
    }
   ],
   "source": [
    "data_for_chart['parts_per_set_mean'] = data_for_chart['parts_per_set_mean'].astype('int64')\n",
    "data_for_chart.head()"
   ]
  },
  {
   "cell_type": "code",
   "execution_count": 81,
   "metadata": {},
   "outputs": [
    {
     "data": {
      "image/png": "[encoded data removed]",
      "text/plain": [
       "<Figure size 1800x700 with 1 Axes>"
      ]
     },
     "metadata": {},
     "output_type": "display_data"
    }
   ],
   "source": [
    "ax = sns.set_style(style=None)\n",
    "fig, ax = plt.subplots(figsize=(18,7))\n",
    "plt.grid(axis='y', alpha=0.5)\n",
    "sns.barplot(data = data_for_chart, x='year', y='parts_per_set_mean', alpha=0.25, ax=ax, palette='hls', width=0.5, order=sets_table_year['year']) \n",
    "ax.tick_params(axis='x', rotation=90)\n",
    "#ax.set_title('Lego sets count per year')\n",
    "#ax.set_ylabel('Lego sets count')\n",
    "#ax.set_xlabel('Year')\n",
    "plt.show()"
   ]
  },
  {
   "cell_type": "code",
   "execution_count": null,
   "metadata": {},
   "outputs": [],
   "source": []
  },
  {
   "cell_type": "markdown",
   "metadata": {},
   "source": [
    "# TODO\n",
    "Now I need to add minifigs to the dataframe."
   ]
  },
  {
   "cell_type": "code",
   "execution_count": 82,
   "metadata": {},
   "outputs": [],
   "source": [
    "# TODO - fix table above -> first groupby inventory_id then merge with figs_quantity + first groupby figs quantity"
   ]
  },
  {
   "cell_type": "code",
   "execution_count": 83,
   "metadata": {},
   "outputs": [
    {
     "data": {
      "text/html": [
       "<div>\n",
       "<style scoped>\n",
       "    .dataframe tbody tr th:only-of-type {\n",
       "        vertical-align: middle;\n",
       "    }\n",
       "\n",
       "    .dataframe tbody tr th {\n",
       "        vertical-align: top;\n",
       "    }\n",
       "\n",
       "    .dataframe thead th {\n",
       "        text-align: right;\n",
       "    }\n",
       "</style>\n",
       "<table border=\"1\" class=\"dataframe\">\n",
       "  <thead>\n",
       "    <tr style=\"text-align: right;\">\n",
       "      <th></th>\n",
       "      <th>id</th>\n",
       "      <th>name</th>\n",
       "    </tr>\n",
       "  </thead>\n",
       "  <tbody>\n",
       "    <tr>\n",
       "      <th>0</th>\n",
       "      <td>1</td>\n",
       "      <td>Baseplates</td>\n",
       "    </tr>\n",
       "    <tr>\n",
       "      <th>1</th>\n",
       "      <td>3</td>\n",
       "      <td>Bricks Sloped</td>\n",
       "    </tr>\n",
       "    <tr>\n",
       "      <th>2</th>\n",
       "      <td>4</td>\n",
       "      <td>Duplo, Quatro and Primo</td>\n",
       "    </tr>\n",
       "    <tr>\n",
       "      <th>3</th>\n",
       "      <td>5</td>\n",
       "      <td>Bricks Special</td>\n",
       "    </tr>\n",
       "    <tr>\n",
       "      <th>4</th>\n",
       "      <td>6</td>\n",
       "      <td>Bricks Wedged</td>\n",
       "    </tr>\n",
       "  </tbody>\n",
       "</table>\n",
       "</div>"
      ],
      "text/plain": [
       "   id                     name\n",
       "0   1               Baseplates\n",
       "1   3            Bricks Sloped\n",
       "2   4  Duplo, Quatro and Primo\n",
       "3   5           Bricks Special\n",
       "4   6            Bricks Wedged"
      ]
     },
     "execution_count": 83,
     "metadata": {},
     "output_type": "execute_result"
    }
   ],
   "source": [
    "part_cat_df = pd.read_csv('data\\part_categories.csv.gz')\n",
    "part_cat_df.head()"
   ]
  },
  {
   "cell_type": "code",
   "execution_count": 84,
   "metadata": {},
   "outputs": [
    {
     "ename": "NameError",
     "evalue": "name 'parts_df' is not defined",
     "output_type": "error",
     "traceback": [
      "\u001b[1;31m---------------------------------------------------------------------------\u001b[0m",
      "\u001b[1;31mNameError\u001b[0m                                 Traceback (most recent call last)",
      "Cell \u001b[1;32mIn[84], line 1\u001b[0m\n\u001b[1;32m----> 1\u001b[0m inventory_parts_df \u001b[38;5;241m=\u001b[39m inventory_parts_df\u001b[38;5;241m.\u001b[39mmerge(parts_df, on\u001b[38;5;241m=\u001b[39m\u001b[38;5;124m'\u001b[39m\u001b[38;5;124mpart_num\u001b[39m\u001b[38;5;124m'\u001b[39m)\n",
      "\u001b[1;31mNameError\u001b[0m: name 'parts_df' is not defined"
     ]
    }
   ],
   "source": [
    "inventory_parts_df = inventory_parts_df.merge(parts_df, on='part_num')"
   ]
  },
  {
   "cell_type": "code",
   "execution_count": null,
   "metadata": {},
   "outputs": [],
   "source": []
  },
  {
   "cell_type": "code",
   "execution_count": null,
   "metadata": {},
   "outputs": [],
   "source": []
  },
  {
   "cell_type": "code",
   "execution_count": null,
   "metadata": {},
   "outputs": [],
   "source": []
  },
  {
   "cell_type": "code",
   "execution_count": null,
   "metadata": {},
   "outputs": [],
   "source": [
    "parts_per_set_year_df_3['difference'] = parts_per_set_year_df_3['Parts_Count'] - parts_per_set_year_df_3['num_parts']"
   ]
  },
  {
   "cell_type": "code",
   "execution_count": null,
   "metadata": {},
   "outputs": [],
   "source": [
    "parts_per_set_year_df_3[parts_per_set_year_df_3['difference'] != 0]"
   ]
  },
  {
   "cell_type": "code",
   "execution_count": null,
   "metadata": {},
   "outputs": [],
   "source": [
    "parts_per_set_year_df_3['difference'].describe()"
   ]
  },
  {
   "cell_type": "code",
   "execution_count": null,
   "metadata": {},
   "outputs": [],
   "source": [
    "ax = sns.set_style(style=None)\n",
    "fig, ax = plt.subplots(figsize=(12,6))\n",
    "plt.grid(axis='y', alpha=0.5)\n",
    "sns.histplot(data = parts_per_set_year_df_3.loc[(parts_per_set_year_df_3['difference'] != 0) & (parts_per_set_year_df_3['num_parts'] != 0)], \\\n",
    "             x='difference', alpha=0.25, ax=ax, palette='hls') \n",
    "ax.set_title('Difference histogram')\n",
    "ax.set_ylabel('Count')\n",
    "ax.set_xlabel('Difference')\n",
    "plt.show()"
   ]
  },
  {
   "cell_type": "code",
   "execution_count": null,
   "metadata": {},
   "outputs": [],
   "source": [
    "parts_per_set_year_df_3.loc[parts_per_set_year_df_3['difference'] == 697]"
   ]
  },
  {
   "cell_type": "code",
   "execution_count": null,
   "metadata": {},
   "outputs": [],
   "source": []
  },
  {
   "cell_type": "code",
   "execution_count": null,
   "metadata": {},
   "outputs": [],
   "source": [
    "parts_per_set_year_df.info()"
   ]
  },
  {
   "cell_type": "code",
   "execution_count": null,
   "metadata": {},
   "outputs": [],
   "source": [
    "np.sort(inventory_parts_df['part_num'].unique())"
   ]
  },
  {
   "cell_type": "code",
   "execution_count": null,
   "metadata": {},
   "outputs": [],
   "source": [
    "parts_per_set_year_df.loc[parts_per_set_year_df['set_num'] == '60287-1', 'quantity'].sum()"
   ]
  },
  {
   "cell_type": "code",
   "execution_count": null,
   "metadata": {},
   "outputs": [],
   "source": [
    "sets_table.loc[sets_table['set_num'] == '60287-1']"
   ]
  },
  {
   "cell_type": "code",
   "execution_count": null,
   "metadata": {},
   "outputs": [],
   "source": [
    "tractor_parts_desc = parts_per_set_year_df.loc[parts_per_set_year_df['set_num'] == '60287-1'].merge(parts_df, on='part_num')\n",
    "tractor_parts_desc"
   ]
  },
  {
   "cell_type": "code",
   "execution_count": null,
   "metadata": {},
   "outputs": [],
   "source": [
    "tractor_parts_desc.drop(columns=['img_url', 'part_material'], inplace=True)\n",
    "tractor_parts_desc.head()"
   ]
  },
  {
   "cell_type": "code",
   "execution_count": null,
   "metadata": {},
   "outputs": [],
   "source": [
    "tractor_parts_desc = tractor_parts_desc.merge(part_cat_df, left_on='part_cat_id', right_on='id')\n",
    "tractor_parts_desc.head()"
   ]
  },
  {
   "cell_type": "code",
   "execution_count": null,
   "metadata": {},
   "outputs": [],
   "source": [
    "tractor_parts_desc.drop(columns=['part_cat_id', 'id'], inplace=True)\n",
    "tractor_parts_desc.rename(columns={'name_x': 'part name', 'name_y': 'part category'}, inplace=True)\n",
    "tractor_parts_desc.head()"
   ]
  },
  {
   "cell_type": "code",
   "execution_count": null,
   "metadata": {},
   "outputs": [],
   "source": [
    "tractor_parts_desc['part category'].unique()"
   ]
  },
  {
   "cell_type": "code",
   "execution_count": null,
   "metadata": {},
   "outputs": [],
   "source": [
    "tractor_parts_desc.loc[tractor_parts_desc['part category'].isin(['Plants and Animals', 'Plates Round Curved and Dishes'])]"
   ]
  },
  {
   "cell_type": "code",
   "execution_count": null,
   "metadata": {},
   "outputs": [],
   "source": [
    "inventory_minifigs_df.loc[inventory_minifigs_df['inventory_id'] == 80991]"
   ]
  },
  {
   "cell_type": "code",
   "execution_count": null,
   "metadata": {},
   "outputs": [],
   "source": []
  },
  {
   "cell_type": "code",
   "execution_count": null,
   "metadata": {},
   "outputs": [],
   "source": []
  },
  {
   "cell_type": "code",
   "execution_count": null,
   "metadata": {},
   "outputs": [],
   "source": [
    "parts_per_set_year_df.loc[(parts_per_set_year_df['set_num'] == '60287-1') & (parts_per_set_year_df['is_spare'] == 't'), 'is_spare'].count()"
   ]
  },
  {
   "cell_type": "code",
   "execution_count": null,
   "metadata": {},
   "outputs": [],
   "source": [
    "sets_table.loc[(sets_table['set_num'] == '60287-1')]"
   ]
  },
  {
   "cell_type": "code",
   "execution_count": null,
   "metadata": {},
   "outputs": [],
   "source": [
    "parts_per_set_year_df.loc[parts_per_set_year_df['set_num'] == '10782-1', 'quantity'].sum()"
   ]
  },
  {
   "cell_type": "code",
   "execution_count": null,
   "metadata": {},
   "outputs": [],
   "source": [
    "parts_per_set_year_df.loc[parts_per_set_year_df['set_num'] == '10782-1']"
   ]
  },
  {
   "cell_type": "code",
   "execution_count": null,
   "metadata": {},
   "outputs": [],
   "source": [
    "sets_table.loc[(sets_table['set_num'] == '10782-1')]"
   ]
  },
  {
   "cell_type": "code",
   "execution_count": null,
   "metadata": {},
   "outputs": [],
   "source": [
    "inventories_df.loc[(inventories_df['set_num'] == '10782-1')]"
   ]
  },
  {
   "cell_type": "code",
   "execution_count": null,
   "metadata": {},
   "outputs": [],
   "source": [
    "parts_per_set_year_df.loc[(parts_per_set_year_df['set_num'] == '10782-1') & (parts_per_set_year_df['is_spare'] == 't')]"
   ]
  },
  {
   "cell_type": "code",
   "execution_count": null,
   "metadata": {},
   "outputs": [],
   "source": []
  },
  {
   "cell_type": "code",
   "execution_count": null,
   "metadata": {},
   "outputs": [],
   "source": [
    "parts_per_set_year_df = parts_per_set_year_df.merge(sets_table, on='set_num')"
   ]
  },
  {
   "cell_type": "code",
   "execution_count": null,
   "metadata": {},
   "outputs": [],
   "source": []
  },
  {
   "cell_type": "code",
   "execution_count": null,
   "metadata": {},
   "outputs": [],
   "source": []
  },
  {
   "cell_type": "code",
   "execution_count": null,
   "metadata": {},
   "outputs": [],
   "source": [
    "parts_per_set_year_df.head()"
   ]
  },
  {
   "cell_type": "code",
   "execution_count": null,
   "metadata": {},
   "outputs": [],
   "source": []
  },
  {
   "cell_type": "code",
   "execution_count": null,
   "metadata": {},
   "outputs": [],
   "source": []
  },
  {
   "cell_type": "markdown",
   "metadata": {},
   "source": [
    "## QUESTION 3:\n",
    "3. Are there any number of parts per set ranges? Like cheaper sets have 0-5 bricks in it or something like this.\n"
   ]
  },
  {
   "cell_type": "code",
   "execution_count": null,
   "metadata": {},
   "outputs": [],
   "source": []
  },
  {
   "cell_type": "code",
   "execution_count": null,
   "metadata": {},
   "outputs": [],
   "source": []
  },
  {
   "cell_type": "markdown",
   "metadata": {},
   "source": [
    "## QUESTION 4:\n",
    "4. Figures: does Lego add now more figures to sets than in 1950? What are most common figures? How the number of figures changes? What are mean per set and total number of figures per year through time?"
   ]
  },
  {
   "cell_type": "markdown",
   "metadata": {},
   "source": [
    "## QUESTION 5:\n",
    "5. What are the 5 most popular colors used in Lego parts?\n"
   ]
  },
  {
   "cell_type": "code",
   "execution_count": null,
   "metadata": {},
   "outputs": [],
   "source": []
  },
  {
   "cell_type": "code",
   "execution_count": null,
   "metadata": {},
   "outputs": [],
   "source": []
  },
  {
   "cell_type": "code",
   "execution_count": null,
   "metadata": {},
   "outputs": [],
   "source": []
  },
  {
   "cell_type": "code",
   "execution_count": null,
   "metadata": {},
   "outputs": [],
   "source": []
  },
  {
   "cell_type": "code",
   "execution_count": null,
   "metadata": {},
   "outputs": [],
   "source": []
  },
  {
   "cell_type": "markdown",
   "metadata": {},
   "source": [
    "## QUESTION 6:\n",
    "6. What proportion of Lego parts are transparent? What are most common transparent bricks? What are top 5 transparent colors? When first transparent bricks were used? What colors became transparent through time?\n",
    "\n"
   ]
  },
  {
   "cell_type": "code",
   "execution_count": null,
   "metadata": {},
   "outputs": [],
   "source": []
  },
  {
   "cell_type": "code",
   "execution_count": null,
   "metadata": {},
   "outputs": [],
   "source": []
  },
  {
   "cell_type": "code",
   "execution_count": null,
   "metadata": {},
   "outputs": [],
   "source": []
  },
  {
   "cell_type": "markdown",
   "metadata": {},
   "source": [
    "## QUESTION 7\n",
    "7. What are the 5 rarest lego bricks?"
   ]
  },
  {
   "cell_type": "markdown",
   "metadata": {},
   "source": [
    "## QUESTION 8:\n",
    "8. What is the proportion of spare parts per set? Did it change through time?\n"
   ]
  },
  {
   "cell_type": "code",
   "execution_count": null,
   "metadata": {},
   "outputs": [],
   "source": []
  },
  {
   "cell_type": "code",
   "execution_count": null,
   "metadata": {},
   "outputs": [],
   "source": []
  },
  {
   "cell_type": "code",
   "execution_count": null,
   "metadata": {},
   "outputs": [],
   "source": []
  },
  {
   "cell_type": "markdown",
   "metadata": {},
   "source": [
    "## QUESTION 9:\n",
    "9. Summarize your findings."
   ]
  },
  {
   "cell_type": "code",
   "execution_count": null,
   "metadata": {},
   "outputs": [],
   "source": []
  },
  {
   "cell_type": "code",
   "execution_count": null,
   "metadata": {},
   "outputs": [],
   "source": []
  },
  {
   "cell_type": "code",
   "execution_count": null,
   "metadata": {},
   "outputs": [],
   "source": []
  }
 ],
 "metadata": {
  "kernelspec": {
   "display_name": "Python 3 (ipykernel)",
   "language": "python",
   "name": "python3"
  },
  "language_info": {
   "codemirror_mode": {
    "name": "ipython",
    "version": 3
   },
   "file_extension": ".py",
   "mimetype": "text/x-python",
   "name": "python",
   "nbconvert_exporter": "python",
   "pygments_lexer": "ipython3",
   "version": "3.11.7"
  }
 },
 "nbformat": 4,
 "nbformat_minor": 4
}

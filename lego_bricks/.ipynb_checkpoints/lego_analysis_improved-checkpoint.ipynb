{
 "cells": [
  {
   "cell_type": "markdown",
   "metadata": {},
   "source": [
    "# Lego Analysis"
   ]
  },
  {
   "cell_type": "markdown",
   "metadata": {},
   "source": [
    "Small analysis of Lego Dataset - mostly to exercise how to combine data and retrieve informations. \\\n",
    "Data from https://rebrickable.com/downloads/\n",
    "## 💪 Challenge\n",
    "Create a report to summarize your findings. Include:\n",
    "\n",
    "1. What is the average number of Lego sets released per year?\n",
    "2. What is the average number of Lego parts per year? Per set per year and total bricks in all sets per year.\n",
    "3. Are there any number of parts per set ranges? Like cheaper sets have 0-5 bricks in it or something like this.\n",
    "4. Figures: does Lego add now more figures to sets than in 1950? What are most common figures? How the number of figures changes? What are mean per set and total number of figures per year through time?\n",
    "5. What are the 5 most popular colors used in Lego parts?\n",
    "6. What proportion of Lego parts are transparent? What are most common transparent bricks? What are top 5 transparent colors? When first transparent bricks were used? What colors became transparent through time?\n",
    "7. What are the 5 rarest lego bricks?\n",
    "8. What is the proportion of spare parts per set? Did it change through time?\n",
    "9. Summarize your findings.\n"
   ]
  },
  {
   "cell_type": "code",
   "execution_count": 1,
   "metadata": {},
   "outputs": [],
   "source": [
    "# import necessary modules\n",
    "import pandas as pd\n",
    "import numpy as np\n",
    "import matplotlib.pyplot as plt\n",
    "import seaborn as sns"
   ]
  },
  {
   "cell_type": "markdown",
   "metadata": {},
   "source": [
    "Prepare colors_table - need to be moved further"
   ]
  },
  {
   "cell_type": "code",
   "execution_count": 2,
   "metadata": {},
   "outputs": [
    {
     "name": "stdout",
     "output_type": "stream",
     "text": [
      "   id            name     rgb is_trans\n",
      "0  -1       [Unknown]  0033B2        f\n",
      "1   0           Black  05131D        f\n",
      "2   1            Blue  0055BF        f\n",
      "3   2           Green  237841        f\n",
      "4   3  Dark Turquoise  008F9B        f\n",
      "shape: (267, 4)\n",
      "unique names: 267\n"
     ]
    }
   ],
   "source": [
    "colors_table = pd.read_csv('data\\colors.csv.gz')\n",
    "print(colors_table.head())\n",
    "print('shape:', colors_table.shape)\n",
    "print('unique names:', colors_table['name'].nunique())"
   ]
  },
  {
   "cell_type": "code",
   "execution_count": 3,
   "metadata": {},
   "outputs": [
    {
     "data": {
      "text/html": [
       "<div>\n",
       "<style scoped>\n",
       "    .dataframe tbody tr th:only-of-type {\n",
       "        vertical-align: middle;\n",
       "    }\n",
       "\n",
       "    .dataframe tbody tr th {\n",
       "        vertical-align: top;\n",
       "    }\n",
       "\n",
       "    .dataframe thead th {\n",
       "        text-align: right;\n",
       "    }\n",
       "</style>\n",
       "<table border=\"1\" class=\"dataframe\">\n",
       "  <thead>\n",
       "    <tr style=\"text-align: right;\">\n",
       "      <th></th>\n",
       "      <th>id</th>\n",
       "      <th>name</th>\n",
       "      <th>rgb</th>\n",
       "      <th>is_trans</th>\n",
       "    </tr>\n",
       "  </thead>\n",
       "  <tbody>\n",
       "    <tr>\n",
       "      <th>0</th>\n",
       "      <td>-1</td>\n",
       "      <td>[Unknown]</td>\n",
       "      <td>0033B2</td>\n",
       "      <td>False</td>\n",
       "    </tr>\n",
       "    <tr>\n",
       "      <th>1</th>\n",
       "      <td>0</td>\n",
       "      <td>Black</td>\n",
       "      <td>05131D</td>\n",
       "      <td>False</td>\n",
       "    </tr>\n",
       "    <tr>\n",
       "      <th>2</th>\n",
       "      <td>1</td>\n",
       "      <td>Blue</td>\n",
       "      <td>0055BF</td>\n",
       "      <td>False</td>\n",
       "    </tr>\n",
       "    <tr>\n",
       "      <th>3</th>\n",
       "      <td>2</td>\n",
       "      <td>Green</td>\n",
       "      <td>237841</td>\n",
       "      <td>False</td>\n",
       "    </tr>\n",
       "    <tr>\n",
       "      <th>4</th>\n",
       "      <td>3</td>\n",
       "      <td>Dark Turquoise</td>\n",
       "      <td>008F9B</td>\n",
       "      <td>False</td>\n",
       "    </tr>\n",
       "  </tbody>\n",
       "</table>\n",
       "</div>"
      ],
      "text/plain": [
       "   id            name     rgb  is_trans\n",
       "0  -1       [Unknown]  0033B2     False\n",
       "1   0           Black  05131D     False\n",
       "2   1            Blue  0055BF     False\n",
       "3   2           Green  237841     False\n",
       "4   3  Dark Turquoise  008F9B     False"
      ]
     },
     "execution_count": 3,
     "metadata": {},
     "output_type": "execute_result"
    }
   ],
   "source": [
    "colors_table['is_trans_2'] = colors_table['is_trans'] == 't'\n",
    "colors_table.drop('is_trans', axis='columns', inplace=True)\n",
    "colors_table.rename(columns={'is_trans_2': 'is_trans'}, inplace=True)\n",
    "colors_table.head()"
   ]
  },
  {
   "cell_type": "code",
   "execution_count": 4,
   "metadata": {},
   "outputs": [
    {
     "name": "stdout",
     "output_type": "stream",
     "text": [
      "unique names: [False  True]\n"
     ]
    }
   ],
   "source": [
    "print('unique names:', colors_table['is_trans'].unique())"
   ]
  },
  {
   "cell_type": "code",
   "execution_count": 13,
   "metadata": {},
   "outputs": [
    {
     "name": "stdout",
     "output_type": "stream",
     "text": [
      "<class 'pandas.core.frame.DataFrame'>\n",
      "RangeIndex: 267 entries, 0 to 266\n",
      "Data columns (total 4 columns):\n",
      " #   Column    Non-Null Count  Dtype \n",
      "---  ------    --------------  ----- \n",
      " 0   id        267 non-null    int64 \n",
      " 1   name      267 non-null    object\n",
      " 2   rgb       267 non-null    object\n",
      " 3   is_trans  267 non-null    bool  \n",
      "dtypes: bool(1), int64(1), object(2)\n",
      "memory usage: 6.6+ KB\n"
     ]
    }
   ],
   "source": [
    "colors_table.info()"
   ]
  },
  {
   "cell_type": "markdown",
   "metadata": {},
   "source": [
    "Prepare elements"
   ]
  },
  {
   "cell_type": "code",
   "execution_count": 8,
   "metadata": {},
   "outputs": [
    {
     "name": "stdout",
     "output_type": "stream",
     "text": [
      "   element_id       part_num  color_id\n",
      "0     6443403  2277c01pr0009         1\n",
      "1     4566309           2564         0\n",
      "2     4275423          53657      1004\n",
      "3     6194308          92926        71\n",
      "4     6229123          26561         4\n",
      "shape: (95282, 3)\n"
     ]
    }
   ],
   "source": [
    "elements_table = pd.read_csv('data\\elements.csv.gz', usecols=[0, 1, 2])\n",
    "print(elements_table.head())\n",
    "print('shape:', elements_table.shape)"
   ]
  },
  {
   "cell_type": "code",
   "execution_count": 9,
   "metadata": {},
   "outputs": [
    {
     "name": "stdout",
     "output_type": "stream",
     "text": [
      "<class 'pandas.core.frame.DataFrame'>\n",
      "RangeIndex: 95282 entries, 0 to 95281\n",
      "Data columns (total 3 columns):\n",
      " #   Column      Non-Null Count  Dtype \n",
      "---  ------      --------------  ----- \n",
      " 0   element_id  95282 non-null  int64 \n",
      " 1   part_num    95282 non-null  object\n",
      " 2   color_id    95282 non-null  int64 \n",
      "dtypes: int64(2), object(1)\n",
      "memory usage: 2.2+ MB\n"
     ]
    }
   ],
   "source": [
    "elements_table.info()"
   ]
  },
  {
   "cell_type": "markdown",
   "metadata": {},
   "source": [
    "## QUESTION 1:\n",
    "1. What is the average number of Lego sets released per year?\n"
   ]
  },
  {
   "cell_type": "code",
   "execution_count": 11,
   "metadata": {},
   "outputs": [
    {
     "data": {
      "text/html": [
       "<div>\n",
       "<style scoped>\n",
       "    .dataframe tbody tr th:only-of-type {\n",
       "        vertical-align: middle;\n",
       "    }\n",
       "\n",
       "    .dataframe tbody tr th {\n",
       "        vertical-align: top;\n",
       "    }\n",
       "\n",
       "    .dataframe thead th {\n",
       "        text-align: right;\n",
       "    }\n",
       "</style>\n",
       "<table border=\"1\" class=\"dataframe\">\n",
       "  <thead>\n",
       "    <tr style=\"text-align: right;\">\n",
       "      <th></th>\n",
       "      <th>set_num</th>\n",
       "      <th>name</th>\n",
       "      <th>year</th>\n",
       "      <th>theme_id</th>\n",
       "      <th>num_parts</th>\n",
       "    </tr>\n",
       "  </thead>\n",
       "  <tbody>\n",
       "    <tr>\n",
       "      <th>0</th>\n",
       "      <td>0003977811-1</td>\n",
       "      <td>Ninjago: Book of Adventures</td>\n",
       "      <td>2022</td>\n",
       "      <td>761</td>\n",
       "      <td>1</td>\n",
       "    </tr>\n",
       "    <tr>\n",
       "      <th>1</th>\n",
       "      <td>001-1</td>\n",
       "      <td>Gears</td>\n",
       "      <td>1965</td>\n",
       "      <td>756</td>\n",
       "      <td>43</td>\n",
       "    </tr>\n",
       "    <tr>\n",
       "      <th>2</th>\n",
       "      <td>0011-2</td>\n",
       "      <td>Town Mini-Figures</td>\n",
       "      <td>1979</td>\n",
       "      <td>67</td>\n",
       "      <td>12</td>\n",
       "    </tr>\n",
       "    <tr>\n",
       "      <th>3</th>\n",
       "      <td>0011-3</td>\n",
       "      <td>Castle 2 for 1 Bonus Offer</td>\n",
       "      <td>1987</td>\n",
       "      <td>199</td>\n",
       "      <td>0</td>\n",
       "    </tr>\n",
       "    <tr>\n",
       "      <th>4</th>\n",
       "      <td>0012-1</td>\n",
       "      <td>Space Mini-Figures</td>\n",
       "      <td>1979</td>\n",
       "      <td>143</td>\n",
       "      <td>12</td>\n",
       "    </tr>\n",
       "  </tbody>\n",
       "</table>\n",
       "</div>"
      ],
      "text/plain": [
       "        set_num                         name  year  theme_id  num_parts\n",
       "0  0003977811-1  Ninjago: Book of Adventures  2022       761          1\n",
       "1         001-1                        Gears  1965       756         43\n",
       "2        0011-2            Town Mini-Figures  1979        67         12\n",
       "3        0011-3   Castle 2 for 1 Bonus Offer  1987       199          0\n",
       "4        0012-1           Space Mini-Figures  1979       143         12"
      ]
     },
     "execution_count": 11,
     "metadata": {},
     "output_type": "execute_result"
    }
   ],
   "source": [
    "sets_table = pd.read_csv('data\\sets.csv.gz', usecols=[0, 1, 2, 3, 4])\n",
    "sets_table.head()"
   ]
  },
  {
   "cell_type": "code",
   "execution_count": 12,
   "metadata": {},
   "outputs": [
    {
     "name": "stdout",
     "output_type": "stream",
     "text": [
      "<class 'pandas.core.frame.DataFrame'>\n",
      "RangeIndex: 23873 entries, 0 to 23872\n",
      "Data columns (total 5 columns):\n",
      " #   Column     Non-Null Count  Dtype \n",
      "---  ------     --------------  ----- \n",
      " 0   set_num    23873 non-null  object\n",
      " 1   name       23873 non-null  object\n",
      " 2   year       23873 non-null  int64 \n",
      " 3   theme_id   23873 non-null  int64 \n",
      " 4   num_parts  23873 non-null  int64 \n",
      "dtypes: int64(3), object(2)\n",
      "memory usage: 932.7+ KB\n"
     ]
    }
   ],
   "source": [
    "sets_table.info()"
   ]
  },
  {
   "cell_type": "code",
   "execution_count": 14,
   "metadata": {},
   "outputs": [
    {
     "data": {
      "text/html": [
       "<div>\n",
       "<style scoped>\n",
       "    .dataframe tbody tr th:only-of-type {\n",
       "        vertical-align: middle;\n",
       "    }\n",
       "\n",
       "    .dataframe tbody tr th {\n",
       "        vertical-align: top;\n",
       "    }\n",
       "\n",
       "    .dataframe thead th {\n",
       "        text-align: right;\n",
       "    }\n",
       "</style>\n",
       "<table border=\"1\" class=\"dataframe\">\n",
       "  <thead>\n",
       "    <tr style=\"text-align: right;\">\n",
       "      <th></th>\n",
       "      <th>set_num</th>\n",
       "      <th>name</th>\n",
       "      <th>year</th>\n",
       "      <th>theme_id</th>\n",
       "      <th>num_parts</th>\n",
       "    </tr>\n",
       "  </thead>\n",
       "  <tbody>\n",
       "    <tr>\n",
       "      <th>7377</th>\n",
       "      <td>421-2</td>\n",
       "      <td>2 eights 2 sixes 2 fours 8 twos 6 ones (The Bu...</td>\n",
       "      <td>1966</td>\n",
       "      <td>371</td>\n",
       "      <td>20</td>\n",
       "    </tr>\n",
       "  </tbody>\n",
       "</table>\n",
       "</div>"
      ],
      "text/plain": [
       "     set_num                                               name  year  \\\n",
       "7377   421-2  2 eights 2 sixes 2 fours 8 twos 6 ones (The Bu...  1966   \n",
       "\n",
       "      theme_id  num_parts  \n",
       "7377       371         20  "
      ]
     },
     "execution_count": 14,
     "metadata": {},
     "output_type": "execute_result"
    }
   ],
   "source": [
    "sets_table[sets_table['set_num'] == '421-2']"
   ]
  },
  {
   "cell_type": "code",
   "execution_count": 15,
   "metadata": {},
   "outputs": [
    {
     "data": {
      "text/plain": [
       "(5876, 5)"
      ]
     },
     "execution_count": 15,
     "metadata": {},
     "output_type": "execute_result"
    }
   ],
   "source": [
    "# more for questions 2 & 3\n",
    "sets_table.loc[sets_table['num_parts'] == 0].shape"
   ]
  },
  {
   "cell_type": "code",
   "execution_count": 11,
   "metadata": {},
   "outputs": [
    {
     "data": {
      "text/plain": [
       "array([    0,     1,     2, ...,  9987, 10001, 11695], dtype=int64)"
      ]
     },
     "execution_count": 11,
     "metadata": {},
     "output_type": "execute_result"
    }
   ],
   "source": [
    "# more for questions 2 & 3\n",
    "np.sort(sets_table['num_parts'].unique())"
   ]
  },
  {
   "cell_type": "code",
   "execution_count": 16,
   "metadata": {},
   "outputs": [
    {
     "data": {
      "text/html": [
       "<div>\n",
       "<style scoped>\n",
       "    .dataframe tbody tr th:only-of-type {\n",
       "        vertical-align: middle;\n",
       "    }\n",
       "\n",
       "    .dataframe tbody tr th {\n",
       "        vertical-align: top;\n",
       "    }\n",
       "\n",
       "    .dataframe thead th {\n",
       "        text-align: right;\n",
       "    }\n",
       "</style>\n",
       "<table border=\"1\" class=\"dataframe\">\n",
       "  <thead>\n",
       "    <tr style=\"text-align: right;\">\n",
       "      <th></th>\n",
       "      <th>year</th>\n",
       "      <th>Count</th>\n",
       "    </tr>\n",
       "  </thead>\n",
       "  <tbody>\n",
       "    <tr>\n",
       "      <th>0</th>\n",
       "      <td>1949</td>\n",
       "      <td>5</td>\n",
       "    </tr>\n",
       "    <tr>\n",
       "      <th>1</th>\n",
       "      <td>1950</td>\n",
       "      <td>6</td>\n",
       "    </tr>\n",
       "    <tr>\n",
       "      <th>2</th>\n",
       "      <td>1953</td>\n",
       "      <td>4</td>\n",
       "    </tr>\n",
       "    <tr>\n",
       "      <th>3</th>\n",
       "      <td>1954</td>\n",
       "      <td>14</td>\n",
       "    </tr>\n",
       "    <tr>\n",
       "      <th>4</th>\n",
       "      <td>1955</td>\n",
       "      <td>39</td>\n",
       "    </tr>\n",
       "    <tr>\n",
       "      <th>...</th>\n",
       "      <td>...</td>\n",
       "      <td>...</td>\n",
       "    </tr>\n",
       "    <tr>\n",
       "      <th>70</th>\n",
       "      <td>2021</td>\n",
       "      <td>1206</td>\n",
       "    </tr>\n",
       "    <tr>\n",
       "      <th>71</th>\n",
       "      <td>2022</td>\n",
       "      <td>1186</td>\n",
       "    </tr>\n",
       "    <tr>\n",
       "      <th>72</th>\n",
       "      <td>2023</td>\n",
       "      <td>1128</td>\n",
       "    </tr>\n",
       "    <tr>\n",
       "      <th>73</th>\n",
       "      <td>2024</td>\n",
       "      <td>1004</td>\n",
       "    </tr>\n",
       "    <tr>\n",
       "      <th>74</th>\n",
       "      <td>2025</td>\n",
       "      <td>14</td>\n",
       "    </tr>\n",
       "  </tbody>\n",
       "</table>\n",
       "<p>75 rows × 2 columns</p>\n",
       "</div>"
      ],
      "text/plain": [
       "    year  Count\n",
       "0   1949      5\n",
       "1   1950      6\n",
       "2   1953      4\n",
       "3   1954     14\n",
       "4   1955     39\n",
       "..   ...    ...\n",
       "70  2021   1206\n",
       "71  2022   1186\n",
       "72  2023   1128\n",
       "73  2024   1004\n",
       "74  2025     14\n",
       "\n",
       "[75 rows x 2 columns]"
      ]
     },
     "execution_count": 16,
     "metadata": {},
     "output_type": "execute_result"
    }
   ],
   "source": [
    "sets_table_year = sets_table.groupby('year').agg(Count=('theme_id', 'count')).sort_values(by='year').reset_index()\n",
    "sets_table_year"
   ]
  },
  {
   "cell_type": "code",
   "execution_count": 17,
   "metadata": {},
   "outputs": [
    {
     "data": {
      "image/png": "[encoded data removed]",
      "text/plain": [
       "<Figure size 1800x700 with 1 Axes>"
      ]
     },
     "metadata": {},
     "output_type": "display_data"
    }
   ],
   "source": [
    "ax = sns.set_style(style=None)\n",
    "fig, ax = plt.subplots(figsize=(18,7))\n",
    "plt.grid(axis='y', alpha=0.5)\n",
    "sns.barplot(data = sets_table_year, x='year', y='Count', alpha=0.25, ax=ax, palette='hls', width=0.5, order=sets_table_year['year']) \n",
    "ax.tick_params(axis='x', rotation=90)\n",
    "ax.set_title('Lego sets count per year')\n",
    "ax.set_ylabel('Lego sets count')\n",
    "ax.set_xlabel('Year')\n",
    "plt.show()"
   ]
  },
  {
   "cell_type": "code",
   "execution_count": 18,
   "metadata": {},
   "outputs": [
    {
     "data": {
      "text/html": [
       "<div>\n",
       "<style scoped>\n",
       "    .dataframe tbody tr th:only-of-type {\n",
       "        vertical-align: middle;\n",
       "    }\n",
       "\n",
       "    .dataframe tbody tr th {\n",
       "        vertical-align: top;\n",
       "    }\n",
       "\n",
       "    .dataframe thead th {\n",
       "        text-align: right;\n",
       "    }\n",
       "</style>\n",
       "<table border=\"1\" class=\"dataframe\">\n",
       "  <thead>\n",
       "    <tr style=\"text-align: right;\">\n",
       "      <th></th>\n",
       "      <th>year</th>\n",
       "      <th>Count</th>\n",
       "      <th>decade</th>\n",
       "    </tr>\n",
       "  </thead>\n",
       "  <tbody>\n",
       "    <tr>\n",
       "      <th>0</th>\n",
       "      <td>1949</td>\n",
       "      <td>5</td>\n",
       "      <td>1950</td>\n",
       "    </tr>\n",
       "    <tr>\n",
       "      <th>1</th>\n",
       "      <td>1950</td>\n",
       "      <td>6</td>\n",
       "      <td>1950</td>\n",
       "    </tr>\n",
       "    <tr>\n",
       "      <th>2</th>\n",
       "      <td>1953</td>\n",
       "      <td>4</td>\n",
       "      <td>1950</td>\n",
       "    </tr>\n",
       "    <tr>\n",
       "      <th>3</th>\n",
       "      <td>1954</td>\n",
       "      <td>14</td>\n",
       "      <td>1950</td>\n",
       "    </tr>\n",
       "    <tr>\n",
       "      <th>4</th>\n",
       "      <td>1955</td>\n",
       "      <td>39</td>\n",
       "      <td>1950</td>\n",
       "    </tr>\n",
       "  </tbody>\n",
       "</table>\n",
       "</div>"
      ],
      "text/plain": [
       "   year  Count decade\n",
       "0  1949      5   1950\n",
       "1  1950      6   1950\n",
       "2  1953      4   1950\n",
       "3  1954     14   1950\n",
       "4  1955     39   1950"
      ]
     },
     "execution_count": 18,
     "metadata": {},
     "output_type": "execute_result"
    }
   ],
   "source": [
    "decades_ranges = [0, 1960, 1970, 1980, 1990, 2000, 2010, 2020, np.inf]\n",
    "decades_names = [x for x in range(1950, 2030, 10)]\n",
    "sets_table_year['decade'] = pd.cut(sets_table_year['year'], bins=decades_ranges, labels=decades_names)\n",
    "sets_table_year.head()"
   ]
  },
  {
   "cell_type": "code",
   "execution_count": 19,
   "metadata": {},
   "outputs": [
    {
     "data": {
      "text/plain": [
       "[1950, 1960, 1970, 1980, 1990, 2000, 2010, 2020]\n",
       "Categories (8, int64): [1950 < 1960 < 1970 < 1980 < 1990 < 2000 < 2010 < 2020]"
      ]
     },
     "execution_count": 19,
     "metadata": {},
     "output_type": "execute_result"
    }
   ],
   "source": [
    "sets_table_year['decade'].unique()"
   ]
  },
  {
   "cell_type": "code",
   "execution_count": 21,
   "metadata": {},
   "outputs": [
    {
     "name": "stderr",
     "output_type": "stream",
     "text": [
      "C:\\Users\\Dom\\AppData\\Local\\Temp\\ipykernel_22428\\1817340300.py:1: FutureWarning: The default of observed=False is deprecated and will be changed to True in a future version of pandas. Pass observed=False to retain current behavior or observed=True to adopt the future default and silence this warning.\n",
      "  sets_tables_decade = sets_table_year.groupby('decade').agg(Count=('Count', 'sum')).reset_index().sort_values(by='decade')\n"
     ]
    },
    {
     "data": {
      "text/html": [
       "<div>\n",
       "<style scoped>\n",
       "    .dataframe tbody tr th:only-of-type {\n",
       "        vertical-align: middle;\n",
       "    }\n",
       "\n",
       "    .dataframe tbody tr th {\n",
       "        vertical-align: top;\n",
       "    }\n",
       "\n",
       "    .dataframe thead th {\n",
       "        text-align: right;\n",
       "    }\n",
       "</style>\n",
       "<table border=\"1\" class=\"dataframe\">\n",
       "  <thead>\n",
       "    <tr style=\"text-align: right;\">\n",
       "      <th></th>\n",
       "      <th>decade</th>\n",
       "      <th>Count</th>\n",
       "    </tr>\n",
       "  </thead>\n",
       "  <tbody>\n",
       "    <tr>\n",
       "      <th>0</th>\n",
       "      <td>1950</td>\n",
       "      <td>182</td>\n",
       "    </tr>\n",
       "    <tr>\n",
       "      <th>1</th>\n",
       "      <td>1960</td>\n",
       "      <td>465</td>\n",
       "    </tr>\n",
       "    <tr>\n",
       "      <th>2</th>\n",
       "      <td>1970</td>\n",
       "      <td>720</td>\n",
       "    </tr>\n",
       "    <tr>\n",
       "      <th>3</th>\n",
       "      <td>1980</td>\n",
       "      <td>1257</td>\n",
       "    </tr>\n",
       "    <tr>\n",
       "      <th>4</th>\n",
       "      <td>1990</td>\n",
       "      <td>2468</td>\n",
       "    </tr>\n",
       "    <tr>\n",
       "      <th>5</th>\n",
       "      <td>2000</td>\n",
       "      <td>4884</td>\n",
       "    </tr>\n",
       "    <tr>\n",
       "      <th>6</th>\n",
       "      <td>2010</td>\n",
       "      <td>9359</td>\n",
       "    </tr>\n",
       "    <tr>\n",
       "      <th>7</th>\n",
       "      <td>2020</td>\n",
       "      <td>4538</td>\n",
       "    </tr>\n",
       "  </tbody>\n",
       "</table>\n",
       "</div>"
      ],
      "text/plain": [
       "   decade  Count\n",
       "0    1950    182\n",
       "1    1960    465\n",
       "2    1970    720\n",
       "3    1980   1257\n",
       "4    1990   2468\n",
       "5    2000   4884\n",
       "6    2010   9359\n",
       "7    2020   4538"
      ]
     },
     "execution_count": 21,
     "metadata": {},
     "output_type": "execute_result"
    }
   ],
   "source": [
    "sets_tables_decade = sets_table_year.groupby('decade').agg(Count=('Count', 'sum')).reset_index().sort_values(by='decade')\n",
    "sets_tables_decade['decade'] = sets_tables_decade['decade'].astype(int)\n",
    "sets_tables_decade"
   ]
  },
  {
   "cell_type": "code",
   "execution_count": 22,
   "metadata": {},
   "outputs": [],
   "source": [
    "sets_tables_decade['Avg'] = sets_tables_decade['Count'] / 10\n",
    "sets_tables_decade.loc[sets_tables_decade['decade'] == 1950, 'Avg'] = sets_tables_decade.loc[sets_tables_decade['decade'] == 1950, 'Count'] / 11\n",
    "sets_tables_decade.loc[sets_tables_decade['decade'] == 2020, 'Avg'] = sets_tables_decade.loc[sets_tables_decade['decade'] == 2020, 'Count'] / 5"
   ]
  },
  {
   "cell_type": "code",
   "execution_count": 23,
   "metadata": {},
   "outputs": [
    {
     "data": {
      "image/png": "[encoded data removed]",
      "text/plain": [
       "<Figure size 1200x600 with 1 Axes>"
      ]
     },
     "metadata": {},
     "output_type": "display_data"
    }
   ],
   "source": [
    "ax = sns.set_style(style=None)\n",
    "fig, ax = plt.subplots(figsize=(12,6))\n",
    "plt.grid(axis='y', alpha=0.5)\n",
    "sns.barplot(data = sets_tables_decade, x='decade', y='Avg', alpha=0.25, ax=ax, palette='hls', width=0.5, order=sets_tables_decade['decade']) \n",
    "ax.tick_params(axis='x', rotation=90)\n",
    "ax.set_title('Yearly number of sets average in each decade')\n",
    "ax.set_ylabel('Average Lego sets count per year')\n",
    "ax.set_xlabel('Decade')\n",
    "plt.show()"
   ]
  },
  {
   "cell_type": "code",
   "execution_count": 24,
   "metadata": {},
   "outputs": [
    {
     "name": "stdout",
     "output_type": "stream",
     "text": [
      "Average number of Lego sets per year is: 318\n"
     ]
    }
   ],
   "source": [
    "print('Average number of Lego sets per year is:', int(sets_table_year['Count'].mean()))"
   ]
  },
  {
   "cell_type": "markdown",
   "metadata": {},
   "source": [
    "Above are shown charts telling story how Lego has expanded through years - the company now produces more Lego sets per year than ever before, and it looks like it is still growing. But, to answet the question, as for now mean number of new Lego sets per year is 318."
   ]
  },
  {
   "cell_type": "markdown",
   "metadata": {},
   "source": [
    "## QUESTION 2:\n",
    "2. What is the average number of Lego parts per year? Per set per year and total bricks in all sets per year.\n"
   ]
  },
  {
   "cell_type": "code",
   "execution_count": 5,
   "metadata": {},
   "outputs": [
    {
     "data": {
      "text/html": [
       "<div>\n",
       "<style scoped>\n",
       "    .dataframe tbody tr th:only-of-type {\n",
       "        vertical-align: middle;\n",
       "    }\n",
       "\n",
       "    .dataframe tbody tr th {\n",
       "        vertical-align: top;\n",
       "    }\n",
       "\n",
       "    .dataframe thead th {\n",
       "        text-align: right;\n",
       "    }\n",
       "</style>\n",
       "<table border=\"1\" class=\"dataframe\">\n",
       "  <thead>\n",
       "    <tr style=\"text-align: right;\">\n",
       "      <th></th>\n",
       "      <th>id</th>\n",
       "      <th>version</th>\n",
       "      <th>set_num</th>\n",
       "    </tr>\n",
       "  </thead>\n",
       "  <tbody>\n",
       "    <tr>\n",
       "      <th>0</th>\n",
       "      <td>1</td>\n",
       "      <td>1</td>\n",
       "      <td>7922-1</td>\n",
       "    </tr>\n",
       "    <tr>\n",
       "      <th>1</th>\n",
       "      <td>3</td>\n",
       "      <td>1</td>\n",
       "      <td>3931-1</td>\n",
       "    </tr>\n",
       "    <tr>\n",
       "      <th>2</th>\n",
       "      <td>4</td>\n",
       "      <td>1</td>\n",
       "      <td>6942-1</td>\n",
       "    </tr>\n",
       "    <tr>\n",
       "      <th>3</th>\n",
       "      <td>15</td>\n",
       "      <td>1</td>\n",
       "      <td>5158-1</td>\n",
       "    </tr>\n",
       "    <tr>\n",
       "      <th>4</th>\n",
       "      <td>16</td>\n",
       "      <td>1</td>\n",
       "      <td>903-1</td>\n",
       "    </tr>\n",
       "  </tbody>\n",
       "</table>\n",
       "</div>"
      ],
      "text/plain": [
       "   id  version set_num\n",
       "0   1        1  7922-1\n",
       "1   3        1  3931-1\n",
       "2   4        1  6942-1\n",
       "3  15        1  5158-1\n",
       "4  16        1   903-1"
      ]
     },
     "execution_count": 5,
     "metadata": {},
     "output_type": "execute_result"
    }
   ],
   "source": [
    "inventories_df = pd.read_csv('data\\inventories.csv.gz')\n",
    "inventories_df.head()"
   ]
  },
  {
   "cell_type": "code",
   "execution_count": 6,
   "metadata": {},
   "outputs": [
    {
     "name": "stdout",
     "output_type": "stream",
     "text": [
      "<class 'pandas.core.frame.DataFrame'>\n",
      "RangeIndex: 40462 entries, 0 to 40461\n",
      "Data columns (total 3 columns):\n",
      " #   Column   Non-Null Count  Dtype \n",
      "---  ------   --------------  ----- \n",
      " 0   id       40462 non-null  int64 \n",
      " 1   version  40462 non-null  int64 \n",
      " 2   set_num  40462 non-null  object\n",
      "dtypes: int64(2), object(1)\n",
      "memory usage: 948.5+ KB\n"
     ]
    }
   ],
   "source": [
    "inventories_df.info()"
   ]
  },
  {
   "cell_type": "code",
   "execution_count": 7,
   "metadata": {},
   "outputs": [
    {
     "data": {
      "text/html": [
       "<div>\n",
       "<style scoped>\n",
       "    .dataframe tbody tr th:only-of-type {\n",
       "        vertical-align: middle;\n",
       "    }\n",
       "\n",
       "    .dataframe tbody tr th {\n",
       "        vertical-align: top;\n",
       "    }\n",
       "\n",
       "    .dataframe thead th {\n",
       "        text-align: right;\n",
       "    }\n",
       "</style>\n",
       "<table border=\"1\" class=\"dataframe\">\n",
       "  <thead>\n",
       "    <tr style=\"text-align: right;\">\n",
       "      <th></th>\n",
       "      <th>id</th>\n",
       "      <th>version</th>\n",
       "      <th>set_num</th>\n",
       "    </tr>\n",
       "  </thead>\n",
       "  <tbody>\n",
       "    <tr>\n",
       "      <th>10601</th>\n",
       "      <td>16490</td>\n",
       "      <td>2</td>\n",
       "      <td>6515-1</td>\n",
       "    </tr>\n",
       "    <tr>\n",
       "      <th>10659</th>\n",
       "      <td>16878</td>\n",
       "      <td>2</td>\n",
       "      <td>8030-1</td>\n",
       "    </tr>\n",
       "    <tr>\n",
       "      <th>10742</th>\n",
       "      <td>17793</td>\n",
       "      <td>2</td>\n",
       "      <td>76081-1</td>\n",
       "    </tr>\n",
       "    <tr>\n",
       "      <th>10743</th>\n",
       "      <td>17799</td>\n",
       "      <td>2</td>\n",
       "      <td>214.6-1</td>\n",
       "    </tr>\n",
       "    <tr>\n",
       "      <th>10747</th>\n",
       "      <td>17848</td>\n",
       "      <td>2</td>\n",
       "      <td>421-2</td>\n",
       "    </tr>\n",
       "  </tbody>\n",
       "</table>\n",
       "</div>"
      ],
      "text/plain": [
       "          id  version  set_num\n",
       "10601  16490        2   6515-1\n",
       "10659  16878        2   8030-1\n",
       "10742  17793        2  76081-1\n",
       "10743  17799        2  214.6-1\n",
       "10747  17848        2    421-2"
      ]
     },
     "execution_count": 7,
     "metadata": {},
     "output_type": "execute_result"
    }
   ],
   "source": [
    "inventories_df.loc[inventories_df['version'] != 1].head()"
   ]
  },
  {
   "cell_type": "code",
   "execution_count": 22,
   "metadata": {},
   "outputs": [
    {
     "data": {
      "text/html": [
       "<div>\n",
       "<style scoped>\n",
       "    .dataframe tbody tr th:only-of-type {\n",
       "        vertical-align: middle;\n",
       "    }\n",
       "\n",
       "    .dataframe tbody tr th {\n",
       "        vertical-align: top;\n",
       "    }\n",
       "\n",
       "    .dataframe thead th {\n",
       "        text-align: right;\n",
       "    }\n",
       "</style>\n",
       "<table border=\"1\" class=\"dataframe\">\n",
       "  <thead>\n",
       "    <tr style=\"text-align: right;\">\n",
       "      <th></th>\n",
       "      <th>id</th>\n",
       "      <th>version</th>\n",
       "      <th>set_num</th>\n",
       "    </tr>\n",
       "  </thead>\n",
       "  <tbody>\n",
       "    <tr>\n",
       "      <th>9138</th>\n",
       "      <td>14143</td>\n",
       "      <td>1</td>\n",
       "      <td>421-2</td>\n",
       "    </tr>\n",
       "  </tbody>\n",
       "</table>\n",
       "</div>"
      ],
      "text/plain": [
       "         id  version set_num\n",
       "9138  14143        1   421-2"
      ]
     },
     "execution_count": 22,
     "metadata": {},
     "output_type": "execute_result"
    }
   ],
   "source": [
    "inventories_df.loc[np.logical_and(inventories_df['version'] == 1, inventories_df['set_num'] == '421-2')].head()"
   ]
  },
  {
   "cell_type": "code",
   "execution_count": 8,
   "metadata": {},
   "outputs": [],
   "source": [
    "multiple_versions_sets = inventories_df.loc[inventories_df.duplicated(subset=['set_num'], keep=False), 'set_num'].unique()"
   ]
  },
  {
   "cell_type": "code",
   "execution_count": 9,
   "metadata": {},
   "outputs": [
    {
     "data": {
      "text/plain": [
       "1122"
      ]
     },
     "execution_count": 9,
     "metadata": {},
     "output_type": "execute_result"
    }
   ],
   "source": [
    "len(multiple_versions_sets)"
   ]
  },
  {
   "cell_type": "code",
   "execution_count": 23,
   "metadata": {},
   "outputs": [],
   "source": [
    "inventories_df.rename(columns={'id': 'inventory_id'}, inplace=True)"
   ]
  },
  {
   "cell_type": "code",
   "execution_count": 24,
   "metadata": {},
   "outputs": [
    {
     "data": {
      "text/html": [
       "<div>\n",
       "<style scoped>\n",
       "    .dataframe tbody tr th:only-of-type {\n",
       "        vertical-align: middle;\n",
       "    }\n",
       "\n",
       "    .dataframe tbody tr th {\n",
       "        vertical-align: top;\n",
       "    }\n",
       "\n",
       "    .dataframe thead th {\n",
       "        text-align: right;\n",
       "    }\n",
       "</style>\n",
       "<table border=\"1\" class=\"dataframe\">\n",
       "  <thead>\n",
       "    <tr style=\"text-align: right;\">\n",
       "      <th></th>\n",
       "      <th>inventory_id</th>\n",
       "      <th>part_num</th>\n",
       "      <th>color_id</th>\n",
       "      <th>quantity</th>\n",
       "      <th>is_spare</th>\n",
       "      <th>img_url</th>\n",
       "    </tr>\n",
       "  </thead>\n",
       "  <tbody>\n",
       "    <tr>\n",
       "      <th>0</th>\n",
       "      <td>1</td>\n",
       "      <td>48379c04</td>\n",
       "      <td>72</td>\n",
       "      <td>1</td>\n",
       "      <td>f</td>\n",
       "      <td>https://cdn.rebrickable.com/media/parts/photos...</td>\n",
       "    </tr>\n",
       "    <tr>\n",
       "      <th>1</th>\n",
       "      <td>1</td>\n",
       "      <td>48391</td>\n",
       "      <td>0</td>\n",
       "      <td>1</td>\n",
       "      <td>f</td>\n",
       "      <td>https://cdn.rebrickable.com/media/parts/photos...</td>\n",
       "    </tr>\n",
       "    <tr>\n",
       "      <th>2</th>\n",
       "      <td>1</td>\n",
       "      <td>48395</td>\n",
       "      <td>7</td>\n",
       "      <td>1</td>\n",
       "      <td>f</td>\n",
       "      <td>https://cdn.rebrickable.com/media/parts/photos...</td>\n",
       "    </tr>\n",
       "    <tr>\n",
       "      <th>3</th>\n",
       "      <td>1</td>\n",
       "      <td>48864c01</td>\n",
       "      <td>25</td>\n",
       "      <td>1</td>\n",
       "      <td>f</td>\n",
       "      <td>NaN</td>\n",
       "    </tr>\n",
       "    <tr>\n",
       "      <th>4</th>\n",
       "      <td>1</td>\n",
       "      <td>stickerupn0077</td>\n",
       "      <td>9999</td>\n",
       "      <td>1</td>\n",
       "      <td>f</td>\n",
       "      <td>NaN</td>\n",
       "    </tr>\n",
       "  </tbody>\n",
       "</table>\n",
       "</div>"
      ],
      "text/plain": [
       "   inventory_id        part_num  color_id  quantity is_spare  \\\n",
       "0             1        48379c04        72         1        f   \n",
       "1             1           48391         0         1        f   \n",
       "2             1           48395         7         1        f   \n",
       "3             1        48864c01        25         1        f   \n",
       "4             1  stickerupn0077      9999         1        f   \n",
       "\n",
       "                                             img_url  \n",
       "0  https://cdn.rebrickable.com/media/parts/photos...  \n",
       "1  https://cdn.rebrickable.com/media/parts/photos...  \n",
       "2  https://cdn.rebrickable.com/media/parts/photos...  \n",
       "3                                                NaN  \n",
       "4                                                NaN  "
      ]
     },
     "execution_count": 24,
     "metadata": {},
     "output_type": "execute_result"
    }
   ],
   "source": [
    "inventory_parts_df = pd.read_csv('data\\inventory_parts.csv.gz')\n",
    "inventory_parts_df.head()"
   ]
  },
  {
   "cell_type": "code",
   "execution_count": 25,
   "metadata": {},
   "outputs": [
    {
     "name": "stdout",
     "output_type": "stream",
     "text": [
      "<class 'pandas.core.frame.DataFrame'>\n",
      "RangeIndex: 1286599 entries, 0 to 1286598\n",
      "Data columns (total 6 columns):\n",
      " #   Column        Non-Null Count    Dtype \n",
      "---  ------        --------------    ----- \n",
      " 0   inventory_id  1286599 non-null  int64 \n",
      " 1   part_num      1286599 non-null  object\n",
      " 2   color_id      1286599 non-null  int64 \n",
      " 3   quantity      1286599 non-null  int64 \n",
      " 4   is_spare      1286599 non-null  object\n",
      " 5   img_url       1279381 non-null  object\n",
      "dtypes: int64(3), object(3)\n",
      "memory usage: 58.9+ MB\n"
     ]
    }
   ],
   "source": [
    "inventory_parts_df.info()"
   ]
  },
  {
   "cell_type": "markdown",
   "metadata": {},
   "source": [
    "Check on same set num 421-2 if in different versions if there is any difference in parts count."
   ]
  },
  {
   "cell_type": "code",
   "execution_count": 26,
   "metadata": {},
   "outputs": [
    {
     "data": {
      "text/html": [
       "<div>\n",
       "<style scoped>\n",
       "    .dataframe tbody tr th:only-of-type {\n",
       "        vertical-align: middle;\n",
       "    }\n",
       "\n",
       "    .dataframe tbody tr th {\n",
       "        vertical-align: top;\n",
       "    }\n",
       "\n",
       "    .dataframe thead th {\n",
       "        text-align: right;\n",
       "    }\n",
       "</style>\n",
       "<table border=\"1\" class=\"dataframe\">\n",
       "  <thead>\n",
       "    <tr style=\"text-align: right;\">\n",
       "      <th></th>\n",
       "      <th>inventory_id</th>\n",
       "      <th>part_num</th>\n",
       "      <th>color_id</th>\n",
       "      <th>quantity</th>\n",
       "      <th>is_spare</th>\n",
       "      <th>img_url</th>\n",
       "    </tr>\n",
       "  </thead>\n",
       "  <tbody>\n",
       "    <tr>\n",
       "      <th>532889</th>\n",
       "      <td>17848</td>\n",
       "      <td>3004</td>\n",
       "      <td>4</td>\n",
       "      <td>8</td>\n",
       "      <td>f</td>\n",
       "      <td>https://cdn.rebrickable.com/media/parts/elemen...</td>\n",
       "    </tr>\n",
       "    <tr>\n",
       "      <th>532890</th>\n",
       "      <td>17848</td>\n",
       "      <td>3005</td>\n",
       "      <td>4</td>\n",
       "      <td>6</td>\n",
       "      <td>f</td>\n",
       "      <td>https://cdn.rebrickable.com/media/parts/elemen...</td>\n",
       "    </tr>\n",
       "    <tr>\n",
       "      <th>532891</th>\n",
       "      <td>17848</td>\n",
       "      <td>3008</td>\n",
       "      <td>4</td>\n",
       "      <td>2</td>\n",
       "      <td>f</td>\n",
       "      <td>https://cdn.rebrickable.com/media/parts/elemen...</td>\n",
       "    </tr>\n",
       "    <tr>\n",
       "      <th>532892</th>\n",
       "      <td>17848</td>\n",
       "      <td>3009</td>\n",
       "      <td>4</td>\n",
       "      <td>2</td>\n",
       "      <td>f</td>\n",
       "      <td>https://cdn.rebrickable.com/media/parts/elemen...</td>\n",
       "    </tr>\n",
       "    <tr>\n",
       "      <th>532893</th>\n",
       "      <td>17848</td>\n",
       "      <td>3010</td>\n",
       "      <td>4</td>\n",
       "      <td>2</td>\n",
       "      <td>f</td>\n",
       "      <td>https://cdn.rebrickable.com/media/parts/elemen...</td>\n",
       "    </tr>\n",
       "  </tbody>\n",
       "</table>\n",
       "</div>"
      ],
      "text/plain": [
       "        inventory_id part_num  color_id  quantity is_spare  \\\n",
       "532889         17848     3004         4         8        f   \n",
       "532890         17848     3005         4         6        f   \n",
       "532891         17848     3008         4         2        f   \n",
       "532892         17848     3009         4         2        f   \n",
       "532893         17848     3010         4         2        f   \n",
       "\n",
       "                                                  img_url  \n",
       "532889  https://cdn.rebrickable.com/media/parts/elemen...  \n",
       "532890  https://cdn.rebrickable.com/media/parts/elemen...  \n",
       "532891  https://cdn.rebrickable.com/media/parts/elemen...  \n",
       "532892  https://cdn.rebrickable.com/media/parts/elemen...  \n",
       "532893  https://cdn.rebrickable.com/media/parts/elemen...  "
      ]
     },
     "execution_count": 26,
     "metadata": {},
     "output_type": "execute_result"
    }
   ],
   "source": [
    "inventory_parts_df.loc[inventory_parts_df['inventory_id'] == 17848]"
   ]
  },
  {
   "cell_type": "code",
   "execution_count": 27,
   "metadata": {},
   "outputs": [
    {
     "data": {
      "text/html": [
       "<div>\n",
       "<style scoped>\n",
       "    .dataframe tbody tr th:only-of-type {\n",
       "        vertical-align: middle;\n",
       "    }\n",
       "\n",
       "    .dataframe tbody tr th {\n",
       "        vertical-align: top;\n",
       "    }\n",
       "\n",
       "    .dataframe thead th {\n",
       "        text-align: right;\n",
       "    }\n",
       "</style>\n",
       "<table border=\"1\" class=\"dataframe\">\n",
       "  <thead>\n",
       "    <tr style=\"text-align: right;\">\n",
       "      <th></th>\n",
       "      <th>inventory_id</th>\n",
       "      <th>part_num</th>\n",
       "      <th>color_id</th>\n",
       "      <th>quantity</th>\n",
       "      <th>is_spare</th>\n",
       "      <th>img_url</th>\n",
       "    </tr>\n",
       "  </thead>\n",
       "  <tbody>\n",
       "    <tr>\n",
       "      <th>448074</th>\n",
       "      <td>14143</td>\n",
       "      <td>3004</td>\n",
       "      <td>14</td>\n",
       "      <td>8</td>\n",
       "      <td>f</td>\n",
       "      <td>https://cdn.rebrickable.com/media/parts/elemen...</td>\n",
       "    </tr>\n",
       "    <tr>\n",
       "      <th>448075</th>\n",
       "      <td>14143</td>\n",
       "      <td>3005</td>\n",
       "      <td>14</td>\n",
       "      <td>6</td>\n",
       "      <td>f</td>\n",
       "      <td>https://cdn.rebrickable.com/media/parts/elemen...</td>\n",
       "    </tr>\n",
       "    <tr>\n",
       "      <th>448076</th>\n",
       "      <td>14143</td>\n",
       "      <td>3008</td>\n",
       "      <td>14</td>\n",
       "      <td>2</td>\n",
       "      <td>f</td>\n",
       "      <td>https://cdn.rebrickable.com/media/parts/elemen...</td>\n",
       "    </tr>\n",
       "    <tr>\n",
       "      <th>448077</th>\n",
       "      <td>14143</td>\n",
       "      <td>3009</td>\n",
       "      <td>14</td>\n",
       "      <td>2</td>\n",
       "      <td>f</td>\n",
       "      <td>https://cdn.rebrickable.com/media/parts/elemen...</td>\n",
       "    </tr>\n",
       "    <tr>\n",
       "      <th>448078</th>\n",
       "      <td>14143</td>\n",
       "      <td>3010</td>\n",
       "      <td>14</td>\n",
       "      <td>2</td>\n",
       "      <td>f</td>\n",
       "      <td>https://cdn.rebrickable.com/media/parts/elemen...</td>\n",
       "    </tr>\n",
       "  </tbody>\n",
       "</table>\n",
       "</div>"
      ],
      "text/plain": [
       "        inventory_id part_num  color_id  quantity is_spare  \\\n",
       "448074         14143     3004        14         8        f   \n",
       "448075         14143     3005        14         6        f   \n",
       "448076         14143     3008        14         2        f   \n",
       "448077         14143     3009        14         2        f   \n",
       "448078         14143     3010        14         2        f   \n",
       "\n",
       "                                                  img_url  \n",
       "448074  https://cdn.rebrickable.com/media/parts/elemen...  \n",
       "448075  https://cdn.rebrickable.com/media/parts/elemen...  \n",
       "448076  https://cdn.rebrickable.com/media/parts/elemen...  \n",
       "448077  https://cdn.rebrickable.com/media/parts/elemen...  \n",
       "448078  https://cdn.rebrickable.com/media/parts/elemen...  "
      ]
     },
     "execution_count": 27,
     "metadata": {},
     "output_type": "execute_result"
    }
   ],
   "source": [
    "inventory_parts_df.loc[inventory_parts_df['inventory_id'] == 14143]"
   ]
  },
  {
   "cell_type": "code",
   "execution_count": 28,
   "metadata": {},
   "outputs": [
    {
     "data": {
      "text/plain": [
       "20"
      ]
     },
     "execution_count": 28,
     "metadata": {},
     "output_type": "execute_result"
    }
   ],
   "source": [
    "inventory_parts_df.loc[inventory_parts_df['inventory_id'] == 14143, 'quantity'].sum()"
   ]
  },
  {
   "cell_type": "code",
   "execution_count": 29,
   "metadata": {},
   "outputs": [
    {
     "data": {
      "text/plain": [
       "20"
      ]
     },
     "execution_count": 29,
     "metadata": {},
     "output_type": "execute_result"
    }
   ],
   "source": [
    "inventory_parts_df.loc[inventory_parts_df['inventory_id'] == 17848, 'quantity'].sum()"
   ]
  },
  {
   "cell_type": "markdown",
   "metadata": {},
   "source": [
    "So it looks that version is different if the set was updated. So I will analyze only top versions of the set."
   ]
  },
  {
   "cell_type": "code",
   "execution_count": 30,
   "metadata": {},
   "outputs": [
    {
     "data": {
      "text/html": [
       "<div>\n",
       "<style scoped>\n",
       "    .dataframe tbody tr th:only-of-type {\n",
       "        vertical-align: middle;\n",
       "    }\n",
       "\n",
       "    .dataframe tbody tr th {\n",
       "        vertical-align: top;\n",
       "    }\n",
       "\n",
       "    .dataframe thead th {\n",
       "        text-align: right;\n",
       "    }\n",
       "</style>\n",
       "<table border=\"1\" class=\"dataframe\">\n",
       "  <thead>\n",
       "    <tr style=\"text-align: right;\">\n",
       "      <th></th>\n",
       "      <th>inventory_id</th>\n",
       "      <th>version</th>\n",
       "      <th>set_num</th>\n",
       "    </tr>\n",
       "  </thead>\n",
       "  <tbody>\n",
       "    <tr>\n",
       "      <th>16015</th>\n",
       "      <td>51370</td>\n",
       "      <td>1</td>\n",
       "      <td>fig-000555</td>\n",
       "    </tr>\n",
       "  </tbody>\n",
       "</table>\n",
       "</div>"
      ],
      "text/plain": [
       "       inventory_id  version     set_num\n",
       "16015         51370        1  fig-000555"
      ]
     },
     "execution_count": 30,
     "metadata": {},
     "output_type": "execute_result"
    }
   ],
   "source": [
    "# check if minifigs parts are also in inventory parts\n",
    "inventories_df.loc[inventories_df['set_num'] == 'fig-000555']"
   ]
  },
  {
   "cell_type": "code",
   "execution_count": 31,
   "metadata": {},
   "outputs": [
    {
     "data": {
      "text/html": [
       "<div>\n",
       "<style scoped>\n",
       "    .dataframe tbody tr th:only-of-type {\n",
       "        vertical-align: middle;\n",
       "    }\n",
       "\n",
       "    .dataframe tbody tr th {\n",
       "        vertical-align: top;\n",
       "    }\n",
       "\n",
       "    .dataframe thead th {\n",
       "        text-align: right;\n",
       "    }\n",
       "</style>\n",
       "<table border=\"1\" class=\"dataframe\">\n",
       "  <thead>\n",
       "    <tr style=\"text-align: right;\">\n",
       "      <th></th>\n",
       "      <th>inventory_id</th>\n",
       "      <th>part_num</th>\n",
       "      <th>color_id</th>\n",
       "      <th>quantity</th>\n",
       "      <th>is_spare</th>\n",
       "      <th>img_url</th>\n",
       "    </tr>\n",
       "  </thead>\n",
       "  <tbody>\n",
       "    <tr>\n",
       "      <th>768290</th>\n",
       "      <td>51370</td>\n",
       "      <td>3626bpr0310</td>\n",
       "      <td>14</td>\n",
       "      <td>1</td>\n",
       "      <td>f</td>\n",
       "      <td>https://cdn.rebrickable.com/media/parts/photos...</td>\n",
       "    </tr>\n",
       "    <tr>\n",
       "      <th>768291</th>\n",
       "      <td>51370</td>\n",
       "      <td>4530</td>\n",
       "      <td>0</td>\n",
       "      <td>1</td>\n",
       "      <td>f</td>\n",
       "      <td>https://cdn.rebrickable.com/media/parts/elemen...</td>\n",
       "    </tr>\n",
       "    <tr>\n",
       "      <th>768292</th>\n",
       "      <td>51370</td>\n",
       "      <td>970c03</td>\n",
       "      <td>0</td>\n",
       "      <td>1</td>\n",
       "      <td>f</td>\n",
       "      <td>https://cdn.rebrickable.com/media/parts/elemen...</td>\n",
       "    </tr>\n",
       "    <tr>\n",
       "      <th>768293</th>\n",
       "      <td>51370</td>\n",
       "      <td>973c22h01pr0173</td>\n",
       "      <td>4</td>\n",
       "      <td>1</td>\n",
       "      <td>f</td>\n",
       "      <td>https://cdn.rebrickable.com/media/parts/photos...</td>\n",
       "    </tr>\n",
       "  </tbody>\n",
       "</table>\n",
       "</div>"
      ],
      "text/plain": [
       "        inventory_id         part_num  color_id  quantity is_spare  \\\n",
       "768290         51370      3626bpr0310        14         1        f   \n",
       "768291         51370             4530         0         1        f   \n",
       "768292         51370           970c03         0         1        f   \n",
       "768293         51370  973c22h01pr0173         4         1        f   \n",
       "\n",
       "                                                  img_url  \n",
       "768290  https://cdn.rebrickable.com/media/parts/photos...  \n",
       "768291  https://cdn.rebrickable.com/media/parts/elemen...  \n",
       "768292  https://cdn.rebrickable.com/media/parts/elemen...  \n",
       "768293  https://cdn.rebrickable.com/media/parts/photos...  "
      ]
     },
     "execution_count": 31,
     "metadata": {},
     "output_type": "execute_result"
    }
   ],
   "source": [
    "inventory_parts_df.loc[inventory_parts_df['inventory_id'] == 51370]"
   ]
  },
  {
   "cell_type": "markdown",
   "metadata": {},
   "source": [
    "So, to be sure and certain and well count the distinction between spares and normal parts I need to add this inventory to the summary."
   ]
  },
  {
   "cell_type": "code",
   "execution_count": 32,
   "metadata": {},
   "outputs": [
    {
     "data": {
      "text/html": [
       "<div>\n",
       "<style scoped>\n",
       "    .dataframe tbody tr th:only-of-type {\n",
       "        vertical-align: middle;\n",
       "    }\n",
       "\n",
       "    .dataframe tbody tr th {\n",
       "        vertical-align: top;\n",
       "    }\n",
       "\n",
       "    .dataframe thead th {\n",
       "        text-align: right;\n",
       "    }\n",
       "</style>\n",
       "<table border=\"1\" class=\"dataframe\">\n",
       "  <thead>\n",
       "    <tr style=\"text-align: right;\">\n",
       "      <th></th>\n",
       "      <th>inventory_id</th>\n",
       "      <th>fig_num</th>\n",
       "      <th>quantity</th>\n",
       "    </tr>\n",
       "  </thead>\n",
       "  <tbody>\n",
       "    <tr>\n",
       "      <th>0</th>\n",
       "      <td>3</td>\n",
       "      <td>fig-001549</td>\n",
       "      <td>1</td>\n",
       "    </tr>\n",
       "    <tr>\n",
       "      <th>1</th>\n",
       "      <td>4</td>\n",
       "      <td>fig-000764</td>\n",
       "      <td>1</td>\n",
       "    </tr>\n",
       "    <tr>\n",
       "      <th>2</th>\n",
       "      <td>19</td>\n",
       "      <td>fig-000555</td>\n",
       "      <td>1</td>\n",
       "    </tr>\n",
       "    <tr>\n",
       "      <th>3</th>\n",
       "      <td>25</td>\n",
       "      <td>fig-000574</td>\n",
       "      <td>1</td>\n",
       "    </tr>\n",
       "    <tr>\n",
       "      <th>4</th>\n",
       "      <td>26</td>\n",
       "      <td>fig-000842</td>\n",
       "      <td>1</td>\n",
       "    </tr>\n",
       "  </tbody>\n",
       "</table>\n",
       "</div>"
      ],
      "text/plain": [
       "   inventory_id     fig_num  quantity\n",
       "0             3  fig-001549         1\n",
       "1             4  fig-000764         1\n",
       "2            19  fig-000555         1\n",
       "3            25  fig-000574         1\n",
       "4            26  fig-000842         1"
      ]
     },
     "execution_count": 32,
     "metadata": {},
     "output_type": "execute_result"
    }
   ],
   "source": [
    "# inventory minifigs dataframe\n",
    "inventory_minifigs_df = pd.read_csv('data\\inventory_minifigs.csv.gz')\n",
    "inventory_minifigs_df.head()"
   ]
  },
  {
   "cell_type": "code",
   "execution_count": 33,
   "metadata": {},
   "outputs": [
    {
     "data": {
      "text/plain": [
       "38716"
      ]
     },
     "execution_count": 33,
     "metadata": {},
     "output_type": "execute_result"
    }
   ],
   "source": [
    "# number of unique set number\n",
    "inventories_df['set_num'].nunique()"
   ]
  },
  {
   "cell_type": "code",
   "execution_count": 34,
   "metadata": {},
   "outputs": [
    {
     "data": {
      "text/plain": [
       "23873"
      ]
     },
     "execution_count": 34,
     "metadata": {},
     "output_type": "execute_result"
    }
   ],
   "source": [
    "a = sets_table['set_num'].nunique()\n",
    "a"
   ]
  },
  {
   "cell_type": "code",
   "execution_count": 35,
   "metadata": {},
   "outputs": [],
   "source": [
    "b = inventories_df.loc[inventories_df['set_num'].str.match('fig'), 'set_num'].nunique()"
   ]
  },
  {
   "cell_type": "code",
   "execution_count": 36,
   "metadata": {},
   "outputs": [
    {
     "data": {
      "text/plain": [
       "38716"
      ]
     },
     "execution_count": 36,
     "metadata": {},
     "output_type": "execute_result"
    }
   ],
   "source": [
    "a + b"
   ]
  },
  {
   "cell_type": "code",
   "execution_count": 37,
   "metadata": {},
   "outputs": [
    {
     "data": {
      "text/plain": [
       "(40462, 3)"
      ]
     },
     "execution_count": 37,
     "metadata": {},
     "output_type": "execute_result"
    }
   ],
   "source": [
    "inventories_df.shape"
   ]
  },
  {
   "cell_type": "markdown",
   "metadata": {},
   "source": [
    "Now, let's focus on dropping unnecessary versions."
   ]
  },
  {
   "cell_type": "code",
   "execution_count": 38,
   "metadata": {},
   "outputs": [
    {
     "data": {
      "text/plain": [
       "(38716, 4)"
      ]
     },
     "execution_count": 38,
     "metadata": {},
     "output_type": "execute_result"
    }
   ],
   "source": [
    "# get only top versions for each set number and only inventories numbers for them\n",
    "inventories_df['max_version'] = inventories_df.groupby('set_num')['version'].transform('max')\n",
    "inventories_df.drop(inventories_df[inventories_df['max_version'] != inventories_df['version']].index, axis=0, inplace=True)\n",
    "inventories_df.shape"
   ]
  },
  {
   "cell_type": "markdown",
   "metadata": {},
   "source": [
    "OK, now we have inventories with only max version for each set and for each figure. Now, we want to add parts count as well as minifigures count to each set, and then match set with year when it was released. \\\n",
    "First, I will focus on parts count. I will add for each inventory line count of regular parts and count of spare parts."
   ]
  },
  {
   "cell_type": "code",
   "execution_count": 39,
   "metadata": {},
   "outputs": [
    {
     "data": {
      "text/html": [
       "<div>\n",
       "<style scoped>\n",
       "    .dataframe tbody tr th:only-of-type {\n",
       "        vertical-align: middle;\n",
       "    }\n",
       "\n",
       "    .dataframe tbody tr th {\n",
       "        vertical-align: top;\n",
       "    }\n",
       "\n",
       "    .dataframe thead th {\n",
       "        text-align: right;\n",
       "    }\n",
       "</style>\n",
       "<table border=\"1\" class=\"dataframe\">\n",
       "  <thead>\n",
       "    <tr style=\"text-align: right;\">\n",
       "      <th>is_spare</th>\n",
       "      <th>inventory_id</th>\n",
       "      <th>f</th>\n",
       "      <th>t</th>\n",
       "    </tr>\n",
       "  </thead>\n",
       "  <tbody>\n",
       "    <tr>\n",
       "      <th>0</th>\n",
       "      <td>1</td>\n",
       "      <td>5</td>\n",
       "      <td>0</td>\n",
       "    </tr>\n",
       "    <tr>\n",
       "      <th>1</th>\n",
       "      <td>3</td>\n",
       "      <td>39</td>\n",
       "      <td>3</td>\n",
       "    </tr>\n",
       "    <tr>\n",
       "      <th>2</th>\n",
       "      <td>4</td>\n",
       "      <td>16</td>\n",
       "      <td>1</td>\n",
       "    </tr>\n",
       "    <tr>\n",
       "      <th>3</th>\n",
       "      <td>15</td>\n",
       "      <td>2</td>\n",
       "      <td>0</td>\n",
       "    </tr>\n",
       "    <tr>\n",
       "      <th>4</th>\n",
       "      <td>16</td>\n",
       "      <td>10</td>\n",
       "      <td>0</td>\n",
       "    </tr>\n",
       "  </tbody>\n",
       "</table>\n",
       "</div>"
      ],
      "text/plain": [
       "is_spare  inventory_id   f  t\n",
       "0                    1   5  0\n",
       "1                    3  39  3\n",
       "2                    4  16  1\n",
       "3                   15   2  0\n",
       "4                   16  10  0"
      ]
     },
     "execution_count": 39,
     "metadata": {},
     "output_type": "execute_result"
    }
   ],
   "source": [
    "parts_per_inventory = pd.pivot_table(inventory_parts_df, values='quantity', index=['inventory_id'], columns=['is_spare'], \\\n",
    "                                     aggfunc=\"sum\", fill_value=0).reset_index()\n",
    "parts_per_inventory.head()"
   ]
  },
  {
   "cell_type": "code",
   "execution_count": 40,
   "metadata": {},
   "outputs": [
    {
     "data": {
      "text/html": [
       "<div>\n",
       "<style scoped>\n",
       "    .dataframe tbody tr th:only-of-type {\n",
       "        vertical-align: middle;\n",
       "    }\n",
       "\n",
       "    .dataframe tbody tr th {\n",
       "        vertical-align: top;\n",
       "    }\n",
       "\n",
       "    .dataframe thead th {\n",
       "        text-align: right;\n",
       "    }\n",
       "</style>\n",
       "<table border=\"1\" class=\"dataframe\">\n",
       "  <thead>\n",
       "    <tr style=\"text-align: right;\">\n",
       "      <th>is_spare</th>\n",
       "      <th>inventory_id</th>\n",
       "      <th>parts</th>\n",
       "      <th>spares</th>\n",
       "    </tr>\n",
       "  </thead>\n",
       "  <tbody>\n",
       "    <tr>\n",
       "      <th>0</th>\n",
       "      <td>1</td>\n",
       "      <td>5</td>\n",
       "      <td>0</td>\n",
       "    </tr>\n",
       "    <tr>\n",
       "      <th>1</th>\n",
       "      <td>3</td>\n",
       "      <td>39</td>\n",
       "      <td>3</td>\n",
       "    </tr>\n",
       "    <tr>\n",
       "      <th>2</th>\n",
       "      <td>4</td>\n",
       "      <td>16</td>\n",
       "      <td>1</td>\n",
       "    </tr>\n",
       "    <tr>\n",
       "      <th>3</th>\n",
       "      <td>15</td>\n",
       "      <td>2</td>\n",
       "      <td>0</td>\n",
       "    </tr>\n",
       "    <tr>\n",
       "      <th>4</th>\n",
       "      <td>16</td>\n",
       "      <td>10</td>\n",
       "      <td>0</td>\n",
       "    </tr>\n",
       "  </tbody>\n",
       "</table>\n",
       "</div>"
      ],
      "text/plain": [
       "is_spare  inventory_id  parts  spares\n",
       "0                    1      5       0\n",
       "1                    3     39       3\n",
       "2                    4     16       1\n",
       "3                   15      2       0\n",
       "4                   16     10       0"
      ]
     },
     "execution_count": 40,
     "metadata": {},
     "output_type": "execute_result"
    }
   ],
   "source": [
    "parts_per_inventory.rename(columns={'f': 'parts', 't': 'spares'}, inplace=True)\n",
    "parts_per_inventory.head()"
   ]
  },
  {
   "cell_type": "code",
   "execution_count": 41,
   "metadata": {},
   "outputs": [
    {
     "data": {
      "text/plain": [
       "(34363, 3)"
      ]
     },
     "execution_count": 41,
     "metadata": {},
     "output_type": "execute_result"
    }
   ],
   "source": [
    "parts_per_inventory.shape"
   ]
  },
  {
   "cell_type": "code",
   "execution_count": 42,
   "metadata": {},
   "outputs": [
    {
     "data": {
      "text/html": [
       "<div>\n",
       "<style scoped>\n",
       "    .dataframe tbody tr th:only-of-type {\n",
       "        vertical-align: middle;\n",
       "    }\n",
       "\n",
       "    .dataframe tbody tr th {\n",
       "        vertical-align: top;\n",
       "    }\n",
       "\n",
       "    .dataframe thead th {\n",
       "        text-align: right;\n",
       "    }\n",
       "</style>\n",
       "<table border=\"1\" class=\"dataframe\">\n",
       "  <thead>\n",
       "    <tr style=\"text-align: right;\">\n",
       "      <th></th>\n",
       "      <th>inventory_id</th>\n",
       "      <th>version</th>\n",
       "      <th>set_num</th>\n",
       "      <th>max_version</th>\n",
       "      <th>parts</th>\n",
       "      <th>spares</th>\n",
       "    </tr>\n",
       "  </thead>\n",
       "  <tbody>\n",
       "    <tr>\n",
       "      <th>0</th>\n",
       "      <td>1</td>\n",
       "      <td>1</td>\n",
       "      <td>7922-1</td>\n",
       "      <td>1</td>\n",
       "      <td>5.0</td>\n",
       "      <td>0.0</td>\n",
       "    </tr>\n",
       "    <tr>\n",
       "      <th>1</th>\n",
       "      <td>3</td>\n",
       "      <td>1</td>\n",
       "      <td>3931-1</td>\n",
       "      <td>1</td>\n",
       "      <td>39.0</td>\n",
       "      <td>3.0</td>\n",
       "    </tr>\n",
       "    <tr>\n",
       "      <th>2</th>\n",
       "      <td>4</td>\n",
       "      <td>1</td>\n",
       "      <td>6942-1</td>\n",
       "      <td>1</td>\n",
       "      <td>16.0</td>\n",
       "      <td>1.0</td>\n",
       "    </tr>\n",
       "    <tr>\n",
       "      <th>3</th>\n",
       "      <td>15</td>\n",
       "      <td>1</td>\n",
       "      <td>5158-1</td>\n",
       "      <td>1</td>\n",
       "      <td>2.0</td>\n",
       "      <td>0.0</td>\n",
       "    </tr>\n",
       "    <tr>\n",
       "      <th>4</th>\n",
       "      <td>16</td>\n",
       "      <td>1</td>\n",
       "      <td>903-1</td>\n",
       "      <td>1</td>\n",
       "      <td>10.0</td>\n",
       "      <td>0.0</td>\n",
       "    </tr>\n",
       "  </tbody>\n",
       "</table>\n",
       "</div>"
      ],
      "text/plain": [
       "   inventory_id  version set_num  max_version  parts  spares\n",
       "0             1        1  7922-1            1    5.0     0.0\n",
       "1             3        1  3931-1            1   39.0     3.0\n",
       "2             4        1  6942-1            1   16.0     1.0\n",
       "3            15        1  5158-1            1    2.0     0.0\n",
       "4            16        1   903-1            1   10.0     0.0"
      ]
     },
     "execution_count": 42,
     "metadata": {},
     "output_type": "execute_result"
    }
   ],
   "source": [
    "inventories_df = inventories_df.merge(parts_per_inventory, on='inventory_id', how='left')\n",
    "inventories_df.head()"
   ]
  },
  {
   "cell_type": "code",
   "execution_count": 43,
   "metadata": {},
   "outputs": [
    {
     "data": {
      "text/plain": [
       "(38716, 6)"
      ]
     },
     "execution_count": 43,
     "metadata": {},
     "output_type": "execute_result"
    }
   ],
   "source": [
    "inventories_df.shape"
   ]
  },
  {
   "cell_type": "code",
   "execution_count": 44,
   "metadata": {},
   "outputs": [
    {
     "data": {
      "text/html": [
       "<div>\n",
       "<style scoped>\n",
       "    .dataframe tbody tr th:only-of-type {\n",
       "        vertical-align: middle;\n",
       "    }\n",
       "\n",
       "    .dataframe tbody tr th {\n",
       "        vertical-align: top;\n",
       "    }\n",
       "\n",
       "    .dataframe thead th {\n",
       "        text-align: right;\n",
       "    }\n",
       "</style>\n",
       "<table border=\"1\" class=\"dataframe\">\n",
       "  <thead>\n",
       "    <tr style=\"text-align: right;\">\n",
       "      <th></th>\n",
       "      <th>inventory_id_x</th>\n",
       "      <th>fig_num</th>\n",
       "      <th>quantity</th>\n",
       "      <th>inventory_id_y</th>\n",
       "      <th>version</th>\n",
       "      <th>set_num</th>\n",
       "      <th>max_version</th>\n",
       "      <th>parts</th>\n",
       "      <th>spares</th>\n",
       "    </tr>\n",
       "  </thead>\n",
       "  <tbody>\n",
       "    <tr>\n",
       "      <th>0</th>\n",
       "      <td>3</td>\n",
       "      <td>fig-001549</td>\n",
       "      <td>1</td>\n",
       "      <td>52364</td>\n",
       "      <td>1</td>\n",
       "      <td>fig-001549</td>\n",
       "      <td>1</td>\n",
       "      <td>4.0</td>\n",
       "      <td>0.0</td>\n",
       "    </tr>\n",
       "    <tr>\n",
       "      <th>1</th>\n",
       "      <td>4</td>\n",
       "      <td>fig-000764</td>\n",
       "      <td>1</td>\n",
       "      <td>51579</td>\n",
       "      <td>1</td>\n",
       "      <td>fig-000764</td>\n",
       "      <td>1</td>\n",
       "      <td>4.0</td>\n",
       "      <td>0.0</td>\n",
       "    </tr>\n",
       "    <tr>\n",
       "      <th>2</th>\n",
       "      <td>14589</td>\n",
       "      <td>fig-000764</td>\n",
       "      <td>1</td>\n",
       "      <td>51579</td>\n",
       "      <td>1</td>\n",
       "      <td>fig-000764</td>\n",
       "      <td>1</td>\n",
       "      <td>4.0</td>\n",
       "      <td>0.0</td>\n",
       "    </tr>\n",
       "    <tr>\n",
       "      <th>3</th>\n",
       "      <td>19</td>\n",
       "      <td>fig-000555</td>\n",
       "      <td>1</td>\n",
       "      <td>51370</td>\n",
       "      <td>1</td>\n",
       "      <td>fig-000555</td>\n",
       "      <td>1</td>\n",
       "      <td>4.0</td>\n",
       "      <td>0.0</td>\n",
       "    </tr>\n",
       "    <tr>\n",
       "      <th>4</th>\n",
       "      <td>25</td>\n",
       "      <td>fig-000574</td>\n",
       "      <td>1</td>\n",
       "      <td>51389</td>\n",
       "      <td>1</td>\n",
       "      <td>fig-000574</td>\n",
       "      <td>1</td>\n",
       "      <td>5.0</td>\n",
       "      <td>0.0</td>\n",
       "    </tr>\n",
       "  </tbody>\n",
       "</table>\n",
       "</div>"
      ],
      "text/plain": [
       "   inventory_id_x     fig_num  quantity  inventory_id_y  version     set_num  \\\n",
       "0               3  fig-001549         1           52364        1  fig-001549   \n",
       "1               4  fig-000764         1           51579        1  fig-000764   \n",
       "2           14589  fig-000764         1           51579        1  fig-000764   \n",
       "3              19  fig-000555         1           51370        1  fig-000555   \n",
       "4              25  fig-000574         1           51389        1  fig-000574   \n",
       "\n",
       "   max_version  parts  spares  \n",
       "0            1    4.0     0.0  \n",
       "1            1    4.0     0.0  \n",
       "2            1    4.0     0.0  \n",
       "3            1    4.0     0.0  \n",
       "4            1    5.0     0.0  "
      ]
     },
     "execution_count": 44,
     "metadata": {},
     "output_type": "execute_result"
    }
   ],
   "source": [
    "inventory_minifigs_df_with_num_parts = inventory_minifigs_df.merge(inventories_df, left_on='fig_num', right_on='set_num')\n",
    "inventory_minifigs_df_with_num_parts.head()"
   ]
  },
  {
   "cell_type": "code",
   "execution_count": 45,
   "metadata": {},
   "outputs": [],
   "source": [
    "inventory_minifigs_df_with_num_parts['parts_total'] = inventory_minifigs_df_with_num_parts['quantity'] * inventory_minifigs_df_with_num_parts['parts']"
   ]
  },
  {
   "cell_type": "code",
   "execution_count": 46,
   "metadata": {},
   "outputs": [
    {
     "data": {
      "text/html": [
       "<div>\n",
       "<style scoped>\n",
       "    .dataframe tbody tr th:only-of-type {\n",
       "        vertical-align: middle;\n",
       "    }\n",
       "\n",
       "    .dataframe tbody tr th {\n",
       "        vertical-align: top;\n",
       "    }\n",
       "\n",
       "    .dataframe thead th {\n",
       "        text-align: right;\n",
       "    }\n",
       "</style>\n",
       "<table border=\"1\" class=\"dataframe\">\n",
       "  <thead>\n",
       "    <tr style=\"text-align: right;\">\n",
       "      <th></th>\n",
       "      <th>inventory_id_x</th>\n",
       "      <th>fig_num</th>\n",
       "      <th>quantity</th>\n",
       "      <th>inventory_id_y</th>\n",
       "      <th>version</th>\n",
       "      <th>set_num</th>\n",
       "      <th>max_version</th>\n",
       "      <th>parts</th>\n",
       "      <th>spares</th>\n",
       "      <th>parts_total</th>\n",
       "    </tr>\n",
       "  </thead>\n",
       "  <tbody>\n",
       "    <tr>\n",
       "      <th>16903</th>\n",
       "      <td>43641</td>\n",
       "      <td>fig-011590</td>\n",
       "      <td>1</td>\n",
       "      <td>106762</td>\n",
       "      <td>1</td>\n",
       "      <td>fig-011590</td>\n",
       "      <td>1</td>\n",
       "      <td>NaN</td>\n",
       "      <td>NaN</td>\n",
       "      <td>NaN</td>\n",
       "    </tr>\n",
       "  </tbody>\n",
       "</table>\n",
       "</div>"
      ],
      "text/plain": [
       "       inventory_id_x     fig_num  quantity  inventory_id_y  version  \\\n",
       "16903           43641  fig-011590         1          106762        1   \n",
       "\n",
       "          set_num  max_version  parts  spares  parts_total  \n",
       "16903  fig-011590            1    NaN     NaN          NaN  "
      ]
     },
     "execution_count": 46,
     "metadata": {},
     "output_type": "execute_result"
    }
   ],
   "source": [
    "inventory_minifigs_df_with_num_parts[inventory_minifigs_df_with_num_parts['spares'] != 0]"
   ]
  },
  {
   "cell_type": "code",
   "execution_count": 47,
   "metadata": {},
   "outputs": [],
   "source": [
    "inventory_minifigs_df_with_num_parts.drop(columns=['inventory_id_y', 'set_num', 'max_version', 'parts', 'quantity', 'version', 'spares'], inplace=True)"
   ]
  },
  {
   "cell_type": "code",
   "execution_count": 48,
   "metadata": {},
   "outputs": [],
   "source": [
    "inventory_minifigs_df_with_num_parts.rename(columns={'inventory_id_x': 'inventory_id'}, inplace=True)"
   ]
  },
  {
   "cell_type": "code",
   "execution_count": 49,
   "metadata": {},
   "outputs": [
    {
     "data": {
      "text/html": [
       "<div>\n",
       "<style scoped>\n",
       "    .dataframe tbody tr th:only-of-type {\n",
       "        vertical-align: middle;\n",
       "    }\n",
       "\n",
       "    .dataframe tbody tr th {\n",
       "        vertical-align: top;\n",
       "    }\n",
       "\n",
       "    .dataframe thead th {\n",
       "        text-align: right;\n",
       "    }\n",
       "</style>\n",
       "<table border=\"1\" class=\"dataframe\">\n",
       "  <thead>\n",
       "    <tr style=\"text-align: right;\">\n",
       "      <th></th>\n",
       "      <th>inventory_id</th>\n",
       "      <th>fig_num</th>\n",
       "      <th>parts_total</th>\n",
       "    </tr>\n",
       "  </thead>\n",
       "  <tbody>\n",
       "    <tr>\n",
       "      <th>0</th>\n",
       "      <td>3</td>\n",
       "      <td>fig-001549</td>\n",
       "      <td>4.0</td>\n",
       "    </tr>\n",
       "    <tr>\n",
       "      <th>1</th>\n",
       "      <td>4</td>\n",
       "      <td>fig-000764</td>\n",
       "      <td>4.0</td>\n",
       "    </tr>\n",
       "    <tr>\n",
       "      <th>2</th>\n",
       "      <td>14589</td>\n",
       "      <td>fig-000764</td>\n",
       "      <td>4.0</td>\n",
       "    </tr>\n",
       "    <tr>\n",
       "      <th>3</th>\n",
       "      <td>19</td>\n",
       "      <td>fig-000555</td>\n",
       "      <td>4.0</td>\n",
       "    </tr>\n",
       "    <tr>\n",
       "      <th>4</th>\n",
       "      <td>25</td>\n",
       "      <td>fig-000574</td>\n",
       "      <td>5.0</td>\n",
       "    </tr>\n",
       "  </tbody>\n",
       "</table>\n",
       "</div>"
      ],
      "text/plain": [
       "   inventory_id     fig_num  parts_total\n",
       "0             3  fig-001549          4.0\n",
       "1             4  fig-000764          4.0\n",
       "2         14589  fig-000764          4.0\n",
       "3            19  fig-000555          4.0\n",
       "4            25  fig-000574          5.0"
      ]
     },
     "execution_count": 49,
     "metadata": {},
     "output_type": "execute_result"
    }
   ],
   "source": [
    "inventory_minifigs_df_with_num_parts.head()"
   ]
  },
  {
   "cell_type": "code",
   "execution_count": 50,
   "metadata": {},
   "outputs": [
    {
     "data": {
      "text/html": [
       "<div>\n",
       "<style scoped>\n",
       "    .dataframe tbody tr th:only-of-type {\n",
       "        vertical-align: middle;\n",
       "    }\n",
       "\n",
       "    .dataframe tbody tr th {\n",
       "        vertical-align: top;\n",
       "    }\n",
       "\n",
       "    .dataframe thead tr th {\n",
       "        text-align: left;\n",
       "    }\n",
       "</style>\n",
       "<table border=\"1\" class=\"dataframe\">\n",
       "  <thead>\n",
       "    <tr>\n",
       "      <th></th>\n",
       "      <th>inventory_id</th>\n",
       "      <th>sum</th>\n",
       "      <th>count</th>\n",
       "    </tr>\n",
       "    <tr>\n",
       "      <th></th>\n",
       "      <th></th>\n",
       "      <th>parts_total</th>\n",
       "      <th>parts_total</th>\n",
       "    </tr>\n",
       "  </thead>\n",
       "  <tbody>\n",
       "    <tr>\n",
       "      <th>0</th>\n",
       "      <td>3</td>\n",
       "      <td>4.0</td>\n",
       "      <td>1</td>\n",
       "    </tr>\n",
       "    <tr>\n",
       "      <th>1</th>\n",
       "      <td>4</td>\n",
       "      <td>4.0</td>\n",
       "      <td>1</td>\n",
       "    </tr>\n",
       "    <tr>\n",
       "      <th>2</th>\n",
       "      <td>19</td>\n",
       "      <td>4.0</td>\n",
       "      <td>1</td>\n",
       "    </tr>\n",
       "    <tr>\n",
       "      <th>3</th>\n",
       "      <td>25</td>\n",
       "      <td>5.0</td>\n",
       "      <td>1</td>\n",
       "    </tr>\n",
       "    <tr>\n",
       "      <th>4</th>\n",
       "      <td>26</td>\n",
       "      <td>28.0</td>\n",
       "      <td>6</td>\n",
       "    </tr>\n",
       "  </tbody>\n",
       "</table>\n",
       "</div>"
      ],
      "text/plain": [
       "  inventory_id         sum       count\n",
       "               parts_total parts_total\n",
       "0            3         4.0           1\n",
       "1            4         4.0           1\n",
       "2           19         4.0           1\n",
       "3           25         5.0           1\n",
       "4           26        28.0           6"
      ]
     },
     "execution_count": 50,
     "metadata": {},
     "output_type": "execute_result"
    }
   ],
   "source": [
    "figs_per_inventory = pd.pivot_table(inventory_minifigs_df_with_num_parts, values='parts_total', index=['inventory_id'], \\\n",
    "                                     aggfunc=[\"sum\", 'count'], fill_value=0).reset_index()\n",
    "figs_per_inventory.head()"
   ]
  },
  {
   "cell_type": "code",
   "execution_count": 51,
   "metadata": {},
   "outputs": [
    {
     "data": {
      "text/plain": [
       "Index([('inventory_id', ''), ('sum', 'parts_total'), ('count', 'parts_total')], dtype='object')"
      ]
     },
     "execution_count": 51,
     "metadata": {},
     "output_type": "execute_result"
    }
   ],
   "source": [
    "figs_per_inventory.columns = figs_per_inventory.columns.to_flat_index()\n",
    "figs_per_inventory.columns"
   ]
  },
  {
   "cell_type": "code",
   "execution_count": 52,
   "metadata": {},
   "outputs": [
    {
     "data": {
      "text/html": [
       "<div>\n",
       "<style scoped>\n",
       "    .dataframe tbody tr th:only-of-type {\n",
       "        vertical-align: middle;\n",
       "    }\n",
       "\n",
       "    .dataframe tbody tr th {\n",
       "        vertical-align: top;\n",
       "    }\n",
       "\n",
       "    .dataframe thead th {\n",
       "        text-align: right;\n",
       "    }\n",
       "</style>\n",
       "<table border=\"1\" class=\"dataframe\">\n",
       "  <thead>\n",
       "    <tr style=\"text-align: right;\">\n",
       "      <th></th>\n",
       "      <th>inventory_id</th>\n",
       "      <th>fig_parts_sum</th>\n",
       "      <th>fig_count</th>\n",
       "    </tr>\n",
       "  </thead>\n",
       "  <tbody>\n",
       "    <tr>\n",
       "      <th>0</th>\n",
       "      <td>3</td>\n",
       "      <td>4.0</td>\n",
       "      <td>1</td>\n",
       "    </tr>\n",
       "    <tr>\n",
       "      <th>1</th>\n",
       "      <td>4</td>\n",
       "      <td>4.0</td>\n",
       "      <td>1</td>\n",
       "    </tr>\n",
       "    <tr>\n",
       "      <th>2</th>\n",
       "      <td>19</td>\n",
       "      <td>4.0</td>\n",
       "      <td>1</td>\n",
       "    </tr>\n",
       "    <tr>\n",
       "      <th>3</th>\n",
       "      <td>25</td>\n",
       "      <td>5.0</td>\n",
       "      <td>1</td>\n",
       "    </tr>\n",
       "    <tr>\n",
       "      <th>4</th>\n",
       "      <td>26</td>\n",
       "      <td>28.0</td>\n",
       "      <td>6</td>\n",
       "    </tr>\n",
       "  </tbody>\n",
       "</table>\n",
       "</div>"
      ],
      "text/plain": [
       "   inventory_id  fig_parts_sum  fig_count\n",
       "0             3            4.0          1\n",
       "1             4            4.0          1\n",
       "2            19            4.0          1\n",
       "3            25            5.0          1\n",
       "4            26           28.0          6"
      ]
     },
     "execution_count": 52,
     "metadata": {},
     "output_type": "execute_result"
    }
   ],
   "source": [
    "figs_per_inventory.rename(columns={('inventory_id', ''): 'inventory_id', ('sum', 'parts_total'): 'fig_parts_sum', ('count', 'parts_total'): 'fig_count'}, inplace=True)\n",
    "figs_per_inventory.head()"
   ]
  },
  {
   "cell_type": "code",
   "execution_count": 53,
   "metadata": {},
   "outputs": [
    {
     "data": {
      "text/html": [
       "<div>\n",
       "<style scoped>\n",
       "    .dataframe tbody tr th:only-of-type {\n",
       "        vertical-align: middle;\n",
       "    }\n",
       "\n",
       "    .dataframe tbody tr th {\n",
       "        vertical-align: top;\n",
       "    }\n",
       "\n",
       "    .dataframe thead th {\n",
       "        text-align: right;\n",
       "    }\n",
       "</style>\n",
       "<table border=\"1\" class=\"dataframe\">\n",
       "  <thead>\n",
       "    <tr style=\"text-align: right;\">\n",
       "      <th></th>\n",
       "      <th>inventory_id</th>\n",
       "      <th>version</th>\n",
       "      <th>set_num</th>\n",
       "      <th>max_version</th>\n",
       "      <th>parts</th>\n",
       "      <th>spares</th>\n",
       "      <th>fig_parts_sum</th>\n",
       "      <th>fig_count</th>\n",
       "    </tr>\n",
       "  </thead>\n",
       "  <tbody>\n",
       "    <tr>\n",
       "      <th>0</th>\n",
       "      <td>1</td>\n",
       "      <td>1</td>\n",
       "      <td>7922-1</td>\n",
       "      <td>1</td>\n",
       "      <td>5.0</td>\n",
       "      <td>0.0</td>\n",
       "      <td>NaN</td>\n",
       "      <td>NaN</td>\n",
       "    </tr>\n",
       "    <tr>\n",
       "      <th>1</th>\n",
       "      <td>3</td>\n",
       "      <td>1</td>\n",
       "      <td>3931-1</td>\n",
       "      <td>1</td>\n",
       "      <td>39.0</td>\n",
       "      <td>3.0</td>\n",
       "      <td>4.0</td>\n",
       "      <td>1.0</td>\n",
       "    </tr>\n",
       "    <tr>\n",
       "      <th>2</th>\n",
       "      <td>4</td>\n",
       "      <td>1</td>\n",
       "      <td>6942-1</td>\n",
       "      <td>1</td>\n",
       "      <td>16.0</td>\n",
       "      <td>1.0</td>\n",
       "      <td>4.0</td>\n",
       "      <td>1.0</td>\n",
       "    </tr>\n",
       "    <tr>\n",
       "      <th>3</th>\n",
       "      <td>15</td>\n",
       "      <td>1</td>\n",
       "      <td>5158-1</td>\n",
       "      <td>1</td>\n",
       "      <td>2.0</td>\n",
       "      <td>0.0</td>\n",
       "      <td>NaN</td>\n",
       "      <td>NaN</td>\n",
       "    </tr>\n",
       "    <tr>\n",
       "      <th>4</th>\n",
       "      <td>16</td>\n",
       "      <td>1</td>\n",
       "      <td>903-1</td>\n",
       "      <td>1</td>\n",
       "      <td>10.0</td>\n",
       "      <td>0.0</td>\n",
       "      <td>NaN</td>\n",
       "      <td>NaN</td>\n",
       "    </tr>\n",
       "  </tbody>\n",
       "</table>\n",
       "</div>"
      ],
      "text/plain": [
       "   inventory_id  version set_num  max_version  parts  spares  fig_parts_sum  \\\n",
       "0             1        1  7922-1            1    5.0     0.0            NaN   \n",
       "1             3        1  3931-1            1   39.0     3.0            4.0   \n",
       "2             4        1  6942-1            1   16.0     1.0            4.0   \n",
       "3            15        1  5158-1            1    2.0     0.0            NaN   \n",
       "4            16        1   903-1            1   10.0     0.0            NaN   \n",
       "\n",
       "   fig_count  \n",
       "0        NaN  \n",
       "1        1.0  \n",
       "2        1.0  \n",
       "3        NaN  \n",
       "4        NaN  "
      ]
     },
     "execution_count": 53,
     "metadata": {},
     "output_type": "execute_result"
    }
   ],
   "source": [
    "inventories_df = inventories_df.merge(figs_per_inventory, on='inventory_id', how='left')\n",
    "inventories_df.head()"
   ]
  },
  {
   "cell_type": "code",
   "execution_count": 54,
   "metadata": {},
   "outputs": [
    {
     "data": {
      "text/plain": [
       "(38716, 8)"
      ]
     },
     "execution_count": 54,
     "metadata": {},
     "output_type": "execute_result"
    }
   ],
   "source": [
    "inventories_df.shape"
   ]
  },
  {
   "cell_type": "code",
   "execution_count": 55,
   "metadata": {},
   "outputs": [
    {
     "data": {
      "text/html": [
       "<div>\n",
       "<style scoped>\n",
       "    .dataframe tbody tr th:only-of-type {\n",
       "        vertical-align: middle;\n",
       "    }\n",
       "\n",
       "    .dataframe tbody tr th {\n",
       "        vertical-align: top;\n",
       "    }\n",
       "\n",
       "    .dataframe thead th {\n",
       "        text-align: right;\n",
       "    }\n",
       "</style>\n",
       "<table border=\"1\" class=\"dataframe\">\n",
       "  <thead>\n",
       "    <tr style=\"text-align: right;\">\n",
       "      <th></th>\n",
       "      <th>inventory_id</th>\n",
       "      <th>part_num</th>\n",
       "      <th>color_id</th>\n",
       "      <th>quantity</th>\n",
       "      <th>is_spare</th>\n",
       "      <th>img_url</th>\n",
       "    </tr>\n",
       "  </thead>\n",
       "  <tbody>\n",
       "    <tr>\n",
       "      <th>1071444</th>\n",
       "      <td>150237</td>\n",
       "      <td>2447</td>\n",
       "      <td>47</td>\n",
       "      <td>1</td>\n",
       "      <td>t</td>\n",
       "      <td>https://cdn.rebrickable.com/media/parts/elemen...</td>\n",
       "    </tr>\n",
       "    <tr>\n",
       "      <th>1071446</th>\n",
       "      <td>150237</td>\n",
       "      <td>24866</td>\n",
       "      <td>30</td>\n",
       "      <td>1</td>\n",
       "      <td>t</td>\n",
       "      <td>https://cdn.rebrickable.com/media/parts/elemen...</td>\n",
       "    </tr>\n",
       "    <tr>\n",
       "      <th>1071469</th>\n",
       "      <td>150237</td>\n",
       "      <td>34172</td>\n",
       "      <td>15</td>\n",
       "      <td>1</td>\n",
       "      <td>t</td>\n",
       "      <td>https://cdn.rebrickable.com/media/parts/elemen...</td>\n",
       "    </tr>\n",
       "    <tr>\n",
       "      <th>1071475</th>\n",
       "      <td>150237</td>\n",
       "      <td>3673</td>\n",
       "      <td>14</td>\n",
       "      <td>1</td>\n",
       "      <td>t</td>\n",
       "      <td>https://cdn.rebrickable.com/media/parts/elemen...</td>\n",
       "    </tr>\n",
       "    <tr>\n",
       "      <th>1071500</th>\n",
       "      <td>150237</td>\n",
       "      <td>53119</td>\n",
       "      <td>70</td>\n",
       "      <td>1</td>\n",
       "      <td>t</td>\n",
       "      <td>https://cdn.rebrickable.com/media/parts/elemen...</td>\n",
       "    </tr>\n",
       "    <tr>\n",
       "      <th>1071507</th>\n",
       "      <td>150237</td>\n",
       "      <td>6141</td>\n",
       "      <td>46</td>\n",
       "      <td>1</td>\n",
       "      <td>t</td>\n",
       "      <td>https://cdn.rebrickable.com/media/parts/elemen...</td>\n",
       "    </tr>\n",
       "    <tr>\n",
       "      <th>1071512</th>\n",
       "      <td>150237</td>\n",
       "      <td>64567</td>\n",
       "      <td>0</td>\n",
       "      <td>1</td>\n",
       "      <td>t</td>\n",
       "      <td>https://cdn.rebrickable.com/media/parts/elemen...</td>\n",
       "    </tr>\n",
       "    <tr>\n",
       "      <th>1071525</th>\n",
       "      <td>150237</td>\n",
       "      <td>93160</td>\n",
       "      <td>15</td>\n",
       "      <td>1</td>\n",
       "      <td>t</td>\n",
       "      <td>https://cdn.rebrickable.com/media/parts/elemen...</td>\n",
       "    </tr>\n",
       "    <tr>\n",
       "      <th>1071529</th>\n",
       "      <td>150237</td>\n",
       "      <td>98138</td>\n",
       "      <td>33</td>\n",
       "      <td>1</td>\n",
       "      <td>t</td>\n",
       "      <td>https://cdn.rebrickable.com/media/parts/elemen...</td>\n",
       "    </tr>\n",
       "    <tr>\n",
       "      <th>1071530</th>\n",
       "      <td>150237</td>\n",
       "      <td>98138pr0056</td>\n",
       "      <td>84</td>\n",
       "      <td>1</td>\n",
       "      <td>t</td>\n",
       "      <td>https://cdn.rebrickable.com/media/parts/elemen...</td>\n",
       "    </tr>\n",
       "  </tbody>\n",
       "</table>\n",
       "</div>"
      ],
      "text/plain": [
       "         inventory_id     part_num  color_id  quantity is_spare  \\\n",
       "1071444        150237         2447        47         1        t   \n",
       "1071446        150237        24866        30         1        t   \n",
       "1071469        150237        34172        15         1        t   \n",
       "1071475        150237         3673        14         1        t   \n",
       "1071500        150237        53119        70         1        t   \n",
       "1071507        150237         6141        46         1        t   \n",
       "1071512        150237        64567         0         1        t   \n",
       "1071525        150237        93160        15         1        t   \n",
       "1071529        150237        98138        33         1        t   \n",
       "1071530        150237  98138pr0056        84         1        t   \n",
       "\n",
       "                                                   img_url  \n",
       "1071444  https://cdn.rebrickable.com/media/parts/elemen...  \n",
       "1071446  https://cdn.rebrickable.com/media/parts/elemen...  \n",
       "1071469  https://cdn.rebrickable.com/media/parts/elemen...  \n",
       "1071475  https://cdn.rebrickable.com/media/parts/elemen...  \n",
       "1071500  https://cdn.rebrickable.com/media/parts/elemen...  \n",
       "1071507  https://cdn.rebrickable.com/media/parts/elemen...  \n",
       "1071512  https://cdn.rebrickable.com/media/parts/elemen...  \n",
       "1071525  https://cdn.rebrickable.com/media/parts/elemen...  \n",
       "1071529  https://cdn.rebrickable.com/media/parts/elemen...  \n",
       "1071530  https://cdn.rebrickable.com/media/parts/elemen...  "
      ]
     },
     "execution_count": 55,
     "metadata": {},
     "output_type": "execute_result"
    }
   ],
   "source": [
    "inventory_parts_df.loc[(inventory_parts_df['inventory_id'] == 150237) & (inventory_parts_df['is_spare'] == 't')]"
   ]
  },
  {
   "cell_type": "markdown",
   "metadata": {},
   "source": [
    "Create a column that sums all parts together - classic + figures parts."
   ]
  },
  {
   "cell_type": "code",
   "execution_count": 56,
   "metadata": {},
   "outputs": [],
   "source": [
    "inventories_df['total_parts'] = inventories_df['parts'] + inventories_df['fig_parts_sum']"
   ]
  },
  {
   "cell_type": "code",
   "execution_count": 57,
   "metadata": {},
   "outputs": [
    {
     "data": {
      "text/plain": [
       "Index(['inventory_id', 'version', 'set_num', 'max_version', 'parts', 'spares',\n",
       "       'fig_parts_sum', 'fig_count', 'total_parts'],\n",
       "      dtype='object')"
      ]
     },
     "execution_count": 57,
     "metadata": {},
     "output_type": "execute_result"
    }
   ],
   "source": [
    "inventories_df.columns"
   ]
  },
  {
   "cell_type": "markdown",
   "metadata": {},
   "source": [
    "Columns explanation in inventories_df: \\\n",
    "'inventory_id' - inventory id \\\n",
    "'version' - version of set \\\n",
    "'set_num' - set number\\\n",
    "'max_version' - max version of set, used for filter data, no needed, now we analyze only sets with highest possible version\\\n",
    "'parts' - parts count (excluded minifigures parts and spares)\\\n",
    "'spares' - spares count\\\n",
    "'fig_parts_sum' - count of parts for all minifigures added in the set\\\n",
    "'fig_count' - number of minifigures in the set\\\n",
    "'total_parts' - total number of parts (parts + fig_parts_sum), excludes number of spare parts\\\n",
    "Still need to add year of the set to the DataFrame."
   ]
  },
  {
   "cell_type": "code",
   "execution_count": 58,
   "metadata": {},
   "outputs": [
    {
     "data": {
      "text/html": [
       "<div>\n",
       "<style scoped>\n",
       "    .dataframe tbody tr th:only-of-type {\n",
       "        vertical-align: middle;\n",
       "    }\n",
       "\n",
       "    .dataframe tbody tr th {\n",
       "        vertical-align: top;\n",
       "    }\n",
       "\n",
       "    .dataframe thead th {\n",
       "        text-align: right;\n",
       "    }\n",
       "</style>\n",
       "<table border=\"1\" class=\"dataframe\">\n",
       "  <thead>\n",
       "    <tr style=\"text-align: right;\">\n",
       "      <th></th>\n",
       "      <th>set_num</th>\n",
       "      <th>name</th>\n",
       "      <th>year</th>\n",
       "      <th>theme_id</th>\n",
       "      <th>num_parts</th>\n",
       "      <th>img_url</th>\n",
       "    </tr>\n",
       "  </thead>\n",
       "  <tbody>\n",
       "    <tr>\n",
       "      <th>0</th>\n",
       "      <td>0003977811-1</td>\n",
       "      <td>Ninjago: Book of Adventures</td>\n",
       "      <td>2022</td>\n",
       "      <td>761</td>\n",
       "      <td>1</td>\n",
       "      <td>https://cdn.rebrickable.com/media/sets/0003977...</td>\n",
       "    </tr>\n",
       "    <tr>\n",
       "      <th>1</th>\n",
       "      <td>001-1</td>\n",
       "      <td>Gears</td>\n",
       "      <td>1965</td>\n",
       "      <td>756</td>\n",
       "      <td>43</td>\n",
       "      <td>https://cdn.rebrickable.com/media/sets/001-1.jpg</td>\n",
       "    </tr>\n",
       "    <tr>\n",
       "      <th>2</th>\n",
       "      <td>0011-2</td>\n",
       "      <td>Town Mini-Figures</td>\n",
       "      <td>1979</td>\n",
       "      <td>67</td>\n",
       "      <td>12</td>\n",
       "      <td>https://cdn.rebrickable.com/media/sets/0011-2.jpg</td>\n",
       "    </tr>\n",
       "    <tr>\n",
       "      <th>3</th>\n",
       "      <td>0011-3</td>\n",
       "      <td>Castle 2 for 1 Bonus Offer</td>\n",
       "      <td>1987</td>\n",
       "      <td>199</td>\n",
       "      <td>0</td>\n",
       "      <td>https://cdn.rebrickable.com/media/sets/0011-3.jpg</td>\n",
       "    </tr>\n",
       "    <tr>\n",
       "      <th>4</th>\n",
       "      <td>0012-1</td>\n",
       "      <td>Space Mini-Figures</td>\n",
       "      <td>1979</td>\n",
       "      <td>143</td>\n",
       "      <td>12</td>\n",
       "      <td>https://cdn.rebrickable.com/media/sets/0012-1.jpg</td>\n",
       "    </tr>\n",
       "  </tbody>\n",
       "</table>\n",
       "</div>"
      ],
      "text/plain": [
       "        set_num                         name  year  theme_id  num_parts  \\\n",
       "0  0003977811-1  Ninjago: Book of Adventures  2022       761          1   \n",
       "1         001-1                        Gears  1965       756         43   \n",
       "2        0011-2            Town Mini-Figures  1979        67         12   \n",
       "3        0011-3   Castle 2 for 1 Bonus Offer  1987       199          0   \n",
       "4        0012-1           Space Mini-Figures  1979       143         12   \n",
       "\n",
       "                                             img_url  \n",
       "0  https://cdn.rebrickable.com/media/sets/0003977...  \n",
       "1   https://cdn.rebrickable.com/media/sets/001-1.jpg  \n",
       "2  https://cdn.rebrickable.com/media/sets/0011-2.jpg  \n",
       "3  https://cdn.rebrickable.com/media/sets/0011-3.jpg  \n",
       "4  https://cdn.rebrickable.com/media/sets/0012-1.jpg  "
      ]
     },
     "execution_count": 58,
     "metadata": {},
     "output_type": "execute_result"
    }
   ],
   "source": [
    "sets_table.head()"
   ]
  },
  {
   "cell_type": "code",
   "execution_count": 59,
   "metadata": {},
   "outputs": [
    {
     "data": {
      "text/html": [
       "<div>\n",
       "<style scoped>\n",
       "    .dataframe tbody tr th:only-of-type {\n",
       "        vertical-align: middle;\n",
       "    }\n",
       "\n",
       "    .dataframe tbody tr th {\n",
       "        vertical-align: top;\n",
       "    }\n",
       "\n",
       "    .dataframe thead th {\n",
       "        text-align: right;\n",
       "    }\n",
       "</style>\n",
       "<table border=\"1\" class=\"dataframe\">\n",
       "  <thead>\n",
       "    <tr style=\"text-align: right;\">\n",
       "      <th></th>\n",
       "      <th>inventory_id</th>\n",
       "      <th>version</th>\n",
       "      <th>set_num</th>\n",
       "      <th>max_version</th>\n",
       "      <th>parts</th>\n",
       "      <th>spares</th>\n",
       "      <th>fig_parts_sum</th>\n",
       "      <th>fig_count</th>\n",
       "      <th>total_parts</th>\n",
       "    </tr>\n",
       "  </thead>\n",
       "  <tbody>\n",
       "    <tr>\n",
       "      <th>1329</th>\n",
       "      <td>2216</td>\n",
       "      <td>1</td>\n",
       "      <td>0011-3</td>\n",
       "      <td>1</td>\n",
       "      <td>NaN</td>\n",
       "      <td>NaN</td>\n",
       "      <td>NaN</td>\n",
       "      <td>NaN</td>\n",
       "      <td>NaN</td>\n",
       "    </tr>\n",
       "  </tbody>\n",
       "</table>\n",
       "</div>"
      ],
      "text/plain": [
       "      inventory_id  version set_num  max_version  parts  spares  \\\n",
       "1329          2216        1  0011-3            1    NaN     NaN   \n",
       "\n",
       "      fig_parts_sum  fig_count  total_parts  \n",
       "1329            NaN        NaN          NaN  "
      ]
     },
     "execution_count": 59,
     "metadata": {},
     "output_type": "execute_result"
    }
   ],
   "source": [
    "inventories_df[inventories_df['set_num'] == '0011-3']"
   ]
  },
  {
   "cell_type": "code",
   "execution_count": 60,
   "metadata": {},
   "outputs": [
    {
     "data": {
      "text/plain": [
       "38716"
      ]
     },
     "execution_count": 60,
     "metadata": {},
     "output_type": "execute_result"
    }
   ],
   "source": [
    "len(set(inventories_df['set_num']))"
   ]
  },
  {
   "cell_type": "code",
   "execution_count": 61,
   "metadata": {},
   "outputs": [
    {
     "data": {
      "text/plain": [
       "23873"
      ]
     },
     "execution_count": 61,
     "metadata": {},
     "output_type": "execute_result"
    }
   ],
   "source": [
    "len(set(sets_table['set_num']))"
   ]
  },
  {
   "cell_type": "code",
   "execution_count": 62,
   "metadata": {},
   "outputs": [
    {
     "data": {
      "text/plain": [
       "(23873, 9)"
      ]
     },
     "execution_count": 62,
     "metadata": {},
     "output_type": "execute_result"
    }
   ],
   "source": [
    "inventories_df.drop(inventories_df[inventories_df['set_num'].str.match('fig')].index, axis=0, inplace=True)\n",
    "inventories_df.shape"
   ]
  },
  {
   "cell_type": "code",
   "execution_count": 63,
   "metadata": {},
   "outputs": [
    {
     "name": "stdout",
     "output_type": "stream",
     "text": [
      "<class 'pandas.core.frame.DataFrame'>\n",
      "Index: 23873 entries, 0 to 38715\n",
      "Data columns (total 9 columns):\n",
      " #   Column         Non-Null Count  Dtype  \n",
      "---  ------         --------------  -----  \n",
      " 0   inventory_id   23873 non-null  int64  \n",
      " 1   version        23873 non-null  int64  \n",
      " 2   set_num        23873 non-null  object \n",
      " 3   max_version    23873 non-null  int64  \n",
      " 4   parts          17793 non-null  float64\n",
      " 5   spares         17793 non-null  float64\n",
      " 6   fig_parts_sum  8284 non-null   float64\n",
      " 7   fig_count      8284 non-null   float64\n",
      " 8   total_parts    8056 non-null   float64\n",
      "dtypes: float64(5), int64(3), object(1)\n",
      "memory usage: 1.8+ MB\n"
     ]
    }
   ],
   "source": [
    "inventories_df.info()"
   ]
  },
  {
   "cell_type": "code",
   "execution_count": 64,
   "metadata": {},
   "outputs": [
    {
     "name": "stdout",
     "output_type": "stream",
     "text": [
      "<class 'pandas.core.frame.DataFrame'>\n",
      "Index: 23873 entries, 0 to 38715\n",
      "Data columns (total 9 columns):\n",
      " #   Column         Non-Null Count  Dtype  \n",
      "---  ------         --------------  -----  \n",
      " 0   inventory_id   23873 non-null  int64  \n",
      " 1   version        23873 non-null  int64  \n",
      " 2   set_num        23873 non-null  object \n",
      " 3   max_version    23873 non-null  int64  \n",
      " 4   parts          23873 non-null  float64\n",
      " 5   spares         23873 non-null  float64\n",
      " 6   fig_parts_sum  23873 non-null  float64\n",
      " 7   fig_count      23873 non-null  float64\n",
      " 8   total_parts    23873 non-null  float64\n",
      "dtypes: float64(5), int64(3), object(1)\n",
      "memory usage: 1.8+ MB\n"
     ]
    }
   ],
   "source": [
    "inventories_df.fillna(0, inplace=True)\n",
    "inventories_df.info()"
   ]
  },
  {
   "cell_type": "code",
   "execution_count": 65,
   "metadata": {},
   "outputs": [
    {
     "name": "stdout",
     "output_type": "stream",
     "text": [
      "<class 'pandas.core.frame.DataFrame'>\n",
      "Index: 23873 entries, 0 to 38715\n",
      "Data columns (total 9 columns):\n",
      " #   Column         Non-Null Count  Dtype  \n",
      "---  ------         --------------  -----  \n",
      " 0   inventory_id   23873 non-null  int64  \n",
      " 1   version        23873 non-null  int64  \n",
      " 2   set_num        23873 non-null  object \n",
      " 3   max_version    23873 non-null  int64  \n",
      " 4   parts          23873 non-null  float64\n",
      " 5   spares         23873 non-null  float64\n",
      " 6   fig_parts_sum  23873 non-null  float64\n",
      " 7   fig_count      23873 non-null  float64\n",
      " 8   total_parts    23873 non-null  float64\n",
      "dtypes: float64(5), int64(3), object(1)\n",
      "memory usage: 1.8+ MB\n"
     ]
    }
   ],
   "source": [
    "inventories_df['total_parts'] = inventories_df['parts'] + inventories_df['fig_parts_sum']\n",
    "inventories_df.info()"
   ]
  },
  {
   "cell_type": "code",
   "execution_count": 66,
   "metadata": {},
   "outputs": [
    {
     "name": "stdout",
     "output_type": "stream",
     "text": [
      "<class 'pandas.core.frame.DataFrame'>\n",
      "Index: 23873 entries, 0 to 38715\n",
      "Data columns (total 9 columns):\n",
      " #   Column         Non-Null Count  Dtype \n",
      "---  ------         --------------  ----- \n",
      " 0   inventory_id   23873 non-null  int64 \n",
      " 1   version        23873 non-null  int64 \n",
      " 2   set_num        23873 non-null  object\n",
      " 3   max_version    23873 non-null  int64 \n",
      " 4   parts          23873 non-null  int64 \n",
      " 5   spares         23873 non-null  int64 \n",
      " 6   fig_parts_sum  23873 non-null  int64 \n",
      " 7   fig_count      23873 non-null  int64 \n",
      " 8   total_parts    23873 non-null  int64 \n",
      "dtypes: int64(8), object(1)\n",
      "memory usage: 1.8+ MB\n"
     ]
    }
   ],
   "source": [
    "inventories_df['parts'] = inventories_df['parts'].astype('int64')\n",
    "inventories_df['spares'] = inventories_df['spares'].astype('int64')\n",
    "inventories_df['fig_parts_sum'] = inventories_df['fig_parts_sum'].astype('int64')\n",
    "inventories_df['fig_count'] = inventories_df['fig_count'].astype('int64')\n",
    "inventories_df['total_parts'] = inventories_df['total_parts'].astype('int64')\n",
    "inventories_df.info()"
   ]
  },
  {
   "cell_type": "code",
   "execution_count": 67,
   "metadata": {},
   "outputs": [
    {
     "name": "stdout",
     "output_type": "stream",
     "text": [
      "<class 'pandas.core.frame.DataFrame'>\n",
      "Index: 23873 entries, 0 to 38715\n",
      "Data columns (total 8 columns):\n",
      " #   Column         Non-Null Count  Dtype \n",
      "---  ------         --------------  ----- \n",
      " 0   inventory_id   23873 non-null  int64 \n",
      " 1   version        23873 non-null  int64 \n",
      " 2   set_num        23873 non-null  object\n",
      " 3   parts          23873 non-null  int64 \n",
      " 4   spares         23873 non-null  int64 \n",
      " 5   fig_parts_sum  23873 non-null  int64 \n",
      " 6   fig_count      23873 non-null  int64 \n",
      " 7   total_parts    23873 non-null  int64 \n",
      "dtypes: int64(7), object(1)\n",
      "memory usage: 1.6+ MB\n"
     ]
    }
   ],
   "source": [
    "inventories_df.drop(columns=['max_version'], inplace=True)\n",
    "inventories_df.info()"
   ]
  },
  {
   "cell_type": "code",
   "execution_count": 68,
   "metadata": {},
   "outputs": [
    {
     "name": "stdout",
     "output_type": "stream",
     "text": [
      "<class 'pandas.core.frame.DataFrame'>\n",
      "Index: 23873 entries, 0 to 38715\n",
      "Data columns (total 7 columns):\n",
      " #   Column         Non-Null Count  Dtype \n",
      "---  ------         --------------  ----- \n",
      " 0   inventory_id   23873 non-null  int64 \n",
      " 1   set_num        23873 non-null  object\n",
      " 2   parts          23873 non-null  int64 \n",
      " 3   spares         23873 non-null  int64 \n",
      " 4   fig_parts_sum  23873 non-null  int64 \n",
      " 5   fig_count      23873 non-null  int64 \n",
      " 6   total_parts    23873 non-null  int64 \n",
      "dtypes: int64(6), object(1)\n",
      "memory usage: 1.5+ MB\n"
     ]
    }
   ],
   "source": [
    "inventories_df.drop(columns=['version'], inplace=True)\n",
    "inventories_df.info()"
   ]
  },
  {
   "cell_type": "code",
   "execution_count": 69,
   "metadata": {},
   "outputs": [
    {
     "data": {
      "text/html": [
       "<div>\n",
       "<style scoped>\n",
       "    .dataframe tbody tr th:only-of-type {\n",
       "        vertical-align: middle;\n",
       "    }\n",
       "\n",
       "    .dataframe tbody tr th {\n",
       "        vertical-align: top;\n",
       "    }\n",
       "\n",
       "    .dataframe thead th {\n",
       "        text-align: right;\n",
       "    }\n",
       "</style>\n",
       "<table border=\"1\" class=\"dataframe\">\n",
       "  <thead>\n",
       "    <tr style=\"text-align: right;\">\n",
       "      <th></th>\n",
       "      <th>inventory_id</th>\n",
       "      <th>set_num</th>\n",
       "      <th>parts</th>\n",
       "      <th>spares</th>\n",
       "      <th>fig_parts_sum</th>\n",
       "      <th>fig_count</th>\n",
       "      <th>total_parts</th>\n",
       "    </tr>\n",
       "  </thead>\n",
       "  <tbody>\n",
       "    <tr>\n",
       "      <th>0</th>\n",
       "      <td>1</td>\n",
       "      <td>7922-1</td>\n",
       "      <td>5</td>\n",
       "      <td>0</td>\n",
       "      <td>0</td>\n",
       "      <td>0</td>\n",
       "      <td>5</td>\n",
       "    </tr>\n",
       "    <tr>\n",
       "      <th>1</th>\n",
       "      <td>3</td>\n",
       "      <td>3931-1</td>\n",
       "      <td>39</td>\n",
       "      <td>3</td>\n",
       "      <td>4</td>\n",
       "      <td>1</td>\n",
       "      <td>43</td>\n",
       "    </tr>\n",
       "    <tr>\n",
       "      <th>2</th>\n",
       "      <td>4</td>\n",
       "      <td>6942-1</td>\n",
       "      <td>16</td>\n",
       "      <td>1</td>\n",
       "      <td>4</td>\n",
       "      <td>1</td>\n",
       "      <td>20</td>\n",
       "    </tr>\n",
       "    <tr>\n",
       "      <th>3</th>\n",
       "      <td>15</td>\n",
       "      <td>5158-1</td>\n",
       "      <td>2</td>\n",
       "      <td>0</td>\n",
       "      <td>0</td>\n",
       "      <td>0</td>\n",
       "      <td>2</td>\n",
       "    </tr>\n",
       "    <tr>\n",
       "      <th>4</th>\n",
       "      <td>16</td>\n",
       "      <td>903-1</td>\n",
       "      <td>10</td>\n",
       "      <td>0</td>\n",
       "      <td>0</td>\n",
       "      <td>0</td>\n",
       "      <td>10</td>\n",
       "    </tr>\n",
       "  </tbody>\n",
       "</table>\n",
       "</div>"
      ],
      "text/plain": [
       "   inventory_id set_num  parts  spares  fig_parts_sum  fig_count  total_parts\n",
       "0             1  7922-1      5       0              0          0            5\n",
       "1             3  3931-1     39       3              4          1           43\n",
       "2             4  6942-1     16       1              4          1           20\n",
       "3            15  5158-1      2       0              0          0            2\n",
       "4            16   903-1     10       0              0          0           10"
      ]
     },
     "execution_count": 69,
     "metadata": {},
     "output_type": "execute_result"
    }
   ],
   "source": [
    "inventories_df.head()"
   ]
  },
  {
   "cell_type": "code",
   "execution_count": 70,
   "metadata": {},
   "outputs": [
    {
     "data": {
      "text/plain": [
       "<Axes: >"
      ]
     },
     "execution_count": 70,
     "metadata": {},
     "output_type": "execute_result"
    },
    {
     "data": {
      "image/png": "[encoded data removed]",
      "text/plain": [
       "<Figure size 640x480 with 2 Axes>"
      ]
     },
     "metadata": {},
     "output_type": "display_data"
    }
   ],
   "source": [
    "sns.heatmap(inventories_df[['parts', 'spares', 'fig_parts_sum', 'fig_count', 'total_parts']].corr())"
   ]
  },
  {
   "cell_type": "code",
   "execution_count": 71,
   "metadata": {},
   "outputs": [
    {
     "data": {
      "text/plain": [
       "<Axes: xlabel='total_parts', ylabel='spares'>"
      ]
     },
     "execution_count": 71,
     "metadata": {},
     "output_type": "execute_result"
    },
    {
     "data": {
      "image/png": "[encoded data removed]",
      "text/plain": [
       "<Figure size 640x480 with 1 Axes>"
      ]
     },
     "metadata": {},
     "output_type": "display_data"
    }
   ],
   "source": [
    "sns.scatterplot(data=inventories_df, x='total_parts', y='spares')"
   ]
  },
  {
   "cell_type": "code",
   "execution_count": 72,
   "metadata": {},
   "outputs": [
    {
     "data": {
      "text/plain": [
       "fig_count\n",
       "0     15590\n",
       "1      3948\n",
       "2      1572\n",
       "3      1062\n",
       "4       644\n",
       "5       377\n",
       "6       256\n",
       "7       142\n",
       "8       103\n",
       "9        57\n",
       "10       25\n",
       "12       18\n",
       "11       18\n",
       "13       13\n",
       "14        9\n",
       "15        9\n",
       "22        6\n",
       "21        4\n",
       "16        3\n",
       "19        3\n",
       "18        3\n",
       "28        2\n",
       "25        2\n",
       "17        1\n",
       "31        1\n",
       "29        1\n",
       "69        1\n",
       "23        1\n",
       "24        1\n",
       "20        1\n",
       "Name: count, dtype: int64"
      ]
     },
     "execution_count": 72,
     "metadata": {},
     "output_type": "execute_result"
    }
   ],
   "source": [
    "inventories_df['fig_count'].value_counts()"
   ]
  },
  {
   "cell_type": "code",
   "execution_count": 73,
   "metadata": {},
   "outputs": [
    {
     "data": {
      "text/plain": [
       "parts\n",
       "0       6094\n",
       "1        786\n",
       "2        660\n",
       "3        511\n",
       "4        400\n",
       "        ... \n",
       "1127       1\n",
       "2793       1\n",
       "823        1\n",
       "1959       1\n",
       "2365       1\n",
       "Name: count, Length: 1498, dtype: int64"
      ]
     },
     "execution_count": 73,
     "metadata": {},
     "output_type": "execute_result"
    }
   ],
   "source": [
    "inventories_df['parts'].value_counts()"
   ]
  },
  {
   "cell_type": "code",
   "execution_count": 74,
   "metadata": {},
   "outputs": [
    {
     "data": {
      "text/html": [
       "<div>\n",
       "<style scoped>\n",
       "    .dataframe tbody tr th:only-of-type {\n",
       "        vertical-align: middle;\n",
       "    }\n",
       "\n",
       "    .dataframe tbody tr th {\n",
       "        vertical-align: top;\n",
       "    }\n",
       "\n",
       "    .dataframe thead th {\n",
       "        text-align: right;\n",
       "    }\n",
       "</style>\n",
       "<table border=\"1\" class=\"dataframe\">\n",
       "  <thead>\n",
       "    <tr style=\"text-align: right;\">\n",
       "      <th></th>\n",
       "      <th>inventory_id</th>\n",
       "      <th>set_num</th>\n",
       "      <th>parts</th>\n",
       "      <th>spares</th>\n",
       "      <th>fig_parts_sum</th>\n",
       "      <th>fig_count</th>\n",
       "      <th>total_parts</th>\n",
       "    </tr>\n",
       "  </thead>\n",
       "  <tbody>\n",
       "    <tr>\n",
       "      <th>32240</th>\n",
       "      <td>150237</td>\n",
       "      <td>60369-1</td>\n",
       "      <td>188</td>\n",
       "      <td>10</td>\n",
       "      <td>9</td>\n",
       "      <td>2</td>\n",
       "      <td>197</td>\n",
       "    </tr>\n",
       "  </tbody>\n",
       "</table>\n",
       "</div>"
      ],
      "text/plain": [
       "       inventory_id  set_num  parts  spares  fig_parts_sum  fig_count  \\\n",
       "32240        150237  60369-1    188      10              9          2   \n",
       "\n",
       "       total_parts  \n",
       "32240          197  "
      ]
     },
     "execution_count": 74,
     "metadata": {},
     "output_type": "execute_result"
    }
   ],
   "source": [
    "inventories_df.loc[inventories_df['set_num'] == '60369-1'] # tractor : '60287-1' # Mobile Police Dog Training 60369"
   ]
  },
  {
   "cell_type": "code",
   "execution_count": 75,
   "metadata": {},
   "outputs": [
    {
     "data": {
      "text/html": [
       "<div>\n",
       "<style scoped>\n",
       "    .dataframe tbody tr th:only-of-type {\n",
       "        vertical-align: middle;\n",
       "    }\n",
       "\n",
       "    .dataframe tbody tr th {\n",
       "        vertical-align: top;\n",
       "    }\n",
       "\n",
       "    .dataframe thead th {\n",
       "        text-align: right;\n",
       "    }\n",
       "</style>\n",
       "<table border=\"1\" class=\"dataframe\">\n",
       "  <thead>\n",
       "    <tr style=\"text-align: right;\">\n",
       "      <th></th>\n",
       "      <th>inventory_id</th>\n",
       "      <th>set_num</th>\n",
       "      <th>parts</th>\n",
       "      <th>spares</th>\n",
       "      <th>fig_parts_sum</th>\n",
       "      <th>fig_count</th>\n",
       "      <th>total_parts</th>\n",
       "      <th>name</th>\n",
       "      <th>year</th>\n",
       "      <th>theme_id</th>\n",
       "      <th>num_parts</th>\n",
       "      <th>img_url</th>\n",
       "    </tr>\n",
       "  </thead>\n",
       "  <tbody>\n",
       "    <tr>\n",
       "      <th>0</th>\n",
       "      <td>1</td>\n",
       "      <td>7922-1</td>\n",
       "      <td>5</td>\n",
       "      <td>0</td>\n",
       "      <td>0</td>\n",
       "      <td>0</td>\n",
       "      <td>5</td>\n",
       "      <td>McDonald's Sports Set Number 6 - Orange Vest S...</td>\n",
       "      <td>2004</td>\n",
       "      <td>460</td>\n",
       "      <td>5</td>\n",
       "      <td>https://cdn.rebrickable.com/media/sets/7922-1.jpg</td>\n",
       "    </tr>\n",
       "    <tr>\n",
       "      <th>1</th>\n",
       "      <td>3</td>\n",
       "      <td>3931-1</td>\n",
       "      <td>39</td>\n",
       "      <td>3</td>\n",
       "      <td>4</td>\n",
       "      <td>1</td>\n",
       "      <td>43</td>\n",
       "      <td>Emma's Splash Pool</td>\n",
       "      <td>2012</td>\n",
       "      <td>494</td>\n",
       "      <td>43</td>\n",
       "      <td>https://cdn.rebrickable.com/media/sets/3931-1.jpg</td>\n",
       "    </tr>\n",
       "    <tr>\n",
       "      <th>2</th>\n",
       "      <td>4</td>\n",
       "      <td>6942-1</td>\n",
       "      <td>16</td>\n",
       "      <td>1</td>\n",
       "      <td>4</td>\n",
       "      <td>1</td>\n",
       "      <td>20</td>\n",
       "      <td>Zo Weevil</td>\n",
       "      <td>1999</td>\n",
       "      <td>134</td>\n",
       "      <td>20</td>\n",
       "      <td>https://cdn.rebrickable.com/media/sets/6942-1.jpg</td>\n",
       "    </tr>\n",
       "    <tr>\n",
       "      <th>3</th>\n",
       "      <td>15</td>\n",
       "      <td>5158-1</td>\n",
       "      <td>2</td>\n",
       "      <td>0</td>\n",
       "      <td>0</td>\n",
       "      <td>0</td>\n",
       "      <td>2</td>\n",
       "      <td>T-Junction, Circle Plates</td>\n",
       "      <td>1990</td>\n",
       "      <td>443</td>\n",
       "      <td>2</td>\n",
       "      <td>https://cdn.rebrickable.com/media/sets/5158-1.jpg</td>\n",
       "    </tr>\n",
       "    <tr>\n",
       "      <th>4</th>\n",
       "      <td>16</td>\n",
       "      <td>903-1</td>\n",
       "      <td>10</td>\n",
       "      <td>0</td>\n",
       "      <td>0</td>\n",
       "      <td>0</td>\n",
       "      <td>10</td>\n",
       "      <td>Train Wheels and Couplers</td>\n",
       "      <td>1969</td>\n",
       "      <td>371</td>\n",
       "      <td>10</td>\n",
       "      <td>https://cdn.rebrickable.com/media/sets/903-1.jpg</td>\n",
       "    </tr>\n",
       "  </tbody>\n",
       "</table>\n",
       "</div>"
      ],
      "text/plain": [
       "   inventory_id set_num  parts  spares  fig_parts_sum  fig_count  total_parts  \\\n",
       "0             1  7922-1      5       0              0          0            5   \n",
       "1             3  3931-1     39       3              4          1           43   \n",
       "2             4  6942-1     16       1              4          1           20   \n",
       "3            15  5158-1      2       0              0          0            2   \n",
       "4            16   903-1     10       0              0          0           10   \n",
       "\n",
       "                                                name  year  theme_id  \\\n",
       "0  McDonald's Sports Set Number 6 - Orange Vest S...  2004       460   \n",
       "1                                 Emma's Splash Pool  2012       494   \n",
       "2                                          Zo Weevil  1999       134   \n",
       "3                          T-Junction, Circle Plates  1990       443   \n",
       "4                          Train Wheels and Couplers  1969       371   \n",
       "\n",
       "   num_parts                                            img_url  \n",
       "0          5  https://cdn.rebrickable.com/media/sets/7922-1.jpg  \n",
       "1         43  https://cdn.rebrickable.com/media/sets/3931-1.jpg  \n",
       "2         20  https://cdn.rebrickable.com/media/sets/6942-1.jpg  \n",
       "3          2  https://cdn.rebrickable.com/media/sets/5158-1.jpg  \n",
       "4         10   https://cdn.rebrickable.com/media/sets/903-1.jpg  "
      ]
     },
     "execution_count": 75,
     "metadata": {},
     "output_type": "execute_result"
    }
   ],
   "source": [
    "inventories_year_df = inventories_df.merge(sets_table, on='set_num')\n",
    "inventories_year_df.head()"
   ]
  },
  {
   "cell_type": "code",
   "execution_count": 76,
   "metadata": {},
   "outputs": [
    {
     "name": "stdout",
     "output_type": "stream",
     "text": [
      "<class 'pandas.core.frame.DataFrame'>\n",
      "RangeIndex: 23873 entries, 0 to 23872\n",
      "Data columns (total 10 columns):\n",
      " #   Column         Non-Null Count  Dtype \n",
      "---  ------         --------------  ----- \n",
      " 0   inventory_id   23873 non-null  int64 \n",
      " 1   set_num        23873 non-null  object\n",
      " 2   parts          23873 non-null  int64 \n",
      " 3   spares         23873 non-null  int64 \n",
      " 4   fig_parts_sum  23873 non-null  int64 \n",
      " 5   fig_count      23873 non-null  int64 \n",
      " 6   total_parts    23873 non-null  int64 \n",
      " 7   year           23873 non-null  int64 \n",
      " 8   theme_id       23873 non-null  int64 \n",
      " 9   num_parts      23873 non-null  int64 \n",
      "dtypes: int64(9), object(1)\n",
      "memory usage: 1.8+ MB\n"
     ]
    }
   ],
   "source": [
    "inventories_year_df.drop(columns=['name', 'img_url'], inplace=True)\n",
    "inventories_year_df.info()"
   ]
  },
  {
   "cell_type": "code",
   "execution_count": 77,
   "metadata": {},
   "outputs": [],
   "source": [
    "inventories_year_df['diff'] = inventories_year_df['total_parts'] - inventories_year_df['num_parts']"
   ]
  },
  {
   "cell_type": "code",
   "execution_count": 78,
   "metadata": {},
   "outputs": [
    {
     "data": {
      "text/html": [
       "<div>\n",
       "<style scoped>\n",
       "    .dataframe tbody tr th:only-of-type {\n",
       "        vertical-align: middle;\n",
       "    }\n",
       "\n",
       "    .dataframe tbody tr th {\n",
       "        vertical-align: top;\n",
       "    }\n",
       "\n",
       "    .dataframe thead th {\n",
       "        text-align: right;\n",
       "    }\n",
       "</style>\n",
       "<table border=\"1\" class=\"dataframe\">\n",
       "  <thead>\n",
       "    <tr style=\"text-align: right;\">\n",
       "      <th></th>\n",
       "      <th>inventory_id</th>\n",
       "      <th>set_num</th>\n",
       "      <th>parts</th>\n",
       "      <th>spares</th>\n",
       "      <th>fig_parts_sum</th>\n",
       "      <th>fig_count</th>\n",
       "      <th>total_parts</th>\n",
       "      <th>year</th>\n",
       "      <th>theme_id</th>\n",
       "      <th>num_parts</th>\n",
       "      <th>diff</th>\n",
       "    </tr>\n",
       "  </thead>\n",
       "  <tbody>\n",
       "    <tr>\n",
       "      <th>1924</th>\n",
       "      <td>3156</td>\n",
       "      <td>1049-1</td>\n",
       "      <td>238</td>\n",
       "      <td>0</td>\n",
       "      <td>12</td>\n",
       "      <td>1</td>\n",
       "      <td>250</td>\n",
       "      <td>1985</td>\n",
       "      <td>507</td>\n",
       "      <td>238</td>\n",
       "      <td>12</td>\n",
       "    </tr>\n",
       "    <tr>\n",
       "      <th>2123</th>\n",
       "      <td>3484</td>\n",
       "      <td>557-1</td>\n",
       "      <td>721</td>\n",
       "      <td>4</td>\n",
       "      <td>8</td>\n",
       "      <td>2</td>\n",
       "      <td>729</td>\n",
       "      <td>1987</td>\n",
       "      <td>467</td>\n",
       "      <td>721</td>\n",
       "      <td>8</td>\n",
       "    </tr>\n",
       "    <tr>\n",
       "      <th>4063</th>\n",
       "      <td>6813</td>\n",
       "      <td>1589-2</td>\n",
       "      <td>247</td>\n",
       "      <td>4</td>\n",
       "      <td>16</td>\n",
       "      <td>2</td>\n",
       "      <td>263</td>\n",
       "      <td>1986</td>\n",
       "      <td>67</td>\n",
       "      <td>259</td>\n",
       "      <td>4</td>\n",
       "    </tr>\n",
       "    <tr>\n",
       "      <th>4097</th>\n",
       "      <td>6862</td>\n",
       "      <td>70818-1</td>\n",
       "      <td>165</td>\n",
       "      <td>10</td>\n",
       "      <td>32</td>\n",
       "      <td>5</td>\n",
       "      <td>197</td>\n",
       "      <td>2015</td>\n",
       "      <td>578</td>\n",
       "      <td>198</td>\n",
       "      <td>-1</td>\n",
       "    </tr>\n",
       "    <tr>\n",
       "      <th>4717</th>\n",
       "      <td>7901</td>\n",
       "      <td>3548-2</td>\n",
       "      <td>0</td>\n",
       "      <td>0</td>\n",
       "      <td>0</td>\n",
       "      <td>0</td>\n",
       "      <td>0</td>\n",
       "      <td>2003</td>\n",
       "      <td>459</td>\n",
       "      <td>3</td>\n",
       "      <td>-3</td>\n",
       "    </tr>\n",
       "    <tr>\n",
       "      <th>...</th>\n",
       "      <td>...</td>\n",
       "      <td>...</td>\n",
       "      <td>...</td>\n",
       "      <td>...</td>\n",
       "      <td>...</td>\n",
       "      <td>...</td>\n",
       "      <td>...</td>\n",
       "      <td>...</td>\n",
       "      <td>...</td>\n",
       "      <td>...</td>\n",
       "      <td>...</td>\n",
       "    </tr>\n",
       "    <tr>\n",
       "      <th>23107</th>\n",
       "      <td>233589</td>\n",
       "      <td>6527186-1</td>\n",
       "      <td>47</td>\n",
       "      <td>0</td>\n",
       "      <td>5</td>\n",
       "      <td>1</td>\n",
       "      <td>52</td>\n",
       "      <td>2024</td>\n",
       "      <td>749</td>\n",
       "      <td>47</td>\n",
       "      <td>5</td>\n",
       "    </tr>\n",
       "    <tr>\n",
       "      <th>23261</th>\n",
       "      <td>235781</td>\n",
       "      <td>892409-1</td>\n",
       "      <td>5</td>\n",
       "      <td>0</td>\n",
       "      <td>4</td>\n",
       "      <td>1</td>\n",
       "      <td>9</td>\n",
       "      <td>2024</td>\n",
       "      <td>435</td>\n",
       "      <td>5</td>\n",
       "      <td>4</td>\n",
       "    </tr>\n",
       "    <tr>\n",
       "      <th>23507</th>\n",
       "      <td>237019</td>\n",
       "      <td>75022-1</td>\n",
       "      <td>195</td>\n",
       "      <td>7</td>\n",
       "      <td>16</td>\n",
       "      <td>3</td>\n",
       "      <td>211</td>\n",
       "      <td>2013</td>\n",
       "      <td>158</td>\n",
       "      <td>195</td>\n",
       "      <td>16</td>\n",
       "    </tr>\n",
       "    <tr>\n",
       "      <th>23834</th>\n",
       "      <td>240921</td>\n",
       "      <td>9788325344535-1</td>\n",
       "      <td>3</td>\n",
       "      <td>0</td>\n",
       "      <td>5</td>\n",
       "      <td>1</td>\n",
       "      <td>8</td>\n",
       "      <td>2024</td>\n",
       "      <td>761</td>\n",
       "      <td>3</td>\n",
       "      <td>5</td>\n",
       "    </tr>\n",
       "    <tr>\n",
       "      <th>23837</th>\n",
       "      <td>240952</td>\n",
       "      <td>9788325345105-1</td>\n",
       "      <td>19</td>\n",
       "      <td>0</td>\n",
       "      <td>5</td>\n",
       "      <td>1</td>\n",
       "      <td>24</td>\n",
       "      <td>2024</td>\n",
       "      <td>761</td>\n",
       "      <td>19</td>\n",
       "      <td>5</td>\n",
       "    </tr>\n",
       "  </tbody>\n",
       "</table>\n",
       "<p>157 rows × 11 columns</p>\n",
       "</div>"
      ],
      "text/plain": [
       "       inventory_id          set_num  parts  spares  fig_parts_sum  fig_count  \\\n",
       "1924           3156           1049-1    238       0             12          1   \n",
       "2123           3484            557-1    721       4              8          2   \n",
       "4063           6813           1589-2    247       4             16          2   \n",
       "4097           6862          70818-1    165      10             32          5   \n",
       "4717           7901           3548-2      0       0              0          0   \n",
       "...             ...              ...    ...     ...            ...        ...   \n",
       "23107        233589        6527186-1     47       0              5          1   \n",
       "23261        235781         892409-1      5       0              4          1   \n",
       "23507        237019          75022-1    195       7             16          3   \n",
       "23834        240921  9788325344535-1      3       0              5          1   \n",
       "23837        240952  9788325345105-1     19       0              5          1   \n",
       "\n",
       "       total_parts  year  theme_id  num_parts  diff  \n",
       "1924           250  1985       507        238    12  \n",
       "2123           729  1987       467        721     8  \n",
       "4063           263  1986        67        259     4  \n",
       "4097           197  2015       578        198    -1  \n",
       "4717             0  2003       459          3    -3  \n",
       "...            ...   ...       ...        ...   ...  \n",
       "23107           52  2024       749         47     5  \n",
       "23261            9  2024       435          5     4  \n",
       "23507          211  2013       158        195    16  \n",
       "23834            8  2024       761          3     5  \n",
       "23837           24  2024       761         19     5  \n",
       "\n",
       "[157 rows x 11 columns]"
      ]
     },
     "execution_count": 78,
     "metadata": {},
     "output_type": "execute_result"
    }
   ],
   "source": [
    "inventories_year_df[inventories_year_df['diff'] != 0]"
   ]
  },
  {
   "cell_type": "markdown",
   "metadata": {},
   "source": [
    "Need to further analyze carefully differences? Or stick to what I have counted? Or prepare charts for both perspectives? - to think\\\n",
    "Now let's take a look at a chart of mean parts value per set per year. Taking into consideration 'total_parts' columns."
   ]
  },
  {
   "cell_type": "code",
   "execution_count": 79,
   "metadata": {},
   "outputs": [
    {
     "data": {
      "text/html": [
       "<div>\n",
       "<style scoped>\n",
       "    .dataframe tbody tr th:only-of-type {\n",
       "        vertical-align: middle;\n",
       "    }\n",
       "\n",
       "    .dataframe tbody tr th {\n",
       "        vertical-align: top;\n",
       "    }\n",
       "\n",
       "    .dataframe thead th {\n",
       "        text-align: right;\n",
       "    }\n",
       "</style>\n",
       "<table border=\"1\" class=\"dataframe\">\n",
       "  <thead>\n",
       "    <tr style=\"text-align: right;\">\n",
       "      <th></th>\n",
       "      <th>year</th>\n",
       "      <th>set_count</th>\n",
       "      <th>parts_per_set_mean</th>\n",
       "    </tr>\n",
       "  </thead>\n",
       "  <tbody>\n",
       "    <tr>\n",
       "      <th>0</th>\n",
       "      <td>1949</td>\n",
       "      <td>5</td>\n",
       "      <td>99.600000</td>\n",
       "    </tr>\n",
       "    <tr>\n",
       "      <th>1</th>\n",
       "      <td>1950</td>\n",
       "      <td>6</td>\n",
       "      <td>1.000000</td>\n",
       "    </tr>\n",
       "    <tr>\n",
       "      <th>2</th>\n",
       "      <td>1953</td>\n",
       "      <td>4</td>\n",
       "      <td>12.500000</td>\n",
       "    </tr>\n",
       "    <tr>\n",
       "      <th>3</th>\n",
       "      <td>1954</td>\n",
       "      <td>14</td>\n",
       "      <td>8.357143</td>\n",
       "    </tr>\n",
       "    <tr>\n",
       "      <th>4</th>\n",
       "      <td>1955</td>\n",
       "      <td>39</td>\n",
       "      <td>12.205128</td>\n",
       "    </tr>\n",
       "  </tbody>\n",
       "</table>\n",
       "</div>"
      ],
      "text/plain": [
       "   year  set_count  parts_per_set_mean\n",
       "0  1949          5           99.600000\n",
       "1  1950          6            1.000000\n",
       "2  1953          4           12.500000\n",
       "3  1954         14            8.357143\n",
       "4  1955         39           12.205128"
      ]
     },
     "execution_count": 79,
     "metadata": {},
     "output_type": "execute_result"
    }
   ],
   "source": [
    "data_for_chart = (inventories_year_df\n",
    "                      .groupby('year')\n",
    "                      .agg(\n",
    "                          set_count=('total_parts', 'count'), \n",
    "                          parts_per_set_mean=('total_parts', 'mean')\n",
    "                          )\n",
    "                      .reset_index()\n",
    "                      .sort_values(by='year')\n",
    "                 )\n",
    "data_for_chart.head()"
   ]
  },
  {
   "cell_type": "code",
   "execution_count": 80,
   "metadata": {},
   "outputs": [
    {
     "data": {
      "text/html": [
       "<div>\n",
       "<style scoped>\n",
       "    .dataframe tbody tr th:only-of-type {\n",
       "        vertical-align: middle;\n",
       "    }\n",
       "\n",
       "    .dataframe tbody tr th {\n",
       "        vertical-align: top;\n",
       "    }\n",
       "\n",
       "    .dataframe thead th {\n",
       "        text-align: right;\n",
       "    }\n",
       "</style>\n",
       "<table border=\"1\" class=\"dataframe\">\n",
       "  <thead>\n",
       "    <tr style=\"text-align: right;\">\n",
       "      <th></th>\n",
       "      <th>year</th>\n",
       "      <th>set_count</th>\n",
       "      <th>parts_per_set_mean</th>\n",
       "    </tr>\n",
       "  </thead>\n",
       "  <tbody>\n",
       "    <tr>\n",
       "      <th>0</th>\n",
       "      <td>1949</td>\n",
       "      <td>5</td>\n",
       "      <td>99</td>\n",
       "    </tr>\n",
       "    <tr>\n",
       "      <th>1</th>\n",
       "      <td>1950</td>\n",
       "      <td>6</td>\n",
       "      <td>1</td>\n",
       "    </tr>\n",
       "    <tr>\n",
       "      <th>2</th>\n",
       "      <td>1953</td>\n",
       "      <td>4</td>\n",
       "      <td>12</td>\n",
       "    </tr>\n",
       "    <tr>\n",
       "      <th>3</th>\n",
       "      <td>1954</td>\n",
       "      <td>14</td>\n",
       "      <td>8</td>\n",
       "    </tr>\n",
       "    <tr>\n",
       "      <th>4</th>\n",
       "      <td>1955</td>\n",
       "      <td>39</td>\n",
       "      <td>12</td>\n",
       "    </tr>\n",
       "  </tbody>\n",
       "</table>\n",
       "</div>"
      ],
      "text/plain": [
       "   year  set_count  parts_per_set_mean\n",
       "0  1949          5                  99\n",
       "1  1950          6                   1\n",
       "2  1953          4                  12\n",
       "3  1954         14                   8\n",
       "4  1955         39                  12"
      ]
     },
     "execution_count": 80,
     "metadata": {},
     "output_type": "execute_result"
    }
   ],
   "source": [
    "data_for_chart['parts_per_set_mean'] = data_for_chart['parts_per_set_mean'].astype('int64')\n",
    "data_for_chart.head()"
   ]
  },
  {
   "cell_type": "code",
   "execution_count": 81,
   "metadata": {},
   "outputs": [
    {
     "data": {
      "image/png": "[encoded data removed]",
      "text/plain": [
       "<Figure size 1800x700 with 1 Axes>"
      ]
     },
     "metadata": {},
     "output_type": "display_data"
    }
   ],
   "source": [
    "ax = sns.set_style(style=None)\n",
    "fig, ax = plt.subplots(figsize=(18,7))\n",
    "plt.grid(axis='y', alpha=0.5)\n",
    "sns.barplot(data = data_for_chart, x='year', y='parts_per_set_mean', alpha=0.25, ax=ax, palette='hls', width=0.5, order=sets_table_year['year']) \n",
    "ax.tick_params(axis='x', rotation=90)\n",
    "#ax.set_title('Lego sets count per year')\n",
    "#ax.set_ylabel('Lego sets count')\n",
    "#ax.set_xlabel('Year')\n",
    "plt.show()"
   ]
  },
  {
   "cell_type": "code",
   "execution_count": null,
   "metadata": {},
   "outputs": [],
   "source": []
  },
  {
   "cell_type": "markdown",
   "metadata": {},
   "source": [
    "# TODO\n",
    "Now I need to add minifigs to the dataframe."
   ]
  },
  {
   "cell_type": "code",
   "execution_count": 82,
   "metadata": {},
   "outputs": [],
   "source": [
    "# TODO - fix table above -> first groupby inventory_id then merge with figs_quantity + first groupby figs quantity"
   ]
  },
  {
   "cell_type": "code",
   "execution_count": 83,
   "metadata": {},
   "outputs": [
    {
     "data": {
      "text/html": [
       "<div>\n",
       "<style scoped>\n",
       "    .dataframe tbody tr th:only-of-type {\n",
       "        vertical-align: middle;\n",
       "    }\n",
       "\n",
       "    .dataframe tbody tr th {\n",
       "        vertical-align: top;\n",
       "    }\n",
       "\n",
       "    .dataframe thead th {\n",
       "        text-align: right;\n",
       "    }\n",
       "</style>\n",
       "<table border=\"1\" class=\"dataframe\">\n",
       "  <thead>\n",
       "    <tr style=\"text-align: right;\">\n",
       "      <th></th>\n",
       "      <th>id</th>\n",
       "      <th>name</th>\n",
       "    </tr>\n",
       "  </thead>\n",
       "  <tbody>\n",
       "    <tr>\n",
       "      <th>0</th>\n",
       "      <td>1</td>\n",
       "      <td>Baseplates</td>\n",
       "    </tr>\n",
       "    <tr>\n",
       "      <th>1</th>\n",
       "      <td>3</td>\n",
       "      <td>Bricks Sloped</td>\n",
       "    </tr>\n",
       "    <tr>\n",
       "      <th>2</th>\n",
       "      <td>4</td>\n",
       "      <td>Duplo, Quatro and Primo</td>\n",
       "    </tr>\n",
       "    <tr>\n",
       "      <th>3</th>\n",
       "      <td>5</td>\n",
       "      <td>Bricks Special</td>\n",
       "    </tr>\n",
       "    <tr>\n",
       "      <th>4</th>\n",
       "      <td>6</td>\n",
       "      <td>Bricks Wedged</td>\n",
       "    </tr>\n",
       "  </tbody>\n",
       "</table>\n",
       "</div>"
      ],
      "text/plain": [
       "   id                     name\n",
       "0   1               Baseplates\n",
       "1   3            Bricks Sloped\n",
       "2   4  Duplo, Quatro and Primo\n",
       "3   5           Bricks Special\n",
       "4   6            Bricks Wedged"
      ]
     },
     "execution_count": 83,
     "metadata": {},
     "output_type": "execute_result"
    }
   ],
   "source": [
    "part_cat_df = pd.read_csv('data\\part_categories.csv.gz')\n",
    "part_cat_df.head()"
   ]
  },
  {
   "cell_type": "code",
   "execution_count": 84,
   "metadata": {},
   "outputs": [
    {
     "ename": "NameError",
     "evalue": "name 'parts_df' is not defined",
     "output_type": "error",
     "traceback": [
      "\u001b[1;31m---------------------------------------------------------------------------\u001b[0m",
      "\u001b[1;31mNameError\u001b[0m                                 Traceback (most recent call last)",
      "Cell \u001b[1;32mIn[84], line 1\u001b[0m\n\u001b[1;32m----> 1\u001b[0m inventory_parts_df \u001b[38;5;241m=\u001b[39m inventory_parts_df\u001b[38;5;241m.\u001b[39mmerge(parts_df, on\u001b[38;5;241m=\u001b[39m\u001b[38;5;124m'\u001b[39m\u001b[38;5;124mpart_num\u001b[39m\u001b[38;5;124m'\u001b[39m)\n",
      "\u001b[1;31mNameError\u001b[0m: name 'parts_df' is not defined"
     ]
    }
   ],
   "source": [
    "inventory_parts_df = inventory_parts_df.merge(parts_df, on='part_num')"
   ]
  },
  {
   "cell_type": "code",
   "execution_count": null,
   "metadata": {},
   "outputs": [],
   "source": []
  },
  {
   "cell_type": "code",
   "execution_count": null,
   "metadata": {},
   "outputs": [],
   "source": []
  },
  {
   "cell_type": "code",
   "execution_count": null,
   "metadata": {},
   "outputs": [],
   "source": []
  },
  {
   "cell_type": "code",
   "execution_count": null,
   "metadata": {},
   "outputs": [],
   "source": [
    "parts_per_set_year_df_3['difference'] = parts_per_set_year_df_3['Parts_Count'] - parts_per_set_year_df_3['num_parts']"
   ]
  },
  {
   "cell_type": "code",
   "execution_count": null,
   "metadata": {},
   "outputs": [],
   "source": [
    "parts_per_set_year_df_3[parts_per_set_year_df_3['difference'] != 0]"
   ]
  },
  {
   "cell_type": "code",
   "execution_count": null,
   "metadata": {},
   "outputs": [],
   "source": [
    "parts_per_set_year_df_3['difference'].describe()"
   ]
  },
  {
   "cell_type": "code",
   "execution_count": null,
   "metadata": {},
   "outputs": [],
   "source": [
    "ax = sns.set_style(style=None)\n",
    "fig, ax = plt.subplots(figsize=(12,6))\n",
    "plt.grid(axis='y', alpha=0.5)\n",
    "sns.histplot(data = parts_per_set_year_df_3.loc[(parts_per_set_year_df_3['difference'] != 0) & (parts_per_set_year_df_3['num_parts'] != 0)], \\\n",
    "             x='difference', alpha=0.25, ax=ax, palette='hls') \n",
    "ax.set_title('Difference histogram')\n",
    "ax.set_ylabel('Count')\n",
    "ax.set_xlabel('Difference')\n",
    "plt.show()"
   ]
  },
  {
   "cell_type": "code",
   "execution_count": null,
   "metadata": {},
   "outputs": [],
   "source": [
    "parts_per_set_year_df_3.loc[parts_per_set_year_df_3['difference'] == 697]"
   ]
  },
  {
   "cell_type": "code",
   "execution_count": null,
   "metadata": {},
   "outputs": [],
   "source": []
  },
  {
   "cell_type": "code",
   "execution_count": null,
   "metadata": {},
   "outputs": [],
   "source": [
    "parts_per_set_year_df.info()"
   ]
  },
  {
   "cell_type": "code",
   "execution_count": null,
   "metadata": {},
   "outputs": [],
   "source": [
    "np.sort(inventory_parts_df['part_num'].unique())"
   ]
  },
  {
   "cell_type": "code",
   "execution_count": null,
   "metadata": {},
   "outputs": [],
   "source": [
    "parts_per_set_year_df.loc[parts_per_set_year_df['set_num'] == '60287-1', 'quantity'].sum()"
   ]
  },
  {
   "cell_type": "code",
   "execution_count": null,
   "metadata": {},
   "outputs": [],
   "source": [
    "sets_table.loc[sets_table['set_num'] == '60287-1']"
   ]
  },
  {
   "cell_type": "code",
   "execution_count": null,
   "metadata": {},
   "outputs": [],
   "source": [
    "tractor_parts_desc = parts_per_set_year_df.loc[parts_per_set_year_df['set_num'] == '60287-1'].merge(parts_df, on='part_num')\n",
    "tractor_parts_desc"
   ]
  },
  {
   "cell_type": "code",
   "execution_count": null,
   "metadata": {},
   "outputs": [],
   "source": [
    "tractor_parts_desc.drop(columns=['img_url', 'part_material'], inplace=True)\n",
    "tractor_parts_desc.head()"
   ]
  },
  {
   "cell_type": "code",
   "execution_count": null,
   "metadata": {},
   "outputs": [],
   "source": [
    "tractor_parts_desc = tractor_parts_desc.merge(part_cat_df, left_on='part_cat_id', right_on='id')\n",
    "tractor_parts_desc.head()"
   ]
  },
  {
   "cell_type": "code",
   "execution_count": null,
   "metadata": {},
   "outputs": [],
   "source": [
    "tractor_parts_desc.drop(columns=['part_cat_id', 'id'], inplace=True)\n",
    "tractor_parts_desc.rename(columns={'name_x': 'part name', 'name_y': 'part category'}, inplace=True)\n",
    "tractor_parts_desc.head()"
   ]
  },
  {
   "cell_type": "code",
   "execution_count": null,
   "metadata": {},
   "outputs": [],
   "source": [
    "tractor_parts_desc['part category'].unique()"
   ]
  },
  {
   "cell_type": "code",
   "execution_count": null,
   "metadata": {},
   "outputs": [],
   "source": [
    "tractor_parts_desc.loc[tractor_parts_desc['part category'].isin(['Plants and Animals', 'Plates Round Curved and Dishes'])]"
   ]
  },
  {
   "cell_type": "code",
   "execution_count": null,
   "metadata": {},
   "outputs": [],
   "source": [
    "inventory_minifigs_df.loc[inventory_minifigs_df['inventory_id'] == 80991]"
   ]
  },
  {
   "cell_type": "code",
   "execution_count": null,
   "metadata": {},
   "outputs": [],
   "source": []
  },
  {
   "cell_type": "code",
   "execution_count": null,
   "metadata": {},
   "outputs": [],
   "source": []
  },
  {
   "cell_type": "code",
   "execution_count": null,
   "metadata": {},
   "outputs": [],
   "source": [
    "parts_per_set_year_df.loc[(parts_per_set_year_df['set_num'] == '60287-1') & (parts_per_set_year_df['is_spare'] == 't'), 'is_spare'].count()"
   ]
  },
  {
   "cell_type": "code",
   "execution_count": null,
   "metadata": {},
   "outputs": [],
   "source": [
    "sets_table.loc[(sets_table['set_num'] == '60287-1')]"
   ]
  },
  {
   "cell_type": "code",
   "execution_count": null,
   "metadata": {},
   "outputs": [],
   "source": [
    "parts_per_set_year_df.loc[parts_per_set_year_df['set_num'] == '10782-1', 'quantity'].sum()"
   ]
  },
  {
   "cell_type": "code",
   "execution_count": null,
   "metadata": {},
   "outputs": [],
   "source": [
    "parts_per_set_year_df.loc[parts_per_set_year_df['set_num'] == '10782-1']"
   ]
  },
  {
   "cell_type": "code",
   "execution_count": null,
   "metadata": {},
   "outputs": [],
   "source": [
    "sets_table.loc[(sets_table['set_num'] == '10782-1')]"
   ]
  },
  {
   "cell_type": "code",
   "execution_count": null,
   "metadata": {},
   "outputs": [],
   "source": [
    "inventories_df.loc[(inventories_df['set_num'] == '10782-1')]"
   ]
  },
  {
   "cell_type": "code",
   "execution_count": null,
   "metadata": {},
   "outputs": [],
   "source": [
    "parts_per_set_year_df.loc[(parts_per_set_year_df['set_num'] == '10782-1') & (parts_per_set_year_df['is_spare'] == 't')]"
   ]
  },
  {
   "cell_type": "code",
   "execution_count": null,
   "metadata": {},
   "outputs": [],
   "source": []
  },
  {
   "cell_type": "code",
   "execution_count": null,
   "metadata": {},
   "outputs": [],
   "source": [
    "parts_per_set_year_df = parts_per_set_year_df.merge(sets_table, on='set_num')"
   ]
  },
  {
   "cell_type": "code",
   "execution_count": null,
   "metadata": {},
   "outputs": [],
   "source": []
  },
  {
   "cell_type": "code",
   "execution_count": null,
   "metadata": {},
   "outputs": [],
   "source": []
  },
  {
   "cell_type": "code",
   "execution_count": null,
   "metadata": {},
   "outputs": [],
   "source": [
    "parts_per_set_year_df.head()"
   ]
  },
  {
   "cell_type": "code",
   "execution_count": null,
   "metadata": {},
   "outputs": [],
   "source": []
  },
  {
   "cell_type": "code",
   "execution_count": null,
   "metadata": {},
   "outputs": [],
   "source": []
  },
  {
   "cell_type": "markdown",
   "metadata": {},
   "source": [
    "## QUESTION 3:\n",
    "3. Are there any number of parts per set ranges? Like cheaper sets have 0-5 bricks in it or something like this.\n"
   ]
  },
  {
   "cell_type": "code",
   "execution_count": null,
   "metadata": {},
   "outputs": [],
   "source": []
  },
  {
   "cell_type": "code",
   "execution_count": null,
   "metadata": {},
   "outputs": [],
   "source": []
  },
  {
   "cell_type": "markdown",
   "metadata": {},
   "source": [
    "## QUESTION 4:\n",
    "4. Figures: does Lego add now more figures to sets than in 1950? What are most common figures? How the number of figures changes? What are mean per set and total number of figures per year through time?"
   ]
  },
  {
   "cell_type": "markdown",
   "metadata": {},
   "source": [
    "## QUESTION 5:\n",
    "5. What are the 5 most popular colors used in Lego parts?\n"
   ]
  },
  {
   "cell_type": "code",
   "execution_count": null,
   "metadata": {},
   "outputs": [],
   "source": []
  },
  {
   "cell_type": "code",
   "execution_count": null,
   "metadata": {},
   "outputs": [],
   "source": []
  },
  {
   "cell_type": "code",
   "execution_count": null,
   "metadata": {},
   "outputs": [],
   "source": []
  },
  {
   "cell_type": "code",
   "execution_count": null,
   "metadata": {},
   "outputs": [],
   "source": []
  },
  {
   "cell_type": "code",
   "execution_count": null,
   "metadata": {},
   "outputs": [],
   "source": []
  },
  {
   "cell_type": "markdown",
   "metadata": {},
   "source": [
    "## QUESTION 6:\n",
    "6. What proportion of Lego parts are transparent? What are most common transparent bricks? What are top 5 transparent colors? When first transparent bricks were used? What colors became transparent through time?\n",
    "\n"
   ]
  },
  {
   "cell_type": "code",
   "execution_count": null,
   "metadata": {},
   "outputs": [],
   "source": []
  },
  {
   "cell_type": "code",
   "execution_count": null,
   "metadata": {},
   "outputs": [],
   "source": []
  },
  {
   "cell_type": "code",
   "execution_count": null,
   "metadata": {},
   "outputs": [],
   "source": []
  },
  {
   "cell_type": "markdown",
   "metadata": {},
   "source": [
    "## QUESTION 7\n",
    "7. What are the 5 rarest lego bricks?"
   ]
  },
  {
   "cell_type": "markdown",
   "metadata": {},
   "source": [
    "## QUESTION 8:\n",
    "8. What is the proportion of spare parts per set? Did it change through time?\n"
   ]
  },
  {
   "cell_type": "code",
   "execution_count": null,
   "metadata": {},
   "outputs": [],
   "source": []
  },
  {
   "cell_type": "code",
   "execution_count": null,
   "metadata": {},
   "outputs": [],
   "source": []
  },
  {
   "cell_type": "code",
   "execution_count": null,
   "metadata": {},
   "outputs": [],
   "source": []
  },
  {
   "cell_type": "markdown",
   "metadata": {},
   "source": [
    "## QUESTION 9:\n",
    "9. Summarize your findings."
   ]
  },
  {
   "cell_type": "code",
   "execution_count": null,
   "metadata": {},
   "outputs": [],
   "source": []
  },
  {
   "cell_type": "code",
   "execution_count": null,
   "metadata": {},
   "outputs": [],
   "source": []
  },
  {
   "cell_type": "code",
   "execution_count": null,
   "metadata": {},
   "outputs": [],
   "source": []
  }
 ],
 "metadata": {
  "kernelspec": {
   "display_name": "Python 3 (ipykernel)",
   "language": "python",
   "name": "python3"
  },
  "language_info": {
   "codemirror_mode": {
    "name": "ipython",
    "version": 3
   },
   "file_extension": ".py",
   "mimetype": "text/x-python",
   "name": "python",
   "nbconvert_exporter": "python",
   "pygments_lexer": "ipython3",
   "version": "3.11.7"
  }
 },
 "nbformat": 4,
 "nbformat_minor": 4
}

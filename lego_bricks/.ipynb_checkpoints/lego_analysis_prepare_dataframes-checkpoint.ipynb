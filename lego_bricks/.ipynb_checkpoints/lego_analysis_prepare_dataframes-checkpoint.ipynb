{
 "cells": [
  {
   "cell_type": "markdown",
   "metadata": {},
   "source": [
    "# Lego Analysis"
   ]
  },
  {
   "cell_type": "markdown",
   "metadata": {},
   "source": [
    "Small analysis of Lego Dataset - mostly to exercise how to combine data and retrieve informations. \\\n",
    "Data from https://rebrickable.com/downloads/\n",
    "## 💪 Challenge\n",
    "Create a report to summarize your findings. Include:\n",
    "\n",
    "1. What is the average number of Lego sets released per year?\n",
    "2. What is the average number of Lego parts per year? Per set per year and total bricks in all sets per year.\n",
    "3. Are there any number of parts per set ranges? Like cheaper sets have 0-5 bricks in it or something like this. Did it change through time?\n",
    "4. Figures: does Lego add now more figures to sets than in 1950? What are most common figures? How the number of figures changes? What are mean per set and total number of figures per year through time?\n",
    "5. What are the 5 most popular colors used in Lego parts?\n",
    "6. What proportion of Lego parts are transparent? What are most common transparent bricks? What are top 5 transparent colors? When first transparent bricks were used? What colors became transparent through time?\n",
    "7. What are the 5 rarest lego bricks?\n",
    "8. What is the proportion of spare parts per set? Did it change through time?\n",
    "9. Summarize your findings.\n"
   ]
  },
  {
   "cell_type": "markdown",
   "metadata": {},
   "source": [
    "### <b>0. Prepare dataframes for analysis"
   ]
  },
  {
   "cell_type": "markdown",
   "metadata": {},
   "source": [
    "It is crucial to understand that Lego sets may be in different versions and that is why there is more than one version of the set in the inventories table."
   ]
  },
  {
   "cell_type": "code",
   "execution_count": 1,
   "metadata": {},
   "outputs": [],
   "source": [
    "# import necessary modules\n",
    "import pandas as pd\n",
    "import numpy as np\n",
    "import matplotlib.pyplot as plt\n",
    "import seaborn as sns"
   ]
  },
  {
   "cell_type": "markdown",
   "metadata": {},
   "source": [
    "<b>Prepare elements"
   ]
  },
  {
   "cell_type": "code",
   "execution_count": 2,
   "metadata": {},
   "outputs": [
    {
     "name": "stdout",
     "output_type": "stream",
     "text": [
      "Elements table head: \n",
      "\n",
      "   element_id       part_num color_id\n",
      "0     6443403  2277c01pr0009        1\n",
      "1     4566309           2564        0\n",
      "2     4275423          53657     1004\n",
      "3     6194308          92926       71\n",
      "4     6229123          26561        4\n",
      "\n",
      "shape: (95282, 3)\n",
      "\n",
      "Elements table info: \n",
      "\n",
      "<class 'pandas.core.frame.DataFrame'>\n",
      "RangeIndex: 95282 entries, 0 to 95281\n",
      "Data columns (total 3 columns):\n",
      " #   Column      Non-Null Count  Dtype   \n",
      "---  ------      --------------  -----   \n",
      " 0   element_id  95282 non-null  int64   \n",
      " 1   part_num    95282 non-null  object  \n",
      " 2   color_id    95282 non-null  category\n",
      "dtypes: category(1), int64(1), object(1)\n",
      "memory usage: 1.6+ MB\n"
     ]
    }
   ],
   "source": [
    "elements_table = pd.read_csv('data\\elements.csv.gz', usecols=[0, 1, 2])\n",
    "elements_table['color_id'] = elements_table['color_id'].astype('category')\n",
    "print('Elements table head: \\n')\n",
    "print(elements_table.head())\n",
    "print('\\nshape:', elements_table.shape)\n",
    "print('\\nElements table info: \\n')\n",
    "elements_table.info()"
   ]
  },
  {
   "cell_type": "markdown",
   "metadata": {},
   "source": [
    "<b>Prepare themes table"
   ]
  },
  {
   "cell_type": "code",
   "execution_count": 3,
   "metadata": {},
   "outputs": [
    {
     "name": "stdout",
     "output_type": "stream",
     "text": [
      "Themes table head: \n",
      "\n",
      "  theme_id            name\n",
      "0        1         Technic\n",
      "1        3     Competition\n",
      "2        4  Expert Builder\n",
      "3       16      RoboRiders\n",
      "4       17  Speed Slammers\n",
      "\n",
      "shape: (466, 2)\n",
      "\n",
      "Themes table info: \n",
      "\n",
      "<class 'pandas.core.frame.DataFrame'>\n",
      "RangeIndex: 466 entries, 0 to 465\n",
      "Data columns (total 2 columns):\n",
      " #   Column    Non-Null Count  Dtype   \n",
      "---  ------    --------------  -----   \n",
      " 0   theme_id  466 non-null    category\n",
      " 1   name      466 non-null    object  \n",
      "dtypes: category(1), object(1)\n",
      "memory usage: 24.5+ KB\n"
     ]
    }
   ],
   "source": [
    "themes_table = pd.read_csv('data\\\\themes.csv.gz', usecols=[0, 1])\n",
    "themes_table.rename(columns={'id': 'theme_id'}, inplace=True)\n",
    "themes_table['theme_id'] = themes_table['theme_id'].astype('category')\n",
    "print('Themes table head: \\n')\n",
    "print(themes_table.head())\n",
    "print('\\nshape:', themes_table.shape)\n",
    "print('\\nThemes table info: \\n')\n",
    "themes_table.info()"
   ]
  },
  {
   "cell_type": "markdown",
   "metadata": {},
   "source": [
    "<b>Prepare sets table\n"
   ]
  },
  {
   "cell_type": "code",
   "execution_count": 4,
   "metadata": {},
   "outputs": [
    {
     "name": "stdout",
     "output_type": "stream",
     "text": [
      "Sets table head: \n",
      "\n",
      "        set_num                     set_name  year  num_parts decade  \\\n",
      "0  0003977811-1  Ninjago: Book of Adventures  2022          1   2020   \n",
      "1         001-1                        Gears  1965         43   1960   \n",
      "2        0011-2            Town Mini-Figures  1979         12   1970   \n",
      "3        0011-3   Castle 2 for 1 Bonus Offer  1987          0   1980   \n",
      "4        0012-1           Space Mini-Figures  1979         12   1970   \n",
      "\n",
      "                            theme  \n",
      "0  Activity Books with LEGO Parts  \n",
      "1                       Samsonite  \n",
      "2                    Classic Town  \n",
      "3                    Lion Knights  \n",
      "4                    Supplemental  \n",
      "\n",
      "shape: (23873, 6)\n",
      "\n",
      "Sets table info: \n",
      "\n",
      "<class 'pandas.core.frame.DataFrame'>\n",
      "RangeIndex: 23873 entries, 0 to 23872\n",
      "Data columns (total 6 columns):\n",
      " #   Column     Non-Null Count  Dtype   \n",
      "---  ------     --------------  -----   \n",
      " 0   set_num    23873 non-null  object  \n",
      " 1   set_name   23873 non-null  object  \n",
      " 2   year       23873 non-null  category\n",
      " 3   num_parts  23873 non-null  int64   \n",
      " 4   decade     23873 non-null  category\n",
      " 5   theme      23873 non-null  object  \n",
      "dtypes: category(2), int64(1), object(3)\n",
      "memory usage: 795.8+ KB\n"
     ]
    }
   ],
   "source": [
    "sets_table = pd.read_csv('data\\sets.csv.gz', usecols=[0, 1, 2, 3, 4])\n",
    "sets_table['year'] = sets_table['year'].astype('category')\n",
    "sets_table['theme_id'] = sets_table['theme_id'].astype('category')\n",
    "decades_ranges = [0, 1960, 1970, 1980, 1990, 2000, 2010, 2020, np.inf]\n",
    "decades_names = [x for x in range(1950, 2030, 10)]\n",
    "sets_table['decade'] = pd.cut(sets_table['year'], bins=decades_ranges, labels=decades_names)\n",
    "sets_table = sets_table.merge(themes_table, on='theme_id', how='left')\n",
    "sets_table.drop(columns='theme_id', inplace=True)\n",
    "sets_table.rename(columns={'name_x': 'set_name', 'name_y': 'theme'}, inplace=True)\n",
    "print('Sets table head: \\n')\n",
    "print(sets_table.head())\n",
    "print('\\nshape:', sets_table.shape)\n",
    "print('\\nSets table info: \\n')\n",
    "sets_table.info()"
   ]
  },
  {
   "cell_type": "markdown",
   "metadata": {},
   "source": [
    "<b>Prepare inventory_parts table"
   ]
  },
  {
   "cell_type": "code",
   "execution_count": 5,
   "metadata": {},
   "outputs": [
    {
     "name": "stdout",
     "output_type": "stream",
     "text": [
      "Inventory parts table head: \n",
      "\n",
      "  inventory_id        part_num color_id  quantity  is_spare\n",
      "0            1        48379c04       72         1     False\n",
      "1            1           48391        0         1     False\n",
      "2            1           48395        7         1     False\n",
      "3            1        48864c01       25         1     False\n",
      "4            1  stickerupn0077     9999         1     False\n",
      "\n",
      "shape: (1286599, 5)\n",
      "\n",
      "Inventory parts table info: \n",
      "\n",
      "<class 'pandas.core.frame.DataFrame'>\n",
      "RangeIndex: 1286599 entries, 0 to 1286598\n",
      "Data columns (total 5 columns):\n",
      " #   Column        Non-Null Count    Dtype   \n",
      "---  ------        --------------    -----   \n",
      " 0   inventory_id  1286599 non-null  category\n",
      " 1   part_num      1286599 non-null  category\n",
      " 2   color_id      1286599 non-null  category\n",
      " 3   quantity      1286599 non-null  int64   \n",
      " 4   is_spare      1286599 non-null  bool    \n",
      "dtypes: bool(1), category(3), int64(1)\n",
      "memory usage: 27.0 MB\n"
     ]
    }
   ],
   "source": [
    "inventory_parts_df = pd.read_csv('data\\inventory_parts.csv.gz', usecols=[0, 1, 2, 3, 4])\n",
    "inventory_parts_df['is_spare'] = inventory_parts_df['is_spare'] == 't'\n",
    "inventory_parts_df['part_num'] = inventory_parts_df['part_num'].astype('category')\n",
    "inventory_parts_df['inventory_id'] = inventory_parts_df['inventory_id'].astype('category')\n",
    "inventory_parts_df['color_id'] = inventory_parts_df['color_id'].astype('category')\n",
    "print('Inventory parts table head: \\n')\n",
    "print(inventory_parts_df.head())\n",
    "print('\\nshape:', inventory_parts_df.shape)\n",
    "print('\\nInventory parts table info: \\n')\n",
    "inventory_parts_df.info()"
   ]
  },
  {
   "cell_type": "markdown",
   "metadata": {},
   "source": [
    "<b>Prepare minifigs table"
   ]
  },
  {
   "cell_type": "code",
   "execution_count": 6,
   "metadata": {},
   "outputs": [
    {
     "name": "stdout",
     "output_type": "stream",
     "text": [
      "Minifigs table head: \n",
      "\n",
      "      fig_num                                      name  num_parts\n",
      "0  fig-000001                        Toy Store Employee          4\n",
      "1  fig-000002                              Customer Kid          4\n",
      "2  fig-000003                     Assassin Droid, White          8\n",
      "3  fig-000004  Man, White Torso, Black Legs, Brown Hair          4\n",
      "4  fig-000005           Captain America with Short Legs          3\n",
      "\n",
      "shape: (14843, 3)\n",
      "\n",
      "Inventory minifigs table info: \n",
      "\n",
      "<class 'pandas.core.frame.DataFrame'>\n",
      "RangeIndex: 14843 entries, 0 to 14842\n",
      "Data columns (total 3 columns):\n",
      " #   Column     Non-Null Count  Dtype \n",
      "---  ------     --------------  ----- \n",
      " 0   fig_num    14843 non-null  object\n",
      " 1   name       14843 non-null  object\n",
      " 2   num_parts  14843 non-null  int64 \n",
      "dtypes: int64(1), object(2)\n",
      "memory usage: 348.0+ KB\n"
     ]
    }
   ],
   "source": [
    "minifigs_df = pd.read_csv('data\\minifigs.csv.gz', usecols=[0, 1, 2])\n",
    "print('Minifigs table head: \\n')\n",
    "print(minifigs_df.head())\n",
    "print('\\nshape:', minifigs_df.shape)\n",
    "print('\\nInventory minifigs table info: \\n')\n",
    "minifigs_df.info()"
   ]
  },
  {
   "cell_type": "markdown",
   "metadata": {},
   "source": [
    "<b>Prepare minifigs inventory table\n"
   ]
  },
  {
   "cell_type": "code",
   "execution_count": 7,
   "metadata": {},
   "outputs": [
    {
     "name": "stdout",
     "output_type": "stream",
     "text": [
      "Inventory minifigs table head: \n",
      "\n",
      "   inventory_id     fig_num  quantity\n",
      "0             3  fig-001549         1\n",
      "1             4  fig-000764         1\n",
      "2            19  fig-000555         1\n",
      "3            25  fig-000574         1\n",
      "4            26  fig-000842         1\n",
      "\n",
      "shape: (22471, 3)\n",
      "\n",
      "Inventory minifigs table info: \n",
      "\n",
      "<class 'pandas.core.frame.DataFrame'>\n",
      "RangeIndex: 22471 entries, 0 to 22470\n",
      "Data columns (total 3 columns):\n",
      " #   Column        Non-Null Count  Dtype \n",
      "---  ------        --------------  ----- \n",
      " 0   inventory_id  22471 non-null  int64 \n",
      " 1   fig_num       22471 non-null  object\n",
      " 2   quantity      22471 non-null  int64 \n",
      "dtypes: int64(2), object(1)\n",
      "memory usage: 526.8+ KB\n"
     ]
    }
   ],
   "source": [
    "inventory_minifigs_df = pd.read_csv('data\\inventory_minifigs.csv.gz')\n",
    "print('Inventory minifigs table head: \\n')\n",
    "print(inventory_minifigs_df.head())\n",
    "print('\\nshape:', inventory_minifigs_df.shape)\n",
    "print('\\nInventory minifigs table info: \\n')\n",
    "inventory_minifigs_df.info()"
   ]
  },
  {
   "cell_type": "code",
   "execution_count": 8,
   "metadata": {},
   "outputs": [
    {
     "name": "stdout",
     "output_type": "stream",
     "text": [
      "Inventory minifigs table head: \n",
      "\n",
      "   inventory_id     fig_num  quantity  \\\n",
      "0             3  fig-001549         1   \n",
      "1             4  fig-000764         1   \n",
      "2            19  fig-000555         1   \n",
      "3            25  fig-000574         1   \n",
      "4            26  fig-000842         1   \n",
      "\n",
      "                                                name  num_parts  \n",
      "0                 Emma - Lavender Top, Magenta Skirt          4  \n",
      "1                    Danny Longlegs / Corporal Steel          4  \n",
      "2                               Coca-Cola Defender 2          4  \n",
      "3  Minnie Mouse with Dark Pink with White Spots D...          5  \n",
      "4  Coast Guard, Blue Jacket with Zipper and ID Ba...          4  \n",
      "\n",
      "shape: (22471, 5)\n",
      "\n",
      "Inventory minifigs table info: \n",
      "\n",
      "<class 'pandas.core.frame.DataFrame'>\n",
      "RangeIndex: 22471 entries, 0 to 22470\n",
      "Data columns (total 5 columns):\n",
      " #   Column        Non-Null Count  Dtype \n",
      "---  ------        --------------  ----- \n",
      " 0   inventory_id  22471 non-null  int64 \n",
      " 1   fig_num       22471 non-null  object\n",
      " 2   quantity      22471 non-null  int64 \n",
      " 3   name          22471 non-null  object\n",
      " 4   num_parts     22471 non-null  int64 \n",
      "dtypes: int64(3), object(2)\n",
      "memory usage: 877.9+ KB\n"
     ]
    }
   ],
   "source": [
    "# merge minifigs with minifigs inventory table\n",
    "inventory_minifigs_df = inventory_minifigs_df.merge(minifigs_df, on='fig_num', how='left')\n",
    "print('Inventory minifigs table head: \\n')\n",
    "print(inventory_minifigs_df.head())\n",
    "print('\\nshape:', inventory_minifigs_df.shape)\n",
    "print('\\nInventory minifigs table info: \\n')\n",
    "inventory_minifigs_df.info()"
   ]
  },
  {
   "cell_type": "markdown",
   "metadata": {},
   "source": [
    "<b>Prepare inventory sets table"
   ]
  },
  {
   "cell_type": "code",
   "execution_count": 9,
   "metadata": {},
   "outputs": [
    {
     "name": "stdout",
     "output_type": "stream",
     "text": [
      "Inventory sets table head: \n",
      "\n",
      "   inventory_id  set_num  quantity\n",
      "0            35  75911-1         1\n",
      "1            35  75912-1         1\n",
      "2            39  75048-1         1\n",
      "3            39  75053-1         1\n",
      "4            50   4515-1         1\n",
      "\n",
      "shape: (4556, 3)\n",
      "\n",
      "Inventory sets table info: \n",
      "\n",
      "<class 'pandas.core.frame.DataFrame'>\n",
      "RangeIndex: 4556 entries, 0 to 4555\n",
      "Data columns (total 3 columns):\n",
      " #   Column        Non-Null Count  Dtype \n",
      "---  ------        --------------  ----- \n",
      " 0   inventory_id  4556 non-null   int64 \n",
      " 1   set_num       4556 non-null   object\n",
      " 2   quantity      4556 non-null   int64 \n",
      "dtypes: int64(2), object(1)\n",
      "memory usage: 106.9+ KB\n"
     ]
    }
   ],
   "source": [
    "inventory_sets_df = pd.read_csv('data\\inventory_sets.csv.gz')\n",
    "print('Inventory sets table head: \\n')\n",
    "print(inventory_sets_df.head())\n",
    "print('\\nshape:', inventory_sets_df.shape)\n",
    "print('\\nInventory sets table info: \\n')\n",
    "inventory_sets_df.info()"
   ]
  },
  {
   "cell_type": "markdown",
   "metadata": {},
   "source": [
    "<b>Prepare inventories table"
   ]
  },
  {
   "cell_type": "code",
   "execution_count": 10,
   "metadata": {},
   "outputs": [
    {
     "name": "stdout",
     "output_type": "stream",
     "text": [
      "Inventories table head: \n",
      "\n",
      "   inventory_id  version set_num\n",
      "0             1        1  7922-1\n",
      "1             3        1  3931-1\n",
      "2             4        1  6942-1\n",
      "3            15        1  5158-1\n",
      "4            16        1   903-1\n",
      "\n",
      "shape: (40462, 3)\n",
      "\n",
      "Inventories table info: \n",
      "\n",
      "<class 'pandas.core.frame.DataFrame'>\n",
      "RangeIndex: 40462 entries, 0 to 40461\n",
      "Data columns (total 3 columns):\n",
      " #   Column        Non-Null Count  Dtype \n",
      "---  ------        --------------  ----- \n",
      " 0   inventory_id  40462 non-null  int64 \n",
      " 1   version       40462 non-null  int64 \n",
      " 2   set_num       40462 non-null  object\n",
      "dtypes: int64(2), object(1)\n",
      "memory usage: 948.5+ KB\n"
     ]
    }
   ],
   "source": [
    "inventories_df = pd.read_csv('data\\inventories.csv.gz')\n",
    "inventories_df.rename(columns={'id': 'inventory_id'}, inplace=True)\n",
    "print('Inventories table head: \\n')\n",
    "print(inventories_df.head())\n",
    "print('\\nshape:', inventories_df.shape)\n",
    "print('\\nInventories table info: \\n')\n",
    "inventories_df.info()"
   ]
  },
  {
   "cell_type": "markdown",
   "metadata": {},
   "source": [
    "Proceeding with inventories dataframe first. \n",
    "Version is version of set - for example set 421-2 is in different colors. But 8030-1 is in two versions - newer and older. I will count as each version is a unique set -> set no + version no makes it a unique set number. \n",
    "In addition I will add a test whether the versions are identical or not -> if not then I will consider them as different sets. "
   ]
  },
  {
   "cell_type": "code",
   "execution_count": 11,
   "metadata": {},
   "outputs": [
    {
     "data": {
      "text/html": [
       "<div>\n",
       "<style scoped>\n",
       "    .dataframe tbody tr th:only-of-type {\n",
       "        vertical-align: middle;\n",
       "    }\n",
       "\n",
       "    .dataframe tbody tr th {\n",
       "        vertical-align: top;\n",
       "    }\n",
       "\n",
       "    .dataframe thead th {\n",
       "        text-align: right;\n",
       "    }\n",
       "</style>\n",
       "<table border=\"1\" class=\"dataframe\">\n",
       "  <thead>\n",
       "    <tr style=\"text-align: right;\">\n",
       "      <th></th>\n",
       "      <th>inventory_id</th>\n",
       "      <th>version</th>\n",
       "      <th>set_num</th>\n",
       "    </tr>\n",
       "  </thead>\n",
       "  <tbody>\n",
       "    <tr>\n",
       "      <th>35125</th>\n",
       "      <td>163782</td>\n",
       "      <td>2</td>\n",
       "      <td>0014-1</td>\n",
       "    </tr>\n",
       "    <tr>\n",
       "      <th>3248</th>\n",
       "      <td>5004</td>\n",
       "      <td>1</td>\n",
       "      <td>0014-1</td>\n",
       "    </tr>\n",
       "    <tr>\n",
       "      <th>35573</th>\n",
       "      <td>171262</td>\n",
       "      <td>1</td>\n",
       "      <td>010423-1</td>\n",
       "    </tr>\n",
       "    <tr>\n",
       "      <th>38634</th>\n",
       "      <td>221307</td>\n",
       "      <td>2</td>\n",
       "      <td>010423-1</td>\n",
       "    </tr>\n",
       "    <tr>\n",
       "      <th>39160</th>\n",
       "      <td>229399</td>\n",
       "      <td>2</td>\n",
       "      <td>088-1</td>\n",
       "    </tr>\n",
       "    <tr>\n",
       "      <th>8974</th>\n",
       "      <td>13887</td>\n",
       "      <td>1</td>\n",
       "      <td>088-1</td>\n",
       "    </tr>\n",
       "    <tr>\n",
       "      <th>15185</th>\n",
       "      <td>46115</td>\n",
       "      <td>2</td>\n",
       "      <td>10001-1</td>\n",
       "    </tr>\n",
       "    <tr>\n",
       "      <th>7142</th>\n",
       "      <td>11090</td>\n",
       "      <td>1</td>\n",
       "      <td>10001-1</td>\n",
       "    </tr>\n",
       "    <tr>\n",
       "      <th>15046</th>\n",
       "      <td>44145</td>\n",
       "      <td>2</td>\n",
       "      <td>10030-1</td>\n",
       "    </tr>\n",
       "    <tr>\n",
       "      <th>3094</th>\n",
       "      <td>4773</td>\n",
       "      <td>1</td>\n",
       "      <td>10030-1</td>\n",
       "    </tr>\n",
       "  </tbody>\n",
       "</table>\n",
       "</div>"
      ],
      "text/plain": [
       "       inventory_id  version   set_num\n",
       "35125        163782        2    0014-1\n",
       "3248           5004        1    0014-1\n",
       "35573        171262        1  010423-1\n",
       "38634        221307        2  010423-1\n",
       "39160        229399        2     088-1\n",
       "8974          13887        1     088-1\n",
       "15185         46115        2   10001-1\n",
       "7142          11090        1   10001-1\n",
       "15046         44145        2   10030-1\n",
       "3094           4773        1   10030-1"
      ]
     },
     "execution_count": 11,
     "metadata": {},
     "output_type": "execute_result"
    }
   ],
   "source": [
    "# first find duplicated set numbers and keep the set number, version and inventory_id for them in multiple_versions_sets\n",
    "multiple_versions_sets = inventories_df.loc[inventories_df.duplicated(subset=['set_num'], keep=False)].sort_values(by='set_num')\n",
    "multiple_versions_sets.head(10)"
   ]
  },
  {
   "cell_type": "code",
   "execution_count": 12,
   "metadata": {},
   "outputs": [],
   "source": [
    "# prepare inventory_id_to_delete table (should be empty)\n",
    "inventory_id_to_delete = set()\n",
    "for set_num in multiple_versions_sets['set_num'].unique():\n",
    "   # print(set)\n",
    "    ids = multiple_versions_sets[multiple_versions_sets['set_num'] == set]['inventory_id']\n",
    "    for i, id in enumerate(ids[:-1]):\n",
    "        original_df_parts = inventory_parts_df[inventory_parts_df['inventory_id'] == id]\n",
    "        original_df_parts.reset_index(inplace=True)\n",
    "        original_df_parts.drop(columns=['inventory_id', 'index'], inplace=True)\n",
    "        original_df_minifigs = inventory_minifigs_df[inventory_minifigs_df['inventory_id'] == id]\n",
    "        original_df_minifigs.reset_index(inplace=True)\n",
    "        original_df_minifigs.drop(columns=['inventory_id', 'index'], inplace=True)\n",
    "        original_df_sets = inventory_sets_df[inventory_sets_df['inventory_id'] == id]\n",
    "        original_df_sets.reset_index(inplace=True)\n",
    "        original_df_sets.drop(columns=['inventory_id', 'index'], inplace=True)\n",
    "        for id_to_compare in ids[i+1:]:\n",
    "            df_to_compare_parts = inventory_parts_df[inventory_parts_df['inventory_id'] == id_to_compare]\n",
    "            df_to_compare_parts.reset_index(inplace=True)\n",
    "            df_to_compare_parts.drop(columns=['inventory_id', 'index'], inplace=True)\n",
    "            df_to_compare_minifigs = inventory_minifigs_df[inventory_minifigs_df['inventory_id'] == id_to_compare]\n",
    "            df_to_compare_minifigs.reset_index(inplace=True)\n",
    "            df_to_compare_minifigs.drop(columns=['inventory_id', 'index'], inplace=True)\n",
    "            df_to_compare_sets = inventory_sets_df[inventory_sets_df['inventory_id'] == id_to_compare]\n",
    "            df_to_compare_sets.reset_index(inplace=True)\n",
    "            df_to_compare_sets.drop(columns=['inventory_id', 'index'], inplace=True)\n",
    "            if original_df_parts.equals(df_to_compare_parts) and original_df_minifigs.equals(df_to_compare_minifigs) \\\n",
    "                and original_df_sets.equals(df_to_compare_sets):\n",
    "                inventory_id_to_delete.add(id_to_compare)"
   ]
  },
  {
   "cell_type": "code",
   "execution_count": 13,
   "metadata": {},
   "outputs": [
    {
     "name": "stdout",
     "output_type": "stream",
     "text": [
      "0\n"
     ]
    }
   ],
   "source": [
    "print(len(inventory_id_to_delete))"
   ]
  },
  {
   "cell_type": "code",
   "execution_count": 14,
   "metadata": {},
   "outputs": [
    {
     "data": {
      "text/plain": [
       "(0, 3)"
      ]
     },
     "execution_count": 14,
     "metadata": {},
     "output_type": "execute_result"
    }
   ],
   "source": [
    "multiple_versions_sets[multiple_versions_sets['set_num'].str.match('fig')].shape"
   ]
  },
  {
   "cell_type": "markdown",
   "metadata": {},
   "source": [
    "So, as I supposed, there is nothing to delete from inventories_df, each pair of set_num + version should be considered as a unique set. \n",
    "\n",
    "Each figure has only one and only inventory - so it is unique.\n",
    "\n",
    "Now, I am going to prepare a big dataframe with a lot of numbers in it - count of parts, spare parts, figures, sets etc so that I can start analyzing the data by set numbers (questions 1, 2 and 3).\n",
    "First step is to prepare parts_per_inventory table which count regular and spare parts per each inventory, and then merge this table with inventories_df."
   ]
  },
  {
   "cell_type": "code",
   "execution_count": 15,
   "metadata": {},
   "outputs": [
    {
     "name": "stdout",
     "output_type": "stream",
     "text": [
      "is_spare inventory_id  parts  spares\n",
      "0                   1      5       0\n",
      "1                   3     39       3\n",
      "2                   4     16       1\n",
      "3                  15      2       0\n",
      "4                  16     10       0\n",
      "\n",
      "shape: (34363, 3)\n",
      "\n",
      "column_names: Index(['inventory_id', 'parts', 'spares'], dtype='object', name='is_spare')\n"
     ]
    }
   ],
   "source": [
    "# prepare parts_per_inventory dataframe\n",
    "parts_per_inventory = pd.pivot_table(inventory_parts_df, values='quantity', index=['inventory_id'], columns=['is_spare'], \\\n",
    "                                     aggfunc=\"sum\", fill_value=0).reset_index()\n",
    "parts_per_inventory.rename(columns={False: 'parts', True: 'spares'}, inplace=True)\n",
    "print(parts_per_inventory.head())\n",
    "print('\\nshape:', parts_per_inventory.shape)\n",
    "print('\\ncolumn_names:', parts_per_inventory.columns)"
   ]
  },
  {
   "cell_type": "code",
   "execution_count": 16,
   "metadata": {},
   "outputs": [
    {
     "name": "stdout",
     "output_type": "stream",
     "text": [
      "  inventory_id  version set_num  parts  spares\n",
      "0            1        1  7922-1      5       0\n",
      "1            3        1  3931-1     39       3\n",
      "2            4        1  6942-1     16       1\n",
      "3           15        1  5158-1      2       0\n",
      "4           16        1   903-1     10       0\n",
      "\n",
      "shape: (40462, 5)\n",
      "\n",
      "info:\n",
      "<class 'pandas.core.frame.DataFrame'>\n",
      "RangeIndex: 40462 entries, 0 to 40461\n",
      "Data columns (total 5 columns):\n",
      " #   Column        Non-Null Count  Dtype \n",
      "---  ------        --------------  ----- \n",
      " 0   inventory_id  40462 non-null  object\n",
      " 1   version       40462 non-null  int64 \n",
      " 2   set_num       40462 non-null  object\n",
      " 3   parts         40462 non-null  int32 \n",
      " 4   spares        40462 non-null  int32 \n",
      "dtypes: int32(2), int64(1), object(2)\n",
      "memory usage: 1.2+ MB\n"
     ]
    }
   ],
   "source": [
    "# merge inventories_df with parts_per_inventory\n",
    "inventories_df = inventories_df.merge(parts_per_inventory, on='inventory_id', how='left')\n",
    "inventories_df.fillna(0, inplace=True)\n",
    "inventories_df['parts'] = inventories_df['parts'].astype(int)\n",
    "inventories_df['spares'] = inventories_df['spares'].astype(int)\n",
    "print(inventories_df.head())\n",
    "print('\\nshape:', inventories_df.shape)\n",
    "print('\\ninfo:' )\n",
    "inventories_df.info()"
   ]
  },
  {
   "cell_type": "markdown",
   "metadata": {},
   "source": [
    "As for now, I added parts count to inventory dataframe. I replaced all empty values (non-existing in parts_per_inventory dataframe) with 0 as it means that there is no part included in given inventory.\n",
    "Part numbers of minifigures are also in this dataframe and I will check the integrity of data present in parts_per_inventory and minifigs tables."
   ]
  },
  {
   "cell_type": "code",
   "execution_count": 17,
   "metadata": {},
   "outputs": [
    {
     "name": "stdout",
     "output_type": "stream",
     "text": [
      "  inventory_id_x  version     set_num  parts  spares  inventory_id_y  \\\n",
      "0          48649        1  fig-000001      4       0           42484   \n",
      "1          48650        1  fig-000002      4       0           42484   \n",
      "2          48681        1  fig-000003      8       0           15042   \n",
      "3          48681        1  fig-000003      8       0          126421   \n",
      "4          48758        1  fig-000004      4       0            1619   \n",
      "\n",
      "      fig_num  quantity                                      name  num_parts  \\\n",
      "0  fig-000001         1                        Toy Store Employee          4   \n",
      "1  fig-000002         1                              Customer Kid          4   \n",
      "2  fig-000003         1                     Assassin Droid, White          8   \n",
      "3  fig-000003         1                     Assassin Droid, White          8   \n",
      "4  fig-000004         1  Man, White Torso, Black Legs, Brown Hair          4   \n",
      "\n",
      "   diff  \n",
      "0     0  \n",
      "1     0  \n",
      "2     0  \n",
      "3     0  \n",
      "4     0  \n",
      "\n",
      "Shape of non-zero differences (0, 11)\n"
     ]
    }
   ],
   "source": [
    "# check for integrity minifigs part count vs inventory part count\n",
    "inventories_df_figs = inventories_df[inventories_df['set_num'].str.match('fig')]\n",
    "inventories_df_figs = inventories_df_figs.merge(inventory_minifigs_df, left_on='set_num', right_on='fig_num')\n",
    "inventories_df_figs['diff'] = inventories_df_figs['parts'] - inventories_df_figs['num_parts']\n",
    "print(inventories_df_figs.head())\n",
    "print('\\nShape of non-zero differences', inventories_df_figs[inventories_df_figs['diff'] != 0].shape)"
   ]
  },
  {
   "cell_type": "markdown",
   "metadata": {},
   "source": [
    "As shape of non-zero differences is of height 0 that means, that all figures in each table have same number of parts - the data in both tables is the same.\n",
    "\n",
    "Next step is to prepare table minifigs_per_inventory (same as parts per inventory) and merge it with actual inventories_df. \n",
    "Then, I will remove all rows containing minifigures numbers in set_num column as they will not be relevant in questions regarding sets and parts quantity."
   ]
  },
  {
   "cell_type": "code",
   "execution_count": 18,
   "metadata": {},
   "outputs": [
    {
     "data": {
      "text/plain": [
       "(0, 11)"
      ]
     },
     "execution_count": 18,
     "metadata": {},
     "output_type": "execute_result"
    }
   ],
   "source": [
    "inventories_df_figs[inventories_df_figs['spares'] != 0].shape"
   ]
  },
  {
   "cell_type": "markdown",
   "metadata": {},
   "source": [
    "As there is no row with any spare part of minifigure, so I work on inventory_minifigs_df."
   ]
  },
  {
   "cell_type": "code",
   "execution_count": 19,
   "metadata": {},
   "outputs": [
    {
     "name": "stdout",
     "output_type": "stream",
     "text": [
      "   inventory_id  minifigs_count  minifigs_parts_sum\n",
      "0             3               1                   4\n",
      "1             4               1                   4\n",
      "2            19               1                   4\n",
      "3            25               1                   5\n",
      "4            26               6                  28\n"
     ]
    }
   ],
   "source": [
    "# get total quantity of minifigures parts per inventory, then aggregate data\n",
    "inventory_minifigs_df['minifig_parts'] = inventory_minifigs_df['quantity'] * inventory_minifigs_df['num_parts']\n",
    "minifigs_per_inventory = (inventory_minifigs_df\n",
    "                              .groupby('inventory_id')\n",
    "                              .agg(\n",
    "                                  minifigs_count=('quantity', 'sum'), \n",
    "                                  minifigs_parts_sum=('minifig_parts', 'sum')\n",
    "                                  )\n",
    "                              .reset_index()\n",
    "                         )\n",
    "print(minifigs_per_inventory.head())"
   ]
  },
  {
   "cell_type": "code",
   "execution_count": 20,
   "metadata": {},
   "outputs": [
    {
     "name": "stdout",
     "output_type": "stream",
     "text": [
      "  inventory_id  version set_num  parts  spares  minifigs_count  \\\n",
      "0            1        1  7922-1      5       0               0   \n",
      "1            3        1  3931-1     39       3               1   \n",
      "2            4        1  6942-1     16       1               1   \n",
      "3           15        1  5158-1      2       0               0   \n",
      "4           16        1   903-1     10       0               0   \n",
      "\n",
      "   minifigs_parts_sum  \n",
      "0                   0  \n",
      "1                   4  \n",
      "2                   4  \n",
      "3                   0  \n",
      "4                   0  \n",
      "\n",
      "shape: (40462, 7)\n",
      "\n",
      "info:\n",
      "<class 'pandas.core.frame.DataFrame'>\n",
      "RangeIndex: 40462 entries, 0 to 40461\n",
      "Data columns (total 7 columns):\n",
      " #   Column              Non-Null Count  Dtype \n",
      "---  ------              --------------  ----- \n",
      " 0   inventory_id        40462 non-null  object\n",
      " 1   version             40462 non-null  int64 \n",
      " 2   set_num             40462 non-null  object\n",
      " 3   parts               40462 non-null  int32 \n",
      " 4   spares              40462 non-null  int32 \n",
      " 5   minifigs_count      40462 non-null  int32 \n",
      " 6   minifigs_parts_sum  40462 non-null  int32 \n",
      "dtypes: int32(4), int64(1), object(2)\n",
      "memory usage: 1.5+ MB\n"
     ]
    }
   ],
   "source": [
    "# merge inventories_df with minifigs_per_inventory\n",
    "inventories_df = inventories_df.merge(minifigs_per_inventory, on='inventory_id', how='left')\n",
    "inventories_df.fillna(0, inplace=True)\n",
    "inventories_df['minifigs_count'] = inventories_df['minifigs_count'].astype(int)\n",
    "inventories_df['minifigs_parts_sum'] = inventories_df['minifigs_parts_sum'].astype(int)\n",
    "print(inventories_df.head())\n",
    "print('\\nshape:', inventories_df.shape)\n",
    "print('\\ninfo:' )\n",
    "inventories_df.info()"
   ]
  },
  {
   "cell_type": "code",
   "execution_count": 21,
   "metadata": {},
   "outputs": [
    {
     "data": {
      "text/plain": [
       "(25619, 7)"
      ]
     },
     "execution_count": 21,
     "metadata": {},
     "output_type": "execute_result"
    }
   ],
   "source": [
    "# drop set_num containing minifigures numbers\n",
    "inventories_df.drop(inventories_df[inventories_df['set_num'].str.match('fig')].index, inplace=True)\n",
    "inventories_df.shape"
   ]
  },
  {
   "cell_type": "code",
   "execution_count": 22,
   "metadata": {},
   "outputs": [
    {
     "name": "stdout",
     "output_type": "stream",
     "text": [
      "True - all set numbers from sets table are included in inventories_df\n",
      "True - no figure is in inventories df\n",
      "True - all set numbers are in sets table\n"
     ]
    }
   ],
   "source": [
    "# check integrity of data\n",
    "print(inventories_df['set_num'].nunique() == sets_table['set_num'].nunique(), '- all set numbers from sets table are included in inventories_df')\n",
    "print(inventories_df[inventories_df['set_num'].str.match('fig')].shape[0] == 0, '- no figure is in inventories df')\n",
    "print(inventories_df[~inventories_df['set_num'].isin(sets_table['set_num'].unique())].shape[0] == 0, '- all set numbers are in sets table')"
   ]
  },
  {
   "cell_type": "markdown",
   "metadata": {},
   "source": [
    "This means that data is integral. \n",
    "Now I will proceed with adding parts data from inventory_sets table. First I need to merge it with inventories_df on set_num column. Then group by inventory_id and save it as sets_per_inventory. Finally, merge inventories_df with sets_per_inventory. Add values to appropriate columns and drop unnecessary ones. "
   ]
  },
  {
   "cell_type": "code",
   "execution_count": 23,
   "metadata": {},
   "outputs": [],
   "source": [
    "number_of_rows_before = inventory_sets_df.shape[0]"
   ]
  },
  {
   "cell_type": "code",
   "execution_count": 24,
   "metadata": {},
   "outputs": [
    {
     "data": {
      "text/html": [
       "<div>\n",
       "<style scoped>\n",
       "    .dataframe tbody tr th:only-of-type {\n",
       "        vertical-align: middle;\n",
       "    }\n",
       "\n",
       "    .dataframe tbody tr th {\n",
       "        vertical-align: top;\n",
       "    }\n",
       "\n",
       "    .dataframe thead th {\n",
       "        text-align: right;\n",
       "    }\n",
       "</style>\n",
       "<table border=\"1\" class=\"dataframe\">\n",
       "  <thead>\n",
       "    <tr style=\"text-align: right;\">\n",
       "      <th></th>\n",
       "      <th>inventory_id</th>\n",
       "      <th>set_num</th>\n",
       "      <th>quantity</th>\n",
       "      <th>version</th>\n",
       "      <th>parts</th>\n",
       "      <th>spares</th>\n",
       "      <th>minifigs_count</th>\n",
       "      <th>minifigs_parts_sum</th>\n",
       "    </tr>\n",
       "  </thead>\n",
       "  <tbody>\n",
       "    <tr>\n",
       "      <th>0</th>\n",
       "      <td>35</td>\n",
       "      <td>75911-1</td>\n",
       "      <td>1</td>\n",
       "      <td>1</td>\n",
       "      <td>326</td>\n",
       "      <td>16</td>\n",
       "      <td>3</td>\n",
       "      <td>14</td>\n",
       "    </tr>\n",
       "    <tr>\n",
       "      <th>1</th>\n",
       "      <td>35</td>\n",
       "      <td>75912-1</td>\n",
       "      <td>1</td>\n",
       "      <td>1</td>\n",
       "      <td>555</td>\n",
       "      <td>26</td>\n",
       "      <td>4</td>\n",
       "      <td>18</td>\n",
       "    </tr>\n",
       "    <tr>\n",
       "      <th>2</th>\n",
       "      <td>39</td>\n",
       "      <td>75048-1</td>\n",
       "      <td>1</td>\n",
       "      <td>1</td>\n",
       "      <td>225</td>\n",
       "      <td>10</td>\n",
       "      <td>2</td>\n",
       "      <td>9</td>\n",
       "    </tr>\n",
       "    <tr>\n",
       "      <th>3</th>\n",
       "      <td>39</td>\n",
       "      <td>75053-1</td>\n",
       "      <td>1</td>\n",
       "      <td>1</td>\n",
       "      <td>914</td>\n",
       "      <td>37</td>\n",
       "      <td>4</td>\n",
       "      <td>15</td>\n",
       "    </tr>\n",
       "    <tr>\n",
       "      <th>4</th>\n",
       "      <td>39</td>\n",
       "      <td>75053-1</td>\n",
       "      <td>1</td>\n",
       "      <td>2</td>\n",
       "      <td>914</td>\n",
       "      <td>37</td>\n",
       "      <td>4</td>\n",
       "      <td>15</td>\n",
       "    </tr>\n",
       "  </tbody>\n",
       "</table>\n",
       "</div>"
      ],
      "text/plain": [
       "   inventory_id  set_num  quantity  version  parts  spares  minifigs_count  \\\n",
       "0            35  75911-1         1        1    326      16               3   \n",
       "1            35  75912-1         1        1    555      26               4   \n",
       "2            39  75048-1         1        1    225      10               2   \n",
       "3            39  75053-1         1        1    914      37               4   \n",
       "4            39  75053-1         1        2    914      37               4   \n",
       "\n",
       "   minifigs_parts_sum  \n",
       "0                  14  \n",
       "1                  18  \n",
       "2                   9  \n",
       "3                  15  \n",
       "4                  15  "
      ]
     },
     "execution_count": 24,
     "metadata": {},
     "output_type": "execute_result"
    }
   ],
   "source": [
    "# TODO - sets + MERGE\n",
    "inventory_sets_df = inventory_sets_df.merge(inventories_df, on='set_num', how='left')\n",
    "inventory_sets_df.rename(columns={'inventory_id_x': 'inventory_id'}, inplace=True)\n",
    "inventory_sets_df.drop(columns=['inventory_id_y'], inplace=True)\n",
    "inventory_sets_df.head()"
   ]
  },
  {
   "cell_type": "code",
   "execution_count": 25,
   "metadata": {},
   "outputs": [
    {
     "name": "stdout",
     "output_type": "stream",
     "text": [
      "True\n"
     ]
    }
   ],
   "source": [
    "number_of_rows_after = inventory_sets_df.shape[0]\n",
    "number_of_rows_version_not_1 = inventory_sets_df[inventory_sets_df['version'] != 1].shape[0]\n",
    "print(number_of_rows_version_not_1 == number_of_rows_after - number_of_rows_before)"
   ]
  },
  {
   "cell_type": "markdown",
   "metadata": {},
   "source": [
    "As inventory_sets_df to inventories_df relation is one-to-many, some rows are duplicated - before merging the dataframe had 4556 row, now it contains 5013. The difference is in rows where version is different from 1. \n",
    "Now, I will investigate how many rows have different number of parts."
   ]
  },
  {
   "cell_type": "code",
   "execution_count": 26,
   "metadata": {},
   "outputs": [
    {
     "name": "stdout",
     "output_type": "stream",
     "text": [
      "(141, 8)\n"
     ]
    },
    {
     "data": {
      "text/html": [
       "<div>\n",
       "<style scoped>\n",
       "    .dataframe tbody tr th:only-of-type {\n",
       "        vertical-align: middle;\n",
       "    }\n",
       "\n",
       "    .dataframe tbody tr th {\n",
       "        vertical-align: top;\n",
       "    }\n",
       "\n",
       "    .dataframe thead th {\n",
       "        text-align: right;\n",
       "    }\n",
       "</style>\n",
       "<table border=\"1\" class=\"dataframe\">\n",
       "  <thead>\n",
       "    <tr style=\"text-align: right;\">\n",
       "      <th></th>\n",
       "      <th>inventory_id</th>\n",
       "      <th>set_num</th>\n",
       "      <th>quantity</th>\n",
       "      <th>version</th>\n",
       "      <th>parts</th>\n",
       "      <th>spares</th>\n",
       "      <th>minifigs_count</th>\n",
       "      <th>minifigs_parts_sum</th>\n",
       "    </tr>\n",
       "  </thead>\n",
       "  <tbody>\n",
       "    <tr>\n",
       "      <th>28</th>\n",
       "      <td>122</td>\n",
       "      <td>7944-1</td>\n",
       "      <td>1</td>\n",
       "      <td>1</td>\n",
       "      <td>249</td>\n",
       "      <td>9</td>\n",
       "      <td>3</td>\n",
       "      <td>14</td>\n",
       "    </tr>\n",
       "    <tr>\n",
       "      <th>29</th>\n",
       "      <td>122</td>\n",
       "      <td>7944-1</td>\n",
       "      <td>1</td>\n",
       "      <td>2</td>\n",
       "      <td>260</td>\n",
       "      <td>9</td>\n",
       "      <td>3</td>\n",
       "      <td>14</td>\n",
       "    </tr>\n",
       "    <tr>\n",
       "      <th>99</th>\n",
       "      <td>758</td>\n",
       "      <td>6716-1</td>\n",
       "      <td>1</td>\n",
       "      <td>1</td>\n",
       "      <td>60</td>\n",
       "      <td>0</td>\n",
       "      <td>1</td>\n",
       "      <td>5</td>\n",
       "    </tr>\n",
       "    <tr>\n",
       "      <th>100</th>\n",
       "      <td>758</td>\n",
       "      <td>6716-1</td>\n",
       "      <td>1</td>\n",
       "      <td>2</td>\n",
       "      <td>60</td>\n",
       "      <td>2</td>\n",
       "      <td>1</td>\n",
       "      <td>5</td>\n",
       "    </tr>\n",
       "    <tr>\n",
       "      <th>215</th>\n",
       "      <td>1418</td>\n",
       "      <td>7906-1</td>\n",
       "      <td>1</td>\n",
       "      <td>1</td>\n",
       "      <td>175</td>\n",
       "      <td>8</td>\n",
       "      <td>3</td>\n",
       "      <td>12</td>\n",
       "    </tr>\n",
       "  </tbody>\n",
       "</table>\n",
       "</div>"
      ],
      "text/plain": [
       "     inventory_id set_num  quantity  version  parts  spares  minifigs_count  \\\n",
       "28            122  7944-1         1        1    249       9               3   \n",
       "29            122  7944-1         1        2    260       9               3   \n",
       "99            758  6716-1         1        1     60       0               1   \n",
       "100           758  6716-1         1        2     60       2               1   \n",
       "215          1418  7906-1         1        1    175       8               3   \n",
       "\n",
       "     minifigs_parts_sum  \n",
       "28                   14  \n",
       "29                   14  \n",
       "99                    5  \n",
       "100                   5  \n",
       "215                  12  "
      ]
     },
     "execution_count": 26,
     "metadata": {},
     "output_type": "execute_result"
    }
   ],
   "source": [
    "inventory_sets_df_dup = inventory_sets_df[inventory_sets_df.duplicated(subset=['inventory_id', 'set_num'], keep=False)]\n",
    "inventory_sets_df_dup_diff = inventory_sets_df_dup[~inventory_sets_df_dup.duplicated(\n",
    "    subset=['inventory_id', 'set_num', 'parts', 'spares', 'minifigs_count', 'minifigs_parts_sum'], keep=False)]\n",
    "print(inventory_sets_df_dup_diff.shape)\n",
    "inventory_sets_df_dup_diff.head()"
   ]
  },
  {
   "cell_type": "code",
   "execution_count": 27,
   "metadata": {},
   "outputs": [
    {
     "data": {
      "text/plain": [
       "39"
      ]
     },
     "execution_count": 27,
     "metadata": {},
     "output_type": "execute_result"
    }
   ],
   "source": [
    "inventory_sets_df_dup_diff['set_num'].nunique()"
   ]
  },
  {
   "cell_type": "markdown",
   "metadata": {},
   "source": [
    "39 sets have different number of parts in it. I will check if it is a good idea to just drop versions not equal to 1 if the difference in parts is small."
   ]
  },
  {
   "cell_type": "code",
   "execution_count": 28,
   "metadata": {},
   "outputs": [
    {
     "name": "stdout",
     "output_type": "stream",
     "text": [
      "   set_num  max_diff  max_parts  percent\n",
      "10  4548-1         1          3    33.33\n",
      "\n",
      "Describe max diff column\n",
      "\n",
      "count    39.000000\n",
      "mean      3.794872\n",
      "std       4.796816\n",
      "min       0.000000\n",
      "25%       1.000000\n",
      "50%       1.000000\n",
      "75%       5.000000\n",
      "max      20.000000\n",
      "Name: max_diff, dtype: float64\n",
      "\n",
      "Describe percent column\n",
      "\n",
      "count    39.000000\n",
      "mean      2.305385\n",
      "std       5.314215\n",
      "min       0.000000\n",
      "25%       0.465000\n",
      "50%       0.970000\n",
      "75%       2.170000\n",
      "max      33.330000\n",
      "Name: percent, dtype: float64\n"
     ]
    }
   ],
   "source": [
    "# check on different versions of sets that are part of bigger sets\n",
    "sets_differences = (inventory_sets_df_dup_diff\n",
    "    .groupby('set_num')\n",
    "    .agg(\n",
    "        parts_min=('parts', 'min'),\n",
    "        parts_max=('parts', 'max'),\n",
    "        spares_min=('spares', 'min'),\n",
    "        spares_max=('spares', 'max'),\n",
    "        minifigs_count_min=('minifigs_count', 'min'),\n",
    "        minifigs_count_max=('minifigs_count', 'max'),\n",
    "        minifigs_parts_sum_min=('minifigs_parts_sum', 'min'),\n",
    "        minifigs_parts_sum_max=('minifigs_parts_sum', 'max')\n",
    "    )\n",
    "    .reset_index()\n",
    ")\n",
    "sets_differences['diff_parts'] = sets_differences['parts_max'] - sets_differences['parts_min']\n",
    "sets_differences['diff_spares'] = sets_differences['spares_max'] - sets_differences['spares_min']\n",
    "sets_differences['diff_minifigs_count'] = sets_differences['minifigs_count_max'] - sets_differences['minifigs_count_min']\n",
    "sets_differences['diff_minifigs_parts_sum'] = sets_differences['minifigs_parts_sum_max'] - sets_differences['minifigs_parts_sum_min']\n",
    "sets_differences['max_diff'] = sets_differences[['diff_parts', 'diff_spares', 'diff_minifigs_count', 'diff_minifigs_parts_sum']].max(axis=1)\n",
    "sets_differences['max_parts'] = sets_differences[['parts_max', 'spares_max', 'minifigs_count_max', 'minifigs_parts_sum_max']].max(axis=1)\n",
    "sets_differences.drop(columns=['diff_parts', 'diff_spares', 'diff_minifigs_count', 'diff_minifigs_parts_sum', \n",
    "                               'parts_max', 'spares_max', 'minifigs_count_max', 'minifigs_parts_sum_max',\n",
    "                               'parts_min', 'spares_min', 'minifigs_count_min', 'minifigs_parts_sum_min'], inplace=True)\n",
    "sets_differences['percent'] = round(sets_differences['max_diff'] / sets_differences['max_parts'] * 100, 2)\n",
    "print(sets_differences[sets_differences['percent'] == sets_differences['percent'].max()])\n",
    "print('\\nDescribe max diff column\\n')\n",
    "print(sets_differences['max_diff'].describe())\n",
    "print('\\nDescribe percent column\\n')\n",
    "print(sets_differences['percent'].describe())"
   ]
  },
  {
   "cell_type": "markdown",
   "metadata": {},
   "source": [
    "Overall, I think, these differences are minimal, so I just drop all versions not equal to one and proceed further."
   ]
  },
  {
   "cell_type": "code",
   "execution_count": 29,
   "metadata": {},
   "outputs": [
    {
     "name": "stdout",
     "output_type": "stream",
     "text": [
      "Inventory sets shape: (4556, 6)\n",
      "\n",
      "Inventory sets head:\n",
      "\n",
      "   inventory_id  set_num  parts  spares  minifigs_count  minifigs_parts_sum\n",
      "0            35  75911-1    326      16               3                  14\n",
      "1            35  75912-1    555      26               4                  18\n",
      "2            39  75048-1    225      10               2                   9\n",
      "3            39  75053-1    914      37               4                  15\n",
      "5            50   4515-1      8       0               0                   0\n"
     ]
    }
   ],
   "source": [
    "inventory_sets_df.drop(inventory_sets_df[inventory_sets_df['version'] != 1].index, inplace=True)\n",
    "inventory_sets_df['parts'] = inventory_sets_df['parts'] * inventory_sets_df['quantity']\n",
    "inventory_sets_df['spares'] = inventory_sets_df['spares'] * inventory_sets_df['quantity']\n",
    "inventory_sets_df['minifigs_count'] = inventory_sets_df['minifigs_count'] * inventory_sets_df['quantity']\n",
    "inventory_sets_df['minifigs_parts_sum'] = inventory_sets_df['minifigs_parts_sum'] * inventory_sets_df['quantity']\n",
    "inventory_sets_df.drop(columns=['quantity', 'version'], inplace=True)\n",
    "print('Inventory sets shape:', inventory_sets_df.shape)\n",
    "print('\\nInventory sets head:\\n')\n",
    "print(inventory_sets_df.head())"
   ]
  },
  {
   "cell_type": "markdown",
   "metadata": {},
   "source": [
    "inventory_sets_df contains all the information I need, so now it is time to prepare sets_per_inventory and merge it with inventories_df."
   ]
  },
  {
   "cell_type": "code",
   "execution_count": 30,
   "metadata": {},
   "outputs": [
    {
     "name": "stdout",
     "output_type": "stream",
     "text": [
      "Sets per inventory shape: (1315, 5)\n",
      "\n",
      "Sets per inventory head:\n",
      "\n",
      "   inventory_id  parts_sum  spares_sum  minifigs_count_sum  \\\n",
      "0            35        881          42                   7   \n",
      "1            39       1139          47                   6   \n",
      "2            50         30           1                   0   \n",
      "3            71       2306          82                  31   \n",
      "4            81        397           9                   0   \n",
      "\n",
      "   minifigs_parts_sum_sum  \n",
      "0                      32  \n",
      "1                      24  \n",
      "2                       0  \n",
      "3                      98  \n",
      "4                       0  \n"
     ]
    }
   ],
   "source": [
    "sets_per_inventory = (inventory_sets_df\n",
    "                          .groupby('inventory_id')\n",
    "                          .agg(\n",
    "                              parts_sum=('parts', 'sum'),\n",
    "                              spares_sum=('spares', 'sum'),\n",
    "                              minifigs_count_sum=('minifigs_count', 'sum'),\n",
    "                              minifigs_parts_sum_sum=('minifigs_parts_sum', 'sum')\n",
    "                          )\n",
    "                          .reset_index()\n",
    "                     )\n",
    "print('Sets per inventory shape:', sets_per_inventory.shape)\n",
    "print('\\nSets per inventory head:\\n')\n",
    "print(sets_per_inventory.head())"
   ]
  },
  {
   "cell_type": "code",
   "execution_count": 31,
   "metadata": {},
   "outputs": [
    {
     "data": {
      "text/html": [
       "<div>\n",
       "<style scoped>\n",
       "    .dataframe tbody tr th:only-of-type {\n",
       "        vertical-align: middle;\n",
       "    }\n",
       "\n",
       "    .dataframe tbody tr th {\n",
       "        vertical-align: top;\n",
       "    }\n",
       "\n",
       "    .dataframe thead th {\n",
       "        text-align: right;\n",
       "    }\n",
       "</style>\n",
       "<table border=\"1\" class=\"dataframe\">\n",
       "  <thead>\n",
       "    <tr style=\"text-align: right;\">\n",
       "      <th></th>\n",
       "      <th>inventory_id</th>\n",
       "      <th>version</th>\n",
       "      <th>set_num</th>\n",
       "      <th>parts</th>\n",
       "      <th>spares</th>\n",
       "      <th>minifigs_count</th>\n",
       "      <th>minifigs_parts_sum</th>\n",
       "      <th>total_parts</th>\n",
       "    </tr>\n",
       "  </thead>\n",
       "  <tbody>\n",
       "    <tr>\n",
       "      <th>0</th>\n",
       "      <td>1</td>\n",
       "      <td>1</td>\n",
       "      <td>7922-1</td>\n",
       "      <td>5</td>\n",
       "      <td>0</td>\n",
       "      <td>0</td>\n",
       "      <td>0</td>\n",
       "      <td>5</td>\n",
       "    </tr>\n",
       "    <tr>\n",
       "      <th>1</th>\n",
       "      <td>3</td>\n",
       "      <td>1</td>\n",
       "      <td>3931-1</td>\n",
       "      <td>39</td>\n",
       "      <td>3</td>\n",
       "      <td>1</td>\n",
       "      <td>4</td>\n",
       "      <td>43</td>\n",
       "    </tr>\n",
       "    <tr>\n",
       "      <th>2</th>\n",
       "      <td>4</td>\n",
       "      <td>1</td>\n",
       "      <td>6942-1</td>\n",
       "      <td>16</td>\n",
       "      <td>1</td>\n",
       "      <td>1</td>\n",
       "      <td>4</td>\n",
       "      <td>20</td>\n",
       "    </tr>\n",
       "    <tr>\n",
       "      <th>3</th>\n",
       "      <td>15</td>\n",
       "      <td>1</td>\n",
       "      <td>5158-1</td>\n",
       "      <td>2</td>\n",
       "      <td>0</td>\n",
       "      <td>0</td>\n",
       "      <td>0</td>\n",
       "      <td>2</td>\n",
       "    </tr>\n",
       "    <tr>\n",
       "      <th>4</th>\n",
       "      <td>16</td>\n",
       "      <td>1</td>\n",
       "      <td>903-1</td>\n",
       "      <td>10</td>\n",
       "      <td>0</td>\n",
       "      <td>0</td>\n",
       "      <td>0</td>\n",
       "      <td>10</td>\n",
       "    </tr>\n",
       "  </tbody>\n",
       "</table>\n",
       "</div>"
      ],
      "text/plain": [
       "  inventory_id  version set_num  parts  spares  minifigs_count  \\\n",
       "0            1        1  7922-1      5       0               0   \n",
       "1            3        1  3931-1     39       3               1   \n",
       "2            4        1  6942-1     16       1               1   \n",
       "3           15        1  5158-1      2       0               0   \n",
       "4           16        1   903-1     10       0               0   \n",
       "\n",
       "   minifigs_parts_sum  total_parts  \n",
       "0                   0            5  \n",
       "1                   4           43  \n",
       "2                   4           20  \n",
       "3                   0            2  \n",
       "4                   0           10  "
      ]
     },
     "execution_count": 31,
     "metadata": {},
     "output_type": "execute_result"
    }
   ],
   "source": [
    "# merge inventories_df with sets_per_inventory, add total_parts column (parts + minifigs_parts_sum)\n",
    "inventories_df = inventories_df.merge(sets_per_inventory, on='inventory_id', how='left')\n",
    "inventories_df.fillna(0, inplace=True)\n",
    "for column_name in ['parts', 'spares', 'minifigs_count', 'minifigs_parts_sum']:\n",
    "    inventories_df[column_name] = inventories_df[column_name] + inventories_df[column_name + '_sum']\n",
    "    inventories_df[column_name] = inventories_df[column_name].astype(int)\n",
    "    inventories_df.drop(columns=[column_name + '_sum'], inplace=True)\n",
    "inventories_df['total_parts'] = inventories_df['parts'] + inventories_df['minifigs_parts_sum']\n",
    "inventories_df.head()"
   ]
  },
  {
   "cell_type": "markdown",
   "metadata": {},
   "source": [
    "Inventories_df now contains all data regarding parts for each set_num. Now I need to add year and decade to this dataframe so it is complete for analysis for first 3 questions."
   ]
  },
  {
   "cell_type": "code",
   "execution_count": 32,
   "metadata": {},
   "outputs": [
    {
     "data": {
      "text/html": [
       "<div>\n",
       "<style scoped>\n",
       "    .dataframe tbody tr th:only-of-type {\n",
       "        vertical-align: middle;\n",
       "    }\n",
       "\n",
       "    .dataframe tbody tr th {\n",
       "        vertical-align: top;\n",
       "    }\n",
       "\n",
       "    .dataframe thead th {\n",
       "        text-align: right;\n",
       "    }\n",
       "</style>\n",
       "<table border=\"1\" class=\"dataframe\">\n",
       "  <thead>\n",
       "    <tr style=\"text-align: right;\">\n",
       "      <th></th>\n",
       "      <th>inventory_id</th>\n",
       "      <th>version</th>\n",
       "      <th>set_num</th>\n",
       "      <th>parts</th>\n",
       "      <th>spares</th>\n",
       "      <th>minifigs_count</th>\n",
       "      <th>minifigs_parts_sum</th>\n",
       "      <th>total_parts</th>\n",
       "      <th>set_name</th>\n",
       "      <th>year</th>\n",
       "      <th>num_parts</th>\n",
       "      <th>decade</th>\n",
       "      <th>theme</th>\n",
       "    </tr>\n",
       "  </thead>\n",
       "  <tbody>\n",
       "    <tr>\n",
       "      <th>0</th>\n",
       "      <td>1</td>\n",
       "      <td>1</td>\n",
       "      <td>7922-1</td>\n",
       "      <td>5</td>\n",
       "      <td>0</td>\n",
       "      <td>0</td>\n",
       "      <td>0</td>\n",
       "      <td>5</td>\n",
       "      <td>McDonald's Sports Set Number 6 - Orange Vest S...</td>\n",
       "      <td>2004</td>\n",
       "      <td>5</td>\n",
       "      <td>2000</td>\n",
       "      <td>Gravity Games</td>\n",
       "    </tr>\n",
       "    <tr>\n",
       "      <th>1</th>\n",
       "      <td>3</td>\n",
       "      <td>1</td>\n",
       "      <td>3931-1</td>\n",
       "      <td>39</td>\n",
       "      <td>3</td>\n",
       "      <td>1</td>\n",
       "      <td>4</td>\n",
       "      <td>43</td>\n",
       "      <td>Emma's Splash Pool</td>\n",
       "      <td>2012</td>\n",
       "      <td>43</td>\n",
       "      <td>2010</td>\n",
       "      <td>Friends</td>\n",
       "    </tr>\n",
       "    <tr>\n",
       "      <th>2</th>\n",
       "      <td>4</td>\n",
       "      <td>1</td>\n",
       "      <td>6942-1</td>\n",
       "      <td>16</td>\n",
       "      <td>1</td>\n",
       "      <td>1</td>\n",
       "      <td>4</td>\n",
       "      <td>20</td>\n",
       "      <td>Zo Weevil</td>\n",
       "      <td>1999</td>\n",
       "      <td>20</td>\n",
       "      <td>1990</td>\n",
       "      <td>Insectoids</td>\n",
       "    </tr>\n",
       "    <tr>\n",
       "      <th>3</th>\n",
       "      <td>15</td>\n",
       "      <td>1</td>\n",
       "      <td>5158-1</td>\n",
       "      <td>2</td>\n",
       "      <td>0</td>\n",
       "      <td>0</td>\n",
       "      <td>0</td>\n",
       "      <td>2</td>\n",
       "      <td>T-Junction, Circle Plates</td>\n",
       "      <td>1990</td>\n",
       "      <td>2</td>\n",
       "      <td>1980</td>\n",
       "      <td>Service Packs</td>\n",
       "    </tr>\n",
       "    <tr>\n",
       "      <th>4</th>\n",
       "      <td>16</td>\n",
       "      <td>1</td>\n",
       "      <td>903-1</td>\n",
       "      <td>10</td>\n",
       "      <td>0</td>\n",
       "      <td>0</td>\n",
       "      <td>0</td>\n",
       "      <td>10</td>\n",
       "      <td>Train Wheels and Couplers</td>\n",
       "      <td>1969</td>\n",
       "      <td>10</td>\n",
       "      <td>1960</td>\n",
       "      <td>Supplemental</td>\n",
       "    </tr>\n",
       "  </tbody>\n",
       "</table>\n",
       "</div>"
      ],
      "text/plain": [
       "  inventory_id  version set_num  parts  spares  minifigs_count  \\\n",
       "0            1        1  7922-1      5       0               0   \n",
       "1            3        1  3931-1     39       3               1   \n",
       "2            4        1  6942-1     16       1               1   \n",
       "3           15        1  5158-1      2       0               0   \n",
       "4           16        1   903-1     10       0               0   \n",
       "\n",
       "   minifigs_parts_sum  total_parts  \\\n",
       "0                   0            5   \n",
       "1                   4           43   \n",
       "2                   4           20   \n",
       "3                   0            2   \n",
       "4                   0           10   \n",
       "\n",
       "                                            set_name  year  num_parts decade  \\\n",
       "0  McDonald's Sports Set Number 6 - Orange Vest S...  2004          5   2000   \n",
       "1                                 Emma's Splash Pool  2012         43   2010   \n",
       "2                                          Zo Weevil  1999         20   1990   \n",
       "3                          T-Junction, Circle Plates  1990          2   1980   \n",
       "4                          Train Wheels and Couplers  1969         10   1960   \n",
       "\n",
       "           theme  \n",
       "0  Gravity Games  \n",
       "1        Friends  \n",
       "2     Insectoids  \n",
       "3  Service Packs  \n",
       "4   Supplemental  "
      ]
     },
     "execution_count": 32,
     "metadata": {},
     "output_type": "execute_result"
    }
   ],
   "source": [
    "# MERGE with sets table to get year for each inventory\n",
    "inventories_df = inventories_df.merge(sets_table, on='set_num', how='left')\n",
    "inventories_df.head()"
   ]
  },
  {
   "cell_type": "code",
   "execution_count": 33,
   "metadata": {},
   "outputs": [
    {
     "name": "stdout",
     "output_type": "stream",
     "text": [
      "count     1530.000000\n",
      "mean       426.288235\n",
      "std        853.819301\n",
      "min          1.000000\n",
      "25%         16.000000\n",
      "50%        156.000000\n",
      "75%        486.000000\n",
      "max      11470.000000\n",
      "Name: parts_diff, dtype: float64\n"
     ]
    }
   ],
   "source": [
    "# integrity check - if nums_parts in sets_table is same as total_parts in inventories_df\n",
    "inventories_df['parts_diff'] = abs(inventories_df['total_parts'] - inventories_df['num_parts'])\n",
    "print(inventories_df.loc[inventories_df['parts_diff'] != 0, 'parts_diff'].describe())"
   ]
  },
  {
   "cell_type": "code",
   "execution_count": 34,
   "metadata": {},
   "outputs": [
    {
     "name": "stdout",
     "output_type": "stream",
     "text": [
      "Number of rows that parts count differ: 1530\n",
      "Number of rows that parts count differ, but sets table count is different from 0: 453\n"
     ]
    }
   ],
   "source": [
    "row_differences_with_0 = inventories_df.loc[(inventories_df['parts_diff'] != 0)].shape[0]\n",
    "row_differences_without_0 = inventories_df.loc[(inventories_df['parts_diff'] != 0) & (inventories_df['num_parts'] != 0)].shape[0]\n",
    "print('Number of rows that parts count differ:', row_differences_with_0)\n",
    "print('Number of rows that parts count differ, but sets table count is different from 0:', row_differences_without_0)"
   ]
  },
  {
   "cell_type": "markdown",
   "metadata": {},
   "source": [
    "There is 1530 rows with differences between sets_table part count and part count resulting from my calculations. But most of them is when in sets table parts count is equal to 0 - so this seems to be invalid data in sets table. I will focus on the rest and check how significant are those differences."
   ]
  },
  {
   "cell_type": "code",
   "execution_count": 35,
   "metadata": {},
   "outputs": [
    {
     "data": {
      "text/html": [
       "<div>\n",
       "<style scoped>\n",
       "    .dataframe tbody tr th:only-of-type {\n",
       "        vertical-align: middle;\n",
       "    }\n",
       "\n",
       "    .dataframe tbody tr th {\n",
       "        vertical-align: top;\n",
       "    }\n",
       "\n",
       "    .dataframe thead th {\n",
       "        text-align: right;\n",
       "    }\n",
       "</style>\n",
       "<table border=\"1\" class=\"dataframe\">\n",
       "  <thead>\n",
       "    <tr style=\"text-align: right;\">\n",
       "      <th></th>\n",
       "      <th>inventory_id</th>\n",
       "      <th>version</th>\n",
       "      <th>set_num</th>\n",
       "      <th>parts</th>\n",
       "      <th>spares</th>\n",
       "      <th>minifigs_count</th>\n",
       "      <th>minifigs_parts_sum</th>\n",
       "      <th>total_parts</th>\n",
       "      <th>set_name</th>\n",
       "      <th>year</th>\n",
       "      <th>num_parts</th>\n",
       "      <th>decade</th>\n",
       "      <th>theme</th>\n",
       "      <th>parts_diff</th>\n",
       "    </tr>\n",
       "  </thead>\n",
       "  <tbody>\n",
       "    <tr>\n",
       "      <th>56</th>\n",
       "      <td>91</td>\n",
       "      <td>1</td>\n",
       "      <td>9483-1</td>\n",
       "      <td>21</td>\n",
       "      <td>12</td>\n",
       "      <td>2</td>\n",
       "      <td>124</td>\n",
       "      <td>145</td>\n",
       "      <td>Agent Mater's Escape</td>\n",
       "      <td>2012</td>\n",
       "      <td>144</td>\n",
       "      <td>2010</td>\n",
       "      <td>Cars</td>\n",
       "      <td>1</td>\n",
       "    </tr>\n",
       "    <tr>\n",
       "      <th>57</th>\n",
       "      <td>92</td>\n",
       "      <td>1</td>\n",
       "      <td>6386-1</td>\n",
       "      <td>386</td>\n",
       "      <td>4</td>\n",
       "      <td>4</td>\n",
       "      <td>16</td>\n",
       "      <td>402</td>\n",
       "      <td>Police Command Base</td>\n",
       "      <td>1986</td>\n",
       "      <td>397</td>\n",
       "      <td>1980</td>\n",
       "      <td>Classic Town</td>\n",
       "      <td>5</td>\n",
       "    </tr>\n",
       "    <tr>\n",
       "      <th>194</th>\n",
       "      <td>311</td>\n",
       "      <td>1</td>\n",
       "      <td>10201-1</td>\n",
       "      <td>399</td>\n",
       "      <td>10</td>\n",
       "      <td>0</td>\n",
       "      <td>0</td>\n",
       "      <td>399</td>\n",
       "      <td>Takutanuva</td>\n",
       "      <td>2003</td>\n",
       "      <td>1</td>\n",
       "      <td>2000</td>\n",
       "      <td>Bionicle</td>\n",
       "      <td>398</td>\n",
       "    </tr>\n",
       "    <tr>\n",
       "      <th>328</th>\n",
       "      <td>506</td>\n",
       "      <td>1</td>\n",
       "      <td>8898-1</td>\n",
       "      <td>272</td>\n",
       "      <td>12</td>\n",
       "      <td>4</td>\n",
       "      <td>20</td>\n",
       "      <td>292</td>\n",
       "      <td>Wreckage Road</td>\n",
       "      <td>2010</td>\n",
       "      <td>288</td>\n",
       "      <td>2000</td>\n",
       "      <td>World Racers</td>\n",
       "      <td>4</td>\n",
       "    </tr>\n",
       "    <tr>\n",
       "      <th>360</th>\n",
       "      <td>557</td>\n",
       "      <td>1</td>\n",
       "      <td>3409-1</td>\n",
       "      <td>222</td>\n",
       "      <td>2</td>\n",
       "      <td>12</td>\n",
       "      <td>46</td>\n",
       "      <td>268</td>\n",
       "      <td>Championship Challenge</td>\n",
       "      <td>2000</td>\n",
       "      <td>294</td>\n",
       "      <td>1990</td>\n",
       "      <td>Soccer</td>\n",
       "      <td>26</td>\n",
       "    </tr>\n",
       "  </tbody>\n",
       "</table>\n",
       "</div>"
      ],
      "text/plain": [
       "    inventory_id  version  set_num  parts  spares  minifigs_count  \\\n",
       "56            91        1   9483-1     21      12               2   \n",
       "57            92        1   6386-1    386       4               4   \n",
       "194          311        1  10201-1    399      10               0   \n",
       "328          506        1   8898-1    272      12               4   \n",
       "360          557        1   3409-1    222       2              12   \n",
       "\n",
       "     minifigs_parts_sum  total_parts                set_name  year  num_parts  \\\n",
       "56                  124          145    Agent Mater's Escape  2012        144   \n",
       "57                   16          402     Police Command Base  1986        397   \n",
       "194                   0          399              Takutanuva  2003          1   \n",
       "328                  20          292           Wreckage Road  2010        288   \n",
       "360                  46          268  Championship Challenge  2000        294   \n",
       "\n",
       "    decade         theme  parts_diff  \n",
       "56    2010          Cars           1  \n",
       "57    1980  Classic Town           5  \n",
       "194   2000      Bionicle         398  \n",
       "328   2000  World Racers           4  \n",
       "360   1990        Soccer          26  "
      ]
     },
     "execution_count": 35,
     "metadata": {},
     "output_type": "execute_result"
    }
   ],
   "source": [
    "#parts_num_differences = inventories_df.loc[(inventories_df['parts_diff'] != 0) & (inventories_df['num_parts'] != 0)]\n",
    "#parts_num_differences['percent_diff'] = round(parts_num_differences['parts_diff'] / parts_num_differences['total_parts'] * 100, 2)\n",
    "inventories_df.loc[(inventories_df['parts_diff'] != 0) & (inventories_df['num_parts'] != 0)].head()"
   ]
  },
  {
   "cell_type": "markdown",
   "metadata": {},
   "source": [
    "As I look randomly on the web page, there are differences when there are sets in the inventory or there are different versions of a set. On the web page, correct data is the one that I calculated, so I will consider this one for further analysis."
   ]
  },
  {
   "cell_type": "code",
   "execution_count": 36,
   "metadata": {},
   "outputs": [
    {
     "data": {
      "text/html": [
       "<div>\n",
       "<style scoped>\n",
       "    .dataframe tbody tr th:only-of-type {\n",
       "        vertical-align: middle;\n",
       "    }\n",
       "\n",
       "    .dataframe tbody tr th {\n",
       "        vertical-align: top;\n",
       "    }\n",
       "\n",
       "    .dataframe thead th {\n",
       "        text-align: right;\n",
       "    }\n",
       "</style>\n",
       "<table border=\"1\" class=\"dataframe\">\n",
       "  <thead>\n",
       "    <tr style=\"text-align: right;\">\n",
       "      <th></th>\n",
       "      <th>inventory_id</th>\n",
       "      <th>version</th>\n",
       "      <th>set_num</th>\n",
       "      <th>parts</th>\n",
       "      <th>spares</th>\n",
       "      <th>minifigs_count</th>\n",
       "      <th>minifigs_parts_sum</th>\n",
       "      <th>total_parts</th>\n",
       "      <th>set_name</th>\n",
       "      <th>year</th>\n",
       "      <th>num_parts</th>\n",
       "      <th>decade</th>\n",
       "      <th>theme</th>\n",
       "      <th>parts_diff</th>\n",
       "    </tr>\n",
       "  </thead>\n",
       "  <tbody>\n",
       "    <tr>\n",
       "      <th>12802</th>\n",
       "      <td>27754</td>\n",
       "      <td>1</td>\n",
       "      <td>5005469-1</td>\n",
       "      <td>0</td>\n",
       "      <td>0</td>\n",
       "      <td>0</td>\n",
       "      <td>0</td>\n",
       "      <td>0</td>\n",
       "      <td>Absolutely Everything You Need to Know</td>\n",
       "      <td>2017</td>\n",
       "      <td>4</td>\n",
       "      <td>2010</td>\n",
       "      <td>Non-fiction Books</td>\n",
       "      <td>4</td>\n",
       "    </tr>\n",
       "    <tr>\n",
       "      <th>22389</th>\n",
       "      <td>171262</td>\n",
       "      <td>1</td>\n",
       "      <td>010423-1</td>\n",
       "      <td>0</td>\n",
       "      <td>0</td>\n",
       "      <td>0</td>\n",
       "      <td>0</td>\n",
       "      <td>0</td>\n",
       "      <td>The Majestic Horse</td>\n",
       "      <td>2023</td>\n",
       "      <td>492</td>\n",
       "      <td>2020</td>\n",
       "      <td>Icons</td>\n",
       "      <td>492</td>\n",
       "    </tr>\n",
       "  </tbody>\n",
       "</table>\n",
       "</div>"
      ],
      "text/plain": [
       "      inventory_id  version    set_num  parts  spares  minifigs_count  \\\n",
       "12802        27754        1  5005469-1      0       0               0   \n",
       "22389       171262        1   010423-1      0       0               0   \n",
       "\n",
       "       minifigs_parts_sum  total_parts  \\\n",
       "12802                   0            0   \n",
       "22389                   0            0   \n",
       "\n",
       "                                     set_name  year  num_parts decade  \\\n",
       "12802  Absolutely Everything You Need to Know  2017          4   2010   \n",
       "22389                      The Majestic Horse  2023        492   2020   \n",
       "\n",
       "                   theme  parts_diff  \n",
       "12802  Non-fiction Books           4  \n",
       "22389              Icons         492  "
      ]
     },
     "execution_count": 36,
     "metadata": {},
     "output_type": "execute_result"
    }
   ],
   "source": [
    "# more integrity check - if there are any sets that contain 0 parts while there are parts in nums_parts?\n",
    "inventories_df[(inventories_df['total_parts'] == 0) & (inventories_df['num_parts'] != 0)]"
   ]
  },
  {
   "cell_type": "markdown",
   "metadata": {},
   "source": [
    "I checked those two on the web page - first one should be 0 as there were 2 versions of the set - 1 without minifigure and second with it. This is version without so it should not contain any parts. \n",
    "Second one - The Majestic Horse has an error on web page, so I set total_parts for same as num_parts. "
   ]
  },
  {
   "cell_type": "code",
   "execution_count": 37,
   "metadata": {},
   "outputs": [
    {
     "data": {
      "text/html": [
       "<div>\n",
       "<style scoped>\n",
       "    .dataframe tbody tr th:only-of-type {\n",
       "        vertical-align: middle;\n",
       "    }\n",
       "\n",
       "    .dataframe tbody tr th {\n",
       "        vertical-align: top;\n",
       "    }\n",
       "\n",
       "    .dataframe thead th {\n",
       "        text-align: right;\n",
       "    }\n",
       "</style>\n",
       "<table border=\"1\" class=\"dataframe\">\n",
       "  <thead>\n",
       "    <tr style=\"text-align: right;\">\n",
       "      <th></th>\n",
       "      <th>inventory_id</th>\n",
       "      <th>version</th>\n",
       "      <th>set_num</th>\n",
       "      <th>parts</th>\n",
       "      <th>spares</th>\n",
       "      <th>minifigs_count</th>\n",
       "      <th>minifigs_parts_sum</th>\n",
       "      <th>total_parts</th>\n",
       "      <th>set_name</th>\n",
       "      <th>year</th>\n",
       "      <th>num_parts</th>\n",
       "      <th>decade</th>\n",
       "      <th>theme</th>\n",
       "      <th>parts_diff</th>\n",
       "    </tr>\n",
       "  </thead>\n",
       "  <tbody>\n",
       "    <tr>\n",
       "      <th>22389</th>\n",
       "      <td>171262</td>\n",
       "      <td>1</td>\n",
       "      <td>010423-1</td>\n",
       "      <td>0</td>\n",
       "      <td>0</td>\n",
       "      <td>0</td>\n",
       "      <td>0</td>\n",
       "      <td>492</td>\n",
       "      <td>The Majestic Horse</td>\n",
       "      <td>2023</td>\n",
       "      <td>492</td>\n",
       "      <td>2020</td>\n",
       "      <td>Icons</td>\n",
       "      <td>492</td>\n",
       "    </tr>\n",
       "  </tbody>\n",
       "</table>\n",
       "</div>"
      ],
      "text/plain": [
       "      inventory_id  version   set_num  parts  spares  minifigs_count  \\\n",
       "22389       171262        1  010423-1      0       0               0   \n",
       "\n",
       "       minifigs_parts_sum  total_parts            set_name  year  num_parts  \\\n",
       "22389                   0          492  The Majestic Horse  2023        492   \n",
       "\n",
       "      decade  theme  parts_diff  \n",
       "22389   2020  Icons         492  "
      ]
     },
     "execution_count": 37,
     "metadata": {},
     "output_type": "execute_result"
    }
   ],
   "source": [
    "inventories_df.loc[inventories_df['inventory_id'] == 171262, 'total_parts'] = inventories_df.loc[inventories_df['inventory_id'] == 171262, 'num_parts'].iloc[0]\n",
    "inventories_df.loc[inventories_df['inventory_id'] == 171262]"
   ]
  },
  {
   "cell_type": "code",
   "execution_count": 38,
   "metadata": {},
   "outputs": [
    {
     "data": {
      "text/plain": [
       "(25619, 15)"
      ]
     },
     "execution_count": 38,
     "metadata": {},
     "output_type": "execute_result"
    }
   ],
   "source": [
    "# add new column to inventories_df\n",
    "inventories_df['parts_in_set'] = inventories_df['total_parts'] != 0\n",
    "inventories_df.shape"
   ]
  },
  {
   "cell_type": "markdown",
   "metadata": {},
   "source": [
    "I checked also others and it is correct that some sets do not contain any parts - they are other toys, playmats, books etc."
   ]
  },
  {
   "cell_type": "markdown",
   "metadata": {},
   "source": [
    "Columns explanation in inventories_df: \\\n",
    "'inventory_id' - inventory id \\ \n",
    "'version' - version of set \\\n",
    "'set_num' - set number\\\n",
    "'parts' - parts count (excluded minifigures parts and spares)\\\n",
    "'spares' - spares count\\\n",
    "'minifigs_count' - number of minifigures in the set\\\n",
    "'minifigs_parts_sum' - count of parts for all minifigures added in the set\\\n",
    "'total_parts' - total number of parts (parts + fig_parts_sum), excludes number of spare parts\\\n",
    "'set_name' - name of the set\\\n",
    "'year' - year in which set was released\\\n",
    "'num_parts' - number of parts taken from sets table\\\n",
    "'decade' - decade in which set was released\\\n",
    "'theme' - theme of the set\\\n",
    "'parts_diff' - difference between total parts and num_parts, explained above already\n",
    "'parts_in_set' - whether there are bricks in set"
   ]
  },
  {
   "cell_type": "code",
   "execution_count": 44,
   "metadata": {},
   "outputs": [],
   "source": [
    "# define function to add years with no sets at all to the analysis\n",
    "def add_lacking_years(df, year_column, columns_to_set):\n",
    "    for year in set([y for y in range(df[year_column].min(), df[year_column].max())]).difference(set(df[year_column])):\n",
    "        df = pd.concat([df, pd.DataFrame({col: 0 for col in columns_to_set}.update({year_column: year}))], ignore_index=True)\n",
    "    return df"
   ]
  },
  {
   "cell_type": "markdown",
   "metadata": {},
   "source": [
    "## QUESTION 1\n",
    "1. What is the average number of Lego sets released per year? How does it look through years?"
   ]
  },
  {
   "cell_type": "code",
   "execution_count": 40,
   "metadata": {},
   "outputs": [
    {
     "data": {
      "text/html": [
       "<div>\n",
       "<style scoped>\n",
       "    .dataframe tbody tr th:only-of-type {\n",
       "        vertical-align: middle;\n",
       "    }\n",
       "\n",
       "    .dataframe tbody tr th {\n",
       "        vertical-align: top;\n",
       "    }\n",
       "\n",
       "    .dataframe thead th {\n",
       "        text-align: right;\n",
       "    }\n",
       "</style>\n",
       "<table border=\"1\" class=\"dataframe\">\n",
       "  <thead>\n",
       "    <tr style=\"text-align: right;\">\n",
       "      <th>parts_in_set</th>\n",
       "      <th>year</th>\n",
       "      <th>without_parts_in_set</th>\n",
       "      <th>parts_in_set</th>\n",
       "    </tr>\n",
       "  </thead>\n",
       "  <tbody>\n",
       "    <tr>\n",
       "      <th>0</th>\n",
       "      <td>1949</td>\n",
       "      <td>0</td>\n",
       "      <td>7</td>\n",
       "    </tr>\n",
       "    <tr>\n",
       "      <th>1</th>\n",
       "      <td>1950</td>\n",
       "      <td>0</td>\n",
       "      <td>22</td>\n",
       "    </tr>\n",
       "    <tr>\n",
       "      <th>2</th>\n",
       "      <td>1953</td>\n",
       "      <td>1</td>\n",
       "      <td>12</td>\n",
       "    </tr>\n",
       "    <tr>\n",
       "      <th>3</th>\n",
       "      <td>1954</td>\n",
       "      <td>0</td>\n",
       "      <td>60</td>\n",
       "    </tr>\n",
       "    <tr>\n",
       "      <th>4</th>\n",
       "      <td>1955</td>\n",
       "      <td>3</td>\n",
       "      <td>80</td>\n",
       "    </tr>\n",
       "  </tbody>\n",
       "</table>\n",
       "</div>"
      ],
      "text/plain": [
       "parts_in_set  year  without_parts_in_set  parts_in_set\n",
       "0             1949                     0             7\n",
       "1             1950                     0            22\n",
       "2             1953                     1            12\n",
       "3             1954                     0            60\n",
       "4             1955                     3            80"
      ]
     },
     "execution_count": 40,
     "metadata": {},
     "output_type": "execute_result"
    }
   ],
   "source": [
    "sets_tables_years_all = pd.pivot_table(inventories_df, columns=['parts_in_set'], index=['year'], values='total_parts', aggfunc='count').reset_index()\n",
    "sets_tables_years_all.rename(columns={False: 'without_parts_in_set', True: 'parts_in_set'}, inplace=True)\n",
    "\n",
    "sets_tables_years_all.head()"
   ]
  },
  {
   "cell_type": "code",
   "execution_count": 43,
   "metadata": {},
   "outputs": [
    {
     "name": "stdout",
     "output_type": "stream",
     "text": [
      "<class 'pandas.core.frame.DataFrame'>\n",
      "RangeIndex: 75 entries, 0 to 74\n",
      "Data columns (total 3 columns):\n",
      " #   Column                Non-Null Count  Dtype   \n",
      "---  ------                --------------  -----   \n",
      " 0   year                  75 non-null     category\n",
      " 1   without_parts_in_set  75 non-null     int64   \n",
      " 2   parts_in_set          75 non-null     int64   \n",
      "dtypes: category(1), int64(2)\n",
      "memory usage: 4.0 KB\n"
     ]
    }
   ],
   "source": [
    "sets_tables_years_all.info()"
   ]
  },
  {
   "cell_type": "code",
   "execution_count": 45,
   "metadata": {},
   "outputs": [
    {
     "data": {
      "text/html": [
       "<div>\n",
       "<style scoped>\n",
       "    .dataframe tbody tr th:only-of-type {\n",
       "        vertical-align: middle;\n",
       "    }\n",
       "\n",
       "    .dataframe tbody tr th {\n",
       "        vertical-align: top;\n",
       "    }\n",
       "\n",
       "    .dataframe thead th {\n",
       "        text-align: right;\n",
       "    }\n",
       "</style>\n",
       "<table border=\"1\" class=\"dataframe\">\n",
       "  <thead>\n",
       "    <tr style=\"text-align: right;\">\n",
       "      <th>parts_in_set</th>\n",
       "      <th>year</th>\n",
       "      <th>without_parts_in_set</th>\n",
       "      <th>parts_in_set</th>\n",
       "    </tr>\n",
       "  </thead>\n",
       "  <tbody>\n",
       "    <tr>\n",
       "      <th>0</th>\n",
       "      <td>1949</td>\n",
       "      <td>0</td>\n",
       "      <td>7</td>\n",
       "    </tr>\n",
       "    <tr>\n",
       "      <th>1</th>\n",
       "      <td>1950</td>\n",
       "      <td>0</td>\n",
       "      <td>22</td>\n",
       "    </tr>\n",
       "    <tr>\n",
       "      <th>2</th>\n",
       "      <td>1953</td>\n",
       "      <td>1</td>\n",
       "      <td>12</td>\n",
       "    </tr>\n",
       "    <tr>\n",
       "      <th>3</th>\n",
       "      <td>1954</td>\n",
       "      <td>0</td>\n",
       "      <td>60</td>\n",
       "    </tr>\n",
       "    <tr>\n",
       "      <th>4</th>\n",
       "      <td>1955</td>\n",
       "      <td>3</td>\n",
       "      <td>80</td>\n",
       "    </tr>\n",
       "  </tbody>\n",
       "</table>\n",
       "</div>"
      ],
      "text/plain": [
       "parts_in_set  year  without_parts_in_set  parts_in_set\n",
       "0             1949                     0             7\n",
       "1             1950                     0            22\n",
       "2             1953                     1            12\n",
       "3             1954                     0            60\n",
       "4             1955                     3            80"
      ]
     },
     "execution_count": 45,
     "metadata": {},
     "output_type": "execute_result"
    }
   ],
   "source": [
    "sets_tables_years_all2 = pd.pivot_table(inventories_df, columns=['parts_in_set'], index=['year'], values='total_parts', aggfunc='count').reset_index()\n",
    "sets_tables_years_all2.rename(columns={False: 'without_parts_in_set', True: 'parts_in_set'}, inplace=True)\n",
    "sets_tables_years_all2['year'] = sets_tables_years_all2['year'].astype('int')\n",
    "sets_tables_years_all2 = add_lacking_years(sets_tables_years_all2, 'year', ['without_parts_in_set', 'parts_in_set'])\n",
    "sets_tables_years_all2['year'] = sets_tables_years_all2['year'].astype('category')\n",
    "sets_tables_years_all2.head()"
   ]
  },
  {
   "cell_type": "code",
   "execution_count": 46,
   "metadata": {},
   "outputs": [
    {
     "name": "stdout",
     "output_type": "stream",
     "text": [
      "<class 'pandas.core.frame.DataFrame'>\n",
      "RangeIndex: 75 entries, 0 to 74\n",
      "Data columns (total 3 columns):\n",
      " #   Column                Non-Null Count  Dtype   \n",
      "---  ------                --------------  -----   \n",
      " 0   year                  75 non-null     category\n",
      " 1   without_parts_in_set  75 non-null     int64   \n",
      " 2   parts_in_set          75 non-null     int64   \n",
      "dtypes: category(1), int64(2)\n",
      "memory usage: 3.2 KB\n"
     ]
    }
   ],
   "source": [
    "sets_tables_years_all2.info()"
   ]
  },
  {
   "cell_type": "code",
   "execution_count": 54,
   "metadata": {},
   "outputs": [
    {
     "ename": "KeyError",
     "evalue": "'without_parts_in_set'",
     "output_type": "error",
     "traceback": [
      "\u001b[1;31m---------------------------------------------------------------------------\u001b[0m",
      "\u001b[1;31mKeyError\u001b[0m                                  Traceback (most recent call last)",
      "File \u001b[1;32m~\\anaconda3\\Lib\\site-packages\\pandas\\core\\indexes\\base.py:3791\u001b[0m, in \u001b[0;36mIndex.get_loc\u001b[1;34m(self, key)\u001b[0m\n\u001b[0;32m   3790\u001b[0m \u001b[38;5;28;01mtry\u001b[39;00m:\n\u001b[1;32m-> 3791\u001b[0m     \u001b[38;5;28;01mreturn\u001b[39;00m \u001b[38;5;28mself\u001b[39m\u001b[38;5;241m.\u001b[39m_engine\u001b[38;5;241m.\u001b[39mget_loc(casted_key)\n\u001b[0;32m   3792\u001b[0m \u001b[38;5;28;01mexcept\u001b[39;00m \u001b[38;5;167;01mKeyError\u001b[39;00m \u001b[38;5;28;01mas\u001b[39;00m err:\n",
      "File \u001b[1;32mindex.pyx:152\u001b[0m, in \u001b[0;36mpandas._libs.index.IndexEngine.get_loc\u001b[1;34m()\u001b[0m\n",
      "File \u001b[1;32mindex.pyx:181\u001b[0m, in \u001b[0;36mpandas._libs.index.IndexEngine.get_loc\u001b[1;34m()\u001b[0m\n",
      "File \u001b[1;32mpandas\\_libs\\hashtable_class_helper.pxi:7080\u001b[0m, in \u001b[0;36mpandas._libs.hashtable.PyObjectHashTable.get_item\u001b[1;34m()\u001b[0m\n",
      "File \u001b[1;32mpandas\\_libs\\hashtable_class_helper.pxi:7088\u001b[0m, in \u001b[0;36mpandas._libs.hashtable.PyObjectHashTable.get_item\u001b[1;34m()\u001b[0m\n",
      "\u001b[1;31mKeyError\u001b[0m: 'without_parts_in_set'",
      "\nThe above exception was the direct cause of the following exception:\n",
      "\u001b[1;31mKeyError\u001b[0m                                  Traceback (most recent call last)",
      "Cell \u001b[1;32mIn[54], line 7\u001b[0m\n\u001b[0;32m      5\u001b[0m plt\u001b[38;5;241m.\u001b[39mgrid(axis\u001b[38;5;241m=\u001b[39m\u001b[38;5;124m'\u001b[39m\u001b[38;5;124my\u001b[39m\u001b[38;5;124m'\u001b[39m, alpha\u001b[38;5;241m=\u001b[39m\u001b[38;5;241m0.5\u001b[39m)\n\u001b[0;32m      6\u001b[0m ax\u001b[38;5;241m.\u001b[39mbar(sets_tables_years_all[\u001b[38;5;124m'\u001b[39m\u001b[38;5;124myear\u001b[39m\u001b[38;5;124m'\u001b[39m], sets_tables_years_all[\u001b[38;5;124m'\u001b[39m\u001b[38;5;124mparts_in_set\u001b[39m\u001b[38;5;124m'\u001b[39m], alpha\u001b[38;5;241m=\u001b[39m\u001b[38;5;241m0.75\u001b[39m, label\u001b[38;5;241m=\u001b[39m\u001b[38;5;124m'\u001b[39m\u001b[38;5;124mSets with parts\u001b[39m\u001b[38;5;124m'\u001b[39m)\n\u001b[1;32m----> 7\u001b[0m ax\u001b[38;5;241m.\u001b[39mbar(sets_tables_years_all[\u001b[38;5;124m'\u001b[39m\u001b[38;5;124myear\u001b[39m\u001b[38;5;124m'\u001b[39m], sets_tables_years_all[\u001b[38;5;124m'\u001b[39m\u001b[38;5;124mwithout_parts_in_set\u001b[39m\u001b[38;5;124m'\u001b[39m], bottom\u001b[38;5;241m=\u001b[39msets_tables_years_all[\u001b[38;5;124m'\u001b[39m\u001b[38;5;124mparts_in_set\u001b[39m\u001b[38;5;124m'\u001b[39m], alpha\u001b[38;5;241m=\u001b[39m\u001b[38;5;241m0.75\u001b[39m,  \n\u001b[0;32m      8\u001b[0m       label\u001b[38;5;241m=\u001b[39m\u001b[38;5;124m'\u001b[39m\u001b[38;5;124mSets without parts\u001b[39m\u001b[38;5;124m'\u001b[39m)\n\u001b[0;32m      9\u001b[0m ax\u001b[38;5;241m.\u001b[39mtick_params(axis\u001b[38;5;241m=\u001b[39m\u001b[38;5;124m'\u001b[39m\u001b[38;5;124mx\u001b[39m\u001b[38;5;124m'\u001b[39m, rotation\u001b[38;5;241m=\u001b[39m\u001b[38;5;241m90\u001b[39m)\n\u001b[0;32m     10\u001b[0m ax\u001b[38;5;241m.\u001b[39mset_title(\u001b[38;5;124m'\u001b[39m\u001b[38;5;124mLego sets count per year\u001b[39m\u001b[38;5;124m'\u001b[39m)\n",
      "File \u001b[1;32m~\\anaconda3\\Lib\\site-packages\\pandas\\core\\frame.py:3893\u001b[0m, in \u001b[0;36mDataFrame.__getitem__\u001b[1;34m(self, key)\u001b[0m\n\u001b[0;32m   3891\u001b[0m \u001b[38;5;28;01mif\u001b[39;00m \u001b[38;5;28mself\u001b[39m\u001b[38;5;241m.\u001b[39mcolumns\u001b[38;5;241m.\u001b[39mnlevels \u001b[38;5;241m>\u001b[39m \u001b[38;5;241m1\u001b[39m:\n\u001b[0;32m   3892\u001b[0m     \u001b[38;5;28;01mreturn\u001b[39;00m \u001b[38;5;28mself\u001b[39m\u001b[38;5;241m.\u001b[39m_getitem_multilevel(key)\n\u001b[1;32m-> 3893\u001b[0m indexer \u001b[38;5;241m=\u001b[39m \u001b[38;5;28mself\u001b[39m\u001b[38;5;241m.\u001b[39mcolumns\u001b[38;5;241m.\u001b[39mget_loc(key)\n\u001b[0;32m   3894\u001b[0m \u001b[38;5;28;01mif\u001b[39;00m is_integer(indexer):\n\u001b[0;32m   3895\u001b[0m     indexer \u001b[38;5;241m=\u001b[39m [indexer]\n",
      "File \u001b[1;32m~\\anaconda3\\Lib\\site-packages\\pandas\\core\\indexes\\base.py:3798\u001b[0m, in \u001b[0;36mIndex.get_loc\u001b[1;34m(self, key)\u001b[0m\n\u001b[0;32m   3793\u001b[0m     \u001b[38;5;28;01mif\u001b[39;00m \u001b[38;5;28misinstance\u001b[39m(casted_key, \u001b[38;5;28mslice\u001b[39m) \u001b[38;5;129;01mor\u001b[39;00m (\n\u001b[0;32m   3794\u001b[0m         \u001b[38;5;28misinstance\u001b[39m(casted_key, abc\u001b[38;5;241m.\u001b[39mIterable)\n\u001b[0;32m   3795\u001b[0m         \u001b[38;5;129;01mand\u001b[39;00m \u001b[38;5;28many\u001b[39m(\u001b[38;5;28misinstance\u001b[39m(x, \u001b[38;5;28mslice\u001b[39m) \u001b[38;5;28;01mfor\u001b[39;00m x \u001b[38;5;129;01min\u001b[39;00m casted_key)\n\u001b[0;32m   3796\u001b[0m     ):\n\u001b[0;32m   3797\u001b[0m         \u001b[38;5;28;01mraise\u001b[39;00m InvalidIndexError(key)\n\u001b[1;32m-> 3798\u001b[0m     \u001b[38;5;28;01mraise\u001b[39;00m \u001b[38;5;167;01mKeyError\u001b[39;00m(key) \u001b[38;5;28;01mfrom\u001b[39;00m \u001b[38;5;21;01merr\u001b[39;00m\n\u001b[0;32m   3799\u001b[0m \u001b[38;5;28;01mexcept\u001b[39;00m \u001b[38;5;167;01mTypeError\u001b[39;00m:\n\u001b[0;32m   3800\u001b[0m     \u001b[38;5;66;03m# If we have a listlike key, _check_indexing_error will raise\u001b[39;00m\n\u001b[0;32m   3801\u001b[0m     \u001b[38;5;66;03m#  InvalidIndexError. Otherwise we fall through and re-raise\u001b[39;00m\n\u001b[0;32m   3802\u001b[0m     \u001b[38;5;66;03m#  the TypeError.\u001b[39;00m\n\u001b[0;32m   3803\u001b[0m     \u001b[38;5;28mself\u001b[39m\u001b[38;5;241m.\u001b[39m_check_indexing_error(key)\n",
      "\u001b[1;31mKeyError\u001b[0m: 'without_parts_in_set'"
     ]
    },
    {
     "data": {
      "image/png": "[encoded data removed]",
      "text/plain": [
       "<Figure size 1800x700 with 1 Axes>"
      ]
     },
     "metadata": {},
     "output_type": "display_data"
    }
   ],
   "source": [
    "# how it looks with sets that do not have any parts\n",
    "ax = sns.set_style(style=None)\n",
    "fig, ax = plt.subplots(figsize=(18,7))\n",
    "years_order = sorted(sets_tables_years_all['year'].unique())\n",
    "plt.grid(axis='y', alpha=0.5)\n",
    "ax.bar(sets_tables_years_all['year'], sets_tables_years_all['parts_in_set'], alpha=0.75, label='Sets with parts')\n",
    "ax.bar(sets_tables_years_all['year'], sets_tables_years_all['without_parts_in_set'], bottom=sets_tables_years_all['parts_in_set'], alpha=0.75,  \n",
    "      label='Sets without parts')\n",
    "ax.tick_params(axis='x', rotation=90)\n",
    "ax.set_title('Lego sets count per year')\n",
    "ax.set_ylabel('Lego sets count')\n",
    "ax.set_xlabel('Year')\n",
    "ax.legend(title='Set type')\n",
    "plt.show()"
   ]
  },
  {
   "cell_type": "markdown",
   "metadata": {},
   "source": [
    "For further analysis, I will exclude sets with no parts as they are not relevant - I focus only on regular sets, not on all products sold by Lego. From the chart above it is clear that through the years, more other stuff are sold/manufactured by Lego as this company increases its potential and influences other markets, not just staying in one."
   ]
  },
  {
   "cell_type": "code",
   "execution_count": 41,
   "metadata": {},
   "outputs": [
    {
     "data": {
      "text/plain": [
       "(20808, 15)"
      ]
     },
     "execution_count": 41,
     "metadata": {},
     "output_type": "execute_result"
    }
   ],
   "source": [
    "# excluding rows containing sets with no parts\n",
    "inventories_df = inventories_df[inventories_df['parts_in_set']]\n",
    "inventories_df.shape"
   ]
  },
  {
   "cell_type": "code",
   "execution_count": 42,
   "metadata": {},
   "outputs": [
    {
     "name": "stderr",
     "output_type": "stream",
     "text": [
      "C:\\Users\\Dom\\AppData\\Local\\Temp\\ipykernel_19904\\2722841704.py:3: FutureWarning: The default of observed=False is deprecated and will be changed to True in a future version of pandas. Pass observed=False to retain current behavior or observed=True to adopt the future default and silence this warning.\n",
      "  .groupby('decade')\n"
     ]
    },
    {
     "data": {
      "text/html": [
       "<div>\n",
       "<style scoped>\n",
       "    .dataframe tbody tr th:only-of-type {\n",
       "        vertical-align: middle;\n",
       "    }\n",
       "\n",
       "    .dataframe tbody tr th {\n",
       "        vertical-align: top;\n",
       "    }\n",
       "\n",
       "    .dataframe thead th {\n",
       "        text-align: right;\n",
       "    }\n",
       "</style>\n",
       "<table border=\"1\" class=\"dataframe\">\n",
       "  <thead>\n",
       "    <tr style=\"text-align: right;\">\n",
       "      <th></th>\n",
       "      <th>decade</th>\n",
       "      <th>no_of_years</th>\n",
       "      <th>set_count</th>\n",
       "      <th>decade_avg</th>\n",
       "    </tr>\n",
       "  </thead>\n",
       "  <tbody>\n",
       "    <tr>\n",
       "      <th>0</th>\n",
       "      <td>1950</td>\n",
       "      <td>10</td>\n",
       "      <td>369</td>\n",
       "      <td>36</td>\n",
       "    </tr>\n",
       "    <tr>\n",
       "      <th>1</th>\n",
       "      <td>1960</td>\n",
       "      <td>10</td>\n",
       "      <td>934</td>\n",
       "      <td>93</td>\n",
       "    </tr>\n",
       "    <tr>\n",
       "      <th>2</th>\n",
       "      <td>1970</td>\n",
       "      <td>10</td>\n",
       "      <td>769</td>\n",
       "      <td>76</td>\n",
       "    </tr>\n",
       "    <tr>\n",
       "      <th>3</th>\n",
       "      <td>1980</td>\n",
       "      <td>10</td>\n",
       "      <td>1317</td>\n",
       "      <td>131</td>\n",
       "    </tr>\n",
       "    <tr>\n",
       "      <th>4</th>\n",
       "      <td>1990</td>\n",
       "      <td>10</td>\n",
       "      <td>2501</td>\n",
       "      <td>250</td>\n",
       "    </tr>\n",
       "    <tr>\n",
       "      <th>5</th>\n",
       "      <td>2000</td>\n",
       "      <td>10</td>\n",
       "      <td>4504</td>\n",
       "      <td>450</td>\n",
       "    </tr>\n",
       "    <tr>\n",
       "      <th>6</th>\n",
       "      <td>2010</td>\n",
       "      <td>10</td>\n",
       "      <td>7285</td>\n",
       "      <td>728</td>\n",
       "    </tr>\n",
       "    <tr>\n",
       "      <th>7</th>\n",
       "      <td>2020</td>\n",
       "      <td>4</td>\n",
       "      <td>3129</td>\n",
       "      <td>782</td>\n",
       "    </tr>\n",
       "  </tbody>\n",
       "</table>\n",
       "</div>"
      ],
      "text/plain": [
       "  decade  no_of_years  set_count  decade_avg\n",
       "0   1950           10        369          36\n",
       "1   1960           10        934          93\n",
       "2   1970           10        769          76\n",
       "3   1980           10       1317         131\n",
       "4   1990           10       2501         250\n",
       "5   2000           10       4504         450\n",
       "6   2010           10       7285         728\n",
       "7   2020            4       3129         782"
      ]
     },
     "execution_count": 42,
     "metadata": {},
     "output_type": "execute_result"
    }
   ],
   "source": [
    "#  mean value per decade\n",
    "sets_tables_decade_all = (inventories_df\n",
    "                          .groupby('decade')\n",
    "                          .agg(\n",
    "                              no_of_years=('year', 'nunique'),\n",
    "                              set_count=('set_num', 'count')\n",
    "                          )\n",
    "                          .reset_index()\n",
    "                     )\n",
    "sets_tables_decade_all['decade_avg'] = sets_tables_decade_all['set_count'] // sets_tables_decade_all['no_of_years']\n",
    "sets_tables_decade_all"
   ]
  },
  {
   "cell_type": "code",
   "execution_count": 43,
   "metadata": {},
   "outputs": [
    {
     "name": "stderr",
     "output_type": "stream",
     "text": [
      "C:\\Users\\Dom\\anaconda3\\Lib\\site-packages\\seaborn\\categorical.py:641: FutureWarning: The default of observed=False is deprecated and will be changed to True in a future version of pandas. Pass observed=False to retain current behavior or observed=True to adopt the future default and silence this warning.\n",
      "  grouped_vals = vals.groupby(grouper)\n"
     ]
    },
    {
     "data": {
      "image/png": "[encoded data removed]",
      "text/plain": [
       "<Figure size 1200x600 with 1 Axes>"
      ]
     },
     "metadata": {},
     "output_type": "display_data"
    }
   ],
   "source": [
    "ax = sns.set_style(style=None)\n",
    "fig, ax = plt.subplots(figsize=(12,6))\n",
    "plt.grid(axis='y', alpha=0.5)\n",
    "sns.barplot(data = sets_tables_decade_all, x='decade', y='decade_avg', alpha=0.25, ax=ax, palette='hls', width=0.5, order=sets_tables_decade_all['decade']) \n",
    "ax.tick_params(axis='x', rotation=90)\n",
    "ax.set_title('Average of sets per year in each decade')\n",
    "ax.set_ylabel('Average Lego sets count per year')\n",
    "ax.set_xlabel('Decade')\n",
    "plt.show()"
   ]
  },
  {
   "cell_type": "code",
   "execution_count": 44,
   "metadata": {},
   "outputs": [
    {
     "name": "stdout",
     "output_type": "stream",
     "text": [
      "Average number of Lego sets per year is: 277\n"
     ]
    }
   ],
   "source": [
    "print('Average number of Lego sets per year is:', int(sets_tables_years_all['parts_in_set'].mean()))"
   ]
  },
  {
   "cell_type": "markdown",
   "metadata": {},
   "source": [
    "Above are shown charts telling story how Lego has expanded through years - the company now produces more Lego sets per year than ever before, and it looks like it is still growing. But, to answer the question, as for now mean number of new Lego sets per year is 277."
   ]
  },
  {
   "cell_type": "markdown",
   "metadata": {},
   "source": [
    "## QUESTION 2:\n",
    "2. What is the average number of Lego parts per year? Per set per year and total bricks in all newly realeased sets per year.\n"
   ]
  },
  {
   "cell_type": "code",
   "execution_count": 45,
   "metadata": {},
   "outputs": [
    {
     "data": {
      "text/html": [
       "<div>\n",
       "<style scoped>\n",
       "    .dataframe tbody tr th:only-of-type {\n",
       "        vertical-align: middle;\n",
       "    }\n",
       "\n",
       "    .dataframe tbody tr th {\n",
       "        vertical-align: top;\n",
       "    }\n",
       "\n",
       "    .dataframe thead th {\n",
       "        text-align: right;\n",
       "    }\n",
       "</style>\n",
       "<table border=\"1\" class=\"dataframe\">\n",
       "  <thead>\n",
       "    <tr style=\"text-align: right;\">\n",
       "      <th></th>\n",
       "      <th>year</th>\n",
       "      <th>avg</th>\n",
       "      <th>sum</th>\n",
       "      <th>set_count</th>\n",
       "    </tr>\n",
       "  </thead>\n",
       "  <tbody>\n",
       "    <tr>\n",
       "      <th>0</th>\n",
       "      <td>1949</td>\n",
       "      <td>111</td>\n",
       "      <td>782</td>\n",
       "      <td>7</td>\n",
       "    </tr>\n",
       "    <tr>\n",
       "      <th>1</th>\n",
       "      <td>1950</td>\n",
       "      <td>1</td>\n",
       "      <td>22</td>\n",
       "      <td>22</td>\n",
       "    </tr>\n",
       "    <tr>\n",
       "      <th>2</th>\n",
       "      <td>1953</td>\n",
       "      <td>8</td>\n",
       "      <td>106</td>\n",
       "      <td>12</td>\n",
       "    </tr>\n",
       "    <tr>\n",
       "      <th>3</th>\n",
       "      <td>1954</td>\n",
       "      <td>2</td>\n",
       "      <td>178</td>\n",
       "      <td>60</td>\n",
       "    </tr>\n",
       "    <tr>\n",
       "      <th>4</th>\n",
       "      <td>1955</td>\n",
       "      <td>14</td>\n",
       "      <td>1171</td>\n",
       "      <td>80</td>\n",
       "    </tr>\n",
       "  </tbody>\n",
       "</table>\n",
       "</div>"
      ],
      "text/plain": [
       "   year  avg   sum  set_count\n",
       "0  1949  111   782          7\n",
       "1  1950    1    22         22\n",
       "2  1953    8   106         12\n",
       "3  1954    2   178         60\n",
       "4  1955   14  1171         80"
      ]
     },
     "execution_count": 45,
     "metadata": {},
     "output_type": "execute_result"
    }
   ],
   "source": [
    "#  mean value per set per year, total parts per year, count of sets per year\n",
    "parts_avg_per_year = (inventories_df\n",
    "                          .groupby('year', observed=True)\n",
    "                          .agg(\n",
    "                              avg=('total_parts', 'mean'),\n",
    "                              sum=('total_parts', 'sum'),\n",
    "                              set_count=('set_num', 'count')\n",
    "                          )\n",
    "                          .reset_index()\n",
    "                     )\n",
    "parts_avg_per_year['avg'] = parts_avg_per_year['avg'].astype('int')\n",
    "\n",
    "parts_avg_per_year.head()"
   ]
  },
  {
   "cell_type": "code",
   "execution_count": 77,
   "metadata": {},
   "outputs": [
    {
     "data": {
      "image/png": "[encoded data removed]",
      "text/plain": [
       "<Figure size 1200x600 with 2 Axes>"
      ]
     },
     "metadata": {},
     "output_type": "display_data"
    }
   ],
   "source": [
    "ax = sns.set_style(style=None)\n",
    "fig, ax = plt.subplots(figsize=(12,6))\n",
    "plt.grid(axis='y', alpha=0.5)\n",
    "ax2 = ax.twiny()\n",
    "sns.barplot(data = parts_avg_per_year, x='year', y='avg', alpha=0.75, ax=ax, palette='hls', width=0.5, order=years_order) \n",
    "ax.tick_params(axis='x', rotation=90)\n",
    "ax.set_title('Average number of parts in one set in each year')\n",
    "ax.set_ylabel('Average number of parts in one set')\n",
    "ax.set_xlabel('Year')\n",
    "#ax.set_xlim([parts_avg_per_year['year'].min(), parts_avg_per_year['year'].max()])\n",
    "sns.regplot(data=parts_avg_per_year, x='year', y='avg', ax=ax2, scatter=False, ci=None)\n",
    "ax2.set_xlim([parts_avg_per_year['year'].min(), parts_avg_per_year['year'].max()+1])\n",
    "ax2.set_ylim([0, parts_avg_per_year['avg'].max() + 50])\n",
    "plt.show()"
   ]
  },
  {
   "cell_type": "code",
   "execution_count": 47,
   "metadata": {},
   "outputs": [
    {
     "name": "stdout",
     "output_type": "stream",
     "text": [
      "Average number of Lego bricks per set is: 237\n"
     ]
    }
   ],
   "source": [
    "print('Average number of Lego bricks per set is:', int(parts_avg_per_year['sum'].sum() // parts_avg_per_year['set_count'].sum()))"
   ]
  },
  {
   "cell_type": "markdown",
   "metadata": {},
   "source": [
    "Mean number of Lego bricks per set is 237. It looks that thrugh time, average Lego set consists of more parts than it used to be in the past."
   ]
  },
  {
   "cell_type": "markdown",
   "metadata": {},
   "source": [
    "## QUESTION 3:\n",
    "3. Are there any number of parts per set ranges? Like cheaper sets have 0-5 bricks in it or something like this. Did it change through time?\n"
   ]
  },
  {
   "cell_type": "code",
   "execution_count": null,
   "metadata": {},
   "outputs": [],
   "source": []
  },
  {
   "cell_type": "code",
   "execution_count": null,
   "metadata": {},
   "outputs": [],
   "source": []
  },
  {
   "cell_type": "markdown",
   "metadata": {},
   "source": [
    "## QUESTION 4:\n",
    "4. Figures: does Lego add now more figures to sets than in 1950? What are most common figures? How the number of figures changes? What are mean per set and total number of figures per year through time?"
   ]
  },
  {
   "cell_type": "markdown",
   "metadata": {},
   "source": [
    "## QUESTION 5:\n",
    "5. What are the 5 most popular colors used in Lego parts?\n"
   ]
  },
  {
   "cell_type": "code",
   "execution_count": null,
   "metadata": {},
   "outputs": [],
   "source": []
  },
  {
   "cell_type": "code",
   "execution_count": null,
   "metadata": {},
   "outputs": [],
   "source": []
  },
  {
   "cell_type": "code",
   "execution_count": null,
   "metadata": {},
   "outputs": [],
   "source": []
  },
  {
   "cell_type": "code",
   "execution_count": null,
   "metadata": {},
   "outputs": [],
   "source": []
  },
  {
   "cell_type": "code",
   "execution_count": null,
   "metadata": {},
   "outputs": [],
   "source": []
  },
  {
   "cell_type": "markdown",
   "metadata": {},
   "source": [
    "## QUESTION 6:\n",
    "6. What proportion of Lego parts are transparent? What are most common transparent bricks? What are top 5 transparent colors? When first transparent bricks were used? What colors became transparent through time?\n",
    "\n"
   ]
  },
  {
   "cell_type": "code",
   "execution_count": null,
   "metadata": {},
   "outputs": [],
   "source": []
  },
  {
   "cell_type": "code",
   "execution_count": null,
   "metadata": {},
   "outputs": [],
   "source": []
  },
  {
   "cell_type": "code",
   "execution_count": null,
   "metadata": {},
   "outputs": [],
   "source": []
  },
  {
   "cell_type": "markdown",
   "metadata": {},
   "source": [
    "## QUESTION 7\n",
    "7. What are the 5 rarest lego bricks?"
   ]
  },
  {
   "cell_type": "markdown",
   "metadata": {},
   "source": [
    "## QUESTION 8:\n",
    "8. What is the proportion of spare parts per set? Did it change through time?\n"
   ]
  },
  {
   "cell_type": "code",
   "execution_count": null,
   "metadata": {},
   "outputs": [],
   "source": []
  },
  {
   "cell_type": "code",
   "execution_count": null,
   "metadata": {},
   "outputs": [],
   "source": []
  },
  {
   "cell_type": "code",
   "execution_count": 47,
   "metadata": {},
   "outputs": [
    {
     "data": {
      "text/plain": [
       "<Axes: >"
      ]
     },
     "execution_count": 47,
     "metadata": {},
     "output_type": "execute_result"
    },
    {
     "data": {
      "image/png": "[encoded data removed]",
      "text/plain": [
       "<Figure size 640x480 with 2 Axes>"
      ]
     },
     "metadata": {},
     "output_type": "display_data"
    }
   ],
   "source": [
    "sns.heatmap(inventories_df[['parts', 'spares', 'minifigs_parts_sum', 'minifigs_count', 'total_parts']].corr())"
   ]
  },
  {
   "cell_type": "code",
   "execution_count": 48,
   "metadata": {},
   "outputs": [
    {
     "data": {
      "text/plain": [
       "<Axes: xlabel='total_parts', ylabel='spares'>"
      ]
     },
     "execution_count": 48,
     "metadata": {},
     "output_type": "execute_result"
    },
    {
     "data": {
      "image/png": "[encoded data removed]",
      "text/plain": [
       "<Figure size 640x480 with 1 Axes>"
      ]
     },
     "metadata": {},
     "output_type": "display_data"
    }
   ],
   "source": [
    "sns.scatterplot(data=inventories_df, x='total_parts', y='spares')"
   ]
  },
  {
   "cell_type": "code",
   "execution_count": null,
   "metadata": {},
   "outputs": [],
   "source": []
  },
  {
   "cell_type": "markdown",
   "metadata": {},
   "source": [
    "## QUESTION 9:\n",
    "9. Summarize your findings."
   ]
  },
  {
   "cell_type": "code",
   "execution_count": null,
   "metadata": {},
   "outputs": [],
   "source": []
  },
  {
   "cell_type": "code",
   "execution_count": null,
   "metadata": {},
   "outputs": [],
   "source": []
  },
  {
   "cell_type": "code",
   "execution_count": null,
   "metadata": {},
   "outputs": [],
   "source": []
  }
 ],
 "metadata": {
  "kernelspec": {
   "display_name": "Python 3 (ipykernel)",
   "language": "python",
   "name": "python3"
  },
  "language_info": {
   "codemirror_mode": {
    "name": "ipython",
    "version": 3
   },
   "file_extension": ".py",
   "mimetype": "text/x-python",
   "name": "python",
   "nbconvert_exporter": "python",
   "pygments_lexer": "ipython3",
   "version": "3.11.7"
  }
 },
 "nbformat": 4,
 "nbformat_minor": 4
}

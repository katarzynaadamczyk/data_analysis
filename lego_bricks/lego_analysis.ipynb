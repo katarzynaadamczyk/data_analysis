{
 "cells": [
  {
   "cell_type": "markdown",
   "metadata": {},
   "source": [
    "# Lego Analysis"
   ]
  },
  {
   "cell_type": "markdown",
   "metadata": {},
   "source": [
    "Small analysis of Lego Dataset - mostly to exercise how to combine data and retrieve informations. \\\n",
    "Data from https://rebrickable.com/downloads/\n",
    "## 💪 Challenge\n",
    "Create a report to summarize your findings. Include:\n",
    "\n",
    "1. What is the average number of Lego sets released per year?\n",
    "2. What is the average number of Lego parts per year?\n",
    "3. Are there any number of parts per set ranges? Like cheaper sets have 0-5 bricks in it or something like this.\n",
    "4. Similar as 3 - what was average parts per set in 1950 and what is in 2020?\n",
    "5. What are the 5 most popular colors used in Lego parts?\n",
    "6. What proportion of Lego parts are transparent?\n",
    "8. What are the 5 rarest lego bricks?\n",
    "9. When first transparent bricks were used? What colors became transparent through time?\n",
    "10. Summarize your findings.\n"
   ]
  },
  {
   "cell_type": "code",
   "execution_count": 1,
   "metadata": {},
   "outputs": [],
   "source": [
    "# import necessary modules\n",
    "import pandas as pd\n",
    "import numpy as np\n",
    "import matplotlib.pyplot as plt\n",
    "import seaborn as sns"
   ]
  },
  {
   "cell_type": "markdown",
   "metadata": {},
   "source": [
    "Prepare colors_table"
   ]
  },
  {
   "cell_type": "code",
   "execution_count": 2,
   "metadata": {},
   "outputs": [
    {
     "name": "stdout",
     "output_type": "stream",
     "text": [
      "   id            name     rgb is_trans\n",
      "0  -1       [Unknown]  0033B2        f\n",
      "1   0           Black  05131D        f\n",
      "2   1            Blue  0055BF        f\n",
      "3   2           Green  237841        f\n",
      "4   3  Dark Turquoise  008F9B        f\n",
      "shape: (267, 4)\n",
      "unique names: 267\n"
     ]
    }
   ],
   "source": [
    "colors_table = pd.read_csv('data\\colors.csv.gz')\n",
    "print(colors_table.head())\n",
    "print('shape:', colors_table.shape)\n",
    "print('unique names:', colors_table['name'].nunique())"
   ]
  },
  {
   "cell_type": "code",
   "execution_count": 3,
   "metadata": {},
   "outputs": [
    {
     "data": {
      "text/html": [
       "<div>\n",
       "<style scoped>\n",
       "    .dataframe tbody tr th:only-of-type {\n",
       "        vertical-align: middle;\n",
       "    }\n",
       "\n",
       "    .dataframe tbody tr th {\n",
       "        vertical-align: top;\n",
       "    }\n",
       "\n",
       "    .dataframe thead th {\n",
       "        text-align: right;\n",
       "    }\n",
       "</style>\n",
       "<table border=\"1\" class=\"dataframe\">\n",
       "  <thead>\n",
       "    <tr style=\"text-align: right;\">\n",
       "      <th></th>\n",
       "      <th>id</th>\n",
       "      <th>name</th>\n",
       "      <th>rgb</th>\n",
       "      <th>is_trans</th>\n",
       "    </tr>\n",
       "  </thead>\n",
       "  <tbody>\n",
       "    <tr>\n",
       "      <th>0</th>\n",
       "      <td>-1</td>\n",
       "      <td>[Unknown]</td>\n",
       "      <td>0033B2</td>\n",
       "      <td>False</td>\n",
       "    </tr>\n",
       "    <tr>\n",
       "      <th>1</th>\n",
       "      <td>0</td>\n",
       "      <td>Black</td>\n",
       "      <td>05131D</td>\n",
       "      <td>False</td>\n",
       "    </tr>\n",
       "    <tr>\n",
       "      <th>2</th>\n",
       "      <td>1</td>\n",
       "      <td>Blue</td>\n",
       "      <td>0055BF</td>\n",
       "      <td>False</td>\n",
       "    </tr>\n",
       "    <tr>\n",
       "      <th>3</th>\n",
       "      <td>2</td>\n",
       "      <td>Green</td>\n",
       "      <td>237841</td>\n",
       "      <td>False</td>\n",
       "    </tr>\n",
       "    <tr>\n",
       "      <th>4</th>\n",
       "      <td>3</td>\n",
       "      <td>Dark Turquoise</td>\n",
       "      <td>008F9B</td>\n",
       "      <td>False</td>\n",
       "    </tr>\n",
       "  </tbody>\n",
       "</table>\n",
       "</div>"
      ],
      "text/plain": [
       "   id            name     rgb  is_trans\n",
       "0  -1       [Unknown]  0033B2     False\n",
       "1   0           Black  05131D     False\n",
       "2   1            Blue  0055BF     False\n",
       "3   2           Green  237841     False\n",
       "4   3  Dark Turquoise  008F9B     False"
      ]
     },
     "execution_count": 3,
     "metadata": {},
     "output_type": "execute_result"
    }
   ],
   "source": [
    "colors_table['is_trans_2'] = colors_table['is_trans'] == 't'\n",
    "colors_table.drop('is_trans', axis='columns', inplace=True)\n",
    "colors_table.rename(columns={'is_trans_2': 'is_trans'}, inplace=True)\n",
    "colors_table.head()"
   ]
  },
  {
   "cell_type": "code",
   "execution_count": 4,
   "metadata": {},
   "outputs": [
    {
     "name": "stdout",
     "output_type": "stream",
     "text": [
      "unique names: [False  True]\n"
     ]
    }
   ],
   "source": [
    "print('unique names:', colors_table['is_trans'].unique())"
   ]
  },
  {
   "cell_type": "code",
   "execution_count": 5,
   "metadata": {},
   "outputs": [
    {
     "data": {
      "text/html": [
       "<div>\n",
       "<style scoped>\n",
       "    .dataframe tbody tr th:only-of-type {\n",
       "        vertical-align: middle;\n",
       "    }\n",
       "\n",
       "    .dataframe tbody tr th {\n",
       "        vertical-align: top;\n",
       "    }\n",
       "\n",
       "    .dataframe thead th {\n",
       "        text-align: right;\n",
       "    }\n",
       "</style>\n",
       "<table border=\"1\" class=\"dataframe\">\n",
       "  <thead>\n",
       "    <tr style=\"text-align: right;\">\n",
       "      <th></th>\n",
       "      <th>id</th>\n",
       "      <th>name</th>\n",
       "      <th>rgb</th>\n",
       "      <th>is_trans</th>\n",
       "    </tr>\n",
       "  </thead>\n",
       "  <tbody>\n",
       "    <tr>\n",
       "      <th>0</th>\n",
       "      <td>-1</td>\n",
       "      <td>[Unknown]</td>\n",
       "      <td>0033B2</td>\n",
       "      <td>False</td>\n",
       "    </tr>\n",
       "    <tr>\n",
       "      <th>1</th>\n",
       "      <td>0</td>\n",
       "      <td>Black</td>\n",
       "      <td>05131D</td>\n",
       "      <td>False</td>\n",
       "    </tr>\n",
       "    <tr>\n",
       "      <th>2</th>\n",
       "      <td>1</td>\n",
       "      <td>Blue</td>\n",
       "      <td>0055BF</td>\n",
       "      <td>False</td>\n",
       "    </tr>\n",
       "    <tr>\n",
       "      <th>3</th>\n",
       "      <td>2</td>\n",
       "      <td>Green</td>\n",
       "      <td>237841</td>\n",
       "      <td>False</td>\n",
       "    </tr>\n",
       "    <tr>\n",
       "      <th>4</th>\n",
       "      <td>3</td>\n",
       "      <td>Dark Turquoise</td>\n",
       "      <td>008F9B</td>\n",
       "      <td>False</td>\n",
       "    </tr>\n",
       "  </tbody>\n",
       "</table>\n",
       "</div>"
      ],
      "text/plain": [
       "   id            name     rgb  is_trans\n",
       "0  -1       [Unknown]  0033B2     False\n",
       "1   0           Black  05131D     False\n",
       "2   1            Blue  0055BF     False\n",
       "3   2           Green  237841     False\n",
       "4   3  Dark Turquoise  008F9B     False"
      ]
     },
     "execution_count": 5,
     "metadata": {},
     "output_type": "execute_result"
    }
   ],
   "source": [
    "colors_table.head()"
   ]
  },
  {
   "cell_type": "markdown",
   "metadata": {},
   "source": [
    "Prepare elements"
   ]
  },
  {
   "cell_type": "code",
   "execution_count": 6,
   "metadata": {},
   "outputs": [
    {
     "name": "stdout",
     "output_type": "stream",
     "text": [
      "   element_id       part_num  color_id  design_id\n",
      "0     6443403  2277c01pr0009         1     2277.0\n",
      "1     4566309           2564         0     2564.0\n",
      "2     4275423          53657      1004    53657.0\n",
      "3     6194308          92926        71    28967.0\n",
      "4     6229123          26561         4    26561.0\n",
      "shape: (95282, 4)\n"
     ]
    }
   ],
   "source": [
    "elements_table = pd.read_csv('data\\elements.csv.gz')\n",
    "print(elements_table.head())\n",
    "print('shape:', elements_table.shape)"
   ]
  },
  {
   "cell_type": "code",
   "execution_count": 7,
   "metadata": {},
   "outputs": [
    {
     "name": "stdout",
     "output_type": "stream",
     "text": [
      "<class 'pandas.core.frame.DataFrame'>\n",
      "RangeIndex: 95282 entries, 0 to 95281\n",
      "Data columns (total 4 columns):\n",
      " #   Column      Non-Null Count  Dtype  \n",
      "---  ------      --------------  -----  \n",
      " 0   element_id  95282 non-null  int64  \n",
      " 1   part_num    95282 non-null  object \n",
      " 2   color_id    95282 non-null  int64  \n",
      " 3   design_id   70649 non-null  float64\n",
      "dtypes: float64(1), int64(2), object(1)\n",
      "memory usage: 2.9+ MB\n"
     ]
    }
   ],
   "source": [
    "elements_table.info()"
   ]
  },
  {
   "cell_type": "markdown",
   "metadata": {},
   "source": [
    "## QUESTION 1:\n",
    "1. What is the average number of Lego sets released per year?\n"
   ]
  },
  {
   "cell_type": "code",
   "execution_count": 8,
   "metadata": {},
   "outputs": [
    {
     "data": {
      "text/html": [
       "<div>\n",
       "<style scoped>\n",
       "    .dataframe tbody tr th:only-of-type {\n",
       "        vertical-align: middle;\n",
       "    }\n",
       "\n",
       "    .dataframe tbody tr th {\n",
       "        vertical-align: top;\n",
       "    }\n",
       "\n",
       "    .dataframe thead th {\n",
       "        text-align: right;\n",
       "    }\n",
       "</style>\n",
       "<table border=\"1\" class=\"dataframe\">\n",
       "  <thead>\n",
       "    <tr style=\"text-align: right;\">\n",
       "      <th></th>\n",
       "      <th>set_num</th>\n",
       "      <th>name</th>\n",
       "      <th>year</th>\n",
       "      <th>theme_id</th>\n",
       "      <th>num_parts</th>\n",
       "      <th>img_url</th>\n",
       "    </tr>\n",
       "  </thead>\n",
       "  <tbody>\n",
       "    <tr>\n",
       "      <th>0</th>\n",
       "      <td>0003977811-1</td>\n",
       "      <td>Ninjago: Book of Adventures</td>\n",
       "      <td>2022</td>\n",
       "      <td>761</td>\n",
       "      <td>1</td>\n",
       "      <td>https://cdn.rebrickable.com/media/sets/0003977...</td>\n",
       "    </tr>\n",
       "    <tr>\n",
       "      <th>1</th>\n",
       "      <td>001-1</td>\n",
       "      <td>Gears</td>\n",
       "      <td>1965</td>\n",
       "      <td>756</td>\n",
       "      <td>43</td>\n",
       "      <td>https://cdn.rebrickable.com/media/sets/001-1.jpg</td>\n",
       "    </tr>\n",
       "    <tr>\n",
       "      <th>2</th>\n",
       "      <td>0011-2</td>\n",
       "      <td>Town Mini-Figures</td>\n",
       "      <td>1979</td>\n",
       "      <td>67</td>\n",
       "      <td>12</td>\n",
       "      <td>https://cdn.rebrickable.com/media/sets/0011-2.jpg</td>\n",
       "    </tr>\n",
       "    <tr>\n",
       "      <th>3</th>\n",
       "      <td>0011-3</td>\n",
       "      <td>Castle 2 for 1 Bonus Offer</td>\n",
       "      <td>1987</td>\n",
       "      <td>199</td>\n",
       "      <td>0</td>\n",
       "      <td>https://cdn.rebrickable.com/media/sets/0011-3.jpg</td>\n",
       "    </tr>\n",
       "    <tr>\n",
       "      <th>4</th>\n",
       "      <td>0012-1</td>\n",
       "      <td>Space Mini-Figures</td>\n",
       "      <td>1979</td>\n",
       "      <td>143</td>\n",
       "      <td>12</td>\n",
       "      <td>https://cdn.rebrickable.com/media/sets/0012-1.jpg</td>\n",
       "    </tr>\n",
       "  </tbody>\n",
       "</table>\n",
       "</div>"
      ],
      "text/plain": [
       "        set_num                         name  year  theme_id  num_parts  \\\n",
       "0  0003977811-1  Ninjago: Book of Adventures  2022       761          1   \n",
       "1         001-1                        Gears  1965       756         43   \n",
       "2        0011-2            Town Mini-Figures  1979        67         12   \n",
       "3        0011-3   Castle 2 for 1 Bonus Offer  1987       199          0   \n",
       "4        0012-1           Space Mini-Figures  1979       143         12   \n",
       "\n",
       "                                             img_url  \n",
       "0  https://cdn.rebrickable.com/media/sets/0003977...  \n",
       "1   https://cdn.rebrickable.com/media/sets/001-1.jpg  \n",
       "2  https://cdn.rebrickable.com/media/sets/0011-2.jpg  \n",
       "3  https://cdn.rebrickable.com/media/sets/0011-3.jpg  \n",
       "4  https://cdn.rebrickable.com/media/sets/0012-1.jpg  "
      ]
     },
     "execution_count": 8,
     "metadata": {},
     "output_type": "execute_result"
    }
   ],
   "source": [
    "sets_table = pd.read_csv('data\\sets.csv.gz')\n",
    "sets_table.head()"
   ]
  },
  {
   "cell_type": "code",
   "execution_count": 9,
   "metadata": {},
   "outputs": [
    {
     "name": "stdout",
     "output_type": "stream",
     "text": [
      "<class 'pandas.core.frame.DataFrame'>\n",
      "RangeIndex: 23873 entries, 0 to 23872\n",
      "Data columns (total 6 columns):\n",
      " #   Column     Non-Null Count  Dtype \n",
      "---  ------     --------------  ----- \n",
      " 0   set_num    23873 non-null  object\n",
      " 1   name       23873 non-null  object\n",
      " 2   year       23873 non-null  int64 \n",
      " 3   theme_id   23873 non-null  int64 \n",
      " 4   num_parts  23873 non-null  int64 \n",
      " 5   img_url    23873 non-null  object\n",
      "dtypes: int64(3), object(3)\n",
      "memory usage: 1.1+ MB\n"
     ]
    }
   ],
   "source": [
    "sets_table.info()"
   ]
  },
  {
   "cell_type": "code",
   "execution_count": 10,
   "metadata": {},
   "outputs": [
    {
     "data": {
      "text/plain": [
       "(5876, 6)"
      ]
     },
     "execution_count": 10,
     "metadata": {},
     "output_type": "execute_result"
    }
   ],
   "source": [
    "# more for questions 2 & 3\n",
    "sets_table.loc[sets_table['num_parts'] == 0].shape"
   ]
  },
  {
   "cell_type": "code",
   "execution_count": 11,
   "metadata": {},
   "outputs": [
    {
     "data": {
      "text/plain": [
       "array([    0,     1,     2, ...,  9987, 10001, 11695], dtype=int64)"
      ]
     },
     "execution_count": 11,
     "metadata": {},
     "output_type": "execute_result"
    }
   ],
   "source": [
    "# more for questions 2 & 3\n",
    "np.sort(sets_table['num_parts'].unique())"
   ]
  },
  {
   "cell_type": "code",
   "execution_count": 12,
   "metadata": {},
   "outputs": [
    {
     "data": {
      "text/html": [
       "<div>\n",
       "<style scoped>\n",
       "    .dataframe tbody tr th:only-of-type {\n",
       "        vertical-align: middle;\n",
       "    }\n",
       "\n",
       "    .dataframe tbody tr th {\n",
       "        vertical-align: top;\n",
       "    }\n",
       "\n",
       "    .dataframe thead th {\n",
       "        text-align: right;\n",
       "    }\n",
       "</style>\n",
       "<table border=\"1\" class=\"dataframe\">\n",
       "  <thead>\n",
       "    <tr style=\"text-align: right;\">\n",
       "      <th></th>\n",
       "      <th>year</th>\n",
       "      <th>Count</th>\n",
       "    </tr>\n",
       "  </thead>\n",
       "  <tbody>\n",
       "    <tr>\n",
       "      <th>0</th>\n",
       "      <td>1949</td>\n",
       "      <td>5</td>\n",
       "    </tr>\n",
       "    <tr>\n",
       "      <th>1</th>\n",
       "      <td>1950</td>\n",
       "      <td>6</td>\n",
       "    </tr>\n",
       "    <tr>\n",
       "      <th>2</th>\n",
       "      <td>1953</td>\n",
       "      <td>4</td>\n",
       "    </tr>\n",
       "    <tr>\n",
       "      <th>3</th>\n",
       "      <td>1954</td>\n",
       "      <td>14</td>\n",
       "    </tr>\n",
       "    <tr>\n",
       "      <th>4</th>\n",
       "      <td>1955</td>\n",
       "      <td>39</td>\n",
       "    </tr>\n",
       "    <tr>\n",
       "      <th>...</th>\n",
       "      <td>...</td>\n",
       "      <td>...</td>\n",
       "    </tr>\n",
       "    <tr>\n",
       "      <th>70</th>\n",
       "      <td>2021</td>\n",
       "      <td>1206</td>\n",
       "    </tr>\n",
       "    <tr>\n",
       "      <th>71</th>\n",
       "      <td>2022</td>\n",
       "      <td>1186</td>\n",
       "    </tr>\n",
       "    <tr>\n",
       "      <th>72</th>\n",
       "      <td>2023</td>\n",
       "      <td>1128</td>\n",
       "    </tr>\n",
       "    <tr>\n",
       "      <th>73</th>\n",
       "      <td>2024</td>\n",
       "      <td>1004</td>\n",
       "    </tr>\n",
       "    <tr>\n",
       "      <th>74</th>\n",
       "      <td>2025</td>\n",
       "      <td>14</td>\n",
       "    </tr>\n",
       "  </tbody>\n",
       "</table>\n",
       "<p>75 rows × 2 columns</p>\n",
       "</div>"
      ],
      "text/plain": [
       "    year  Count\n",
       "0   1949      5\n",
       "1   1950      6\n",
       "2   1953      4\n",
       "3   1954     14\n",
       "4   1955     39\n",
       "..   ...    ...\n",
       "70  2021   1206\n",
       "71  2022   1186\n",
       "72  2023   1128\n",
       "73  2024   1004\n",
       "74  2025     14\n",
       "\n",
       "[75 rows x 2 columns]"
      ]
     },
     "execution_count": 12,
     "metadata": {},
     "output_type": "execute_result"
    }
   ],
   "source": [
    "sets_table_year = sets_table.groupby('year').agg(Count=('theme_id', 'count')).sort_values(by='year').reset_index()\n",
    "sets_table_year"
   ]
  },
  {
   "cell_type": "code",
   "execution_count": 13,
   "metadata": {},
   "outputs": [
    {
     "data": {
      "image/png": "[encoded data removed]",
      "text/plain": [
       "<Figure size 1800x700 with 1 Axes>"
      ]
     },
     "metadata": {},
     "output_type": "display_data"
    }
   ],
   "source": [
    "ax = sns.set_style(style=None)\n",
    "fig, ax = plt.subplots(figsize=(18,7))\n",
    "plt.grid(axis='y', alpha=0.5)\n",
    "sns.barplot(data = sets_table_year, x='year', y='Count', alpha=0.25, ax=ax, palette='hls', width=0.5, order=sets_table_year['year']) \n",
    "ax.tick_params(axis='x', rotation=90)\n",
    "ax.set_title('Lego sets count per year')\n",
    "ax.set_ylabel('Lego sets count')\n",
    "ax.set_xlabel('Year')\n",
    "plt.show()"
   ]
  },
  {
   "cell_type": "code",
   "execution_count": 14,
   "metadata": {},
   "outputs": [
    {
     "data": {
      "text/html": [
       "<div>\n",
       "<style scoped>\n",
       "    .dataframe tbody tr th:only-of-type {\n",
       "        vertical-align: middle;\n",
       "    }\n",
       "\n",
       "    .dataframe tbody tr th {\n",
       "        vertical-align: top;\n",
       "    }\n",
       "\n",
       "    .dataframe thead th {\n",
       "        text-align: right;\n",
       "    }\n",
       "</style>\n",
       "<table border=\"1\" class=\"dataframe\">\n",
       "  <thead>\n",
       "    <tr style=\"text-align: right;\">\n",
       "      <th></th>\n",
       "      <th>year</th>\n",
       "      <th>Count</th>\n",
       "      <th>decade</th>\n",
       "    </tr>\n",
       "  </thead>\n",
       "  <tbody>\n",
       "    <tr>\n",
       "      <th>0</th>\n",
       "      <td>1949</td>\n",
       "      <td>5</td>\n",
       "      <td>1950.0</td>\n",
       "    </tr>\n",
       "    <tr>\n",
       "      <th>1</th>\n",
       "      <td>1950</td>\n",
       "      <td>6</td>\n",
       "      <td>1950.0</td>\n",
       "    </tr>\n",
       "    <tr>\n",
       "      <th>2</th>\n",
       "      <td>1953</td>\n",
       "      <td>4</td>\n",
       "      <td>1950.0</td>\n",
       "    </tr>\n",
       "    <tr>\n",
       "      <th>3</th>\n",
       "      <td>1954</td>\n",
       "      <td>14</td>\n",
       "      <td>1950.0</td>\n",
       "    </tr>\n",
       "    <tr>\n",
       "      <th>4</th>\n",
       "      <td>1955</td>\n",
       "      <td>39</td>\n",
       "      <td>1950.0</td>\n",
       "    </tr>\n",
       "  </tbody>\n",
       "</table>\n",
       "</div>"
      ],
      "text/plain": [
       "   year  Count  decade\n",
       "0  1949      5  1950.0\n",
       "1  1950      6  1950.0\n",
       "2  1953      4  1950.0\n",
       "3  1954     14  1950.0\n",
       "4  1955     39  1950.0"
      ]
     },
     "execution_count": 14,
     "metadata": {},
     "output_type": "execute_result"
    }
   ],
   "source": [
    "sets_table_year.loc[sets_table_year['year'] < 1960, 'decade'] = 1950 \n",
    "for decade in range(1960, 2020, 10):\n",
    "    sets_table_year.loc[np.logical_and(sets_table_year['year'] >= decade, sets_table_year['year'] < decade + 10), 'decade'] = decade \n",
    "sets_table_year.loc[sets_table_year['year'] >= 2020, 'decade'] = 2020 \n",
    "sets_table_year.head()"
   ]
  },
  {
   "cell_type": "code",
   "execution_count": 15,
   "metadata": {},
   "outputs": [
    {
     "data": {
      "text/plain": [
       "array([1950., 1960., 1970., 1980., 1990., 2000., 2010., 2020.])"
      ]
     },
     "execution_count": 15,
     "metadata": {},
     "output_type": "execute_result"
    }
   ],
   "source": [
    "sets_table_year['decade'].unique()"
   ]
  },
  {
   "cell_type": "code",
   "execution_count": 16,
   "metadata": {},
   "outputs": [
    {
     "data": {
      "text/html": [
       "<div>\n",
       "<style scoped>\n",
       "    .dataframe tbody tr th:only-of-type {\n",
       "        vertical-align: middle;\n",
       "    }\n",
       "\n",
       "    .dataframe tbody tr th {\n",
       "        vertical-align: top;\n",
       "    }\n",
       "\n",
       "    .dataframe thead th {\n",
       "        text-align: right;\n",
       "    }\n",
       "</style>\n",
       "<table border=\"1\" class=\"dataframe\">\n",
       "  <thead>\n",
       "    <tr style=\"text-align: right;\">\n",
       "      <th></th>\n",
       "      <th>decade</th>\n",
       "      <th>Count</th>\n",
       "    </tr>\n",
       "  </thead>\n",
       "  <tbody>\n",
       "    <tr>\n",
       "      <th>0</th>\n",
       "      <td>1950</td>\n",
       "      <td>179</td>\n",
       "    </tr>\n",
       "    <tr>\n",
       "      <th>1</th>\n",
       "      <td>1960</td>\n",
       "      <td>426</td>\n",
       "    </tr>\n",
       "    <tr>\n",
       "      <th>2</th>\n",
       "      <td>1970</td>\n",
       "      <td>652</td>\n",
       "    </tr>\n",
       "    <tr>\n",
       "      <th>3</th>\n",
       "      <td>1980</td>\n",
       "      <td>1252</td>\n",
       "    </tr>\n",
       "    <tr>\n",
       "      <th>4</th>\n",
       "      <td>1990</td>\n",
       "      <td>2177</td>\n",
       "    </tr>\n",
       "    <tr>\n",
       "      <th>5</th>\n",
       "      <td>2000</td>\n",
       "      <td>4761</td>\n",
       "    </tr>\n",
       "    <tr>\n",
       "      <th>6</th>\n",
       "      <td>2010</td>\n",
       "      <td>8790</td>\n",
       "    </tr>\n",
       "    <tr>\n",
       "      <th>7</th>\n",
       "      <td>2020</td>\n",
       "      <td>5636</td>\n",
       "    </tr>\n",
       "  </tbody>\n",
       "</table>\n",
       "</div>"
      ],
      "text/plain": [
       "   decade  Count\n",
       "0    1950    179\n",
       "1    1960    426\n",
       "2    1970    652\n",
       "3    1980   1252\n",
       "4    1990   2177\n",
       "5    2000   4761\n",
       "6    2010   8790\n",
       "7    2020   5636"
      ]
     },
     "execution_count": 16,
     "metadata": {},
     "output_type": "execute_result"
    }
   ],
   "source": [
    "sets_tables_decade = sets_table_year.groupby('decade').agg(Count=('Count', 'sum')).sort_values(by='decade').reset_index()\n",
    "sets_tables_decade['decade'] = sets_tables_decade['decade'].astype(int)\n",
    "sets_tables_decade"
   ]
  },
  {
   "cell_type": "code",
   "execution_count": 17,
   "metadata": {},
   "outputs": [
    {
     "data": {
      "image/png": "[encoded data removed]",
      "text/plain": [
       "<Figure size 1200x600 with 1 Axes>"
      ]
     },
     "metadata": {},
     "output_type": "display_data"
    }
   ],
   "source": [
    "ax = sns.set_style(style=None)\n",
    "fig, ax = plt.subplots(figsize=(12,6))\n",
    "plt.grid(axis='y', alpha=0.5)\n",
    "sns.barplot(data = sets_tables_decade, x='decade', y='Count', alpha=0.25, ax=ax, palette='hls', width=0.5, order=sets_tables_decade['decade']) \n",
    "ax.tick_params(axis='x', rotation=90)\n",
    "ax.set_title('Lego sets count per decade')\n",
    "ax.set_ylabel('Lego sets count')\n",
    "ax.set_xlabel('Decade')\n",
    "plt.show()"
   ]
  },
  {
   "cell_type": "markdown",
   "metadata": {},
   "source": [
    "## QUESTION 2:\n",
    "2. What is the average number of Lego parts per year?\n"
   ]
  },
  {
   "cell_type": "code",
   "execution_count": 18,
   "metadata": {},
   "outputs": [
    {
     "data": {
      "text/html": [
       "<div>\n",
       "<style scoped>\n",
       "    .dataframe tbody tr th:only-of-type {\n",
       "        vertical-align: middle;\n",
       "    }\n",
       "\n",
       "    .dataframe tbody tr th {\n",
       "        vertical-align: top;\n",
       "    }\n",
       "\n",
       "    .dataframe thead th {\n",
       "        text-align: right;\n",
       "    }\n",
       "</style>\n",
       "<table border=\"1\" class=\"dataframe\">\n",
       "  <thead>\n",
       "    <tr style=\"text-align: right;\">\n",
       "      <th></th>\n",
       "      <th>id</th>\n",
       "      <th>version</th>\n",
       "      <th>set_num</th>\n",
       "    </tr>\n",
       "  </thead>\n",
       "  <tbody>\n",
       "    <tr>\n",
       "      <th>0</th>\n",
       "      <td>1</td>\n",
       "      <td>1</td>\n",
       "      <td>7922-1</td>\n",
       "    </tr>\n",
       "    <tr>\n",
       "      <th>1</th>\n",
       "      <td>3</td>\n",
       "      <td>1</td>\n",
       "      <td>3931-1</td>\n",
       "    </tr>\n",
       "    <tr>\n",
       "      <th>2</th>\n",
       "      <td>4</td>\n",
       "      <td>1</td>\n",
       "      <td>6942-1</td>\n",
       "    </tr>\n",
       "    <tr>\n",
       "      <th>3</th>\n",
       "      <td>15</td>\n",
       "      <td>1</td>\n",
       "      <td>5158-1</td>\n",
       "    </tr>\n",
       "    <tr>\n",
       "      <th>4</th>\n",
       "      <td>16</td>\n",
       "      <td>1</td>\n",
       "      <td>903-1</td>\n",
       "    </tr>\n",
       "  </tbody>\n",
       "</table>\n",
       "</div>"
      ],
      "text/plain": [
       "   id  version set_num\n",
       "0   1        1  7922-1\n",
       "1   3        1  3931-1\n",
       "2   4        1  6942-1\n",
       "3  15        1  5158-1\n",
       "4  16        1   903-1"
      ]
     },
     "execution_count": 18,
     "metadata": {},
     "output_type": "execute_result"
    }
   ],
   "source": [
    "inventories_df = pd.read_csv('data\\inventories.csv.gz')\n",
    "inventories_df.head()"
   ]
  },
  {
   "cell_type": "code",
   "execution_count": 19,
   "metadata": {},
   "outputs": [
    {
     "name": "stdout",
     "output_type": "stream",
     "text": [
      "<class 'pandas.core.frame.DataFrame'>\n",
      "RangeIndex: 40462 entries, 0 to 40461\n",
      "Data columns (total 3 columns):\n",
      " #   Column   Non-Null Count  Dtype \n",
      "---  ------   --------------  ----- \n",
      " 0   id       40462 non-null  int64 \n",
      " 1   version  40462 non-null  int64 \n",
      " 2   set_num  40462 non-null  object\n",
      "dtypes: int64(2), object(1)\n",
      "memory usage: 948.5+ KB\n"
     ]
    }
   ],
   "source": [
    "inventories_df.info()"
   ]
  },
  {
   "cell_type": "code",
   "execution_count": 20,
   "metadata": {},
   "outputs": [
    {
     "data": {
      "text/html": [
       "<div>\n",
       "<style scoped>\n",
       "    .dataframe tbody tr th:only-of-type {\n",
       "        vertical-align: middle;\n",
       "    }\n",
       "\n",
       "    .dataframe tbody tr th {\n",
       "        vertical-align: top;\n",
       "    }\n",
       "\n",
       "    .dataframe thead th {\n",
       "        text-align: right;\n",
       "    }\n",
       "</style>\n",
       "<table border=\"1\" class=\"dataframe\">\n",
       "  <thead>\n",
       "    <tr style=\"text-align: right;\">\n",
       "      <th></th>\n",
       "      <th>id</th>\n",
       "      <th>version</th>\n",
       "      <th>set_num</th>\n",
       "    </tr>\n",
       "  </thead>\n",
       "  <tbody>\n",
       "    <tr>\n",
       "      <th>10601</th>\n",
       "      <td>16490</td>\n",
       "      <td>2</td>\n",
       "      <td>6515-1</td>\n",
       "    </tr>\n",
       "    <tr>\n",
       "      <th>10659</th>\n",
       "      <td>16878</td>\n",
       "      <td>2</td>\n",
       "      <td>8030-1</td>\n",
       "    </tr>\n",
       "    <tr>\n",
       "      <th>10742</th>\n",
       "      <td>17793</td>\n",
       "      <td>2</td>\n",
       "      <td>76081-1</td>\n",
       "    </tr>\n",
       "    <tr>\n",
       "      <th>10743</th>\n",
       "      <td>17799</td>\n",
       "      <td>2</td>\n",
       "      <td>214.6-1</td>\n",
       "    </tr>\n",
       "    <tr>\n",
       "      <th>10747</th>\n",
       "      <td>17848</td>\n",
       "      <td>2</td>\n",
       "      <td>421-2</td>\n",
       "    </tr>\n",
       "  </tbody>\n",
       "</table>\n",
       "</div>"
      ],
      "text/plain": [
       "          id  version  set_num\n",
       "10601  16490        2   6515-1\n",
       "10659  16878        2   8030-1\n",
       "10742  17793        2  76081-1\n",
       "10743  17799        2  214.6-1\n",
       "10747  17848        2    421-2"
      ]
     },
     "execution_count": 20,
     "metadata": {},
     "output_type": "execute_result"
    }
   ],
   "source": [
    "inventories_df.loc[inventories_df['version'] != 1].head()"
   ]
  },
  {
   "cell_type": "code",
   "execution_count": 21,
   "metadata": {},
   "outputs": [
    {
     "data": {
      "text/html": [
       "<div>\n",
       "<style scoped>\n",
       "    .dataframe tbody tr th:only-of-type {\n",
       "        vertical-align: middle;\n",
       "    }\n",
       "\n",
       "    .dataframe tbody tr th {\n",
       "        vertical-align: top;\n",
       "    }\n",
       "\n",
       "    .dataframe thead th {\n",
       "        text-align: right;\n",
       "    }\n",
       "</style>\n",
       "<table border=\"1\" class=\"dataframe\">\n",
       "  <thead>\n",
       "    <tr style=\"text-align: right;\">\n",
       "      <th></th>\n",
       "      <th>id</th>\n",
       "      <th>version</th>\n",
       "      <th>set_num</th>\n",
       "    </tr>\n",
       "  </thead>\n",
       "  <tbody>\n",
       "    <tr>\n",
       "      <th>9138</th>\n",
       "      <td>14143</td>\n",
       "      <td>1</td>\n",
       "      <td>421-2</td>\n",
       "    </tr>\n",
       "  </tbody>\n",
       "</table>\n",
       "</div>"
      ],
      "text/plain": [
       "         id  version set_num\n",
       "9138  14143        1   421-2"
      ]
     },
     "execution_count": 21,
     "metadata": {},
     "output_type": "execute_result"
    }
   ],
   "source": [
    "inventories_df.loc[np.logical_and(inventories_df['version'] == 1, inventories_df['set_num'] == '421-2')].head()"
   ]
  },
  {
   "cell_type": "code",
   "execution_count": 22,
   "metadata": {},
   "outputs": [
    {
     "data": {
      "text/html": [
       "<div>\n",
       "<style scoped>\n",
       "    .dataframe tbody tr th:only-of-type {\n",
       "        vertical-align: middle;\n",
       "    }\n",
       "\n",
       "    .dataframe tbody tr th {\n",
       "        vertical-align: top;\n",
       "    }\n",
       "\n",
       "    .dataframe thead th {\n",
       "        text-align: right;\n",
       "    }\n",
       "</style>\n",
       "<table border=\"1\" class=\"dataframe\">\n",
       "  <thead>\n",
       "    <tr style=\"text-align: right;\">\n",
       "      <th></th>\n",
       "      <th>inventory_id</th>\n",
       "      <th>part_num</th>\n",
       "      <th>color_id</th>\n",
       "      <th>quantity</th>\n",
       "      <th>is_spare</th>\n",
       "      <th>img_url</th>\n",
       "    </tr>\n",
       "  </thead>\n",
       "  <tbody>\n",
       "    <tr>\n",
       "      <th>0</th>\n",
       "      <td>1</td>\n",
       "      <td>48379c04</td>\n",
       "      <td>72</td>\n",
       "      <td>1</td>\n",
       "      <td>f</td>\n",
       "      <td>https://cdn.rebrickable.com/media/parts/photos...</td>\n",
       "    </tr>\n",
       "    <tr>\n",
       "      <th>1</th>\n",
       "      <td>1</td>\n",
       "      <td>48391</td>\n",
       "      <td>0</td>\n",
       "      <td>1</td>\n",
       "      <td>f</td>\n",
       "      <td>https://cdn.rebrickable.com/media/parts/photos...</td>\n",
       "    </tr>\n",
       "    <tr>\n",
       "      <th>2</th>\n",
       "      <td>1</td>\n",
       "      <td>48395</td>\n",
       "      <td>7</td>\n",
       "      <td>1</td>\n",
       "      <td>f</td>\n",
       "      <td>https://cdn.rebrickable.com/media/parts/photos...</td>\n",
       "    </tr>\n",
       "    <tr>\n",
       "      <th>3</th>\n",
       "      <td>1</td>\n",
       "      <td>48864c01</td>\n",
       "      <td>25</td>\n",
       "      <td>1</td>\n",
       "      <td>f</td>\n",
       "      <td>NaN</td>\n",
       "    </tr>\n",
       "    <tr>\n",
       "      <th>4</th>\n",
       "      <td>1</td>\n",
       "      <td>stickerupn0077</td>\n",
       "      <td>9999</td>\n",
       "      <td>1</td>\n",
       "      <td>f</td>\n",
       "      <td>NaN</td>\n",
       "    </tr>\n",
       "  </tbody>\n",
       "</table>\n",
       "</div>"
      ],
      "text/plain": [
       "   inventory_id        part_num  color_id  quantity is_spare  \\\n",
       "0             1        48379c04        72         1        f   \n",
       "1             1           48391         0         1        f   \n",
       "2             1           48395         7         1        f   \n",
       "3             1        48864c01        25         1        f   \n",
       "4             1  stickerupn0077      9999         1        f   \n",
       "\n",
       "                                             img_url  \n",
       "0  https://cdn.rebrickable.com/media/parts/photos...  \n",
       "1  https://cdn.rebrickable.com/media/parts/photos...  \n",
       "2  https://cdn.rebrickable.com/media/parts/photos...  \n",
       "3                                                NaN  \n",
       "4                                                NaN  "
      ]
     },
     "execution_count": 22,
     "metadata": {},
     "output_type": "execute_result"
    }
   ],
   "source": [
    "inventory_parts_df = pd.read_csv('data\\inventory_parts.csv.gz')\n",
    "inventory_parts_df.head()"
   ]
  },
  {
   "cell_type": "code",
   "execution_count": 23,
   "metadata": {},
   "outputs": [
    {
     "name": "stdout",
     "output_type": "stream",
     "text": [
      "<class 'pandas.core.frame.DataFrame'>\n",
      "RangeIndex: 1286599 entries, 0 to 1286598\n",
      "Data columns (total 6 columns):\n",
      " #   Column        Non-Null Count    Dtype \n",
      "---  ------        --------------    ----- \n",
      " 0   inventory_id  1286599 non-null  int64 \n",
      " 1   part_num      1286599 non-null  object\n",
      " 2   color_id      1286599 non-null  int64 \n",
      " 3   quantity      1286599 non-null  int64 \n",
      " 4   is_spare      1286599 non-null  object\n",
      " 5   img_url       1279381 non-null  object\n",
      "dtypes: int64(3), object(3)\n",
      "memory usage: 58.9+ MB\n"
     ]
    }
   ],
   "source": [
    "inventory_parts_df.info()"
   ]
  },
  {
   "cell_type": "code",
   "execution_count": 24,
   "metadata": {},
   "outputs": [
    {
     "data": {
      "text/html": [
       "<div>\n",
       "<style scoped>\n",
       "    .dataframe tbody tr th:only-of-type {\n",
       "        vertical-align: middle;\n",
       "    }\n",
       "\n",
       "    .dataframe tbody tr th {\n",
       "        vertical-align: top;\n",
       "    }\n",
       "\n",
       "    .dataframe thead th {\n",
       "        text-align: right;\n",
       "    }\n",
       "</style>\n",
       "<table border=\"1\" class=\"dataframe\">\n",
       "  <thead>\n",
       "    <tr style=\"text-align: right;\">\n",
       "      <th></th>\n",
       "      <th>inventory_id</th>\n",
       "      <th>part_num</th>\n",
       "      <th>color_id</th>\n",
       "      <th>quantity</th>\n",
       "      <th>is_spare</th>\n",
       "      <th>img_url</th>\n",
       "    </tr>\n",
       "  </thead>\n",
       "  <tbody>\n",
       "    <tr>\n",
       "      <th>532889</th>\n",
       "      <td>17848</td>\n",
       "      <td>3004</td>\n",
       "      <td>4</td>\n",
       "      <td>8</td>\n",
       "      <td>f</td>\n",
       "      <td>https://cdn.rebrickable.com/media/parts/elemen...</td>\n",
       "    </tr>\n",
       "    <tr>\n",
       "      <th>532890</th>\n",
       "      <td>17848</td>\n",
       "      <td>3005</td>\n",
       "      <td>4</td>\n",
       "      <td>6</td>\n",
       "      <td>f</td>\n",
       "      <td>https://cdn.rebrickable.com/media/parts/elemen...</td>\n",
       "    </tr>\n",
       "    <tr>\n",
       "      <th>532891</th>\n",
       "      <td>17848</td>\n",
       "      <td>3008</td>\n",
       "      <td>4</td>\n",
       "      <td>2</td>\n",
       "      <td>f</td>\n",
       "      <td>https://cdn.rebrickable.com/media/parts/elemen...</td>\n",
       "    </tr>\n",
       "    <tr>\n",
       "      <th>532892</th>\n",
       "      <td>17848</td>\n",
       "      <td>3009</td>\n",
       "      <td>4</td>\n",
       "      <td>2</td>\n",
       "      <td>f</td>\n",
       "      <td>https://cdn.rebrickable.com/media/parts/elemen...</td>\n",
       "    </tr>\n",
       "    <tr>\n",
       "      <th>532893</th>\n",
       "      <td>17848</td>\n",
       "      <td>3010</td>\n",
       "      <td>4</td>\n",
       "      <td>2</td>\n",
       "      <td>f</td>\n",
       "      <td>https://cdn.rebrickable.com/media/parts/elemen...</td>\n",
       "    </tr>\n",
       "  </tbody>\n",
       "</table>\n",
       "</div>"
      ],
      "text/plain": [
       "        inventory_id part_num  color_id  quantity is_spare  \\\n",
       "532889         17848     3004         4         8        f   \n",
       "532890         17848     3005         4         6        f   \n",
       "532891         17848     3008         4         2        f   \n",
       "532892         17848     3009         4         2        f   \n",
       "532893         17848     3010         4         2        f   \n",
       "\n",
       "                                                  img_url  \n",
       "532889  https://cdn.rebrickable.com/media/parts/elemen...  \n",
       "532890  https://cdn.rebrickable.com/media/parts/elemen...  \n",
       "532891  https://cdn.rebrickable.com/media/parts/elemen...  \n",
       "532892  https://cdn.rebrickable.com/media/parts/elemen...  \n",
       "532893  https://cdn.rebrickable.com/media/parts/elemen...  "
      ]
     },
     "execution_count": 24,
     "metadata": {},
     "output_type": "execute_result"
    }
   ],
   "source": [
    "inventory_parts_df.loc[inventory_parts_df['inventory_id'] == 17848]"
   ]
  },
  {
   "cell_type": "code",
   "execution_count": 25,
   "metadata": {},
   "outputs": [
    {
     "data": {
      "text/html": [
       "<div>\n",
       "<style scoped>\n",
       "    .dataframe tbody tr th:only-of-type {\n",
       "        vertical-align: middle;\n",
       "    }\n",
       "\n",
       "    .dataframe tbody tr th {\n",
       "        vertical-align: top;\n",
       "    }\n",
       "\n",
       "    .dataframe thead th {\n",
       "        text-align: right;\n",
       "    }\n",
       "</style>\n",
       "<table border=\"1\" class=\"dataframe\">\n",
       "  <thead>\n",
       "    <tr style=\"text-align: right;\">\n",
       "      <th></th>\n",
       "      <th>inventory_id</th>\n",
       "      <th>part_num</th>\n",
       "      <th>color_id</th>\n",
       "      <th>quantity</th>\n",
       "      <th>is_spare</th>\n",
       "      <th>img_url</th>\n",
       "    </tr>\n",
       "  </thead>\n",
       "  <tbody>\n",
       "    <tr>\n",
       "      <th>448074</th>\n",
       "      <td>14143</td>\n",
       "      <td>3004</td>\n",
       "      <td>14</td>\n",
       "      <td>8</td>\n",
       "      <td>f</td>\n",
       "      <td>https://cdn.rebrickable.com/media/parts/elemen...</td>\n",
       "    </tr>\n",
       "    <tr>\n",
       "      <th>448075</th>\n",
       "      <td>14143</td>\n",
       "      <td>3005</td>\n",
       "      <td>14</td>\n",
       "      <td>6</td>\n",
       "      <td>f</td>\n",
       "      <td>https://cdn.rebrickable.com/media/parts/elemen...</td>\n",
       "    </tr>\n",
       "    <tr>\n",
       "      <th>448076</th>\n",
       "      <td>14143</td>\n",
       "      <td>3008</td>\n",
       "      <td>14</td>\n",
       "      <td>2</td>\n",
       "      <td>f</td>\n",
       "      <td>https://cdn.rebrickable.com/media/parts/elemen...</td>\n",
       "    </tr>\n",
       "    <tr>\n",
       "      <th>448077</th>\n",
       "      <td>14143</td>\n",
       "      <td>3009</td>\n",
       "      <td>14</td>\n",
       "      <td>2</td>\n",
       "      <td>f</td>\n",
       "      <td>https://cdn.rebrickable.com/media/parts/elemen...</td>\n",
       "    </tr>\n",
       "    <tr>\n",
       "      <th>448078</th>\n",
       "      <td>14143</td>\n",
       "      <td>3010</td>\n",
       "      <td>14</td>\n",
       "      <td>2</td>\n",
       "      <td>f</td>\n",
       "      <td>https://cdn.rebrickable.com/media/parts/elemen...</td>\n",
       "    </tr>\n",
       "  </tbody>\n",
       "</table>\n",
       "</div>"
      ],
      "text/plain": [
       "        inventory_id part_num  color_id  quantity is_spare  \\\n",
       "448074         14143     3004        14         8        f   \n",
       "448075         14143     3005        14         6        f   \n",
       "448076         14143     3008        14         2        f   \n",
       "448077         14143     3009        14         2        f   \n",
       "448078         14143     3010        14         2        f   \n",
       "\n",
       "                                                  img_url  \n",
       "448074  https://cdn.rebrickable.com/media/parts/elemen...  \n",
       "448075  https://cdn.rebrickable.com/media/parts/elemen...  \n",
       "448076  https://cdn.rebrickable.com/media/parts/elemen...  \n",
       "448077  https://cdn.rebrickable.com/media/parts/elemen...  \n",
       "448078  https://cdn.rebrickable.com/media/parts/elemen...  "
      ]
     },
     "execution_count": 25,
     "metadata": {},
     "output_type": "execute_result"
    }
   ],
   "source": [
    "inventory_parts_df.loc[inventory_parts_df['inventory_id'] == 14143]"
   ]
  },
  {
   "cell_type": "code",
   "execution_count": 26,
   "metadata": {},
   "outputs": [
    {
     "data": {
      "text/plain": [
       "20"
      ]
     },
     "execution_count": 26,
     "metadata": {},
     "output_type": "execute_result"
    }
   ],
   "source": [
    "inventory_parts_df.loc[inventory_parts_df['inventory_id'] == 14143, 'quantity'].sum()"
   ]
  },
  {
   "cell_type": "code",
   "execution_count": 27,
   "metadata": {},
   "outputs": [
    {
     "data": {
      "text/plain": [
       "20"
      ]
     },
     "execution_count": 27,
     "metadata": {},
     "output_type": "execute_result"
    }
   ],
   "source": [
    "inventory_parts_df.loc[inventory_parts_df['inventory_id'] == 17848, 'quantity'].sum()"
   ]
  },
  {
   "cell_type": "markdown",
   "metadata": {},
   "source": [
    "So it looks that version is different if the set was inventoried more than once. So versions > 1 should be excluded from further analysis."
   ]
  },
  {
   "cell_type": "code",
   "execution_count": 28,
   "metadata": {},
   "outputs": [
    {
     "data": {
      "text/html": [
       "<div>\n",
       "<style scoped>\n",
       "    .dataframe tbody tr th:only-of-type {\n",
       "        vertical-align: middle;\n",
       "    }\n",
       "\n",
       "    .dataframe tbody tr th {\n",
       "        vertical-align: top;\n",
       "    }\n",
       "\n",
       "    .dataframe thead th {\n",
       "        text-align: right;\n",
       "    }\n",
       "</style>\n",
       "<table border=\"1\" class=\"dataframe\">\n",
       "  <thead>\n",
       "    <tr style=\"text-align: right;\">\n",
       "      <th></th>\n",
       "      <th>inventory_id</th>\n",
       "      <th>part_num</th>\n",
       "      <th>color_id</th>\n",
       "      <th>quantity</th>\n",
       "      <th>is_spare</th>\n",
       "      <th>img_url</th>\n",
       "      <th>id</th>\n",
       "      <th>version</th>\n",
       "      <th>set_num</th>\n",
       "    </tr>\n",
       "  </thead>\n",
       "  <tbody>\n",
       "    <tr>\n",
       "      <th>0</th>\n",
       "      <td>1</td>\n",
       "      <td>48379c04</td>\n",
       "      <td>72</td>\n",
       "      <td>1</td>\n",
       "      <td>f</td>\n",
       "      <td>https://cdn.rebrickable.com/media/parts/photos...</td>\n",
       "      <td>1</td>\n",
       "      <td>1</td>\n",
       "      <td>7922-1</td>\n",
       "    </tr>\n",
       "    <tr>\n",
       "      <th>1</th>\n",
       "      <td>1</td>\n",
       "      <td>48391</td>\n",
       "      <td>0</td>\n",
       "      <td>1</td>\n",
       "      <td>f</td>\n",
       "      <td>https://cdn.rebrickable.com/media/parts/photos...</td>\n",
       "      <td>1</td>\n",
       "      <td>1</td>\n",
       "      <td>7922-1</td>\n",
       "    </tr>\n",
       "    <tr>\n",
       "      <th>2</th>\n",
       "      <td>1</td>\n",
       "      <td>48395</td>\n",
       "      <td>7</td>\n",
       "      <td>1</td>\n",
       "      <td>f</td>\n",
       "      <td>https://cdn.rebrickable.com/media/parts/photos...</td>\n",
       "      <td>1</td>\n",
       "      <td>1</td>\n",
       "      <td>7922-1</td>\n",
       "    </tr>\n",
       "    <tr>\n",
       "      <th>3</th>\n",
       "      <td>1</td>\n",
       "      <td>48864c01</td>\n",
       "      <td>25</td>\n",
       "      <td>1</td>\n",
       "      <td>f</td>\n",
       "      <td>NaN</td>\n",
       "      <td>1</td>\n",
       "      <td>1</td>\n",
       "      <td>7922-1</td>\n",
       "    </tr>\n",
       "    <tr>\n",
       "      <th>4</th>\n",
       "      <td>1</td>\n",
       "      <td>stickerupn0077</td>\n",
       "      <td>9999</td>\n",
       "      <td>1</td>\n",
       "      <td>f</td>\n",
       "      <td>NaN</td>\n",
       "      <td>1</td>\n",
       "      <td>1</td>\n",
       "      <td>7922-1</td>\n",
       "    </tr>\n",
       "  </tbody>\n",
       "</table>\n",
       "</div>"
      ],
      "text/plain": [
       "   inventory_id        part_num  color_id  quantity is_spare  \\\n",
       "0             1        48379c04        72         1        f   \n",
       "1             1           48391         0         1        f   \n",
       "2             1           48395         7         1        f   \n",
       "3             1        48864c01        25         1        f   \n",
       "4             1  stickerupn0077      9999         1        f   \n",
       "\n",
       "                                             img_url  id  version set_num  \n",
       "0  https://cdn.rebrickable.com/media/parts/photos...   1        1  7922-1  \n",
       "1  https://cdn.rebrickable.com/media/parts/photos...   1        1  7922-1  \n",
       "2  https://cdn.rebrickable.com/media/parts/photos...   1        1  7922-1  \n",
       "3                                                NaN   1        1  7922-1  \n",
       "4                                                NaN   1        1  7922-1  "
      ]
     },
     "execution_count": 28,
     "metadata": {},
     "output_type": "execute_result"
    }
   ],
   "source": [
    "parts_per_set_year_df = inventory_parts_df.merge(inventories_df, left_on='inventory_id', right_on='id')\n",
    "parts_per_set_year_df.head()"
   ]
  },
  {
   "cell_type": "code",
   "execution_count": 29,
   "metadata": {},
   "outputs": [],
   "source": [
    "parts_per_set_year_df.drop(columns=['id'], inplace=True)\n",
    "parts_per_set_year_df = parts_per_set_year_df.loc[parts_per_set_year_df['version'] == 1]\n",
    "parts_per_set_year_df.drop(columns=['version'], inplace=True)"
   ]
  },
  {
   "cell_type": "code",
   "execution_count": 30,
   "metadata": {},
   "outputs": [
    {
     "data": {
      "text/html": [
       "<div>\n",
       "<style scoped>\n",
       "    .dataframe tbody tr th:only-of-type {\n",
       "        vertical-align: middle;\n",
       "    }\n",
       "\n",
       "    .dataframe tbody tr th {\n",
       "        vertical-align: top;\n",
       "    }\n",
       "\n",
       "    .dataframe thead th {\n",
       "        text-align: right;\n",
       "    }\n",
       "</style>\n",
       "<table border=\"1\" class=\"dataframe\">\n",
       "  <thead>\n",
       "    <tr style=\"text-align: right;\">\n",
       "      <th></th>\n",
       "      <th>Parts_Count</th>\n",
       "    </tr>\n",
       "    <tr>\n",
       "      <th>set_num</th>\n",
       "      <th></th>\n",
       "    </tr>\n",
       "  </thead>\n",
       "  <tbody>\n",
       "    <tr>\n",
       "      <th>0003977811-1</th>\n",
       "      <td>1</td>\n",
       "    </tr>\n",
       "    <tr>\n",
       "      <th>001-1</th>\n",
       "      <td>43</td>\n",
       "    </tr>\n",
       "    <tr>\n",
       "      <th>0012-1</th>\n",
       "      <td>2</td>\n",
       "    </tr>\n",
       "    <tr>\n",
       "      <th>0013-1</th>\n",
       "      <td>2</td>\n",
       "    </tr>\n",
       "    <tr>\n",
       "      <th>0014-1</th>\n",
       "      <td>2</td>\n",
       "    </tr>\n",
       "  </tbody>\n",
       "</table>\n",
       "</div>"
      ],
      "text/plain": [
       "              Parts_Count\n",
       "set_num                  \n",
       "0003977811-1            1\n",
       "001-1                  43\n",
       "0012-1                  2\n",
       "0013-1                  2\n",
       "0014-1                  2"
      ]
     },
     "execution_count": 30,
     "metadata": {},
     "output_type": "execute_result"
    }
   ],
   "source": [
    "parts_per_set_year_df_2 = parts_per_set_year_df.groupby('set_num').agg(Parts_Count=('quantity', 'sum'))\n",
    "parts_per_set_year_df_2.head()"
   ]
  },
  {
   "cell_type": "code",
   "execution_count": 31,
   "metadata": {},
   "outputs": [
    {
     "name": "stdout",
     "output_type": "stream",
     "text": [
      "<class 'pandas.core.frame.DataFrame'>\n",
      "Index: 1174448 entries, 0 to 1286447\n",
      "Data columns (total 7 columns):\n",
      " #   Column        Non-Null Count    Dtype \n",
      "---  ------        --------------    ----- \n",
      " 0   inventory_id  1174448 non-null  int64 \n",
      " 1   part_num      1174448 non-null  object\n",
      " 2   color_id      1174448 non-null  int64 \n",
      " 3   quantity      1174448 non-null  int64 \n",
      " 4   is_spare      1174448 non-null  object\n",
      " 5   img_url       1167928 non-null  object\n",
      " 6   set_num       1174448 non-null  object\n",
      "dtypes: int64(3), object(4)\n",
      "memory usage: 71.7+ MB\n"
     ]
    }
   ],
   "source": [
    "parts_per_set_year_df.info()"
   ]
  },
  {
   "cell_type": "code",
   "execution_count": 32,
   "metadata": {},
   "outputs": [
    {
     "data": {
      "text/plain": [
       "array(['003381', '003383', '003402', ..., 'wood03', 'wood04',\n",
       "       'znapupn0005'], dtype=object)"
      ]
     },
     "execution_count": 32,
     "metadata": {},
     "output_type": "execute_result"
    }
   ],
   "source": [
    "np.sort(inventory_parts_df['part_num'].unique())"
   ]
  },
  {
   "cell_type": "code",
   "execution_count": 33,
   "metadata": {},
   "outputs": [
    {
     "data": {
      "text/plain": [
       "146"
      ]
     },
     "execution_count": 33,
     "metadata": {},
     "output_type": "execute_result"
    }
   ],
   "source": [
    "parts_per_set_year_df.loc[parts_per_set_year_df['set_num'] == '60287-1', 'quantity'].sum()"
   ]
  },
  {
   "cell_type": "code",
   "execution_count": null,
   "metadata": {},
   "outputs": [],
   "source": []
  },
  {
   "cell_type": "code",
   "execution_count": 34,
   "metadata": {},
   "outputs": [
    {
     "data": {
      "text/html": [
       "<div>\n",
       "<style scoped>\n",
       "    .dataframe tbody tr th:only-of-type {\n",
       "        vertical-align: middle;\n",
       "    }\n",
       "\n",
       "    .dataframe tbody tr th {\n",
       "        vertical-align: top;\n",
       "    }\n",
       "\n",
       "    .dataframe thead th {\n",
       "        text-align: right;\n",
       "    }\n",
       "</style>\n",
       "<table border=\"1\" class=\"dataframe\">\n",
       "  <thead>\n",
       "    <tr style=\"text-align: right;\">\n",
       "      <th></th>\n",
       "      <th>inventory_id</th>\n",
       "      <th>part_num</th>\n",
       "      <th>color_id</th>\n",
       "      <th>quantity</th>\n",
       "      <th>is_spare</th>\n",
       "      <th>img_url</th>\n",
       "      <th>set_num</th>\n",
       "    </tr>\n",
       "  </thead>\n",
       "  <tbody>\n",
       "    <tr>\n",
       "      <th>868950</th>\n",
       "      <td>80991</td>\n",
       "      <td>11214</td>\n",
       "      <td>72</td>\n",
       "      <td>2</td>\n",
       "      <td>f</td>\n",
       "      <td>https://cdn.rebrickable.com/media/parts/elemen...</td>\n",
       "      <td>60287-1</td>\n",
       "    </tr>\n",
       "    <tr>\n",
       "      <th>868951</th>\n",
       "      <td>80991</td>\n",
       "      <td>11458</td>\n",
       "      <td>71</td>\n",
       "      <td>2</td>\n",
       "      <td>f</td>\n",
       "      <td>https://cdn.rebrickable.com/media/parts/elemen...</td>\n",
       "      <td>60287-1</td>\n",
       "    </tr>\n",
       "    <tr>\n",
       "      <th>868952</th>\n",
       "      <td>80991</td>\n",
       "      <td>15573</td>\n",
       "      <td>4</td>\n",
       "      <td>4</td>\n",
       "      <td>f</td>\n",
       "      <td>https://cdn.rebrickable.com/media/parts/elemen...</td>\n",
       "      <td>60287-1</td>\n",
       "    </tr>\n",
       "    <tr>\n",
       "      <th>868953</th>\n",
       "      <td>80991</td>\n",
       "      <td>18671</td>\n",
       "      <td>72</td>\n",
       "      <td>2</td>\n",
       "      <td>f</td>\n",
       "      <td>https://cdn.rebrickable.com/media/parts/elemen...</td>\n",
       "      <td>60287-1</td>\n",
       "    </tr>\n",
       "    <tr>\n",
       "      <th>868954</th>\n",
       "      <td>80991</td>\n",
       "      <td>22885</td>\n",
       "      <td>19</td>\n",
       "      <td>2</td>\n",
       "      <td>f</td>\n",
       "      <td>https://cdn.rebrickable.com/media/parts/elemen...</td>\n",
       "      <td>60287-1</td>\n",
       "    </tr>\n",
       "    <tr>\n",
       "      <th>...</th>\n",
       "      <td>...</td>\n",
       "      <td>...</td>\n",
       "      <td>...</td>\n",
       "      <td>...</td>\n",
       "      <td>...</td>\n",
       "      <td>...</td>\n",
       "      <td>...</td>\n",
       "    </tr>\n",
       "    <tr>\n",
       "      <th>869023</th>\n",
       "      <td>80991</td>\n",
       "      <td>91988</td>\n",
       "      <td>0</td>\n",
       "      <td>1</td>\n",
       "      <td>f</td>\n",
       "      <td>https://cdn.rebrickable.com/media/parts/elemen...</td>\n",
       "      <td>60287-1</td>\n",
       "    </tr>\n",
       "    <tr>\n",
       "      <th>869024</th>\n",
       "      <td>80991</td>\n",
       "      <td>93606</td>\n",
       "      <td>4</td>\n",
       "      <td>1</td>\n",
       "      <td>f</td>\n",
       "      <td>https://cdn.rebrickable.com/media/parts/elemen...</td>\n",
       "      <td>60287-1</td>\n",
       "    </tr>\n",
       "    <tr>\n",
       "      <th>869025</th>\n",
       "      <td>80991</td>\n",
       "      <td>98138</td>\n",
       "      <td>47</td>\n",
       "      <td>2</td>\n",
       "      <td>f</td>\n",
       "      <td>https://cdn.rebrickable.com/media/parts/elemen...</td>\n",
       "      <td>60287-1</td>\n",
       "    </tr>\n",
       "    <tr>\n",
       "      <th>869026</th>\n",
       "      <td>80991</td>\n",
       "      <td>98138</td>\n",
       "      <td>47</td>\n",
       "      <td>1</td>\n",
       "      <td>t</td>\n",
       "      <td>https://cdn.rebrickable.com/media/parts/elemen...</td>\n",
       "      <td>60287-1</td>\n",
       "    </tr>\n",
       "    <tr>\n",
       "      <th>869027</th>\n",
       "      <td>80991</td>\n",
       "      <td>99563</td>\n",
       "      <td>0</td>\n",
       "      <td>4</td>\n",
       "      <td>f</td>\n",
       "      <td>https://cdn.rebrickable.com/media/parts/elemen...</td>\n",
       "      <td>60287-1</td>\n",
       "    </tr>\n",
       "  </tbody>\n",
       "</table>\n",
       "<p>78 rows × 7 columns</p>\n",
       "</div>"
      ],
      "text/plain": [
       "        inventory_id part_num  color_id  quantity is_spare  \\\n",
       "868950         80991    11214        72         2        f   \n",
       "868951         80991    11458        71         2        f   \n",
       "868952         80991    15573         4         4        f   \n",
       "868953         80991    18671        72         2        f   \n",
       "868954         80991    22885        19         2        f   \n",
       "...              ...      ...       ...       ...      ...   \n",
       "869023         80991    91988         0         1        f   \n",
       "869024         80991    93606         4         1        f   \n",
       "869025         80991    98138        47         2        f   \n",
       "869026         80991    98138        47         1        t   \n",
       "869027         80991    99563         0         4        f   \n",
       "\n",
       "                                                  img_url  set_num  \n",
       "868950  https://cdn.rebrickable.com/media/parts/elemen...  60287-1  \n",
       "868951  https://cdn.rebrickable.com/media/parts/elemen...  60287-1  \n",
       "868952  https://cdn.rebrickable.com/media/parts/elemen...  60287-1  \n",
       "868953  https://cdn.rebrickable.com/media/parts/elemen...  60287-1  \n",
       "868954  https://cdn.rebrickable.com/media/parts/elemen...  60287-1  \n",
       "...                                                   ...      ...  \n",
       "869023  https://cdn.rebrickable.com/media/parts/elemen...  60287-1  \n",
       "869024  https://cdn.rebrickable.com/media/parts/elemen...  60287-1  \n",
       "869025  https://cdn.rebrickable.com/media/parts/elemen...  60287-1  \n",
       "869026  https://cdn.rebrickable.com/media/parts/elemen...  60287-1  \n",
       "869027  https://cdn.rebrickable.com/media/parts/elemen...  60287-1  \n",
       "\n",
       "[78 rows x 7 columns]"
      ]
     },
     "execution_count": 34,
     "metadata": {},
     "output_type": "execute_result"
    }
   ],
   "source": [
    "parts_per_set_year_df.loc[parts_per_set_year_df['set_num'] == '60287-1']"
   ]
  },
  {
   "cell_type": "code",
   "execution_count": 35,
   "metadata": {},
   "outputs": [
    {
     "data": {
      "text/plain": [
       "6"
      ]
     },
     "execution_count": 35,
     "metadata": {},
     "output_type": "execute_result"
    }
   ],
   "source": [
    "parts_per_set_year_df.loc[(parts_per_set_year_df['set_num'] == '60287-1') & (parts_per_set_year_df['is_spare'] == 't'), 'is_spare'].count()"
   ]
  },
  {
   "cell_type": "code",
   "execution_count": 36,
   "metadata": {},
   "outputs": [
    {
     "data": {
      "text/html": [
       "<div>\n",
       "<style scoped>\n",
       "    .dataframe tbody tr th:only-of-type {\n",
       "        vertical-align: middle;\n",
       "    }\n",
       "\n",
       "    .dataframe tbody tr th {\n",
       "        vertical-align: top;\n",
       "    }\n",
       "\n",
       "    .dataframe thead th {\n",
       "        text-align: right;\n",
       "    }\n",
       "</style>\n",
       "<table border=\"1\" class=\"dataframe\">\n",
       "  <thead>\n",
       "    <tr style=\"text-align: right;\">\n",
       "      <th></th>\n",
       "      <th>set_num</th>\n",
       "      <th>name</th>\n",
       "      <th>year</th>\n",
       "      <th>theme_id</th>\n",
       "      <th>num_parts</th>\n",
       "      <th>img_url</th>\n",
       "    </tr>\n",
       "  </thead>\n",
       "  <tbody>\n",
       "    <tr>\n",
       "      <th>12594</th>\n",
       "      <td>60287-1</td>\n",
       "      <td>Tractor</td>\n",
       "      <td>2021</td>\n",
       "      <td>57</td>\n",
       "      <td>148</td>\n",
       "      <td>https://cdn.rebrickable.com/media/sets/60287-1...</td>\n",
       "    </tr>\n",
       "  </tbody>\n",
       "</table>\n",
       "</div>"
      ],
      "text/plain": [
       "       set_num     name  year  theme_id  num_parts  \\\n",
       "12594  60287-1  Tractor  2021        57        148   \n",
       "\n",
       "                                                 img_url  \n",
       "12594  https://cdn.rebrickable.com/media/sets/60287-1...  "
      ]
     },
     "execution_count": 36,
     "metadata": {},
     "output_type": "execute_result"
    }
   ],
   "source": [
    "sets_table.loc[(sets_table['set_num'] == '60287-1')]"
   ]
  },
  {
   "cell_type": "code",
   "execution_count": 37,
   "metadata": {},
   "outputs": [
    {
     "data": {
      "text/plain": [
       "101"
      ]
     },
     "execution_count": 37,
     "metadata": {},
     "output_type": "execute_result"
    }
   ],
   "source": [
    "parts_per_set_year_df.loc[parts_per_set_year_df['set_num'] == '10782-1', 'quantity'].sum()"
   ]
  },
  {
   "cell_type": "code",
   "execution_count": 38,
   "metadata": {},
   "outputs": [
    {
     "data": {
      "text/html": [
       "<div>\n",
       "<style scoped>\n",
       "    .dataframe tbody tr th:only-of-type {\n",
       "        vertical-align: middle;\n",
       "    }\n",
       "\n",
       "    .dataframe tbody tr th {\n",
       "        vertical-align: top;\n",
       "    }\n",
       "\n",
       "    .dataframe thead th {\n",
       "        text-align: right;\n",
       "    }\n",
       "</style>\n",
       "<table border=\"1\" class=\"dataframe\">\n",
       "  <thead>\n",
       "    <tr style=\"text-align: right;\">\n",
       "      <th></th>\n",
       "      <th>inventory_id</th>\n",
       "      <th>part_num</th>\n",
       "      <th>color_id</th>\n",
       "      <th>quantity</th>\n",
       "      <th>is_spare</th>\n",
       "      <th>img_url</th>\n",
       "      <th>set_num</th>\n",
       "    </tr>\n",
       "  </thead>\n",
       "  <tbody>\n",
       "    <tr>\n",
       "      <th>987065</th>\n",
       "      <td>120153</td>\n",
       "      <td>10126</td>\n",
       "      <td>10</td>\n",
       "      <td>1</td>\n",
       "      <td>f</td>\n",
       "      <td>https://cdn.rebrickable.com/media/parts/elemen...</td>\n",
       "      <td>10782-1</td>\n",
       "    </tr>\n",
       "    <tr>\n",
       "      <th>987066</th>\n",
       "      <td>120153</td>\n",
       "      <td>10127</td>\n",
       "      <td>10</td>\n",
       "      <td>1</td>\n",
       "      <td>f</td>\n",
       "      <td>https://cdn.rebrickable.com/media/parts/elemen...</td>\n",
       "      <td>10782-1</td>\n",
       "    </tr>\n",
       "    <tr>\n",
       "      <th>987067</th>\n",
       "      <td>120153</td>\n",
       "      <td>11089</td>\n",
       "      <td>0</td>\n",
       "      <td>1</td>\n",
       "      <td>f</td>\n",
       "      <td>https://cdn.rebrickable.com/media/parts/elemen...</td>\n",
       "      <td>10782-1</td>\n",
       "    </tr>\n",
       "    <tr>\n",
       "      <th>987068</th>\n",
       "      <td>120153</td>\n",
       "      <td>11458</td>\n",
       "      <td>4</td>\n",
       "      <td>2</td>\n",
       "      <td>f</td>\n",
       "      <td>https://cdn.rebrickable.com/media/parts/elemen...</td>\n",
       "      <td>10782-1</td>\n",
       "    </tr>\n",
       "    <tr>\n",
       "      <th>987069</th>\n",
       "      <td>120153</td>\n",
       "      <td>15535</td>\n",
       "      <td>25</td>\n",
       "      <td>4</td>\n",
       "      <td>f</td>\n",
       "      <td>https://cdn.rebrickable.com/media/parts/elemen...</td>\n",
       "      <td>10782-1</td>\n",
       "    </tr>\n",
       "    <tr>\n",
       "      <th>...</th>\n",
       "      <td>...</td>\n",
       "      <td>...</td>\n",
       "      <td>...</td>\n",
       "      <td>...</td>\n",
       "      <td>...</td>\n",
       "      <td>...</td>\n",
       "      <td>...</td>\n",
       "    </tr>\n",
       "    <tr>\n",
       "      <th>987121</th>\n",
       "      <td>120153</td>\n",
       "      <td>92926</td>\n",
       "      <td>72</td>\n",
       "      <td>1</td>\n",
       "      <td>f</td>\n",
       "      <td>https://cdn.rebrickable.com/media/parts/elemen...</td>\n",
       "      <td>10782-1</td>\n",
       "    </tr>\n",
       "    <tr>\n",
       "      <th>987122</th>\n",
       "      <td>120153</td>\n",
       "      <td>93273</td>\n",
       "      <td>85</td>\n",
       "      <td>1</td>\n",
       "      <td>f</td>\n",
       "      <td>https://cdn.rebrickable.com/media/parts/elemen...</td>\n",
       "      <td>10782-1</td>\n",
       "    </tr>\n",
       "    <tr>\n",
       "      <th>987123</th>\n",
       "      <td>120153</td>\n",
       "      <td>93273</td>\n",
       "      <td>19</td>\n",
       "      <td>2</td>\n",
       "      <td>f</td>\n",
       "      <td>https://cdn.rebrickable.com/media/parts/elemen...</td>\n",
       "      <td>10782-1</td>\n",
       "    </tr>\n",
       "    <tr>\n",
       "      <th>987124</th>\n",
       "      <td>120153</td>\n",
       "      <td>99207</td>\n",
       "      <td>1</td>\n",
       "      <td>1</td>\n",
       "      <td>f</td>\n",
       "      <td>https://cdn.rebrickable.com/media/parts/elemen...</td>\n",
       "      <td>10782-1</td>\n",
       "    </tr>\n",
       "    <tr>\n",
       "      <th>987125</th>\n",
       "      <td>120153</td>\n",
       "      <td>99563</td>\n",
       "      <td>297</td>\n",
       "      <td>1</td>\n",
       "      <td>f</td>\n",
       "      <td>https://cdn.rebrickable.com/media/parts/elemen...</td>\n",
       "      <td>10782-1</td>\n",
       "    </tr>\n",
       "  </tbody>\n",
       "</table>\n",
       "<p>61 rows × 7 columns</p>\n",
       "</div>"
      ],
      "text/plain": [
       "        inventory_id part_num  color_id  quantity is_spare  \\\n",
       "987065        120153    10126        10         1        f   \n",
       "987066        120153    10127        10         1        f   \n",
       "987067        120153    11089         0         1        f   \n",
       "987068        120153    11458         4         2        f   \n",
       "987069        120153    15535        25         4        f   \n",
       "...              ...      ...       ...       ...      ...   \n",
       "987121        120153    92926        72         1        f   \n",
       "987122        120153    93273        85         1        f   \n",
       "987123        120153    93273        19         2        f   \n",
       "987124        120153    99207         1         1        f   \n",
       "987125        120153    99563       297         1        f   \n",
       "\n",
       "                                                  img_url  set_num  \n",
       "987065  https://cdn.rebrickable.com/media/parts/elemen...  10782-1  \n",
       "987066  https://cdn.rebrickable.com/media/parts/elemen...  10782-1  \n",
       "987067  https://cdn.rebrickable.com/media/parts/elemen...  10782-1  \n",
       "987068  https://cdn.rebrickable.com/media/parts/elemen...  10782-1  \n",
       "987069  https://cdn.rebrickable.com/media/parts/elemen...  10782-1  \n",
       "...                                                   ...      ...  \n",
       "987121  https://cdn.rebrickable.com/media/parts/elemen...  10782-1  \n",
       "987122  https://cdn.rebrickable.com/media/parts/elemen...  10782-1  \n",
       "987123  https://cdn.rebrickable.com/media/parts/elemen...  10782-1  \n",
       "987124  https://cdn.rebrickable.com/media/parts/elemen...  10782-1  \n",
       "987125  https://cdn.rebrickable.com/media/parts/elemen...  10782-1  \n",
       "\n",
       "[61 rows x 7 columns]"
      ]
     },
     "execution_count": 38,
     "metadata": {},
     "output_type": "execute_result"
    }
   ],
   "source": [
    "parts_per_set_year_df.loc[parts_per_set_year_df['set_num'] == '10782-1']"
   ]
  },
  {
   "cell_type": "code",
   "execution_count": 39,
   "metadata": {},
   "outputs": [
    {
     "data": {
      "text/html": [
       "<div>\n",
       "<style scoped>\n",
       "    .dataframe tbody tr th:only-of-type {\n",
       "        vertical-align: middle;\n",
       "    }\n",
       "\n",
       "    .dataframe tbody tr th {\n",
       "        vertical-align: top;\n",
       "    }\n",
       "\n",
       "    .dataframe thead th {\n",
       "        text-align: right;\n",
       "    }\n",
       "</style>\n",
       "<table border=\"1\" class=\"dataframe\">\n",
       "  <thead>\n",
       "    <tr style=\"text-align: right;\">\n",
       "      <th></th>\n",
       "      <th>set_num</th>\n",
       "      <th>name</th>\n",
       "      <th>year</th>\n",
       "      <th>theme_id</th>\n",
       "      <th>num_parts</th>\n",
       "      <th>img_url</th>\n",
       "    </tr>\n",
       "  </thead>\n",
       "  <tbody>\n",
       "    <tr>\n",
       "      <th>779</th>\n",
       "      <td>10782-1</td>\n",
       "      <td>Hulk vs. Rhino Truck Showdown</td>\n",
       "      <td>2022</td>\n",
       "      <td>755</td>\n",
       "      <td>110</td>\n",
       "      <td>https://cdn.rebrickable.com/media/sets/10782-1...</td>\n",
       "    </tr>\n",
       "  </tbody>\n",
       "</table>\n",
       "</div>"
      ],
      "text/plain": [
       "     set_num                           name  year  theme_id  num_parts  \\\n",
       "779  10782-1  Hulk vs. Rhino Truck Showdown  2022       755        110   \n",
       "\n",
       "                                               img_url  \n",
       "779  https://cdn.rebrickable.com/media/sets/10782-1...  "
      ]
     },
     "execution_count": 39,
     "metadata": {},
     "output_type": "execute_result"
    }
   ],
   "source": [
    "sets_table.loc[(sets_table['set_num'] == '10782-1')]"
   ]
  },
  {
   "cell_type": "code",
   "execution_count": 40,
   "metadata": {},
   "outputs": [
    {
     "data": {
      "text/html": [
       "<div>\n",
       "<style scoped>\n",
       "    .dataframe tbody tr th:only-of-type {\n",
       "        vertical-align: middle;\n",
       "    }\n",
       "\n",
       "    .dataframe tbody tr th {\n",
       "        vertical-align: top;\n",
       "    }\n",
       "\n",
       "    .dataframe thead th {\n",
       "        text-align: right;\n",
       "    }\n",
       "</style>\n",
       "<table border=\"1\" class=\"dataframe\">\n",
       "  <thead>\n",
       "    <tr style=\"text-align: right;\">\n",
       "      <th></th>\n",
       "      <th>id</th>\n",
       "      <th>version</th>\n",
       "      <th>set_num</th>\n",
       "    </tr>\n",
       "  </thead>\n",
       "  <tbody>\n",
       "    <tr>\n",
       "      <th>31217</th>\n",
       "      <td>120153</td>\n",
       "      <td>1</td>\n",
       "      <td>10782-1</td>\n",
       "    </tr>\n",
       "  </tbody>\n",
       "</table>\n",
       "</div>"
      ],
      "text/plain": [
       "           id  version  set_num\n",
       "31217  120153        1  10782-1"
      ]
     },
     "execution_count": 40,
     "metadata": {},
     "output_type": "execute_result"
    }
   ],
   "source": [
    "inventories_df.loc[(inventories_df['set_num'] == '10782-1')]"
   ]
  },
  {
   "cell_type": "code",
   "execution_count": 41,
   "metadata": {},
   "outputs": [
    {
     "data": {
      "text/html": [
       "<div>\n",
       "<style scoped>\n",
       "    .dataframe tbody tr th:only-of-type {\n",
       "        vertical-align: middle;\n",
       "    }\n",
       "\n",
       "    .dataframe tbody tr th {\n",
       "        vertical-align: top;\n",
       "    }\n",
       "\n",
       "    .dataframe thead th {\n",
       "        text-align: right;\n",
       "    }\n",
       "</style>\n",
       "<table border=\"1\" class=\"dataframe\">\n",
       "  <thead>\n",
       "    <tr style=\"text-align: right;\">\n",
       "      <th></th>\n",
       "      <th>inventory_id</th>\n",
       "      <th>part_num</th>\n",
       "      <th>color_id</th>\n",
       "      <th>quantity</th>\n",
       "      <th>is_spare</th>\n",
       "      <th>img_url</th>\n",
       "      <th>set_num</th>\n",
       "    </tr>\n",
       "  </thead>\n",
       "  <tbody>\n",
       "    <tr>\n",
       "      <th>987079</th>\n",
       "      <td>120153</td>\n",
       "      <td>30153</td>\n",
       "      <td>36</td>\n",
       "      <td>1</td>\n",
       "      <td>t</td>\n",
       "      <td>https://cdn.rebrickable.com/media/parts/elemen...</td>\n",
       "      <td>10782-1</td>\n",
       "    </tr>\n",
       "    <tr>\n",
       "      <th>987093</th>\n",
       "      <td>120153</td>\n",
       "      <td>33078</td>\n",
       "      <td>4</td>\n",
       "      <td>1</td>\n",
       "      <td>t</td>\n",
       "      <td>https://cdn.rebrickable.com/media/parts/elemen...</td>\n",
       "      <td>10782-1</td>\n",
       "    </tr>\n",
       "  </tbody>\n",
       "</table>\n",
       "</div>"
      ],
      "text/plain": [
       "        inventory_id part_num  color_id  quantity is_spare  \\\n",
       "987079        120153    30153        36         1        t   \n",
       "987093        120153    33078         4         1        t   \n",
       "\n",
       "                                                  img_url  set_num  \n",
       "987079  https://cdn.rebrickable.com/media/parts/elemen...  10782-1  \n",
       "987093  https://cdn.rebrickable.com/media/parts/elemen...  10782-1  "
      ]
     },
     "execution_count": 41,
     "metadata": {},
     "output_type": "execute_result"
    }
   ],
   "source": [
    "parts_per_set_year_df.loc[(parts_per_set_year_df['set_num'] == '10782-1') & (parts_per_set_year_df['is_spare'] == 't')]"
   ]
  },
  {
   "cell_type": "code",
   "execution_count": null,
   "metadata": {},
   "outputs": [],
   "source": []
  },
  {
   "cell_type": "code",
   "execution_count": 42,
   "metadata": {},
   "outputs": [],
   "source": [
    "parts_per_set_year_df = parts_per_set_year_df.merge(sets_table, on='set_num')"
   ]
  },
  {
   "cell_type": "code",
   "execution_count": null,
   "metadata": {},
   "outputs": [],
   "source": []
  },
  {
   "cell_type": "code",
   "execution_count": null,
   "metadata": {},
   "outputs": [],
   "source": []
  },
  {
   "cell_type": "code",
   "execution_count": 43,
   "metadata": {},
   "outputs": [
    {
     "data": {
      "text/html": [
       "<div>\n",
       "<style scoped>\n",
       "    .dataframe tbody tr th:only-of-type {\n",
       "        vertical-align: middle;\n",
       "    }\n",
       "\n",
       "    .dataframe tbody tr th {\n",
       "        vertical-align: top;\n",
       "    }\n",
       "\n",
       "    .dataframe thead th {\n",
       "        text-align: right;\n",
       "    }\n",
       "</style>\n",
       "<table border=\"1\" class=\"dataframe\">\n",
       "  <thead>\n",
       "    <tr style=\"text-align: right;\">\n",
       "      <th></th>\n",
       "      <th>inventory_id</th>\n",
       "      <th>part_num</th>\n",
       "      <th>color_id</th>\n",
       "      <th>quantity</th>\n",
       "      <th>is_spare</th>\n",
       "      <th>img_url_x</th>\n",
       "      <th>set_num</th>\n",
       "      <th>name</th>\n",
       "      <th>year</th>\n",
       "      <th>theme_id</th>\n",
       "      <th>num_parts</th>\n",
       "      <th>img_url_y</th>\n",
       "    </tr>\n",
       "  </thead>\n",
       "  <tbody>\n",
       "    <tr>\n",
       "      <th>0</th>\n",
       "      <td>1</td>\n",
       "      <td>48379c04</td>\n",
       "      <td>72</td>\n",
       "      <td>1</td>\n",
       "      <td>f</td>\n",
       "      <td>https://cdn.rebrickable.com/media/parts/photos...</td>\n",
       "      <td>7922-1</td>\n",
       "      <td>McDonald's Sports Set Number 6 - Orange Vest S...</td>\n",
       "      <td>2004</td>\n",
       "      <td>460</td>\n",
       "      <td>5</td>\n",
       "      <td>https://cdn.rebrickable.com/media/sets/7922-1.jpg</td>\n",
       "    </tr>\n",
       "    <tr>\n",
       "      <th>1</th>\n",
       "      <td>1</td>\n",
       "      <td>48391</td>\n",
       "      <td>0</td>\n",
       "      <td>1</td>\n",
       "      <td>f</td>\n",
       "      <td>https://cdn.rebrickable.com/media/parts/photos...</td>\n",
       "      <td>7922-1</td>\n",
       "      <td>McDonald's Sports Set Number 6 - Orange Vest S...</td>\n",
       "      <td>2004</td>\n",
       "      <td>460</td>\n",
       "      <td>5</td>\n",
       "      <td>https://cdn.rebrickable.com/media/sets/7922-1.jpg</td>\n",
       "    </tr>\n",
       "    <tr>\n",
       "      <th>2</th>\n",
       "      <td>1</td>\n",
       "      <td>48395</td>\n",
       "      <td>7</td>\n",
       "      <td>1</td>\n",
       "      <td>f</td>\n",
       "      <td>https://cdn.rebrickable.com/media/parts/photos...</td>\n",
       "      <td>7922-1</td>\n",
       "      <td>McDonald's Sports Set Number 6 - Orange Vest S...</td>\n",
       "      <td>2004</td>\n",
       "      <td>460</td>\n",
       "      <td>5</td>\n",
       "      <td>https://cdn.rebrickable.com/media/sets/7922-1.jpg</td>\n",
       "    </tr>\n",
       "    <tr>\n",
       "      <th>3</th>\n",
       "      <td>1</td>\n",
       "      <td>48864c01</td>\n",
       "      <td>25</td>\n",
       "      <td>1</td>\n",
       "      <td>f</td>\n",
       "      <td>NaN</td>\n",
       "      <td>7922-1</td>\n",
       "      <td>McDonald's Sports Set Number 6 - Orange Vest S...</td>\n",
       "      <td>2004</td>\n",
       "      <td>460</td>\n",
       "      <td>5</td>\n",
       "      <td>https://cdn.rebrickable.com/media/sets/7922-1.jpg</td>\n",
       "    </tr>\n",
       "    <tr>\n",
       "      <th>4</th>\n",
       "      <td>1</td>\n",
       "      <td>stickerupn0077</td>\n",
       "      <td>9999</td>\n",
       "      <td>1</td>\n",
       "      <td>f</td>\n",
       "      <td>NaN</td>\n",
       "      <td>7922-1</td>\n",
       "      <td>McDonald's Sports Set Number 6 - Orange Vest S...</td>\n",
       "      <td>2004</td>\n",
       "      <td>460</td>\n",
       "      <td>5</td>\n",
       "      <td>https://cdn.rebrickable.com/media/sets/7922-1.jpg</td>\n",
       "    </tr>\n",
       "  </tbody>\n",
       "</table>\n",
       "</div>"
      ],
      "text/plain": [
       "   inventory_id        part_num  color_id  quantity is_spare  \\\n",
       "0             1        48379c04        72         1        f   \n",
       "1             1           48391         0         1        f   \n",
       "2             1           48395         7         1        f   \n",
       "3             1        48864c01        25         1        f   \n",
       "4             1  stickerupn0077      9999         1        f   \n",
       "\n",
       "                                           img_url_x set_num  \\\n",
       "0  https://cdn.rebrickable.com/media/parts/photos...  7922-1   \n",
       "1  https://cdn.rebrickable.com/media/parts/photos...  7922-1   \n",
       "2  https://cdn.rebrickable.com/media/parts/photos...  7922-1   \n",
       "3                                                NaN  7922-1   \n",
       "4                                                NaN  7922-1   \n",
       "\n",
       "                                                name  year  theme_id  \\\n",
       "0  McDonald's Sports Set Number 6 - Orange Vest S...  2004       460   \n",
       "1  McDonald's Sports Set Number 6 - Orange Vest S...  2004       460   \n",
       "2  McDonald's Sports Set Number 6 - Orange Vest S...  2004       460   \n",
       "3  McDonald's Sports Set Number 6 - Orange Vest S...  2004       460   \n",
       "4  McDonald's Sports Set Number 6 - Orange Vest S...  2004       460   \n",
       "\n",
       "   num_parts                                          img_url_y  \n",
       "0          5  https://cdn.rebrickable.com/media/sets/7922-1.jpg  \n",
       "1          5  https://cdn.rebrickable.com/media/sets/7922-1.jpg  \n",
       "2          5  https://cdn.rebrickable.com/media/sets/7922-1.jpg  \n",
       "3          5  https://cdn.rebrickable.com/media/sets/7922-1.jpg  \n",
       "4          5  https://cdn.rebrickable.com/media/sets/7922-1.jpg  "
      ]
     },
     "execution_count": 43,
     "metadata": {},
     "output_type": "execute_result"
    }
   ],
   "source": [
    "parts_per_set_year_df.head()"
   ]
  },
  {
   "cell_type": "code",
   "execution_count": null,
   "metadata": {},
   "outputs": [],
   "source": []
  },
  {
   "cell_type": "code",
   "execution_count": null,
   "metadata": {},
   "outputs": [],
   "source": []
  },
  {
   "cell_type": "markdown",
   "metadata": {},
   "source": [
    "## QUESTION 3:\n",
    "3. Are there any number of parts per set ranges? Like cheaper sets have 0-5 bricks in it or something like this.\n"
   ]
  },
  {
   "cell_type": "code",
   "execution_count": null,
   "metadata": {},
   "outputs": [],
   "source": []
  },
  {
   "cell_type": "code",
   "execution_count": null,
   "metadata": {},
   "outputs": [],
   "source": []
  },
  {
   "cell_type": "markdown",
   "metadata": {},
   "source": [
    "## QUESTION 4:\n",
    "4. Similar as 3 - what was average parts per set in 1950 and what is in 2020?"
   ]
  },
  {
   "cell_type": "markdown",
   "metadata": {},
   "source": [
    "## QUESTION 5:\n",
    "5. What are the 5 most popular colors used in Lego parts?\n"
   ]
  },
  {
   "cell_type": "code",
   "execution_count": null,
   "metadata": {},
   "outputs": [],
   "source": []
  },
  {
   "cell_type": "code",
   "execution_count": null,
   "metadata": {},
   "outputs": [],
   "source": []
  },
  {
   "cell_type": "code",
   "execution_count": null,
   "metadata": {},
   "outputs": [],
   "source": []
  },
  {
   "cell_type": "code",
   "execution_count": null,
   "metadata": {},
   "outputs": [],
   "source": []
  },
  {
   "cell_type": "code",
   "execution_count": null,
   "metadata": {},
   "outputs": [],
   "source": []
  },
  {
   "cell_type": "markdown",
   "metadata": {},
   "source": [
    "## QUESTION 6:\n",
    "6. What proportion of Lego parts are transparent?\n",
    "\n"
   ]
  },
  {
   "cell_type": "code",
   "execution_count": null,
   "metadata": {},
   "outputs": [],
   "source": []
  },
  {
   "cell_type": "code",
   "execution_count": null,
   "metadata": {},
   "outputs": [],
   "source": []
  },
  {
   "cell_type": "code",
   "execution_count": null,
   "metadata": {},
   "outputs": [],
   "source": []
  },
  {
   "cell_type": "markdown",
   "metadata": {},
   "source": [
    "## QUESTION 7:\n",
    "7. What are the 5 rarest lego bricks?\n"
   ]
  },
  {
   "cell_type": "code",
   "execution_count": null,
   "metadata": {},
   "outputs": [],
   "source": []
  },
  {
   "cell_type": "markdown",
   "metadata": {},
   "source": [
    "## QUESTION 8\n",
    "9. When first transparent bricks were used? What colors became transparent through time?"
   ]
  },
  {
   "cell_type": "code",
   "execution_count": null,
   "metadata": {},
   "outputs": [],
   "source": []
  },
  {
   "cell_type": "code",
   "execution_count": null,
   "metadata": {},
   "outputs": [],
   "source": []
  },
  {
   "cell_type": "markdown",
   "metadata": {},
   "source": [
    "## QUESTION 9:\n",
    "9. Summarize your findings."
   ]
  },
  {
   "cell_type": "code",
   "execution_count": null,
   "metadata": {},
   "outputs": [],
   "source": []
  },
  {
   "cell_type": "code",
   "execution_count": null,
   "metadata": {},
   "outputs": [],
   "source": []
  },
  {
   "cell_type": "code",
   "execution_count": null,
   "metadata": {},
   "outputs": [],
   "source": []
  }
 ],
 "metadata": {
  "kernelspec": {
   "display_name": "Python 3 (ipykernel)",
   "language": "python",
   "name": "python3"
  },
  "language_info": {
   "codemirror_mode": {
    "name": "ipython",
    "version": 3
   },
   "file_extension": ".py",
   "mimetype": "text/x-python",
   "name": "python",
   "nbconvert_exporter": "python",
   "pygments_lexer": "ipython3",
   "version": "3.11.7"
  }
 },
 "nbformat": 4,
 "nbformat_minor": 4
}
